{
 "cells": [
  {
   "cell_type": "code",
   "execution_count": 1,
   "id": "80e8f61a-da22-4d76-b835-cb6b424a9179",
   "metadata": {
    "tags": []
   },
   "outputs": [],
   "source": [
    "import numpy as np\n",
    "import pandas as pd\n",
    "import missingno as msno\n",
    "import matplotlib.pylab as plt\n",
    "import seaborn as sns"
   ]
  },
  {
   "cell_type": "code",
   "execution_count": 2,
   "id": "8a377e3c-00ce-4fc5-b4f3-e17c63075b57",
   "metadata": {
    "tags": []
   },
   "outputs": [],
   "source": [
    "df = pd.read_csv('coaster_db.csv')"
   ]
  },
  {
   "cell_type": "markdown",
   "id": "79cd9612-9db1-45ac-8e51-be86b2ab739a",
   "metadata": {},
   "source": [
    "### DataFrame preparation"
   ]
  },
  {
   "cell_type": "code",
   "execution_count": 3,
   "id": "05c9ec3b-5b50-4af9-bb42-f6d82e9f7cf4",
   "metadata": {
    "tags": []
   },
   "outputs": [
    {
     "data": {
      "text/plain": [
       "Index(['coaster_name', 'Length', 'Speed', 'Location', 'Status', 'Opening date',\n",
       "       'Type', 'Manufacturer', 'Height restriction', 'Model', 'Height',\n",
       "       'Inversions', 'Lift/launch system', 'Cost', 'Trains', 'Park section',\n",
       "       'Duration', 'Capacity', 'G-force', 'Designer', 'Max vertical angle',\n",
       "       'Drop', 'Soft opening date', 'Fast Lane available', 'Replaced',\n",
       "       'Track layout', 'Fastrack available', 'Soft opening date.1',\n",
       "       'Closing date', 'Opened', 'Replaced by', 'Website',\n",
       "       'Flash Pass Available', 'Must transfer from wheelchair', 'Theme',\n",
       "       'Single rider line available', 'Restraint Style',\n",
       "       'Flash Pass available', 'Acceleration', 'Restraints', 'Name',\n",
       "       'year_introduced', 'latitude', 'longitude', 'Type_Main',\n",
       "       'opening_date_clean', 'speed1', 'speed2', 'speed1_value', 'speed1_unit',\n",
       "       'speed_mph', 'height_value', 'height_unit', 'height_ft',\n",
       "       'Inversions_clean', 'Gforce_clean'],\n",
       "      dtype='object')"
      ]
     },
     "execution_count": 3,
     "metadata": {},
     "output_type": "execute_result"
    }
   ],
   "source": [
    "df.columns"
   ]
  },
  {
   "cell_type": "markdown",
   "id": "55ead6bc-4b87-4142-9a67-6e983b505a73",
   "metadata": {},
   "source": [
    "- let's select only the relevant columns "
   ]
  },
  {
   "cell_type": "code",
   "execution_count": 4,
   "id": "e3c101c4-7ebf-4764-a64c-64903145b380",
   "metadata": {
    "tags": []
   },
   "outputs": [],
   "source": [
    "df = df[['coaster_name', \n",
    "     #   'Length', 'Speed', \n",
    "    'Location', \n",
    "    'Status', \n",
    "        #'Opening date',\n",
    " #      'Type', \n",
    "    'Manufacturer', \n",
    " #       'Height restriction', 'Model', 'Height',\n",
    " #      'Inversions', 'Lift/launch system', 'Cost', 'Trains', 'Park section',\n",
    " #      'Duration', 'Capacity', 'G-force', 'Designer', 'Max vertical angle',\n",
    " #      'Drop', 'Soft opening date', 'Fast Lane available', 'Replaced',\n",
    " #      'Track layout', 'Fastrack available', 'Soft opening date.1',\n",
    "  #     'Closing date', 'Opened', 'Replaced by', 'Website',\n",
    "  #     'Flash Pass Available', 'Must transfer from wheelchair', 'Theme',\n",
    "  #     'Single rider line available', 'Restraint Style',\n",
    "  #     'Flash Pass available', 'Acceleration', 'Restraints', 'Name',     \n",
    "    'year_introduced', \n",
    "    'latitude', 'longitude', 'Type_Main',\n",
    "    'opening_date_clean', \n",
    "        #'speed1', 'speed2', 'speed1_value', 'speed1_unit',\n",
    "       'speed_mph', \n",
    "  #      'height_value', 'height_unit', \n",
    "    'height_ft',\n",
    "    'Inversions_clean', 'Gforce_clean']].copy()"
   ]
  },
  {
   "cell_type": "code",
   "execution_count": 5,
   "id": "0ecfa998-2a99-4391-9920-8a48f6e9e2ea",
   "metadata": {
    "tags": []
   },
   "outputs": [
    {
     "data": {
      "text/plain": [
       "Index(['coaster_name', 'Location', 'Status', 'Manufacturer', 'year_introduced',\n",
       "       'latitude', 'longitude', 'Type_Main', 'opening_date_clean', 'speed_mph',\n",
       "       'height_ft', 'Inversions_clean', 'Gforce_clean'],\n",
       "      dtype='object')"
      ]
     },
     "execution_count": 5,
     "metadata": {},
     "output_type": "execute_result"
    }
   ],
   "source": [
    "df.columns"
   ]
  },
  {
   "cell_type": "markdown",
   "id": "76498dbf-a3ee-4f22-862b-374a0451cca5",
   "metadata": {},
   "source": [
    "- rename the columns"
   ]
  },
  {
   "cell_type": "code",
   "execution_count": 6,
   "id": "2f421b96-4305-46bf-be54-70d8cade1625",
   "metadata": {
    "tags": []
   },
   "outputs": [],
   "source": [
    "df = df.rename( columns = {\n",
    "    'coaster_name':'Coaster_name',\n",
    "    'year_introduced' : 'Year_Introduced',\n",
    "     'latitude' : 'Latitude', \n",
    "    'longitude' : 'Longitude',\n",
    "    'opening_date_clean' : 'Opening_date',\n",
    "    'speed_mph' : 'Speed_mph',\n",
    "    'height_ft' : 'Height_ft',\n",
    "    'Inversions_clean' : 'Inversions',\n",
    "    'Gforce_clean' :  'Gforce' } )\n"
   ]
  },
  {
   "cell_type": "code",
   "execution_count": 7,
   "id": "1906ce8b-44e2-4887-8e86-b4e08628af63",
   "metadata": {
    "tags": []
   },
   "outputs": [
    {
     "data": {
      "text/plain": [
       "(1087, 13)"
      ]
     },
     "execution_count": 7,
     "metadata": {},
     "output_type": "execute_result"
    }
   ],
   "source": [
    "df.shape"
   ]
  },
  {
   "cell_type": "code",
   "execution_count": 8,
   "id": "7e6cf95c-21a9-4bc7-a668-89d684445672",
   "metadata": {
    "tags": []
   },
   "outputs": [
    {
     "name": "stdout",
     "output_type": "stream",
     "text": [
      "<class 'pandas.core.frame.DataFrame'>\n",
      "RangeIndex: 1087 entries, 0 to 1086\n",
      "Data columns (total 13 columns):\n",
      " #   Column           Non-Null Count  Dtype  \n",
      "---  ------           --------------  -----  \n",
      " 0   Coaster_name     1087 non-null   object \n",
      " 1   Location         1087 non-null   object \n",
      " 2   Status           874 non-null    object \n",
      " 3   Manufacturer     1028 non-null   object \n",
      " 4   Year_Introduced  1087 non-null   int64  \n",
      " 5   Latitude         812 non-null    float64\n",
      " 6   Longitude        812 non-null    float64\n",
      " 7   Type_Main        1087 non-null   object \n",
      " 8   Opening_date     837 non-null    object \n",
      " 9   Speed_mph        937 non-null    float64\n",
      " 10  Height_ft        171 non-null    float64\n",
      " 11  Inversions       1087 non-null   int64  \n",
      " 12  Gforce           362 non-null    float64\n",
      "dtypes: float64(5), int64(2), object(6)\n",
      "memory usage: 110.5+ KB\n"
     ]
    }
   ],
   "source": [
    "df.info()"
   ]
  },
  {
   "cell_type": "code",
   "execution_count": 9,
   "id": "fae5a428-d928-4ba4-8eff-ccf310d4ed07",
   "metadata": {
    "tags": []
   },
   "outputs": [
    {
     "data": {
      "text/html": [
       "<div>\n",
       "<style scoped>\n",
       "    .dataframe tbody tr th:only-of-type {\n",
       "        vertical-align: middle;\n",
       "    }\n",
       "\n",
       "    .dataframe tbody tr th {\n",
       "        vertical-align: top;\n",
       "    }\n",
       "\n",
       "    .dataframe thead th {\n",
       "        text-align: right;\n",
       "    }\n",
       "</style>\n",
       "<table border=\"1\" class=\"dataframe\">\n",
       "  <thead>\n",
       "    <tr style=\"text-align: right;\">\n",
       "      <th></th>\n",
       "      <th>Coaster_name</th>\n",
       "      <th>Location</th>\n",
       "      <th>Status</th>\n",
       "      <th>Manufacturer</th>\n",
       "      <th>Year_Introduced</th>\n",
       "      <th>Latitude</th>\n",
       "      <th>Longitude</th>\n",
       "      <th>Type_Main</th>\n",
       "      <th>Opening_date</th>\n",
       "      <th>Speed_mph</th>\n",
       "      <th>Height_ft</th>\n",
       "      <th>Inversions</th>\n",
       "      <th>Gforce</th>\n",
       "    </tr>\n",
       "  </thead>\n",
       "  <tbody>\n",
       "    <tr>\n",
       "      <th>0</th>\n",
       "      <td>Switchback Railway</td>\n",
       "      <td>Coney Island</td>\n",
       "      <td>Removed</td>\n",
       "      <td>LaMarcus Adna Thompson</td>\n",
       "      <td>1884</td>\n",
       "      <td>40.5740</td>\n",
       "      <td>-73.9780</td>\n",
       "      <td>Wood</td>\n",
       "      <td>1884-06-16</td>\n",
       "      <td>6.0</td>\n",
       "      <td>NaN</td>\n",
       "      <td>0</td>\n",
       "      <td>2.9</td>\n",
       "    </tr>\n",
       "    <tr>\n",
       "      <th>1</th>\n",
       "      <td>Flip Flap Railway</td>\n",
       "      <td>Sea Lion Park</td>\n",
       "      <td>Removed</td>\n",
       "      <td>Lina Beecher</td>\n",
       "      <td>1895</td>\n",
       "      <td>40.5780</td>\n",
       "      <td>-73.9790</td>\n",
       "      <td>Wood</td>\n",
       "      <td>1895-01-01</td>\n",
       "      <td>NaN</td>\n",
       "      <td>NaN</td>\n",
       "      <td>1</td>\n",
       "      <td>12.0</td>\n",
       "    </tr>\n",
       "    <tr>\n",
       "      <th>2</th>\n",
       "      <td>Switchback Railway (Euclid Beach Park)</td>\n",
       "      <td>Cleveland, Ohio, United States</td>\n",
       "      <td>Closed</td>\n",
       "      <td>NaN</td>\n",
       "      <td>1896</td>\n",
       "      <td>41.5800</td>\n",
       "      <td>-81.5700</td>\n",
       "      <td>Other</td>\n",
       "      <td>NaN</td>\n",
       "      <td>NaN</td>\n",
       "      <td>NaN</td>\n",
       "      <td>0</td>\n",
       "      <td>NaN</td>\n",
       "    </tr>\n",
       "    <tr>\n",
       "      <th>3</th>\n",
       "      <td>Loop the Loop (Coney Island)</td>\n",
       "      <td>Other</td>\n",
       "      <td>Removed</td>\n",
       "      <td>Edwin Prescott</td>\n",
       "      <td>1901</td>\n",
       "      <td>40.5745</td>\n",
       "      <td>-73.9780</td>\n",
       "      <td>Steel</td>\n",
       "      <td>1901-01-01</td>\n",
       "      <td>NaN</td>\n",
       "      <td>NaN</td>\n",
       "      <td>1</td>\n",
       "      <td>NaN</td>\n",
       "    </tr>\n",
       "    <tr>\n",
       "      <th>4</th>\n",
       "      <td>Loop the Loop (Young's Pier)</td>\n",
       "      <td>Other</td>\n",
       "      <td>Removed</td>\n",
       "      <td>Edwin Prescott</td>\n",
       "      <td>1901</td>\n",
       "      <td>39.3538</td>\n",
       "      <td>-74.4342</td>\n",
       "      <td>Steel</td>\n",
       "      <td>1901-01-01</td>\n",
       "      <td>NaN</td>\n",
       "      <td>NaN</td>\n",
       "      <td>1</td>\n",
       "      <td>NaN</td>\n",
       "    </tr>\n",
       "  </tbody>\n",
       "</table>\n",
       "</div>"
      ],
      "text/plain": [
       "                             Coaster_name                        Location  \\\n",
       "0                      Switchback Railway                    Coney Island   \n",
       "1                       Flip Flap Railway                   Sea Lion Park   \n",
       "2  Switchback Railway (Euclid Beach Park)  Cleveland, Ohio, United States   \n",
       "3            Loop the Loop (Coney Island)                           Other   \n",
       "4            Loop the Loop (Young's Pier)                           Other   \n",
       "\n",
       "    Status            Manufacturer  Year_Introduced  Latitude  Longitude  \\\n",
       "0  Removed  LaMarcus Adna Thompson             1884   40.5740   -73.9780   \n",
       "1  Removed            Lina Beecher             1895   40.5780   -73.9790   \n",
       "2   Closed                     NaN             1896   41.5800   -81.5700   \n",
       "3  Removed          Edwin Prescott             1901   40.5745   -73.9780   \n",
       "4  Removed          Edwin Prescott             1901   39.3538   -74.4342   \n",
       "\n",
       "  Type_Main Opening_date  Speed_mph  Height_ft  Inversions  Gforce  \n",
       "0      Wood   1884-06-16        6.0        NaN           0     2.9  \n",
       "1      Wood   1895-01-01        NaN        NaN           1    12.0  \n",
       "2     Other          NaN        NaN        NaN           0     NaN  \n",
       "3     Steel   1901-01-01        NaN        NaN           1     NaN  \n",
       "4     Steel   1901-01-01        NaN        NaN           1     NaN  "
      ]
     },
     "execution_count": 9,
     "metadata": {},
     "output_type": "execute_result"
    }
   ],
   "source": [
    "df.head()"
   ]
  },
  {
   "cell_type": "markdown",
   "id": "c9623df3-d5cd-4f74-9763-374c4a878fd8",
   "metadata": {},
   "source": [
    "- let's create a table to calculate the number of missing values and its percentage"
   ]
  },
  {
   "cell_type": "code",
   "execution_count": 10,
   "id": "5ee9356f-25e2-4bcf-bad2-41596dcbf2ed",
   "metadata": {
    "tags": []
   },
   "outputs": [
    {
     "name": "stdout",
     "output_type": "stream",
     "text": [
      "1087\n"
     ]
    }
   ],
   "source": [
    "print(len(df))"
   ]
  },
  {
   "cell_type": "code",
   "execution_count": 11,
   "id": "26283a76-82de-4b61-9ed2-1c215e480999",
   "metadata": {
    "tags": []
   },
   "outputs": [],
   "source": [
    "def missing_value_table(df):\n",
    "    missing_value = df.isnull().sum()\n",
    "    missing_val_per = (df.isnull().sum() / len(df)) * 100\n",
    "    table = pd.concat( [missing_value , missing_val_per], axis = 1 )\n",
    "    mis_table_renamed = table.rename( columns = {0 : 'Missing_value_counts', 1: \"% of Total Values\" } )\n",
    "    return mis_table_renamed\n",
    "    "
   ]
  },
  {
   "cell_type": "code",
   "execution_count": 12,
   "id": "56c55418-5add-4a73-93f2-62f169217317",
   "metadata": {
    "tags": []
   },
   "outputs": [
    {
     "data": {
      "text/html": [
       "<div>\n",
       "<style scoped>\n",
       "    .dataframe tbody tr th:only-of-type {\n",
       "        vertical-align: middle;\n",
       "    }\n",
       "\n",
       "    .dataframe tbody tr th {\n",
       "        vertical-align: top;\n",
       "    }\n",
       "\n",
       "    .dataframe thead th {\n",
       "        text-align: right;\n",
       "    }\n",
       "</style>\n",
       "<table border=\"1\" class=\"dataframe\">\n",
       "  <thead>\n",
       "    <tr style=\"text-align: right;\">\n",
       "      <th></th>\n",
       "      <th>Missing_value_counts</th>\n",
       "      <th>% of Total Values</th>\n",
       "    </tr>\n",
       "  </thead>\n",
       "  <tbody>\n",
       "    <tr>\n",
       "      <th>Coaster_name</th>\n",
       "      <td>0</td>\n",
       "      <td>0.000000</td>\n",
       "    </tr>\n",
       "    <tr>\n",
       "      <th>Location</th>\n",
       "      <td>0</td>\n",
       "      <td>0.000000</td>\n",
       "    </tr>\n",
       "    <tr>\n",
       "      <th>Status</th>\n",
       "      <td>213</td>\n",
       "      <td>19.595216</td>\n",
       "    </tr>\n",
       "    <tr>\n",
       "      <th>Manufacturer</th>\n",
       "      <td>59</td>\n",
       "      <td>5.427783</td>\n",
       "    </tr>\n",
       "    <tr>\n",
       "      <th>Year_Introduced</th>\n",
       "      <td>0</td>\n",
       "      <td>0.000000</td>\n",
       "    </tr>\n",
       "    <tr>\n",
       "      <th>Latitude</th>\n",
       "      <td>275</td>\n",
       "      <td>25.298988</td>\n",
       "    </tr>\n",
       "    <tr>\n",
       "      <th>Longitude</th>\n",
       "      <td>275</td>\n",
       "      <td>25.298988</td>\n",
       "    </tr>\n",
       "    <tr>\n",
       "      <th>Type_Main</th>\n",
       "      <td>0</td>\n",
       "      <td>0.000000</td>\n",
       "    </tr>\n",
       "    <tr>\n",
       "      <th>Opening_date</th>\n",
       "      <td>250</td>\n",
       "      <td>22.999080</td>\n",
       "    </tr>\n",
       "    <tr>\n",
       "      <th>Speed_mph</th>\n",
       "      <td>150</td>\n",
       "      <td>13.799448</td>\n",
       "    </tr>\n",
       "    <tr>\n",
       "      <th>Height_ft</th>\n",
       "      <td>916</td>\n",
       "      <td>84.268629</td>\n",
       "    </tr>\n",
       "    <tr>\n",
       "      <th>Inversions</th>\n",
       "      <td>0</td>\n",
       "      <td>0.000000</td>\n",
       "    </tr>\n",
       "    <tr>\n",
       "      <th>Gforce</th>\n",
       "      <td>725</td>\n",
       "      <td>66.697332</td>\n",
       "    </tr>\n",
       "  </tbody>\n",
       "</table>\n",
       "</div>"
      ],
      "text/plain": [
       "                 Missing_value_counts  % of Total Values\n",
       "Coaster_name                        0           0.000000\n",
       "Location                            0           0.000000\n",
       "Status                            213          19.595216\n",
       "Manufacturer                       59           5.427783\n",
       "Year_Introduced                     0           0.000000\n",
       "Latitude                          275          25.298988\n",
       "Longitude                         275          25.298988\n",
       "Type_Main                           0           0.000000\n",
       "Opening_date                      250          22.999080\n",
       "Speed_mph                         150          13.799448\n",
       "Height_ft                         916          84.268629\n",
       "Inversions                          0           0.000000\n",
       "Gforce                            725          66.697332"
      ]
     },
     "execution_count": 12,
     "metadata": {},
     "output_type": "execute_result"
    }
   ],
   "source": [
    "missing_value_table(df)"
   ]
  },
  {
   "cell_type": "code",
   "execution_count": null,
   "id": "41530bdd-2135-47e5-82da-194abbd2c704",
   "metadata": {
    "tags": []
   },
   "outputs": [],
   "source": []
  },
  {
   "cell_type": "markdown",
   "id": "c7870aa8-e1cb-42b6-b8ed-8a18a439c6d6",
   "metadata": {
    "tags": []
   },
   "source": [
    "#### Dealing with duplicates"
   ]
  },
  {
   "cell_type": "markdown",
   "id": "ba46d2a1-b95f-4587-a272-25b03db22ae8",
   "metadata": {},
   "source": [
    "- a roller coaster cannot have the same name, same location, same opening date"
   ]
  },
  {
   "cell_type": "code",
   "execution_count": 13,
   "id": "3aa7f21c-2b2c-47f3-9a3c-e961d57ea37a",
   "metadata": {
    "tags": []
   },
   "outputs": [
    {
     "data": {
      "text/html": [
       "<div>\n",
       "<style scoped>\n",
       "    .dataframe tbody tr th:only-of-type {\n",
       "        vertical-align: middle;\n",
       "    }\n",
       "\n",
       "    .dataframe tbody tr th {\n",
       "        vertical-align: top;\n",
       "    }\n",
       "\n",
       "    .dataframe thead th {\n",
       "        text-align: right;\n",
       "    }\n",
       "</style>\n",
       "<table border=\"1\" class=\"dataframe\">\n",
       "  <thead>\n",
       "    <tr style=\"text-align: right;\">\n",
       "      <th></th>\n",
       "      <th>Coaster_name</th>\n",
       "      <th>Location</th>\n",
       "      <th>Status</th>\n",
       "      <th>Manufacturer</th>\n",
       "      <th>Year_Introduced</th>\n",
       "      <th>Latitude</th>\n",
       "      <th>Longitude</th>\n",
       "      <th>Type_Main</th>\n",
       "      <th>Opening_date</th>\n",
       "      <th>Speed_mph</th>\n",
       "      <th>Height_ft</th>\n",
       "      <th>Inversions</th>\n",
       "      <th>Gforce</th>\n",
       "    </tr>\n",
       "  </thead>\n",
       "  <tbody>\n",
       "    <tr>\n",
       "      <th>43</th>\n",
       "      <td>Crystal Beach Cyclone</td>\n",
       "      <td>Crystal Beach Park</td>\n",
       "      <td>Removed</td>\n",
       "      <td>Traver Engineering</td>\n",
       "      <td>1927</td>\n",
       "      <td>42.8617</td>\n",
       "      <td>-79.0598</td>\n",
       "      <td>Wood</td>\n",
       "      <td>1926-01-01</td>\n",
       "      <td>60.0</td>\n",
       "      <td>NaN</td>\n",
       "      <td>0</td>\n",
       "      <td>4.0</td>\n",
       "    </tr>\n",
       "    <tr>\n",
       "      <th>60</th>\n",
       "      <td>Derby Racer</td>\n",
       "      <td>Revere Beach</td>\n",
       "      <td>Removed</td>\n",
       "      <td>Fred W. Pearce</td>\n",
       "      <td>1937</td>\n",
       "      <td>42.4200</td>\n",
       "      <td>-70.9860</td>\n",
       "      <td>Wood</td>\n",
       "      <td>1911-01-01</td>\n",
       "      <td>NaN</td>\n",
       "      <td>NaN</td>\n",
       "      <td>0</td>\n",
       "      <td>NaN</td>\n",
       "    </tr>\n",
       "    <tr>\n",
       "      <th>61</th>\n",
       "      <td>Blue Streak (Conneaut Lake)</td>\n",
       "      <td>Conneaut Lake Park</td>\n",
       "      <td>Closed</td>\n",
       "      <td>NaN</td>\n",
       "      <td>1938</td>\n",
       "      <td>41.6349</td>\n",
       "      <td>-80.3180</td>\n",
       "      <td>Wood</td>\n",
       "      <td>1938-05-23</td>\n",
       "      <td>50.0</td>\n",
       "      <td>NaN</td>\n",
       "      <td>0</td>\n",
       "      <td>NaN</td>\n",
       "    </tr>\n",
       "    <tr>\n",
       "      <th>167</th>\n",
       "      <td>Big Thunder Mountain Railroad</td>\n",
       "      <td>Other</td>\n",
       "      <td>NaN</td>\n",
       "      <td>Arrow Development (California and Florida)Dyna...</td>\n",
       "      <td>1980</td>\n",
       "      <td>NaN</td>\n",
       "      <td>NaN</td>\n",
       "      <td>Steel</td>\n",
       "      <td>NaN</td>\n",
       "      <td>35.0</td>\n",
       "      <td>NaN</td>\n",
       "      <td>0</td>\n",
       "      <td>NaN</td>\n",
       "    </tr>\n",
       "    <tr>\n",
       "      <th>237</th>\n",
       "      <td>Thunder Run (Canada's Wonderland)</td>\n",
       "      <td>Canada's Wonderland</td>\n",
       "      <td>Operating</td>\n",
       "      <td>Mack Rides</td>\n",
       "      <td>1986</td>\n",
       "      <td>43.8427</td>\n",
       "      <td>-79.5423</td>\n",
       "      <td>Steel</td>\n",
       "      <td>1981-05-23</td>\n",
       "      <td>39.8</td>\n",
       "      <td>32.8</td>\n",
       "      <td>0</td>\n",
       "      <td>NaN</td>\n",
       "    </tr>\n",
       "    <tr>\n",
       "      <th>...</th>\n",
       "      <td>...</td>\n",
       "      <td>...</td>\n",
       "      <td>...</td>\n",
       "      <td>...</td>\n",
       "      <td>...</td>\n",
       "      <td>...</td>\n",
       "      <td>...</td>\n",
       "      <td>...</td>\n",
       "      <td>...</td>\n",
       "      <td>...</td>\n",
       "      <td>...</td>\n",
       "      <td>...</td>\n",
       "      <td>...</td>\n",
       "    </tr>\n",
       "    <tr>\n",
       "      <th>1063</th>\n",
       "      <td>Lil' Devil Coaster</td>\n",
       "      <td>Six Flags Great Adventure</td>\n",
       "      <td>Operating</td>\n",
       "      <td>Zamperla</td>\n",
       "      <td>2021</td>\n",
       "      <td>40.1343</td>\n",
       "      <td>-74.4434</td>\n",
       "      <td>Steel</td>\n",
       "      <td>1999-01-01</td>\n",
       "      <td>NaN</td>\n",
       "      <td>NaN</td>\n",
       "      <td>0</td>\n",
       "      <td>NaN</td>\n",
       "    </tr>\n",
       "    <tr>\n",
       "      <th>1064</th>\n",
       "      <td>Little Dipper (Conneaut Lake Park)</td>\n",
       "      <td>Conneaut Lake Park</td>\n",
       "      <td>Operating</td>\n",
       "      <td>Allan Herschell Company</td>\n",
       "      <td>2021</td>\n",
       "      <td>41.6343</td>\n",
       "      <td>-80.3165</td>\n",
       "      <td>Steel</td>\n",
       "      <td>1950-01-01</td>\n",
       "      <td>NaN</td>\n",
       "      <td>NaN</td>\n",
       "      <td>0</td>\n",
       "      <td>NaN</td>\n",
       "    </tr>\n",
       "    <tr>\n",
       "      <th>1080</th>\n",
       "      <td>Iron Gwazi</td>\n",
       "      <td>Busch Gardens Tampa Bay</td>\n",
       "      <td>Under construction</td>\n",
       "      <td>Rocky Mountain Construction</td>\n",
       "      <td>2022</td>\n",
       "      <td>28.0339</td>\n",
       "      <td>-82.4231</td>\n",
       "      <td>Steel</td>\n",
       "      <td>NaN</td>\n",
       "      <td>76.0</td>\n",
       "      <td>NaN</td>\n",
       "      <td>2</td>\n",
       "      <td>NaN</td>\n",
       "    </tr>\n",
       "    <tr>\n",
       "      <th>1082</th>\n",
       "      <td>American Dreier Looping</td>\n",
       "      <td>Other</td>\n",
       "      <td>NaN</td>\n",
       "      <td>Anton Schwarzkopf</td>\n",
       "      <td>2022</td>\n",
       "      <td>NaN</td>\n",
       "      <td>NaN</td>\n",
       "      <td>Steel</td>\n",
       "      <td>NaN</td>\n",
       "      <td>53.0</td>\n",
       "      <td>NaN</td>\n",
       "      <td>3</td>\n",
       "      <td>4.7</td>\n",
       "    </tr>\n",
       "    <tr>\n",
       "      <th>1084</th>\n",
       "      <td>Tron Lightcycle Power Run</td>\n",
       "      <td>Other</td>\n",
       "      <td>NaN</td>\n",
       "      <td>Vekoma</td>\n",
       "      <td>2022</td>\n",
       "      <td>NaN</td>\n",
       "      <td>NaN</td>\n",
       "      <td>Steel</td>\n",
       "      <td>2016-06-16</td>\n",
       "      <td>59.3</td>\n",
       "      <td>NaN</td>\n",
       "      <td>0</td>\n",
       "      <td>4.0</td>\n",
       "    </tr>\n",
       "  </tbody>\n",
       "</table>\n",
       "<p>97 rows × 13 columns</p>\n",
       "</div>"
      ],
      "text/plain": [
       "                            Coaster_name                   Location  \\\n",
       "43                 Crystal Beach Cyclone         Crystal Beach Park   \n",
       "60                           Derby Racer               Revere Beach   \n",
       "61           Blue Streak (Conneaut Lake)         Conneaut Lake Park   \n",
       "167        Big Thunder Mountain Railroad                      Other   \n",
       "237    Thunder Run (Canada's Wonderland)        Canada's Wonderland   \n",
       "...                                  ...                        ...   \n",
       "1063                  Lil' Devil Coaster  Six Flags Great Adventure   \n",
       "1064  Little Dipper (Conneaut Lake Park)         Conneaut Lake Park   \n",
       "1080                          Iron Gwazi    Busch Gardens Tampa Bay   \n",
       "1082             American Dreier Looping                      Other   \n",
       "1084           Tron Lightcycle Power Run                      Other   \n",
       "\n",
       "                  Status                                       Manufacturer  \\\n",
       "43               Removed                                 Traver Engineering   \n",
       "60               Removed                                     Fred W. Pearce   \n",
       "61                Closed                                                NaN   \n",
       "167                  NaN  Arrow Development (California and Florida)Dyna...   \n",
       "237            Operating                                         Mack Rides   \n",
       "...                  ...                                                ...   \n",
       "1063           Operating                                           Zamperla   \n",
       "1064           Operating                            Allan Herschell Company   \n",
       "1080  Under construction                        Rocky Mountain Construction   \n",
       "1082                 NaN                                  Anton Schwarzkopf   \n",
       "1084                 NaN                                             Vekoma   \n",
       "\n",
       "      Year_Introduced  Latitude  Longitude Type_Main Opening_date  Speed_mph  \\\n",
       "43               1927   42.8617   -79.0598      Wood   1926-01-01       60.0   \n",
       "60               1937   42.4200   -70.9860      Wood   1911-01-01        NaN   \n",
       "61               1938   41.6349   -80.3180      Wood   1938-05-23       50.0   \n",
       "167              1980       NaN        NaN     Steel          NaN       35.0   \n",
       "237              1986   43.8427   -79.5423     Steel   1981-05-23       39.8   \n",
       "...               ...       ...        ...       ...          ...        ...   \n",
       "1063             2021   40.1343   -74.4434     Steel   1999-01-01        NaN   \n",
       "1064             2021   41.6343   -80.3165     Steel   1950-01-01        NaN   \n",
       "1080             2022   28.0339   -82.4231     Steel          NaN       76.0   \n",
       "1082             2022       NaN        NaN     Steel          NaN       53.0   \n",
       "1084             2022       NaN        NaN     Steel   2016-06-16       59.3   \n",
       "\n",
       "      Height_ft  Inversions  Gforce  \n",
       "43          NaN           0     4.0  \n",
       "60          NaN           0     NaN  \n",
       "61          NaN           0     NaN  \n",
       "167         NaN           0     NaN  \n",
       "237        32.8           0     NaN  \n",
       "...         ...         ...     ...  \n",
       "1063        NaN           0     NaN  \n",
       "1064        NaN           0     NaN  \n",
       "1080        NaN           2     NaN  \n",
       "1082        NaN           3     4.7  \n",
       "1084        NaN           0     4.0  \n",
       "\n",
       "[97 rows x 13 columns]"
      ]
     },
     "execution_count": 13,
     "metadata": {},
     "output_type": "execute_result"
    }
   ],
   "source": [
    "df.loc[df.duplicated(subset = ['Coaster_name', 'Location', 'Opening_date'])]"
   ]
  },
  {
   "cell_type": "code",
   "execution_count": 14,
   "id": "71d7890b-562f-49da-afb8-f350211d6cf4",
   "metadata": {
    "tags": []
   },
   "outputs": [
    {
     "data": {
      "text/html": [
       "<div>\n",
       "<style scoped>\n",
       "    .dataframe tbody tr th:only-of-type {\n",
       "        vertical-align: middle;\n",
       "    }\n",
       "\n",
       "    .dataframe tbody tr th {\n",
       "        vertical-align: top;\n",
       "    }\n",
       "\n",
       "    .dataframe thead th {\n",
       "        text-align: right;\n",
       "    }\n",
       "</style>\n",
       "<table border=\"1\" class=\"dataframe\">\n",
       "  <thead>\n",
       "    <tr style=\"text-align: right;\">\n",
       "      <th></th>\n",
       "      <th>Coaster_name</th>\n",
       "      <th>Location</th>\n",
       "      <th>Status</th>\n",
       "      <th>Manufacturer</th>\n",
       "      <th>Year_Introduced</th>\n",
       "      <th>Latitude</th>\n",
       "      <th>Longitude</th>\n",
       "      <th>Type_Main</th>\n",
       "      <th>Opening_date</th>\n",
       "      <th>Speed_mph</th>\n",
       "      <th>Height_ft</th>\n",
       "      <th>Inversions</th>\n",
       "      <th>Gforce</th>\n",
       "    </tr>\n",
       "  </thead>\n",
       "  <tbody>\n",
       "    <tr>\n",
       "      <th>39</th>\n",
       "      <td>Crystal Beach Cyclone</td>\n",
       "      <td>Crystal Beach Park</td>\n",
       "      <td>Removed</td>\n",
       "      <td>Traver Engineering</td>\n",
       "      <td>1926</td>\n",
       "      <td>42.8617</td>\n",
       "      <td>-79.0598</td>\n",
       "      <td>Wood</td>\n",
       "      <td>1926-01-01</td>\n",
       "      <td>60.0</td>\n",
       "      <td>NaN</td>\n",
       "      <td>0</td>\n",
       "      <td>4.0</td>\n",
       "    </tr>\n",
       "    <tr>\n",
       "      <th>43</th>\n",
       "      <td>Crystal Beach Cyclone</td>\n",
       "      <td>Crystal Beach Park</td>\n",
       "      <td>Removed</td>\n",
       "      <td>Traver Engineering</td>\n",
       "      <td>1927</td>\n",
       "      <td>42.8617</td>\n",
       "      <td>-79.0598</td>\n",
       "      <td>Wood</td>\n",
       "      <td>1926-01-01</td>\n",
       "      <td>60.0</td>\n",
       "      <td>NaN</td>\n",
       "      <td>0</td>\n",
       "      <td>4.0</td>\n",
       "    </tr>\n",
       "  </tbody>\n",
       "</table>\n",
       "</div>"
      ],
      "text/plain": [
       "             Coaster_name            Location   Status        Manufacturer  \\\n",
       "39  Crystal Beach Cyclone  Crystal Beach Park  Removed  Traver Engineering   \n",
       "43  Crystal Beach Cyclone  Crystal Beach Park  Removed  Traver Engineering   \n",
       "\n",
       "    Year_Introduced  Latitude  Longitude Type_Main Opening_date  Speed_mph  \\\n",
       "39             1926   42.8617   -79.0598      Wood   1926-01-01       60.0   \n",
       "43             1927   42.8617   -79.0598      Wood   1926-01-01       60.0   \n",
       "\n",
       "    Height_ft  Inversions  Gforce  \n",
       "39        NaN           0     4.0  \n",
       "43        NaN           0     4.0  "
      ]
     },
     "execution_count": 14,
     "metadata": {},
     "output_type": "execute_result"
    }
   ],
   "source": [
    "df.query('Coaster_name == \"Crystal Beach Cyclone\"')"
   ]
  },
  {
   "cell_type": "code",
   "execution_count": 15,
   "id": "a8270639-86af-4e50-8d92-8c39cae998d6",
   "metadata": {
    "tags": []
   },
   "outputs": [
    {
     "data": {
      "text/plain": [
       "(1087, 13)"
      ]
     },
     "execution_count": 15,
     "metadata": {},
     "output_type": "execute_result"
    }
   ],
   "source": [
    "df.shape"
   ]
  },
  {
   "cell_type": "code",
   "execution_count": 16,
   "id": "0b69133c-6f34-4e83-9266-725a7cf6b142",
   "metadata": {
    "tags": []
   },
   "outputs": [],
   "source": [
    "df = df.drop_duplicates(subset = ['Coaster_name', 'Location', 'Opening_date'] )"
   ]
  },
  {
   "cell_type": "code",
   "execution_count": 17,
   "id": "68a69824-2bab-4a10-9683-c5c7c65a9787",
   "metadata": {
    "tags": []
   },
   "outputs": [
    {
     "data": {
      "text/plain": [
       "(990, 13)"
      ]
     },
     "execution_count": 17,
     "metadata": {},
     "output_type": "execute_result"
    }
   ],
   "source": [
    "df.shape"
   ]
  },
  {
   "cell_type": "code",
   "execution_count": 18,
   "id": "3d48719e-113f-44ca-bf86-33f0bc27a797",
   "metadata": {
    "tags": []
   },
   "outputs": [
    {
     "data": {
      "text/html": [
       "<div>\n",
       "<style scoped>\n",
       "    .dataframe tbody tr th:only-of-type {\n",
       "        vertical-align: middle;\n",
       "    }\n",
       "\n",
       "    .dataframe tbody tr th {\n",
       "        vertical-align: top;\n",
       "    }\n",
       "\n",
       "    .dataframe thead th {\n",
       "        text-align: right;\n",
       "    }\n",
       "</style>\n",
       "<table border=\"1\" class=\"dataframe\">\n",
       "  <thead>\n",
       "    <tr style=\"text-align: right;\">\n",
       "      <th></th>\n",
       "      <th>Coaster_name</th>\n",
       "      <th>Location</th>\n",
       "      <th>Status</th>\n",
       "      <th>Manufacturer</th>\n",
       "      <th>Year_Introduced</th>\n",
       "      <th>Latitude</th>\n",
       "      <th>Longitude</th>\n",
       "      <th>Type_Main</th>\n",
       "      <th>Opening_date</th>\n",
       "      <th>Speed_mph</th>\n",
       "      <th>Height_ft</th>\n",
       "      <th>Inversions</th>\n",
       "      <th>Gforce</th>\n",
       "    </tr>\n",
       "  </thead>\n",
       "  <tbody>\n",
       "    <tr>\n",
       "      <th>39</th>\n",
       "      <td>Crystal Beach Cyclone</td>\n",
       "      <td>Crystal Beach Park</td>\n",
       "      <td>Removed</td>\n",
       "      <td>Traver Engineering</td>\n",
       "      <td>1926</td>\n",
       "      <td>42.8617</td>\n",
       "      <td>-79.0598</td>\n",
       "      <td>Wood</td>\n",
       "      <td>1926-01-01</td>\n",
       "      <td>60.0</td>\n",
       "      <td>NaN</td>\n",
       "      <td>0</td>\n",
       "      <td>4.0</td>\n",
       "    </tr>\n",
       "  </tbody>\n",
       "</table>\n",
       "</div>"
      ],
      "text/plain": [
       "             Coaster_name            Location   Status        Manufacturer  \\\n",
       "39  Crystal Beach Cyclone  Crystal Beach Park  Removed  Traver Engineering   \n",
       "\n",
       "    Year_Introduced  Latitude  Longitude Type_Main Opening_date  Speed_mph  \\\n",
       "39             1926   42.8617   -79.0598      Wood   1926-01-01       60.0   \n",
       "\n",
       "    Height_ft  Inversions  Gforce  \n",
       "39        NaN           0     4.0  "
      ]
     },
     "execution_count": 18,
     "metadata": {},
     "output_type": "execute_result"
    }
   ],
   "source": [
    "df.query('Coaster_name == \"Crystal Beach Cyclone\"')"
   ]
  },
  {
   "cell_type": "markdown",
   "id": "26930e19-e8d9-4534-9cda-d35cf9c127ab",
   "metadata": {},
   "source": [
    "- check the last record index, it should be 989"
   ]
  },
  {
   "cell_type": "code",
   "execution_count": 19,
   "id": "568af12d-446d-4a92-ae1a-bcda7a739c27",
   "metadata": {
    "tags": []
   },
   "outputs": [
    {
     "data": {
      "text/html": [
       "<div>\n",
       "<style scoped>\n",
       "    .dataframe tbody tr th:only-of-type {\n",
       "        vertical-align: middle;\n",
       "    }\n",
       "\n",
       "    .dataframe tbody tr th {\n",
       "        vertical-align: top;\n",
       "    }\n",
       "\n",
       "    .dataframe thead th {\n",
       "        text-align: right;\n",
       "    }\n",
       "</style>\n",
       "<table border=\"1\" class=\"dataframe\">\n",
       "  <thead>\n",
       "    <tr style=\"text-align: right;\">\n",
       "      <th></th>\n",
       "      <th>Coaster_name</th>\n",
       "      <th>Location</th>\n",
       "      <th>Status</th>\n",
       "      <th>Manufacturer</th>\n",
       "      <th>Year_Introduced</th>\n",
       "      <th>Latitude</th>\n",
       "      <th>Longitude</th>\n",
       "      <th>Type_Main</th>\n",
       "      <th>Opening_date</th>\n",
       "      <th>Speed_mph</th>\n",
       "      <th>Height_ft</th>\n",
       "      <th>Inversions</th>\n",
       "      <th>Gforce</th>\n",
       "    </tr>\n",
       "  </thead>\n",
       "  <tbody>\n",
       "    <tr>\n",
       "      <th>1086</th>\n",
       "      <td>Wonder Woman Flight of Courage</td>\n",
       "      <td>Six Flags Magic Mountain</td>\n",
       "      <td>Under construction</td>\n",
       "      <td>Rocky Mountain Construction</td>\n",
       "      <td>2022</td>\n",
       "      <td>NaN</td>\n",
       "      <td>NaN</td>\n",
       "      <td>Steel</td>\n",
       "      <td>2022-01-01</td>\n",
       "      <td>58.0</td>\n",
       "      <td>NaN</td>\n",
       "      <td>3</td>\n",
       "      <td>NaN</td>\n",
       "    </tr>\n",
       "  </tbody>\n",
       "</table>\n",
       "</div>"
      ],
      "text/plain": [
       "                        Coaster_name                  Location  \\\n",
       "1086  Wonder Woman Flight of Courage  Six Flags Magic Mountain   \n",
       "\n",
       "                  Status                 Manufacturer  Year_Introduced  \\\n",
       "1086  Under construction  Rocky Mountain Construction             2022   \n",
       "\n",
       "      Latitude  Longitude Type_Main Opening_date  Speed_mph  Height_ft  \\\n",
       "1086       NaN        NaN     Steel   2022-01-01       58.0        NaN   \n",
       "\n",
       "      Inversions  Gforce  \n",
       "1086           3     NaN  "
      ]
     },
     "execution_count": 19,
     "metadata": {},
     "output_type": "execute_result"
    }
   ],
   "source": [
    "df.tail(1)"
   ]
  },
  {
   "cell_type": "markdown",
   "id": "fc806613-ebed-43b9-9b47-eaced3560da5",
   "metadata": {},
   "source": [
    "- let's reset the index"
   ]
  },
  {
   "cell_type": "code",
   "execution_count": 20,
   "id": "08c79e3b-cc98-439c-ac82-2bf87169e43d",
   "metadata": {
    "tags": []
   },
   "outputs": [
    {
     "data": {
      "text/html": [
       "<div>\n",
       "<style scoped>\n",
       "    .dataframe tbody tr th:only-of-type {\n",
       "        vertical-align: middle;\n",
       "    }\n",
       "\n",
       "    .dataframe tbody tr th {\n",
       "        vertical-align: top;\n",
       "    }\n",
       "\n",
       "    .dataframe thead th {\n",
       "        text-align: right;\n",
       "    }\n",
       "</style>\n",
       "<table border=\"1\" class=\"dataframe\">\n",
       "  <thead>\n",
       "    <tr style=\"text-align: right;\">\n",
       "      <th></th>\n",
       "      <th>Coaster_name</th>\n",
       "      <th>Location</th>\n",
       "      <th>Status</th>\n",
       "      <th>Manufacturer</th>\n",
       "      <th>Year_Introduced</th>\n",
       "      <th>Latitude</th>\n",
       "      <th>Longitude</th>\n",
       "      <th>Type_Main</th>\n",
       "      <th>Opening_date</th>\n",
       "      <th>Speed_mph</th>\n",
       "      <th>Height_ft</th>\n",
       "      <th>Inversions</th>\n",
       "      <th>Gforce</th>\n",
       "    </tr>\n",
       "  </thead>\n",
       "  <tbody>\n",
       "    <tr>\n",
       "      <th>989</th>\n",
       "      <td>Wonder Woman Flight of Courage</td>\n",
       "      <td>Six Flags Magic Mountain</td>\n",
       "      <td>Under construction</td>\n",
       "      <td>Rocky Mountain Construction</td>\n",
       "      <td>2022</td>\n",
       "      <td>NaN</td>\n",
       "      <td>NaN</td>\n",
       "      <td>Steel</td>\n",
       "      <td>2022-01-01</td>\n",
       "      <td>58.0</td>\n",
       "      <td>NaN</td>\n",
       "      <td>3</td>\n",
       "      <td>NaN</td>\n",
       "    </tr>\n",
       "  </tbody>\n",
       "</table>\n",
       "</div>"
      ],
      "text/plain": [
       "                       Coaster_name                  Location  \\\n",
       "989  Wonder Woman Flight of Courage  Six Flags Magic Mountain   \n",
       "\n",
       "                 Status                 Manufacturer  Year_Introduced  \\\n",
       "989  Under construction  Rocky Mountain Construction             2022   \n",
       "\n",
       "     Latitude  Longitude Type_Main Opening_date  Speed_mph  Height_ft  \\\n",
       "989       NaN        NaN     Steel   2022-01-01       58.0        NaN   \n",
       "\n",
       "     Inversions  Gforce  \n",
       "989           3     NaN  "
      ]
     },
     "execution_count": 20,
     "metadata": {},
     "output_type": "execute_result"
    }
   ],
   "source": [
    "df = df.reset_index(drop=True)\n",
    "df.tail(1)"
   ]
  },
  {
   "cell_type": "code",
   "execution_count": null,
   "id": "33db388e-198d-4990-8a9e-8f27a399a68f",
   "metadata": {},
   "outputs": [],
   "source": []
  },
  {
   "cell_type": "code",
   "execution_count": null,
   "id": "24943183-1f18-4e93-b4ad-f5a886ad25d9",
   "metadata": {
    "jupyter": {
     "source_hidden": true
    },
    "tags": []
   },
   "outputs": [],
   "source": []
  },
  {
   "cell_type": "markdown",
   "id": "59c1cd78-21ae-4569-b565-7edfaac98318",
   "metadata": {
    "tags": []
   },
   "source": [
    "### Dealing with null values\n",
    "- the final part"
   ]
  },
  {
   "cell_type": "markdown",
   "id": "9fcb8826-e27f-4d57-92e5-2d0cde736b93",
   "metadata": {},
   "source": [
    "- let's use missingno to identify the missing value pattern\n",
    "- MCAR ? MNAR ? MAR?"
   ]
  },
  {
   "cell_type": "code",
   "execution_count": 21,
   "id": "d5a61030-501f-4967-afc1-d239d11cbeaa",
   "metadata": {
    "tags": []
   },
   "outputs": [
    {
     "data": {
      "text/plain": [
       "<Axes: >"
      ]
     },
     "execution_count": 21,
     "metadata": {},
     "output_type": "execute_result"
    },
    {
     "data": {
      "image/png": "[encoded data removed]",
      "text/plain": [
       "<Figure size 2500x1000 with 2 Axes>"
      ]
     },
     "metadata": {},
     "output_type": "display_data"
    }
   ],
   "source": [
    "msno.matrix(df)"
   ]
  },
  {
   "cell_type": "code",
   "execution_count": 22,
   "id": "24c53737-0dc4-4fce-83b2-c1066021e5fc",
   "metadata": {
    "tags": []
   },
   "outputs": [
    {
     "data": {
      "text/plain": [
       "<Axes: >"
      ]
     },
     "execution_count": 22,
     "metadata": {},
     "output_type": "execute_result"
    },
    {
     "data": {
      "image/png": "[encoded data removed]",
      "text/plain": [
       "<Figure size 2000x1200 with 2 Axes>"
      ]
     },
     "metadata": {},
     "output_type": "display_data"
    }
   ],
   "source": [
    "msno.heatmap(df)"
   ]
  },
  {
   "cell_type": "markdown",
   "id": "e84e3941-ea82-4761-a515-854ff90e1eef",
   "metadata": {},
   "source": [
    "- if the value is close to -1, then the present of null value in one column is anti-correlated to the other column\n",
    "- if the value is close to 0, then there is no relationship between the null value in one column to the other"
   ]
  },
  {
   "cell_type": "markdown",
   "id": "621bbe8c-d9f7-425c-8648-36bcd5788959",
   "metadata": {},
   "source": [
    "#### Data type checking"
   ]
  },
  {
   "cell_type": "code",
   "execution_count": 23,
   "id": "be92e769-a36b-45ad-a069-124619609593",
   "metadata": {
    "tags": []
   },
   "outputs": [
    {
     "data": {
      "text/plain": [
       "Coaster_name        object\n",
       "Location            object\n",
       "Status              object\n",
       "Manufacturer        object\n",
       "Year_Introduced      int64\n",
       "Latitude           float64\n",
       "Longitude          float64\n",
       "Type_Main           object\n",
       "Opening_date        object\n",
       "Speed_mph          float64\n",
       "Height_ft          float64\n",
       "Inversions           int64\n",
       "Gforce             float64\n",
       "dtype: object"
      ]
     },
     "execution_count": 23,
     "metadata": {},
     "output_type": "execute_result"
    }
   ],
   "source": [
    "df.dtypes"
   ]
  },
  {
   "cell_type": "markdown",
   "id": "ed34327e-3a08-428e-81b2-3e60d16ca4e1",
   "metadata": {},
   "source": [
    "- change the opening date to date format"
   ]
  },
  {
   "cell_type": "code",
   "execution_count": 24,
   "id": "7ed3a4a0-ac4a-438a-b1e3-8746d756fa60",
   "metadata": {
    "tags": []
   },
   "outputs": [],
   "source": [
    "df['Opening_date'] = pd.to_datetime(df['Opening_date'].astype(str), format='%Y-%m-%d')"
   ]
  },
  {
   "cell_type": "code",
   "execution_count": 25,
   "id": "34ebb496-6280-488c-ae28-5b21485711b1",
   "metadata": {
    "tags": []
   },
   "outputs": [
    {
     "data": {
      "text/html": [
       "<div>\n",
       "<style scoped>\n",
       "    .dataframe tbody tr th:only-of-type {\n",
       "        vertical-align: middle;\n",
       "    }\n",
       "\n",
       "    .dataframe tbody tr th {\n",
       "        vertical-align: top;\n",
       "    }\n",
       "\n",
       "    .dataframe thead th {\n",
       "        text-align: right;\n",
       "    }\n",
       "</style>\n",
       "<table border=\"1\" class=\"dataframe\">\n",
       "  <thead>\n",
       "    <tr style=\"text-align: right;\">\n",
       "      <th></th>\n",
       "      <th>Coaster_name</th>\n",
       "      <th>Location</th>\n",
       "      <th>Status</th>\n",
       "      <th>Manufacturer</th>\n",
       "      <th>Year_Introduced</th>\n",
       "      <th>Latitude</th>\n",
       "      <th>Longitude</th>\n",
       "      <th>Type_Main</th>\n",
       "      <th>Opening_date</th>\n",
       "      <th>Speed_mph</th>\n",
       "      <th>Height_ft</th>\n",
       "      <th>Inversions</th>\n",
       "      <th>Gforce</th>\n",
       "    </tr>\n",
       "  </thead>\n",
       "  <tbody>\n",
       "    <tr>\n",
       "      <th>0</th>\n",
       "      <td>Switchback Railway</td>\n",
       "      <td>Coney Island</td>\n",
       "      <td>Removed</td>\n",
       "      <td>LaMarcus Adna Thompson</td>\n",
       "      <td>1884</td>\n",
       "      <td>40.574</td>\n",
       "      <td>-73.978</td>\n",
       "      <td>Wood</td>\n",
       "      <td>1884-06-16</td>\n",
       "      <td>6.0</td>\n",
       "      <td>NaN</td>\n",
       "      <td>0</td>\n",
       "      <td>2.9</td>\n",
       "    </tr>\n",
       "  </tbody>\n",
       "</table>\n",
       "</div>"
      ],
      "text/plain": [
       "         Coaster_name      Location   Status            Manufacturer  \\\n",
       "0  Switchback Railway  Coney Island  Removed  LaMarcus Adna Thompson   \n",
       "\n",
       "   Year_Introduced  Latitude  Longitude Type_Main Opening_date  Speed_mph  \\\n",
       "0             1884    40.574    -73.978      Wood   1884-06-16        6.0   \n",
       "\n",
       "   Height_ft  Inversions  Gforce  \n",
       "0        NaN           0     2.9  "
      ]
     },
     "execution_count": 25,
     "metadata": {},
     "output_type": "execute_result"
    }
   ],
   "source": [
    "df.head(1)"
   ]
  },
  {
   "cell_type": "code",
   "execution_count": 26,
   "id": "80abb94c-7bcf-4004-a313-1eb066509b43",
   "metadata": {
    "tags": []
   },
   "outputs": [
    {
     "data": {
      "text/plain": [
       "Coaster_name               object\n",
       "Location                   object\n",
       "Status                     object\n",
       "Manufacturer               object\n",
       "Year_Introduced             int64\n",
       "Latitude                  float64\n",
       "Longitude                 float64\n",
       "Type_Main                  object\n",
       "Opening_date       datetime64[ns]\n",
       "Speed_mph                 float64\n",
       "Height_ft                 float64\n",
       "Inversions                  int64\n",
       "Gforce                    float64\n",
       "dtype: object"
      ]
     },
     "execution_count": 26,
     "metadata": {},
     "output_type": "execute_result"
    }
   ],
   "source": [
    "df.dtypes"
   ]
  },
  {
   "cell_type": "code",
   "execution_count": null,
   "id": "6a9b257b-8678-4f49-b461-ab62d2696fbc",
   "metadata": {
    "jupyter": {
     "source_hidden": true
    },
    "tags": []
   },
   "outputs": [],
   "source": []
  },
  {
   "cell_type": "markdown",
   "id": "834b8fed-20af-4622-9da6-b0b47a0141c2",
   "metadata": {},
   "source": [
    "#### Let's deal with the columns with empty value"
   ]
  },
  {
   "cell_type": "markdown",
   "id": "78e9850f-03d7-4388-827f-83e1546204a1",
   "metadata": {},
   "source": [
    "- list out all the column with null values"
   ]
  },
  {
   "cell_type": "code",
   "execution_count": 27,
   "id": "16c3143b-6707-45f8-8f31-a8bbfc98d642",
   "metadata": {
    "tags": []
   },
   "outputs": [
    {
     "data": {
      "text/plain": [
       "['Status',\n",
       " 'Manufacturer',\n",
       " 'Latitude',\n",
       " 'Longitude',\n",
       " 'Opening_date',\n",
       " 'Speed_mph',\n",
       " 'Height_ft',\n",
       " 'Gforce']"
      ]
     },
     "execution_count": 27,
     "metadata": {},
     "output_type": "execute_result"
    }
   ],
   "source": [
    "df.columns[df.isnull().any()].tolist()"
   ]
  },
  {
   "cell_type": "markdown",
   "id": "01380425-f5a4-4adc-8e5b-3ad7c07bc19f",
   "metadata": {},
   "source": [
    "#### Status column"
   ]
  },
  {
   "cell_type": "code",
   "execution_count": 28,
   "id": "ab68532e-b234-48ee-bd22-fdf902aeff1d",
   "metadata": {
    "tags": []
   },
   "outputs": [
    {
     "data": {
      "text/plain": [
       "array(['Removed', 'Closed', 'Operating', nan, 'Not Currently Operating',\n",
       "       'In Production', 'Discontinued',\n",
       "       'closed for maintenance as of july 30 no reopening date known',\n",
       "       'Closed in 2021', 'SBNO December 2019', 'Under construction',\n",
       "       'Temporarily Closed', 'SBNO (Standing But Not Operating)',\n",
       "       'Temporarily closed',\n",
       "       'Chapter 7 bankruptcy; rides dismantled and sold; property sold',\n",
       "       'Under Maintenance'], dtype=object)"
      ]
     },
     "execution_count": 28,
     "metadata": {},
     "output_type": "execute_result"
    }
   ],
   "source": [
    "df['Status'].unique()"
   ]
  },
  {
   "cell_type": "code",
   "execution_count": 29,
   "id": "065d395f-b2a3-4ad6-9bac-3f1067dbee99",
   "metadata": {
    "tags": []
   },
   "outputs": [
    {
     "data": {
      "text/plain": [
       "Operating                                                         646\n",
       "Removed                                                           133\n",
       "Closed                                                             23\n",
       "Under construction                                                 14\n",
       "In Production                                                      11\n",
       "Discontinued                                                        7\n",
       "Chapter 7 bankruptcy; rides dismantled and sold; property sold      2\n",
       "Not Currently Operating                                             1\n",
       "closed for maintenance as of july 30 no reopening date known        1\n",
       "Closed in 2021                                                      1\n",
       "SBNO December 2019                                                  1\n",
       "Temporarily Closed                                                  1\n",
       "SBNO (Standing But Not Operating)                                   1\n",
       "Temporarily closed                                                  1\n",
       "Under Maintenance                                                   1\n",
       "Name: Status, dtype: int64"
      ]
     },
     "execution_count": 29,
     "metadata": {},
     "output_type": "execute_result"
    }
   ],
   "source": [
    "df['Status'].value_counts()"
   ]
  },
  {
   "cell_type": "markdown",
   "id": "64503572-0740-4482-823a-7bec81648a30",
   "metadata": {
    "tags": []
   },
   "source": [
    "- let's remap the data with a dictionary: \n",
    "- group these under {'Operating', 'SBNO (Standing But Not Operating)  ', and  the rest as 'Discontinued' } "
   ]
  },
  {
   "cell_type": "code",
   "execution_count": 30,
   "id": "e2562647-3a16-4327-8cbc-3f011327b1a3",
   "metadata": {
    "tags": []
   },
   "outputs": [],
   "source": [
    "status_categories = {\n",
    "    'Operating': ['Operating', 'In Production', 'Under construction'],\n",
    "    'SBNO (Standing But Not Operating)': ['SBNO (Standing But Not Operating)'],\n",
    "    'Discontinued': ['Removed', 'Closed', 'Discontinued', \n",
    "                     'Chapter 7 bankruptcy; rides dismantled and sold; property sold',\n",
    "                     'Closed in 2021', 'SBNO December 2019', 'Temporarily Closed', \n",
    "                     'closed for maintenance as of july 30 no reopening date known', \n",
    "                     'Not Currently Operating', 'Under Maintenance', 'Temporarily closed']\n",
    "}\n",
    "\n",
    "for category, status in status_categories.items():\n",
    "    df['Status'] = df['Status'].replace(status, category)\n"
   ]
  },
  {
   "cell_type": "code",
   "execution_count": 31,
   "id": "bca81873-1d4c-470d-a92b-1d515436caa4",
   "metadata": {
    "tags": []
   },
   "outputs": [
    {
     "data": {
      "text/plain": [
       "Operating                            671\n",
       "Discontinued                         172\n",
       "SBNO (Standing But Not Operating)      1\n",
       "Name: Status, dtype: int64"
      ]
     },
     "execution_count": 31,
     "metadata": {},
     "output_type": "execute_result"
    }
   ],
   "source": [
    "df['Status'].value_counts()"
   ]
  },
  {
   "cell_type": "code",
   "execution_count": 32,
   "id": "d3ec79dc-b8ea-4835-b055-07b437b4bf90",
   "metadata": {
    "tags": []
   },
   "outputs": [
    {
     "data": {
      "text/plain": [
       "False    844\n",
       "True     146\n",
       "Name: Status, dtype: int64"
      ]
     },
     "execution_count": 32,
     "metadata": {},
     "output_type": "execute_result"
    }
   ],
   "source": [
    "df['Status'].isnull().value_counts()"
   ]
  },
  {
   "cell_type": "markdown",
   "id": "849bdeb8-29f1-43dd-bd36-c3ea28cf675e",
   "metadata": {},
   "source": [
    "- let's test something here\n",
    "- let's create a new dataframe where we drop the records if the status is unknown\n",
    "- check on its impact on other columns null value percentage"
   ]
  },
  {
   "cell_type": "code",
   "execution_count": 33,
   "id": "e24c015b-bfe9-4ef9-a979-eb6a33021d24",
   "metadata": {
    "tags": []
   },
   "outputs": [],
   "source": [
    "testing_df = df[~df['Status'].isnull()]"
   ]
  },
  {
   "cell_type": "code",
   "execution_count": 34,
   "id": "798d3a18-2da9-431a-8f70-d705c2c8dbbe",
   "metadata": {
    "tags": []
   },
   "outputs": [
    {
     "name": "stdout",
     "output_type": "stream",
     "text": [
      "<class 'pandas.core.frame.DataFrame'>\n",
      "Int64Index: 844 entries, 0 to 989\n",
      "Data columns (total 13 columns):\n",
      " #   Column           Non-Null Count  Dtype         \n",
      "---  ------           --------------  -----         \n",
      " 0   Coaster_name     844 non-null    object        \n",
      " 1   Location         844 non-null    object        \n",
      " 2   Status           844 non-null    object        \n",
      " 3   Manufacturer     796 non-null    object        \n",
      " 4   Year_Introduced  844 non-null    int64         \n",
      " 5   Latitude         766 non-null    float64       \n",
      " 6   Longitude        766 non-null    float64       \n",
      " 7   Type_Main        844 non-null    object        \n",
      " 8   Opening_date     800 non-null    datetime64[ns]\n",
      " 9   Speed_mph        727 non-null    float64       \n",
      " 10  Height_ft        150 non-null    float64       \n",
      " 11  Inversions       844 non-null    int64         \n",
      " 12  Gforce           275 non-null    float64       \n",
      "dtypes: datetime64[ns](1), float64(5), int64(2), object(5)\n",
      "memory usage: 92.3+ KB\n"
     ]
    }
   ],
   "source": [
    "testing_df.info()"
   ]
  },
  {
   "cell_type": "code",
   "execution_count": 35,
   "id": "e47f79c5-a361-40e2-a849-360cd6312d91",
   "metadata": {
    "tags": []
   },
   "outputs": [
    {
     "data": {
      "text/html": [
       "<div>\n",
       "<style scoped>\n",
       "    .dataframe tbody tr th:only-of-type {\n",
       "        vertical-align: middle;\n",
       "    }\n",
       "\n",
       "    .dataframe tbody tr th {\n",
       "        vertical-align: top;\n",
       "    }\n",
       "\n",
       "    .dataframe thead th {\n",
       "        text-align: right;\n",
       "    }\n",
       "</style>\n",
       "<table border=\"1\" class=\"dataframe\">\n",
       "  <thead>\n",
       "    <tr style=\"text-align: right;\">\n",
       "      <th></th>\n",
       "      <th>Missing_value_counts</th>\n",
       "      <th>% of Total Values</th>\n",
       "    </tr>\n",
       "  </thead>\n",
       "  <tbody>\n",
       "    <tr>\n",
       "      <th>Coaster_name</th>\n",
       "      <td>0</td>\n",
       "      <td>0.000000</td>\n",
       "    </tr>\n",
       "    <tr>\n",
       "      <th>Location</th>\n",
       "      <td>0</td>\n",
       "      <td>0.000000</td>\n",
       "    </tr>\n",
       "    <tr>\n",
       "      <th>Status</th>\n",
       "      <td>146</td>\n",
       "      <td>14.747475</td>\n",
       "    </tr>\n",
       "    <tr>\n",
       "      <th>Manufacturer</th>\n",
       "      <td>58</td>\n",
       "      <td>5.858586</td>\n",
       "    </tr>\n",
       "    <tr>\n",
       "      <th>Year_Introduced</th>\n",
       "      <td>0</td>\n",
       "      <td>0.000000</td>\n",
       "    </tr>\n",
       "    <tr>\n",
       "      <th>Latitude</th>\n",
       "      <td>207</td>\n",
       "      <td>20.909091</td>\n",
       "    </tr>\n",
       "    <tr>\n",
       "      <th>Longitude</th>\n",
       "      <td>207</td>\n",
       "      <td>20.909091</td>\n",
       "    </tr>\n",
       "    <tr>\n",
       "      <th>Type_Main</th>\n",
       "      <td>0</td>\n",
       "      <td>0.000000</td>\n",
       "    </tr>\n",
       "    <tr>\n",
       "      <th>Opening_date</th>\n",
       "      <td>183</td>\n",
       "      <td>18.484848</td>\n",
       "    </tr>\n",
       "    <tr>\n",
       "      <th>Speed_mph</th>\n",
       "      <td>140</td>\n",
       "      <td>14.141414</td>\n",
       "    </tr>\n",
       "    <tr>\n",
       "      <th>Height_ft</th>\n",
       "      <td>831</td>\n",
       "      <td>83.939394</td>\n",
       "    </tr>\n",
       "    <tr>\n",
       "      <th>Inversions</th>\n",
       "      <td>0</td>\n",
       "      <td>0.000000</td>\n",
       "    </tr>\n",
       "    <tr>\n",
       "      <th>Gforce</th>\n",
       "      <td>666</td>\n",
       "      <td>67.272727</td>\n",
       "    </tr>\n",
       "  </tbody>\n",
       "</table>\n",
       "</div>"
      ],
      "text/plain": [
       "                 Missing_value_counts  % of Total Values\n",
       "Coaster_name                        0           0.000000\n",
       "Location                            0           0.000000\n",
       "Status                            146          14.747475\n",
       "Manufacturer                       58           5.858586\n",
       "Year_Introduced                     0           0.000000\n",
       "Latitude                          207          20.909091\n",
       "Longitude                         207          20.909091\n",
       "Type_Main                           0           0.000000\n",
       "Opening_date                      183          18.484848\n",
       "Speed_mph                         140          14.141414\n",
       "Height_ft                         831          83.939394\n",
       "Inversions                          0           0.000000\n",
       "Gforce                            666          67.272727"
      ]
     },
     "execution_count": 35,
     "metadata": {},
     "output_type": "execute_result"
    }
   ],
   "source": [
    "missing_value_table(df)"
   ]
  },
  {
   "cell_type": "code",
   "execution_count": 36,
   "id": "857097d9-27e1-4c19-ae1f-3cc06b6be334",
   "metadata": {
    "tags": []
   },
   "outputs": [
    {
     "data": {
      "text/html": [
       "<div>\n",
       "<style scoped>\n",
       "    .dataframe tbody tr th:only-of-type {\n",
       "        vertical-align: middle;\n",
       "    }\n",
       "\n",
       "    .dataframe tbody tr th {\n",
       "        vertical-align: top;\n",
       "    }\n",
       "\n",
       "    .dataframe thead th {\n",
       "        text-align: right;\n",
       "    }\n",
       "</style>\n",
       "<table border=\"1\" class=\"dataframe\">\n",
       "  <thead>\n",
       "    <tr style=\"text-align: right;\">\n",
       "      <th></th>\n",
       "      <th>Missing_value_counts</th>\n",
       "      <th>% of Total Values</th>\n",
       "    </tr>\n",
       "  </thead>\n",
       "  <tbody>\n",
       "    <tr>\n",
       "      <th>Coaster_name</th>\n",
       "      <td>0</td>\n",
       "      <td>0.000000</td>\n",
       "    </tr>\n",
       "    <tr>\n",
       "      <th>Location</th>\n",
       "      <td>0</td>\n",
       "      <td>0.000000</td>\n",
       "    </tr>\n",
       "    <tr>\n",
       "      <th>Status</th>\n",
       "      <td>0</td>\n",
       "      <td>0.000000</td>\n",
       "    </tr>\n",
       "    <tr>\n",
       "      <th>Manufacturer</th>\n",
       "      <td>48</td>\n",
       "      <td>5.687204</td>\n",
       "    </tr>\n",
       "    <tr>\n",
       "      <th>Year_Introduced</th>\n",
       "      <td>0</td>\n",
       "      <td>0.000000</td>\n",
       "    </tr>\n",
       "    <tr>\n",
       "      <th>Latitude</th>\n",
       "      <td>78</td>\n",
       "      <td>9.241706</td>\n",
       "    </tr>\n",
       "    <tr>\n",
       "      <th>Longitude</th>\n",
       "      <td>78</td>\n",
       "      <td>9.241706</td>\n",
       "    </tr>\n",
       "    <tr>\n",
       "      <th>Type_Main</th>\n",
       "      <td>0</td>\n",
       "      <td>0.000000</td>\n",
       "    </tr>\n",
       "    <tr>\n",
       "      <th>Opening_date</th>\n",
       "      <td>44</td>\n",
       "      <td>5.213270</td>\n",
       "    </tr>\n",
       "    <tr>\n",
       "      <th>Speed_mph</th>\n",
       "      <td>117</td>\n",
       "      <td>13.862559</td>\n",
       "    </tr>\n",
       "    <tr>\n",
       "      <th>Height_ft</th>\n",
       "      <td>694</td>\n",
       "      <td>82.227488</td>\n",
       "    </tr>\n",
       "    <tr>\n",
       "      <th>Inversions</th>\n",
       "      <td>0</td>\n",
       "      <td>0.000000</td>\n",
       "    </tr>\n",
       "    <tr>\n",
       "      <th>Gforce</th>\n",
       "      <td>569</td>\n",
       "      <td>67.417062</td>\n",
       "    </tr>\n",
       "  </tbody>\n",
       "</table>\n",
       "</div>"
      ],
      "text/plain": [
       "                 Missing_value_counts  % of Total Values\n",
       "Coaster_name                        0           0.000000\n",
       "Location                            0           0.000000\n",
       "Status                              0           0.000000\n",
       "Manufacturer                       48           5.687204\n",
       "Year_Introduced                     0           0.000000\n",
       "Latitude                           78           9.241706\n",
       "Longitude                          78           9.241706\n",
       "Type_Main                           0           0.000000\n",
       "Opening_date                       44           5.213270\n",
       "Speed_mph                         117          13.862559\n",
       "Height_ft                         694          82.227488\n",
       "Inversions                          0           0.000000\n",
       "Gforce                            569          67.417062"
      ]
     },
     "execution_count": 36,
     "metadata": {},
     "output_type": "execute_result"
    }
   ],
   "source": [
    "missing_value_table(testing_df)"
   ]
  },
  {
   "cell_type": "markdown",
   "id": "99816aae-81f0-4e66-b416-d81018649306",
   "metadata": {},
   "source": [
    "- looking at the null percentage of the columns\n",
    "- dropping the roller coaster with unknown status has reduced the number of unk value on other columns such as\n",
    "    - Latitude, Longitude, Opening_date\n",
    "- so, we use the new dataframe"
   ]
  },
  {
   "cell_type": "code",
   "execution_count": 37,
   "id": "6f6a1619-7154-4c92-950b-15d3e997a231",
   "metadata": {
    "tags": []
   },
   "outputs": [],
   "source": [
    "df = testing_df"
   ]
  },
  {
   "cell_type": "code",
   "execution_count": 38,
   "id": "17660bc1-d9a2-492f-b8fc-c9b1f4c68af9",
   "metadata": {
    "tags": []
   },
   "outputs": [
    {
     "data": {
      "text/plain": [
       "(844, 13)"
      ]
     },
     "execution_count": 38,
     "metadata": {},
     "output_type": "execute_result"
    }
   ],
   "source": [
    "df.shape"
   ]
  },
  {
   "cell_type": "code",
   "execution_count": null,
   "id": "4335fdc1-26fc-476d-b226-90fe4b9afae3",
   "metadata": {
    "jupyter": {
     "source_hidden": true
    },
    "tags": []
   },
   "outputs": [],
   "source": []
  },
  {
   "cell_type": "markdown",
   "id": "7f2ebdd5-f1a2-44ca-8fb4-1f8057c21967",
   "metadata": {},
   "source": [
    "#### Manufacturer column"
   ]
  },
  {
   "cell_type": "code",
   "execution_count": 39,
   "id": "14db4e27-11b2-4d0a-a9b2-93adf84d6bf9",
   "metadata": {
    "tags": []
   },
   "outputs": [
    {
     "data": {
      "text/plain": [
       "Bolliger & Mabillard                94\n",
       "Vekoma                              92\n",
       "Intamin                             71\n",
       "Arrow Dynamics                      47\n",
       "Mack Rides                          45\n",
       "                                    ..\n",
       "BHS                                  1\n",
       "British Rail Engineering Limited     1\n",
       "Bailey Rides, Inc.                   1\n",
       "Preston & Barbieri                   1\n",
       "Gravitykraft Corporation             1\n",
       "Name: Manufacturer, Length: 98, dtype: int64"
      ]
     },
     "execution_count": 39,
     "metadata": {},
     "output_type": "execute_result"
    }
   ],
   "source": [
    "df['Manufacturer'].value_counts()"
   ]
  },
  {
   "cell_type": "markdown",
   "id": "57697cf8-be5b-4dcc-a0d9-3fc807d5162c",
   "metadata": {},
   "source": [
    "- let's fill the na with unknown"
   ]
  },
  {
   "cell_type": "code",
   "execution_count": 40,
   "id": "e3b246e0-201b-40b7-81cf-06cd98faf8c3",
   "metadata": {
    "tags": []
   },
   "outputs": [],
   "source": [
    "df[\"Manufacturer\"].fillna(\"Unknown\", inplace = True) \n"
   ]
  },
  {
   "cell_type": "code",
   "execution_count": 41,
   "id": "755d12f2-f6d0-4fda-844a-30d222b9c27e",
   "metadata": {
    "tags": []
   },
   "outputs": [
    {
     "data": {
      "text/plain": [
       "Bolliger & Mabillard                94\n",
       "Vekoma                              92\n",
       "Intamin                             71\n",
       "Unknown                             48\n",
       "Arrow Dynamics                      47\n",
       "                                    ..\n",
       "BHS                                  1\n",
       "British Rail Engineering Limited     1\n",
       "Bailey Rides, Inc.                   1\n",
       "Preston & Barbieri                   1\n",
       "Gravitykraft Corporation             1\n",
       "Name: Manufacturer, Length: 99, dtype: int64"
      ]
     },
     "execution_count": 41,
     "metadata": {},
     "output_type": "execute_result"
    }
   ],
   "source": [
    "df['Manufacturer'].value_counts()"
   ]
  },
  {
   "cell_type": "code",
   "execution_count": 42,
   "id": "0d03acb5-8e03-4b86-989c-2880ea5997cb",
   "metadata": {
    "tags": []
   },
   "outputs": [
    {
     "data": {
      "text/html": [
       "<div>\n",
       "<style scoped>\n",
       "    .dataframe tbody tr th:only-of-type {\n",
       "        vertical-align: middle;\n",
       "    }\n",
       "\n",
       "    .dataframe tbody tr th {\n",
       "        vertical-align: top;\n",
       "    }\n",
       "\n",
       "    .dataframe thead th {\n",
       "        text-align: right;\n",
       "    }\n",
       "</style>\n",
       "<table border=\"1\" class=\"dataframe\">\n",
       "  <thead>\n",
       "    <tr style=\"text-align: right;\">\n",
       "      <th></th>\n",
       "      <th>Coaster_name</th>\n",
       "      <th>Location</th>\n",
       "      <th>Status</th>\n",
       "      <th>Manufacturer</th>\n",
       "      <th>Year_Introduced</th>\n",
       "      <th>Latitude</th>\n",
       "      <th>Longitude</th>\n",
       "      <th>Type_Main</th>\n",
       "      <th>Opening_date</th>\n",
       "      <th>Speed_mph</th>\n",
       "      <th>Height_ft</th>\n",
       "      <th>Inversions</th>\n",
       "      <th>Gforce</th>\n",
       "    </tr>\n",
       "  </thead>\n",
       "  <tbody>\n",
       "    <tr>\n",
       "      <th>0</th>\n",
       "      <td>Switchback Railway</td>\n",
       "      <td>Coney Island</td>\n",
       "      <td>Discontinued</td>\n",
       "      <td>LaMarcus Adna Thompson</td>\n",
       "      <td>1884</td>\n",
       "      <td>40.5740</td>\n",
       "      <td>-73.9780</td>\n",
       "      <td>Wood</td>\n",
       "      <td>1884-06-16</td>\n",
       "      <td>6.0</td>\n",
       "      <td>NaN</td>\n",
       "      <td>0</td>\n",
       "      <td>2.9</td>\n",
       "    </tr>\n",
       "    <tr>\n",
       "      <th>1</th>\n",
       "      <td>Flip Flap Railway</td>\n",
       "      <td>Sea Lion Park</td>\n",
       "      <td>Discontinued</td>\n",
       "      <td>Lina Beecher</td>\n",
       "      <td>1895</td>\n",
       "      <td>40.5780</td>\n",
       "      <td>-73.9790</td>\n",
       "      <td>Wood</td>\n",
       "      <td>1895-01-01</td>\n",
       "      <td>NaN</td>\n",
       "      <td>NaN</td>\n",
       "      <td>1</td>\n",
       "      <td>12.0</td>\n",
       "    </tr>\n",
       "    <tr>\n",
       "      <th>2</th>\n",
       "      <td>Switchback Railway (Euclid Beach Park)</td>\n",
       "      <td>Cleveland, Ohio, United States</td>\n",
       "      <td>Discontinued</td>\n",
       "      <td>Unknown</td>\n",
       "      <td>1896</td>\n",
       "      <td>41.5800</td>\n",
       "      <td>-81.5700</td>\n",
       "      <td>Other</td>\n",
       "      <td>NaT</td>\n",
       "      <td>NaN</td>\n",
       "      <td>NaN</td>\n",
       "      <td>0</td>\n",
       "      <td>NaN</td>\n",
       "    </tr>\n",
       "    <tr>\n",
       "      <th>3</th>\n",
       "      <td>Loop the Loop (Coney Island)</td>\n",
       "      <td>Other</td>\n",
       "      <td>Discontinued</td>\n",
       "      <td>Edwin Prescott</td>\n",
       "      <td>1901</td>\n",
       "      <td>40.5745</td>\n",
       "      <td>-73.9780</td>\n",
       "      <td>Steel</td>\n",
       "      <td>1901-01-01</td>\n",
       "      <td>NaN</td>\n",
       "      <td>NaN</td>\n",
       "      <td>1</td>\n",
       "      <td>NaN</td>\n",
       "    </tr>\n",
       "    <tr>\n",
       "      <th>4</th>\n",
       "      <td>Loop the Loop (Young's Pier)</td>\n",
       "      <td>Other</td>\n",
       "      <td>Discontinued</td>\n",
       "      <td>Edwin Prescott</td>\n",
       "      <td>1901</td>\n",
       "      <td>39.3538</td>\n",
       "      <td>-74.4342</td>\n",
       "      <td>Steel</td>\n",
       "      <td>1901-01-01</td>\n",
       "      <td>NaN</td>\n",
       "      <td>NaN</td>\n",
       "      <td>1</td>\n",
       "      <td>NaN</td>\n",
       "    </tr>\n",
       "  </tbody>\n",
       "</table>\n",
       "</div>"
      ],
      "text/plain": [
       "                             Coaster_name                        Location  \\\n",
       "0                      Switchback Railway                    Coney Island   \n",
       "1                       Flip Flap Railway                   Sea Lion Park   \n",
       "2  Switchback Railway (Euclid Beach Park)  Cleveland, Ohio, United States   \n",
       "3            Loop the Loop (Coney Island)                           Other   \n",
       "4            Loop the Loop (Young's Pier)                           Other   \n",
       "\n",
       "         Status            Manufacturer  Year_Introduced  Latitude  Longitude  \\\n",
       "0  Discontinued  LaMarcus Adna Thompson             1884   40.5740   -73.9780   \n",
       "1  Discontinued            Lina Beecher             1895   40.5780   -73.9790   \n",
       "2  Discontinued                 Unknown             1896   41.5800   -81.5700   \n",
       "3  Discontinued          Edwin Prescott             1901   40.5745   -73.9780   \n",
       "4  Discontinued          Edwin Prescott             1901   39.3538   -74.4342   \n",
       "\n",
       "  Type_Main Opening_date  Speed_mph  Height_ft  Inversions  Gforce  \n",
       "0      Wood   1884-06-16        6.0        NaN           0     2.9  \n",
       "1      Wood   1895-01-01        NaN        NaN           1    12.0  \n",
       "2     Other          NaT        NaN        NaN           0     NaN  \n",
       "3     Steel   1901-01-01        NaN        NaN           1     NaN  \n",
       "4     Steel   1901-01-01        NaN        NaN           1     NaN  "
      ]
     },
     "execution_count": 42,
     "metadata": {},
     "output_type": "execute_result"
    }
   ],
   "source": [
    "df.head()"
   ]
  },
  {
   "cell_type": "code",
   "execution_count": 43,
   "id": "50ec7c68-5324-45dd-86eb-06b681fe7c96",
   "metadata": {
    "tags": []
   },
   "outputs": [
    {
     "data": {
      "text/html": [
       "<div>\n",
       "<style scoped>\n",
       "    .dataframe tbody tr th:only-of-type {\n",
       "        vertical-align: middle;\n",
       "    }\n",
       "\n",
       "    .dataframe tbody tr th {\n",
       "        vertical-align: top;\n",
       "    }\n",
       "\n",
       "    .dataframe thead th {\n",
       "        text-align: right;\n",
       "    }\n",
       "</style>\n",
       "<table border=\"1\" class=\"dataframe\">\n",
       "  <thead>\n",
       "    <tr style=\"text-align: right;\">\n",
       "      <th></th>\n",
       "      <th>Missing_value_counts</th>\n",
       "      <th>% of Total Values</th>\n",
       "    </tr>\n",
       "  </thead>\n",
       "  <tbody>\n",
       "    <tr>\n",
       "      <th>Coaster_name</th>\n",
       "      <td>0</td>\n",
       "      <td>0.000000</td>\n",
       "    </tr>\n",
       "    <tr>\n",
       "      <th>Location</th>\n",
       "      <td>0</td>\n",
       "      <td>0.000000</td>\n",
       "    </tr>\n",
       "    <tr>\n",
       "      <th>Status</th>\n",
       "      <td>0</td>\n",
       "      <td>0.000000</td>\n",
       "    </tr>\n",
       "    <tr>\n",
       "      <th>Manufacturer</th>\n",
       "      <td>0</td>\n",
       "      <td>0.000000</td>\n",
       "    </tr>\n",
       "    <tr>\n",
       "      <th>Year_Introduced</th>\n",
       "      <td>0</td>\n",
       "      <td>0.000000</td>\n",
       "    </tr>\n",
       "    <tr>\n",
       "      <th>Latitude</th>\n",
       "      <td>78</td>\n",
       "      <td>9.241706</td>\n",
       "    </tr>\n",
       "    <tr>\n",
       "      <th>Longitude</th>\n",
       "      <td>78</td>\n",
       "      <td>9.241706</td>\n",
       "    </tr>\n",
       "    <tr>\n",
       "      <th>Type_Main</th>\n",
       "      <td>0</td>\n",
       "      <td>0.000000</td>\n",
       "    </tr>\n",
       "    <tr>\n",
       "      <th>Opening_date</th>\n",
       "      <td>44</td>\n",
       "      <td>5.213270</td>\n",
       "    </tr>\n",
       "    <tr>\n",
       "      <th>Speed_mph</th>\n",
       "      <td>117</td>\n",
       "      <td>13.862559</td>\n",
       "    </tr>\n",
       "    <tr>\n",
       "      <th>Height_ft</th>\n",
       "      <td>694</td>\n",
       "      <td>82.227488</td>\n",
       "    </tr>\n",
       "    <tr>\n",
       "      <th>Inversions</th>\n",
       "      <td>0</td>\n",
       "      <td>0.000000</td>\n",
       "    </tr>\n",
       "    <tr>\n",
       "      <th>Gforce</th>\n",
       "      <td>569</td>\n",
       "      <td>67.417062</td>\n",
       "    </tr>\n",
       "  </tbody>\n",
       "</table>\n",
       "</div>"
      ],
      "text/plain": [
       "                 Missing_value_counts  % of Total Values\n",
       "Coaster_name                        0           0.000000\n",
       "Location                            0           0.000000\n",
       "Status                              0           0.000000\n",
       "Manufacturer                        0           0.000000\n",
       "Year_Introduced                     0           0.000000\n",
       "Latitude                           78           9.241706\n",
       "Longitude                          78           9.241706\n",
       "Type_Main                           0           0.000000\n",
       "Opening_date                       44           5.213270\n",
       "Speed_mph                         117          13.862559\n",
       "Height_ft                         694          82.227488\n",
       "Inversions                          0           0.000000\n",
       "Gforce                            569          67.417062"
      ]
     },
     "execution_count": 43,
     "metadata": {},
     "output_type": "execute_result"
    }
   ],
   "source": [
    "missing_value_table(df)"
   ]
  },
  {
   "cell_type": "code",
   "execution_count": null,
   "id": "1dc3aa9c-2d8c-46dd-bd16-b9c479d417b8",
   "metadata": {
    "jupyter": {
     "source_hidden": true
    },
    "tags": []
   },
   "outputs": [],
   "source": []
  },
  {
   "cell_type": "markdown",
   "id": "62afb99d-1348-444f-85a0-bff5c551a764",
   "metadata": {
    "tags": []
   },
   "source": [
    "### Latitute and Longtitude"
   ]
  },
  {
   "cell_type": "code",
   "execution_count": 44,
   "id": "221f4819-7125-4685-a37d-b866d4584339",
   "metadata": {
    "tags": []
   },
   "outputs": [
    {
     "data": {
      "text/html": [
       "<div>\n",
       "<style scoped>\n",
       "    .dataframe tbody tr th:only-of-type {\n",
       "        vertical-align: middle;\n",
       "    }\n",
       "\n",
       "    .dataframe tbody tr th {\n",
       "        vertical-align: top;\n",
       "    }\n",
       "\n",
       "    .dataframe thead th {\n",
       "        text-align: right;\n",
       "    }\n",
       "</style>\n",
       "<table border=\"1\" class=\"dataframe\">\n",
       "  <thead>\n",
       "    <tr style=\"text-align: right;\">\n",
       "      <th></th>\n",
       "      <th>Coaster_name</th>\n",
       "      <th>Location</th>\n",
       "      <th>Status</th>\n",
       "      <th>Manufacturer</th>\n",
       "      <th>Year_Introduced</th>\n",
       "      <th>Latitude</th>\n",
       "      <th>Longitude</th>\n",
       "      <th>Type_Main</th>\n",
       "      <th>Opening_date</th>\n",
       "      <th>Speed_mph</th>\n",
       "      <th>Height_ft</th>\n",
       "      <th>Inversions</th>\n",
       "      <th>Gforce</th>\n",
       "    </tr>\n",
       "  </thead>\n",
       "  <tbody>\n",
       "    <tr>\n",
       "      <th>6</th>\n",
       "      <td>Leap-The-Dips</td>\n",
       "      <td>Lakemont Park</td>\n",
       "      <td>Operating</td>\n",
       "      <td>Federal Construction Company</td>\n",
       "      <td>1902</td>\n",
       "      <td>NaN</td>\n",
       "      <td>NaN</td>\n",
       "      <td>Wood</td>\n",
       "      <td>1902-01-01</td>\n",
       "      <td>10.0</td>\n",
       "      <td>NaN</td>\n",
       "      <td>0</td>\n",
       "      <td>NaN</td>\n",
       "    </tr>\n",
       "    <tr>\n",
       "      <th>15</th>\n",
       "      <td>The Great Scenic Railway</td>\n",
       "      <td>Luna Park Melbourne</td>\n",
       "      <td>Operating</td>\n",
       "      <td>LaMarcus Thompson</td>\n",
       "      <td>1912</td>\n",
       "      <td>NaN</td>\n",
       "      <td>NaN</td>\n",
       "      <td>Wood</td>\n",
       "      <td>1912-12-01</td>\n",
       "      <td>37.3</td>\n",
       "      <td>52.5</td>\n",
       "      <td>0</td>\n",
       "      <td>NaN</td>\n",
       "    </tr>\n",
       "    <tr>\n",
       "      <th>35</th>\n",
       "      <td>Giant Dipper (Belmont Park)</td>\n",
       "      <td>Other</td>\n",
       "      <td>Operating</td>\n",
       "      <td>Frank Prior, Fredrick Church</td>\n",
       "      <td>1925</td>\n",
       "      <td>NaN</td>\n",
       "      <td>NaN</td>\n",
       "      <td>Wood</td>\n",
       "      <td>1925-07-04</td>\n",
       "      <td>48.0</td>\n",
       "      <td>NaN</td>\n",
       "      <td>0</td>\n",
       "      <td>NaN</td>\n",
       "    </tr>\n",
       "    <tr>\n",
       "      <th>74</th>\n",
       "      <td>Big Dipper (Camden Park)</td>\n",
       "      <td>Camden Park</td>\n",
       "      <td>Operating</td>\n",
       "      <td>National Amusement Devices</td>\n",
       "      <td>1958</td>\n",
       "      <td>NaN</td>\n",
       "      <td>NaN</td>\n",
       "      <td>Other</td>\n",
       "      <td>1958-01-01</td>\n",
       "      <td>NaN</td>\n",
       "      <td>NaN</td>\n",
       "      <td>0</td>\n",
       "      <td>NaN</td>\n",
       "    </tr>\n",
       "    <tr>\n",
       "      <th>77</th>\n",
       "      <td>Matterhorn Bobsleds</td>\n",
       "      <td>Other</td>\n",
       "      <td>Operating</td>\n",
       "      <td>Arrow Development</td>\n",
       "      <td>1959</td>\n",
       "      <td>NaN</td>\n",
       "      <td>NaN</td>\n",
       "      <td>Steel</td>\n",
       "      <td>1959-06-14</td>\n",
       "      <td>27.0</td>\n",
       "      <td>NaN</td>\n",
       "      <td>0</td>\n",
       "      <td>NaN</td>\n",
       "    </tr>\n",
       "  </tbody>\n",
       "</table>\n",
       "</div>"
      ],
      "text/plain": [
       "                   Coaster_name             Location     Status  \\\n",
       "6                 Leap-The-Dips        Lakemont Park  Operating   \n",
       "15     The Great Scenic Railway  Luna Park Melbourne  Operating   \n",
       "35  Giant Dipper (Belmont Park)                Other  Operating   \n",
       "74     Big Dipper (Camden Park)          Camden Park  Operating   \n",
       "77          Matterhorn Bobsleds                Other  Operating   \n",
       "\n",
       "                    Manufacturer  Year_Introduced  Latitude  Longitude  \\\n",
       "6   Federal Construction Company             1902       NaN        NaN   \n",
       "15             LaMarcus Thompson             1912       NaN        NaN   \n",
       "35  Frank Prior, Fredrick Church             1925       NaN        NaN   \n",
       "74    National Amusement Devices             1958       NaN        NaN   \n",
       "77             Arrow Development             1959       NaN        NaN   \n",
       "\n",
       "   Type_Main Opening_date  Speed_mph  Height_ft  Inversions  Gforce  \n",
       "6       Wood   1902-01-01       10.0        NaN           0     NaN  \n",
       "15      Wood   1912-12-01       37.3       52.5           0     NaN  \n",
       "35      Wood   1925-07-04       48.0        NaN           0     NaN  \n",
       "74     Other   1958-01-01        NaN        NaN           0     NaN  \n",
       "77     Steel   1959-06-14       27.0        NaN           0     NaN  "
      ]
     },
     "execution_count": 44,
     "metadata": {},
     "output_type": "execute_result"
    }
   ],
   "source": [
    "df.loc[df['Latitude'].isnull() & df['Longitude'].isnull()].head()\n"
   ]
  },
  {
   "cell_type": "code",
   "execution_count": 45,
   "id": "ee334523-685a-4b08-8a5b-3bffabd7a8ef",
   "metadata": {
    "tags": []
   },
   "outputs": [
    {
     "data": {
      "text/html": [
       "<div>\n",
       "<style scoped>\n",
       "    .dataframe tbody tr th:only-of-type {\n",
       "        vertical-align: middle;\n",
       "    }\n",
       "\n",
       "    .dataframe tbody tr th {\n",
       "        vertical-align: top;\n",
       "    }\n",
       "\n",
       "    .dataframe thead th {\n",
       "        text-align: right;\n",
       "    }\n",
       "</style>\n",
       "<table border=\"1\" class=\"dataframe\">\n",
       "  <thead>\n",
       "    <tr style=\"text-align: right;\">\n",
       "      <th></th>\n",
       "      <th>Coaster_name</th>\n",
       "      <th>Location</th>\n",
       "      <th>Status</th>\n",
       "      <th>Manufacturer</th>\n",
       "      <th>Year_Introduced</th>\n",
       "      <th>Latitude</th>\n",
       "      <th>Longitude</th>\n",
       "      <th>Type_Main</th>\n",
       "      <th>Opening_date</th>\n",
       "      <th>Speed_mph</th>\n",
       "      <th>Height_ft</th>\n",
       "      <th>Inversions</th>\n",
       "      <th>Gforce</th>\n",
       "    </tr>\n",
       "  </thead>\n",
       "  <tbody>\n",
       "    <tr>\n",
       "      <th>6</th>\n",
       "      <td>Leap-The-Dips</td>\n",
       "      <td>Lakemont Park</td>\n",
       "      <td>Operating</td>\n",
       "      <td>Federal Construction Company</td>\n",
       "      <td>1902</td>\n",
       "      <td>NaN</td>\n",
       "      <td>NaN</td>\n",
       "      <td>Wood</td>\n",
       "      <td>1902-01-01</td>\n",
       "      <td>10.0</td>\n",
       "      <td>NaN</td>\n",
       "      <td>0</td>\n",
       "      <td>NaN</td>\n",
       "    </tr>\n",
       "    <tr>\n",
       "      <th>15</th>\n",
       "      <td>The Great Scenic Railway</td>\n",
       "      <td>Luna Park Melbourne</td>\n",
       "      <td>Operating</td>\n",
       "      <td>LaMarcus Thompson</td>\n",
       "      <td>1912</td>\n",
       "      <td>NaN</td>\n",
       "      <td>NaN</td>\n",
       "      <td>Wood</td>\n",
       "      <td>1912-12-01</td>\n",
       "      <td>37.3</td>\n",
       "      <td>52.5</td>\n",
       "      <td>0</td>\n",
       "      <td>NaN</td>\n",
       "    </tr>\n",
       "    <tr>\n",
       "      <th>35</th>\n",
       "      <td>Giant Dipper (Belmont Park)</td>\n",
       "      <td>Other</td>\n",
       "      <td>Operating</td>\n",
       "      <td>Frank Prior, Fredrick Church</td>\n",
       "      <td>1925</td>\n",
       "      <td>NaN</td>\n",
       "      <td>NaN</td>\n",
       "      <td>Wood</td>\n",
       "      <td>1925-07-04</td>\n",
       "      <td>48.0</td>\n",
       "      <td>NaN</td>\n",
       "      <td>0</td>\n",
       "      <td>NaN</td>\n",
       "    </tr>\n",
       "    <tr>\n",
       "      <th>74</th>\n",
       "      <td>Big Dipper (Camden Park)</td>\n",
       "      <td>Camden Park</td>\n",
       "      <td>Operating</td>\n",
       "      <td>National Amusement Devices</td>\n",
       "      <td>1958</td>\n",
       "      <td>NaN</td>\n",
       "      <td>NaN</td>\n",
       "      <td>Other</td>\n",
       "      <td>1958-01-01</td>\n",
       "      <td>NaN</td>\n",
       "      <td>NaN</td>\n",
       "      <td>0</td>\n",
       "      <td>NaN</td>\n",
       "    </tr>\n",
       "    <tr>\n",
       "      <th>77</th>\n",
       "      <td>Matterhorn Bobsleds</td>\n",
       "      <td>Other</td>\n",
       "      <td>Operating</td>\n",
       "      <td>Arrow Development</td>\n",
       "      <td>1959</td>\n",
       "      <td>NaN</td>\n",
       "      <td>NaN</td>\n",
       "      <td>Steel</td>\n",
       "      <td>1959-06-14</td>\n",
       "      <td>27.0</td>\n",
       "      <td>NaN</td>\n",
       "      <td>0</td>\n",
       "      <td>NaN</td>\n",
       "    </tr>\n",
       "  </tbody>\n",
       "</table>\n",
       "</div>"
      ],
      "text/plain": [
       "                   Coaster_name             Location     Status  \\\n",
       "6                 Leap-The-Dips        Lakemont Park  Operating   \n",
       "15     The Great Scenic Railway  Luna Park Melbourne  Operating   \n",
       "35  Giant Dipper (Belmont Park)                Other  Operating   \n",
       "74     Big Dipper (Camden Park)          Camden Park  Operating   \n",
       "77          Matterhorn Bobsleds                Other  Operating   \n",
       "\n",
       "                    Manufacturer  Year_Introduced  Latitude  Longitude  \\\n",
       "6   Federal Construction Company             1902       NaN        NaN   \n",
       "15             LaMarcus Thompson             1912       NaN        NaN   \n",
       "35  Frank Prior, Fredrick Church             1925       NaN        NaN   \n",
       "74    National Amusement Devices             1958       NaN        NaN   \n",
       "77             Arrow Development             1959       NaN        NaN   \n",
       "\n",
       "   Type_Main Opening_date  Speed_mph  Height_ft  Inversions  Gforce  \n",
       "6       Wood   1902-01-01       10.0        NaN           0     NaN  \n",
       "15      Wood   1912-12-01       37.3       52.5           0     NaN  \n",
       "35      Wood   1925-07-04       48.0        NaN           0     NaN  \n",
       "74     Other   1958-01-01        NaN        NaN           0     NaN  \n",
       "77     Steel   1959-06-14       27.0        NaN           0     NaN  "
      ]
     },
     "execution_count": 45,
     "metadata": {},
     "output_type": "execute_result"
    }
   ],
   "source": [
    "df.loc[df['Latitude'].isnull() & df['Longitude'].isnull()].head()\n"
   ]
  },
  {
   "cell_type": "markdown",
   "id": "482b63af-5397-4e7b-a908-68ff191fae4e",
   "metadata": {},
   "source": [
    "- let's do a small test, how does deleting the records with longtitude and latitude that is null"
   ]
  },
  {
   "cell_type": "code",
   "execution_count": 46,
   "id": "f2fb67d5-f5ac-4d27-972f-edcbdf3ad431",
   "metadata": {
    "tags": []
   },
   "outputs": [
    {
     "data": {
      "text/html": [
       "<div>\n",
       "<style scoped>\n",
       "    .dataframe tbody tr th:only-of-type {\n",
       "        vertical-align: middle;\n",
       "    }\n",
       "\n",
       "    .dataframe tbody tr th {\n",
       "        vertical-align: top;\n",
       "    }\n",
       "\n",
       "    .dataframe thead th {\n",
       "        text-align: right;\n",
       "    }\n",
       "</style>\n",
       "<table border=\"1\" class=\"dataframe\">\n",
       "  <thead>\n",
       "    <tr style=\"text-align: right;\">\n",
       "      <th></th>\n",
       "      <th>Missing_value_counts</th>\n",
       "      <th>% of Total Values</th>\n",
       "    </tr>\n",
       "  </thead>\n",
       "  <tbody>\n",
       "    <tr>\n",
       "      <th>Coaster_name</th>\n",
       "      <td>0</td>\n",
       "      <td>0.000000</td>\n",
       "    </tr>\n",
       "    <tr>\n",
       "      <th>Location</th>\n",
       "      <td>0</td>\n",
       "      <td>0.000000</td>\n",
       "    </tr>\n",
       "    <tr>\n",
       "      <th>Status</th>\n",
       "      <td>0</td>\n",
       "      <td>0.000000</td>\n",
       "    </tr>\n",
       "    <tr>\n",
       "      <th>Manufacturer</th>\n",
       "      <td>0</td>\n",
       "      <td>0.000000</td>\n",
       "    </tr>\n",
       "    <tr>\n",
       "      <th>Year_Introduced</th>\n",
       "      <td>0</td>\n",
       "      <td>0.000000</td>\n",
       "    </tr>\n",
       "    <tr>\n",
       "      <th>Latitude</th>\n",
       "      <td>78</td>\n",
       "      <td>9.241706</td>\n",
       "    </tr>\n",
       "    <tr>\n",
       "      <th>Longitude</th>\n",
       "      <td>78</td>\n",
       "      <td>9.241706</td>\n",
       "    </tr>\n",
       "    <tr>\n",
       "      <th>Type_Main</th>\n",
       "      <td>0</td>\n",
       "      <td>0.000000</td>\n",
       "    </tr>\n",
       "    <tr>\n",
       "      <th>Opening_date</th>\n",
       "      <td>44</td>\n",
       "      <td>5.213270</td>\n",
       "    </tr>\n",
       "    <tr>\n",
       "      <th>Speed_mph</th>\n",
       "      <td>117</td>\n",
       "      <td>13.862559</td>\n",
       "    </tr>\n",
       "    <tr>\n",
       "      <th>Height_ft</th>\n",
       "      <td>694</td>\n",
       "      <td>82.227488</td>\n",
       "    </tr>\n",
       "    <tr>\n",
       "      <th>Inversions</th>\n",
       "      <td>0</td>\n",
       "      <td>0.000000</td>\n",
       "    </tr>\n",
       "    <tr>\n",
       "      <th>Gforce</th>\n",
       "      <td>569</td>\n",
       "      <td>67.417062</td>\n",
       "    </tr>\n",
       "  </tbody>\n",
       "</table>\n",
       "</div>"
      ],
      "text/plain": [
       "                 Missing_value_counts  % of Total Values\n",
       "Coaster_name                        0           0.000000\n",
       "Location                            0           0.000000\n",
       "Status                              0           0.000000\n",
       "Manufacturer                        0           0.000000\n",
       "Year_Introduced                     0           0.000000\n",
       "Latitude                           78           9.241706\n",
       "Longitude                          78           9.241706\n",
       "Type_Main                           0           0.000000\n",
       "Opening_date                       44           5.213270\n",
       "Speed_mph                         117          13.862559\n",
       "Height_ft                         694          82.227488\n",
       "Inversions                          0           0.000000\n",
       "Gforce                            569          67.417062"
      ]
     },
     "execution_count": 46,
     "metadata": {},
     "output_type": "execute_result"
    }
   ],
   "source": [
    "missing_value_table(df)"
   ]
  },
  {
   "cell_type": "code",
   "execution_count": 47,
   "id": "94ebcda2-852f-4cc3-a6be-977fb3a9c498",
   "metadata": {
    "tags": []
   },
   "outputs": [],
   "source": [
    "testing_df = df.copy()"
   ]
  },
  {
   "cell_type": "code",
   "execution_count": 48,
   "id": "fa97cc8d-b5b9-418d-8dbd-93673728c853",
   "metadata": {
    "tags": []
   },
   "outputs": [],
   "source": [
    "testing_df.dropna(subset = ['Latitude','Longitude'] , inplace=True)"
   ]
  },
  {
   "cell_type": "code",
   "execution_count": 49,
   "id": "60828d8b-82e2-40c6-8ad7-5cb3770cb4c8",
   "metadata": {
    "tags": []
   },
   "outputs": [
    {
     "data": {
      "text/html": [
       "<div>\n",
       "<style scoped>\n",
       "    .dataframe tbody tr th:only-of-type {\n",
       "        vertical-align: middle;\n",
       "    }\n",
       "\n",
       "    .dataframe tbody tr th {\n",
       "        vertical-align: top;\n",
       "    }\n",
       "\n",
       "    .dataframe thead th {\n",
       "        text-align: right;\n",
       "    }\n",
       "</style>\n",
       "<table border=\"1\" class=\"dataframe\">\n",
       "  <thead>\n",
       "    <tr style=\"text-align: right;\">\n",
       "      <th></th>\n",
       "      <th>Missing_value_counts</th>\n",
       "      <th>% of Total Values</th>\n",
       "    </tr>\n",
       "  </thead>\n",
       "  <tbody>\n",
       "    <tr>\n",
       "      <th>Coaster_name</th>\n",
       "      <td>0</td>\n",
       "      <td>0.000000</td>\n",
       "    </tr>\n",
       "    <tr>\n",
       "      <th>Location</th>\n",
       "      <td>0</td>\n",
       "      <td>0.000000</td>\n",
       "    </tr>\n",
       "    <tr>\n",
       "      <th>Status</th>\n",
       "      <td>0</td>\n",
       "      <td>0.000000</td>\n",
       "    </tr>\n",
       "    <tr>\n",
       "      <th>Manufacturer</th>\n",
       "      <td>0</td>\n",
       "      <td>0.000000</td>\n",
       "    </tr>\n",
       "    <tr>\n",
       "      <th>Year_Introduced</th>\n",
       "      <td>0</td>\n",
       "      <td>0.000000</td>\n",
       "    </tr>\n",
       "    <tr>\n",
       "      <th>Latitude</th>\n",
       "      <td>0</td>\n",
       "      <td>0.000000</td>\n",
       "    </tr>\n",
       "    <tr>\n",
       "      <th>Longitude</th>\n",
       "      <td>0</td>\n",
       "      <td>0.000000</td>\n",
       "    </tr>\n",
       "    <tr>\n",
       "      <th>Type_Main</th>\n",
       "      <td>0</td>\n",
       "      <td>0.000000</td>\n",
       "    </tr>\n",
       "    <tr>\n",
       "      <th>Opening_date</th>\n",
       "      <td>22</td>\n",
       "      <td>2.872063</td>\n",
       "    </tr>\n",
       "    <tr>\n",
       "      <th>Speed_mph</th>\n",
       "      <td>100</td>\n",
       "      <td>13.054830</td>\n",
       "    </tr>\n",
       "    <tr>\n",
       "      <th>Height_ft</th>\n",
       "      <td>628</td>\n",
       "      <td>81.984334</td>\n",
       "    </tr>\n",
       "    <tr>\n",
       "      <th>Inversions</th>\n",
       "      <td>0</td>\n",
       "      <td>0.000000</td>\n",
       "    </tr>\n",
       "    <tr>\n",
       "      <th>Gforce</th>\n",
       "      <td>507</td>\n",
       "      <td>66.187990</td>\n",
       "    </tr>\n",
       "  </tbody>\n",
       "</table>\n",
       "</div>"
      ],
      "text/plain": [
       "                 Missing_value_counts  % of Total Values\n",
       "Coaster_name                        0           0.000000\n",
       "Location                            0           0.000000\n",
       "Status                              0           0.000000\n",
       "Manufacturer                        0           0.000000\n",
       "Year_Introduced                     0           0.000000\n",
       "Latitude                            0           0.000000\n",
       "Longitude                           0           0.000000\n",
       "Type_Main                           0           0.000000\n",
       "Opening_date                       22           2.872063\n",
       "Speed_mph                         100          13.054830\n",
       "Height_ft                         628          81.984334\n",
       "Inversions                          0           0.000000\n",
       "Gforce                            507          66.187990"
      ]
     },
     "execution_count": 49,
     "metadata": {},
     "output_type": "execute_result"
    }
   ],
   "source": [
    "missing_value_table(testing_df)"
   ]
  },
  {
   "cell_type": "code",
   "execution_count": 50,
   "id": "707ef4ba-4130-40f7-9580-57e343c5ea1b",
   "metadata": {
    "tags": []
   },
   "outputs": [
    {
     "name": "stdout",
     "output_type": "stream",
     "text": [
      "<class 'pandas.core.frame.DataFrame'>\n",
      "Int64Index: 766 entries, 0 to 987\n",
      "Data columns (total 13 columns):\n",
      " #   Column           Non-Null Count  Dtype         \n",
      "---  ------           --------------  -----         \n",
      " 0   Coaster_name     766 non-null    object        \n",
      " 1   Location         766 non-null    object        \n",
      " 2   Status           766 non-null    object        \n",
      " 3   Manufacturer     766 non-null    object        \n",
      " 4   Year_Introduced  766 non-null    int64         \n",
      " 5   Latitude         766 non-null    float64       \n",
      " 6   Longitude        766 non-null    float64       \n",
      " 7   Type_Main        766 non-null    object        \n",
      " 8   Opening_date     744 non-null    datetime64[ns]\n",
      " 9   Speed_mph        666 non-null    float64       \n",
      " 10  Height_ft        138 non-null    float64       \n",
      " 11  Inversions       766 non-null    int64         \n",
      " 12  Gforce           259 non-null    float64       \n",
      "dtypes: datetime64[ns](1), float64(5), int64(2), object(5)\n",
      "memory usage: 83.8+ KB\n"
     ]
    }
   ],
   "source": [
    "testing_df.info()"
   ]
  },
  {
   "cell_type": "markdown",
   "id": "619ccc0b-5d6a-4da9-82b4-c9db8b478489",
   "metadata": {
    "tags": []
   },
   "source": [
    "- from the results above, we will include longtitude and latitude that are null, since deletion of it won't change te result much\n",
    "- too many deletion can leads to information lost\n",
    "- it's better to leave it as null, rather than giving fake longtitude and latitude that hinders the real location"
   ]
  },
  {
   "cell_type": "code",
   "execution_count": null,
   "id": "0dc7187a-7539-4590-99ad-2da9cd166550",
   "metadata": {
    "jupyter": {
     "source_hidden": true
    },
    "tags": []
   },
   "outputs": [],
   "source": []
  },
  {
   "cell_type": "markdown",
   "id": "8d6a4cd1-b43d-49b0-adf5-dbadb3cf894a",
   "metadata": {
    "tags": []
   },
   "source": [
    "#### Opening Date"
   ]
  },
  {
   "cell_type": "code",
   "execution_count": 51,
   "id": "42210e63-7f92-4737-a448-e532e0858712",
   "metadata": {
    "tags": []
   },
   "outputs": [
    {
     "data": {
      "text/html": [
       "<div>\n",
       "<style scoped>\n",
       "    .dataframe tbody tr th:only-of-type {\n",
       "        vertical-align: middle;\n",
       "    }\n",
       "\n",
       "    .dataframe tbody tr th {\n",
       "        vertical-align: top;\n",
       "    }\n",
       "\n",
       "    .dataframe thead th {\n",
       "        text-align: right;\n",
       "    }\n",
       "</style>\n",
       "<table border=\"1\" class=\"dataframe\">\n",
       "  <thead>\n",
       "    <tr style=\"text-align: right;\">\n",
       "      <th></th>\n",
       "      <th>Coaster_name</th>\n",
       "      <th>Location</th>\n",
       "      <th>Status</th>\n",
       "      <th>Manufacturer</th>\n",
       "      <th>Year_Introduced</th>\n",
       "      <th>Latitude</th>\n",
       "      <th>Longitude</th>\n",
       "      <th>Type_Main</th>\n",
       "      <th>Opening_date</th>\n",
       "      <th>Speed_mph</th>\n",
       "      <th>Height_ft</th>\n",
       "      <th>Inversions</th>\n",
       "      <th>Gforce</th>\n",
       "    </tr>\n",
       "  </thead>\n",
       "  <tbody>\n",
       "    <tr>\n",
       "      <th>0</th>\n",
       "      <td>Switchback Railway</td>\n",
       "      <td>Coney Island</td>\n",
       "      <td>Discontinued</td>\n",
       "      <td>LaMarcus Adna Thompson</td>\n",
       "      <td>1884</td>\n",
       "      <td>40.5740</td>\n",
       "      <td>-73.9780</td>\n",
       "      <td>Wood</td>\n",
       "      <td>1884-06-16</td>\n",
       "      <td>6.0</td>\n",
       "      <td>NaN</td>\n",
       "      <td>0</td>\n",
       "      <td>2.9</td>\n",
       "    </tr>\n",
       "    <tr>\n",
       "      <th>1</th>\n",
       "      <td>Flip Flap Railway</td>\n",
       "      <td>Sea Lion Park</td>\n",
       "      <td>Discontinued</td>\n",
       "      <td>Lina Beecher</td>\n",
       "      <td>1895</td>\n",
       "      <td>40.5780</td>\n",
       "      <td>-73.9790</td>\n",
       "      <td>Wood</td>\n",
       "      <td>1895-01-01</td>\n",
       "      <td>NaN</td>\n",
       "      <td>NaN</td>\n",
       "      <td>1</td>\n",
       "      <td>12.0</td>\n",
       "    </tr>\n",
       "    <tr>\n",
       "      <th>2</th>\n",
       "      <td>Switchback Railway (Euclid Beach Park)</td>\n",
       "      <td>Cleveland, Ohio, United States</td>\n",
       "      <td>Discontinued</td>\n",
       "      <td>Unknown</td>\n",
       "      <td>1896</td>\n",
       "      <td>41.5800</td>\n",
       "      <td>-81.5700</td>\n",
       "      <td>Other</td>\n",
       "      <td>NaT</td>\n",
       "      <td>NaN</td>\n",
       "      <td>NaN</td>\n",
       "      <td>0</td>\n",
       "      <td>NaN</td>\n",
       "    </tr>\n",
       "    <tr>\n",
       "      <th>3</th>\n",
       "      <td>Loop the Loop (Coney Island)</td>\n",
       "      <td>Other</td>\n",
       "      <td>Discontinued</td>\n",
       "      <td>Edwin Prescott</td>\n",
       "      <td>1901</td>\n",
       "      <td>40.5745</td>\n",
       "      <td>-73.9780</td>\n",
       "      <td>Steel</td>\n",
       "      <td>1901-01-01</td>\n",
       "      <td>NaN</td>\n",
       "      <td>NaN</td>\n",
       "      <td>1</td>\n",
       "      <td>NaN</td>\n",
       "    </tr>\n",
       "    <tr>\n",
       "      <th>4</th>\n",
       "      <td>Loop the Loop (Young's Pier)</td>\n",
       "      <td>Other</td>\n",
       "      <td>Discontinued</td>\n",
       "      <td>Edwin Prescott</td>\n",
       "      <td>1901</td>\n",
       "      <td>39.3538</td>\n",
       "      <td>-74.4342</td>\n",
       "      <td>Steel</td>\n",
       "      <td>1901-01-01</td>\n",
       "      <td>NaN</td>\n",
       "      <td>NaN</td>\n",
       "      <td>1</td>\n",
       "      <td>NaN</td>\n",
       "    </tr>\n",
       "  </tbody>\n",
       "</table>\n",
       "</div>"
      ],
      "text/plain": [
       "                             Coaster_name                        Location  \\\n",
       "0                      Switchback Railway                    Coney Island   \n",
       "1                       Flip Flap Railway                   Sea Lion Park   \n",
       "2  Switchback Railway (Euclid Beach Park)  Cleveland, Ohio, United States   \n",
       "3            Loop the Loop (Coney Island)                           Other   \n",
       "4            Loop the Loop (Young's Pier)                           Other   \n",
       "\n",
       "         Status            Manufacturer  Year_Introduced  Latitude  Longitude  \\\n",
       "0  Discontinued  LaMarcus Adna Thompson             1884   40.5740   -73.9780   \n",
       "1  Discontinued            Lina Beecher             1895   40.5780   -73.9790   \n",
       "2  Discontinued                 Unknown             1896   41.5800   -81.5700   \n",
       "3  Discontinued          Edwin Prescott             1901   40.5745   -73.9780   \n",
       "4  Discontinued          Edwin Prescott             1901   39.3538   -74.4342   \n",
       "\n",
       "  Type_Main Opening_date  Speed_mph  Height_ft  Inversions  Gforce  \n",
       "0      Wood   1884-06-16        6.0        NaN           0     2.9  \n",
       "1      Wood   1895-01-01        NaN        NaN           1    12.0  \n",
       "2     Other          NaT        NaN        NaN           0     NaN  \n",
       "3     Steel   1901-01-01        NaN        NaN           1     NaN  \n",
       "4     Steel   1901-01-01        NaN        NaN           1     NaN  "
      ]
     },
     "execution_count": 51,
     "metadata": {},
     "output_type": "execute_result"
    }
   ],
   "source": [
    "df.head(5)"
   ]
  },
  {
   "cell_type": "code",
   "execution_count": 52,
   "id": "1d54384c-8ede-4ae1-b813-96f947d058a4",
   "metadata": {
    "tags": []
   },
   "outputs": [
    {
     "data": {
      "text/html": [
       "<div>\n",
       "<style scoped>\n",
       "    .dataframe tbody tr th:only-of-type {\n",
       "        vertical-align: middle;\n",
       "    }\n",
       "\n",
       "    .dataframe tbody tr th {\n",
       "        vertical-align: top;\n",
       "    }\n",
       "\n",
       "    .dataframe thead th {\n",
       "        text-align: right;\n",
       "    }\n",
       "</style>\n",
       "<table border=\"1\" class=\"dataframe\">\n",
       "  <thead>\n",
       "    <tr style=\"text-align: right;\">\n",
       "      <th></th>\n",
       "      <th>Coaster_name</th>\n",
       "      <th>Location</th>\n",
       "      <th>Status</th>\n",
       "      <th>Manufacturer</th>\n",
       "      <th>Year_Introduced</th>\n",
       "      <th>Latitude</th>\n",
       "      <th>Longitude</th>\n",
       "      <th>Type_Main</th>\n",
       "      <th>Opening_date</th>\n",
       "      <th>Speed_mph</th>\n",
       "      <th>Height_ft</th>\n",
       "      <th>Inversions</th>\n",
       "      <th>Gforce</th>\n",
       "    </tr>\n",
       "  </thead>\n",
       "  <tbody>\n",
       "    <tr>\n",
       "      <th>772</th>\n",
       "      <td>Black Diamond (roller coaster)</td>\n",
       "      <td>Knoebels Amusement Resort</td>\n",
       "      <td>Operating</td>\n",
       "      <td>Philadelphia Toboggan Coasters</td>\n",
       "      <td>2011</td>\n",
       "      <td>40.8797</td>\n",
       "      <td>-76.5068</td>\n",
       "      <td>Steel</td>\n",
       "      <td>2011-10-08</td>\n",
       "      <td>NaN</td>\n",
       "      <td>NaN</td>\n",
       "      <td>0</td>\n",
       "      <td>NaN</td>\n",
       "    </tr>\n",
       "    <tr>\n",
       "      <th>773</th>\n",
       "      <td>Blue Flyer</td>\n",
       "      <td>Blackpool Pleasure Beach</td>\n",
       "      <td>Operating</td>\n",
       "      <td>Unknown</td>\n",
       "      <td>2011</td>\n",
       "      <td>53.7902</td>\n",
       "      <td>-3.0539</td>\n",
       "      <td>Other</td>\n",
       "      <td>1934-01-01</td>\n",
       "      <td>NaN</td>\n",
       "      <td>NaN</td>\n",
       "      <td>0</td>\n",
       "      <td>NaN</td>\n",
       "    </tr>\n",
       "    <tr>\n",
       "      <th>774</th>\n",
       "      <td>BomBora (Lagoon)</td>\n",
       "      <td>Lagoon</td>\n",
       "      <td>Operating</td>\n",
       "      <td>Lagoon</td>\n",
       "      <td>2011</td>\n",
       "      <td>40.9855</td>\n",
       "      <td>-111.8923</td>\n",
       "      <td>Steel</td>\n",
       "      <td>2011-04-02</td>\n",
       "      <td>31.0</td>\n",
       "      <td>NaN</td>\n",
       "      <td>0</td>\n",
       "      <td>NaN</td>\n",
       "    </tr>\n",
       "  </tbody>\n",
       "</table>\n",
       "</div>"
      ],
      "text/plain": [
       "                       Coaster_name                   Location     Status  \\\n",
       "772  Black Diamond (roller coaster)  Knoebels Amusement Resort  Operating   \n",
       "773                      Blue Flyer   Blackpool Pleasure Beach  Operating   \n",
       "774                BomBora (Lagoon)                     Lagoon  Operating   \n",
       "\n",
       "                       Manufacturer  Year_Introduced  Latitude  Longitude  \\\n",
       "772  Philadelphia Toboggan Coasters             2011   40.8797   -76.5068   \n",
       "773                         Unknown             2011   53.7902    -3.0539   \n",
       "774                          Lagoon             2011   40.9855  -111.8923   \n",
       "\n",
       "    Type_Main Opening_date  Speed_mph  Height_ft  Inversions  Gforce  \n",
       "772     Steel   2011-10-08        NaN        NaN           0     NaN  \n",
       "773     Other   1934-01-01        NaN        NaN           0     NaN  \n",
       "774     Steel   2011-04-02       31.0        NaN           0     NaN  "
      ]
     },
     "execution_count": 52,
     "metadata": {},
     "output_type": "execute_result"
    }
   ],
   "source": [
    "index_to_retrieve = 773\n",
    "\n",
    "indices_to_retrieve = [index_to_retrieve - 1, index_to_retrieve, index_to_retrieve + 1]\n",
    "\n",
    "selected_rows = df.loc[indices_to_retrieve]\n",
    "\n",
    "selected_rows"
   ]
  },
  {
   "cell_type": "markdown",
   "id": "f3f2370a-52d0-422c-bea2-346809aa7182",
   "metadata": {
    "tags": []
   },
   "source": [
    "### Year_Introduced\n",
    "#### Before filling up the null, let's check any discrepancy between the year of opening_date and year_introduced\n",
    "\n",
    "- in most cases, the year of opening date is always after or on the same year as the introduced year\n",
    "\n",
    "- Initial thoughts\n",
    "- with this dataset, let's check out any records where the year introduced is later than the opening date"
   ]
  },
  {
   "cell_type": "code",
   "execution_count": 53,
   "id": "7b850734-56b8-4a8d-8d0e-57f84037b8b6",
   "metadata": {
    "tags": []
   },
   "outputs": [
    {
     "data": {
      "text/plain": [
       "False    800\n",
       "True      44\n",
       "Name: Opening_date, dtype: int64"
      ]
     },
     "execution_count": 53,
     "metadata": {},
     "output_type": "execute_result"
    }
   ],
   "source": [
    "df['Opening_date'].isnull().value_counts()"
   ]
  },
  {
   "cell_type": "code",
   "execution_count": 54,
   "id": "fe60ef7e-c7ef-42a6-a630-3979886ba403",
   "metadata": {
    "tags": []
   },
   "outputs": [
    {
     "data": {
      "text/html": [
       "<div>\n",
       "<style scoped>\n",
       "    .dataframe tbody tr th:only-of-type {\n",
       "        vertical-align: middle;\n",
       "    }\n",
       "\n",
       "    .dataframe tbody tr th {\n",
       "        vertical-align: top;\n",
       "    }\n",
       "\n",
       "    .dataframe thead th {\n",
       "        text-align: right;\n",
       "    }\n",
       "</style>\n",
       "<table border=\"1\" class=\"dataframe\">\n",
       "  <thead>\n",
       "    <tr style=\"text-align: right;\">\n",
       "      <th></th>\n",
       "      <th>Coaster_name</th>\n",
       "      <th>Location</th>\n",
       "      <th>Status</th>\n",
       "      <th>Manufacturer</th>\n",
       "      <th>Year_Introduced</th>\n",
       "      <th>Latitude</th>\n",
       "      <th>Longitude</th>\n",
       "      <th>Type_Main</th>\n",
       "      <th>Opening_date</th>\n",
       "      <th>Speed_mph</th>\n",
       "      <th>Height_ft</th>\n",
       "      <th>Inversions</th>\n",
       "      <th>Gforce</th>\n",
       "    </tr>\n",
       "  </thead>\n",
       "  <tbody>\n",
       "    <tr>\n",
       "      <th>0</th>\n",
       "      <td>Switchback Railway</td>\n",
       "      <td>Coney Island</td>\n",
       "      <td>Discontinued</td>\n",
       "      <td>LaMarcus Adna Thompson</td>\n",
       "      <td>1884</td>\n",
       "      <td>40.5740</td>\n",
       "      <td>-73.9780</td>\n",
       "      <td>Wood</td>\n",
       "      <td>1884-06-16</td>\n",
       "      <td>6.0</td>\n",
       "      <td>NaN</td>\n",
       "      <td>0</td>\n",
       "      <td>2.9</td>\n",
       "    </tr>\n",
       "    <tr>\n",
       "      <th>1</th>\n",
       "      <td>Flip Flap Railway</td>\n",
       "      <td>Sea Lion Park</td>\n",
       "      <td>Discontinued</td>\n",
       "      <td>Lina Beecher</td>\n",
       "      <td>1895</td>\n",
       "      <td>40.5780</td>\n",
       "      <td>-73.9790</td>\n",
       "      <td>Wood</td>\n",
       "      <td>1895-01-01</td>\n",
       "      <td>NaN</td>\n",
       "      <td>NaN</td>\n",
       "      <td>1</td>\n",
       "      <td>12.0</td>\n",
       "    </tr>\n",
       "    <tr>\n",
       "      <th>2</th>\n",
       "      <td>Switchback Railway (Euclid Beach Park)</td>\n",
       "      <td>Cleveland, Ohio, United States</td>\n",
       "      <td>Discontinued</td>\n",
       "      <td>Unknown</td>\n",
       "      <td>1896</td>\n",
       "      <td>41.5800</td>\n",
       "      <td>-81.5700</td>\n",
       "      <td>Other</td>\n",
       "      <td>NaT</td>\n",
       "      <td>NaN</td>\n",
       "      <td>NaN</td>\n",
       "      <td>0</td>\n",
       "      <td>NaN</td>\n",
       "    </tr>\n",
       "    <tr>\n",
       "      <th>3</th>\n",
       "      <td>Loop the Loop (Coney Island)</td>\n",
       "      <td>Other</td>\n",
       "      <td>Discontinued</td>\n",
       "      <td>Edwin Prescott</td>\n",
       "      <td>1901</td>\n",
       "      <td>40.5745</td>\n",
       "      <td>-73.9780</td>\n",
       "      <td>Steel</td>\n",
       "      <td>1901-01-01</td>\n",
       "      <td>NaN</td>\n",
       "      <td>NaN</td>\n",
       "      <td>1</td>\n",
       "      <td>NaN</td>\n",
       "    </tr>\n",
       "    <tr>\n",
       "      <th>4</th>\n",
       "      <td>Loop the Loop (Young's Pier)</td>\n",
       "      <td>Other</td>\n",
       "      <td>Discontinued</td>\n",
       "      <td>Edwin Prescott</td>\n",
       "      <td>1901</td>\n",
       "      <td>39.3538</td>\n",
       "      <td>-74.4342</td>\n",
       "      <td>Steel</td>\n",
       "      <td>1901-01-01</td>\n",
       "      <td>NaN</td>\n",
       "      <td>NaN</td>\n",
       "      <td>1</td>\n",
       "      <td>NaN</td>\n",
       "    </tr>\n",
       "    <tr>\n",
       "      <th>5</th>\n",
       "      <td>Cannon Coaster</td>\n",
       "      <td>Coney Island</td>\n",
       "      <td>Discontinued</td>\n",
       "      <td>George Francis Meyer</td>\n",
       "      <td>1902</td>\n",
       "      <td>40.5750</td>\n",
       "      <td>-73.9800</td>\n",
       "      <td>Wood</td>\n",
       "      <td>1902-01-01</td>\n",
       "      <td>NaN</td>\n",
       "      <td>NaN</td>\n",
       "      <td>0</td>\n",
       "      <td>NaN</td>\n",
       "    </tr>\n",
       "    <tr>\n",
       "      <th>6</th>\n",
       "      <td>Leap-The-Dips</td>\n",
       "      <td>Lakemont Park</td>\n",
       "      <td>Operating</td>\n",
       "      <td>Federal Construction Company</td>\n",
       "      <td>1902</td>\n",
       "      <td>NaN</td>\n",
       "      <td>NaN</td>\n",
       "      <td>Wood</td>\n",
       "      <td>1902-01-01</td>\n",
       "      <td>10.0</td>\n",
       "      <td>NaN</td>\n",
       "      <td>0</td>\n",
       "      <td>NaN</td>\n",
       "    </tr>\n",
       "    <tr>\n",
       "      <th>7</th>\n",
       "      <td>Figure Eight (Euclid Beach Park)</td>\n",
       "      <td>Cleveland, Ohio, United States</td>\n",
       "      <td>Discontinued</td>\n",
       "      <td>Unknown</td>\n",
       "      <td>1904</td>\n",
       "      <td>41.5800</td>\n",
       "      <td>-81.5700</td>\n",
       "      <td>Other</td>\n",
       "      <td>NaT</td>\n",
       "      <td>NaN</td>\n",
       "      <td>NaN</td>\n",
       "      <td>0</td>\n",
       "      <td>NaN</td>\n",
       "    </tr>\n",
       "    <tr>\n",
       "      <th>8</th>\n",
       "      <td>Drop the Dip</td>\n",
       "      <td>Coney Island</td>\n",
       "      <td>Discontinued</td>\n",
       "      <td>Arthur Jarvis</td>\n",
       "      <td>1907</td>\n",
       "      <td>40.5744</td>\n",
       "      <td>-73.9786</td>\n",
       "      <td>Other</td>\n",
       "      <td>1907-06-06</td>\n",
       "      <td>NaN</td>\n",
       "      <td>NaN</td>\n",
       "      <td>0</td>\n",
       "      <td>NaN</td>\n",
       "    </tr>\n",
       "    <tr>\n",
       "      <th>9</th>\n",
       "      <td>Scenic Railway (Euclid Beach Park)</td>\n",
       "      <td>Cleveland, Ohio, United States</td>\n",
       "      <td>Discontinued</td>\n",
       "      <td>Unknown</td>\n",
       "      <td>1907</td>\n",
       "      <td>41.5800</td>\n",
       "      <td>-81.5700</td>\n",
       "      <td>Other</td>\n",
       "      <td>NaT</td>\n",
       "      <td>NaN</td>\n",
       "      <td>NaN</td>\n",
       "      <td>0</td>\n",
       "      <td>NaN</td>\n",
       "    </tr>\n",
       "    <tr>\n",
       "      <th>10</th>\n",
       "      <td>Loop the Loop (Olentangy Park)</td>\n",
       "      <td>Olentangy Park</td>\n",
       "      <td>Discontinued</td>\n",
       "      <td>Lina Beecher</td>\n",
       "      <td>1908</td>\n",
       "      <td>40.0204</td>\n",
       "      <td>-83.0143</td>\n",
       "      <td>Steel</td>\n",
       "      <td>1908-01-01</td>\n",
       "      <td>NaN</td>\n",
       "      <td>NaN</td>\n",
       "      <td>1</td>\n",
       "      <td>NaN</td>\n",
       "    </tr>\n",
       "    <tr>\n",
       "      <th>11</th>\n",
       "      <td>Aero Dips</td>\n",
       "      <td>Cleveland, Ohio, United States</td>\n",
       "      <td>Discontinued</td>\n",
       "      <td>Unknown</td>\n",
       "      <td>1909</td>\n",
       "      <td>41.5800</td>\n",
       "      <td>-81.5700</td>\n",
       "      <td>Other</td>\n",
       "      <td>NaT</td>\n",
       "      <td>NaN</td>\n",
       "      <td>NaN</td>\n",
       "      <td>0</td>\n",
       "      <td>NaN</td>\n",
       "    </tr>\n",
       "    <tr>\n",
       "      <th>12</th>\n",
       "      <td>Backety-Back Scenic Railway</td>\n",
       "      <td>Crystal Beach</td>\n",
       "      <td>Discontinued</td>\n",
       "      <td>Unknown</td>\n",
       "      <td>1909</td>\n",
       "      <td>42.8675</td>\n",
       "      <td>-79.0592</td>\n",
       "      <td>Wood</td>\n",
       "      <td>1909-01-01</td>\n",
       "      <td>10.0</td>\n",
       "      <td>NaN</td>\n",
       "      <td>0</td>\n",
       "      <td>NaN</td>\n",
       "    </tr>\n",
       "    <tr>\n",
       "      <th>13</th>\n",
       "      <td>Racer (1910 roller coaster)</td>\n",
       "      <td>Kennywood</td>\n",
       "      <td>Operating</td>\n",
       "      <td>Charlie Mach</td>\n",
       "      <td>1910</td>\n",
       "      <td>40.3869</td>\n",
       "      <td>-79.8619</td>\n",
       "      <td>Wood</td>\n",
       "      <td>1927-01-01</td>\n",
       "      <td>40.0</td>\n",
       "      <td>NaN</td>\n",
       "      <td>0</td>\n",
       "      <td>NaN</td>\n",
       "    </tr>\n",
       "    <tr>\n",
       "      <th>14</th>\n",
       "      <td>Derby Racer</td>\n",
       "      <td>Revere Beach</td>\n",
       "      <td>Discontinued</td>\n",
       "      <td>Fred W. Pearce</td>\n",
       "      <td>1911</td>\n",
       "      <td>42.4200</td>\n",
       "      <td>-70.9860</td>\n",
       "      <td>Wood</td>\n",
       "      <td>1911-01-01</td>\n",
       "      <td>NaN</td>\n",
       "      <td>NaN</td>\n",
       "      <td>0</td>\n",
       "      <td>NaN</td>\n",
       "    </tr>\n",
       "  </tbody>\n",
       "</table>\n",
       "</div>"
      ],
      "text/plain": [
       "                              Coaster_name                        Location  \\\n",
       "0                       Switchback Railway                    Coney Island   \n",
       "1                        Flip Flap Railway                   Sea Lion Park   \n",
       "2   Switchback Railway (Euclid Beach Park)  Cleveland, Ohio, United States   \n",
       "3             Loop the Loop (Coney Island)                           Other   \n",
       "4             Loop the Loop (Young's Pier)                           Other   \n",
       "5                           Cannon Coaster                    Coney Island   \n",
       "6                            Leap-The-Dips                   Lakemont Park   \n",
       "7         Figure Eight (Euclid Beach Park)  Cleveland, Ohio, United States   \n",
       "8                             Drop the Dip                    Coney Island   \n",
       "9       Scenic Railway (Euclid Beach Park)  Cleveland, Ohio, United States   \n",
       "10          Loop the Loop (Olentangy Park)                  Olentangy Park   \n",
       "11                               Aero Dips  Cleveland, Ohio, United States   \n",
       "12             Backety-Back Scenic Railway                   Crystal Beach   \n",
       "13             Racer (1910 roller coaster)                       Kennywood   \n",
       "14                             Derby Racer                    Revere Beach   \n",
       "\n",
       "          Status                  Manufacturer  Year_Introduced  Latitude  \\\n",
       "0   Discontinued        LaMarcus Adna Thompson             1884   40.5740   \n",
       "1   Discontinued                  Lina Beecher             1895   40.5780   \n",
       "2   Discontinued                       Unknown             1896   41.5800   \n",
       "3   Discontinued                Edwin Prescott             1901   40.5745   \n",
       "4   Discontinued                Edwin Prescott             1901   39.3538   \n",
       "5   Discontinued          George Francis Meyer             1902   40.5750   \n",
       "6      Operating  Federal Construction Company             1902       NaN   \n",
       "7   Discontinued                       Unknown             1904   41.5800   \n",
       "8   Discontinued                 Arthur Jarvis             1907   40.5744   \n",
       "9   Discontinued                       Unknown             1907   41.5800   \n",
       "10  Discontinued                  Lina Beecher             1908   40.0204   \n",
       "11  Discontinued                       Unknown             1909   41.5800   \n",
       "12  Discontinued                       Unknown             1909   42.8675   \n",
       "13     Operating                  Charlie Mach             1910   40.3869   \n",
       "14  Discontinued                Fred W. Pearce             1911   42.4200   \n",
       "\n",
       "    Longitude Type_Main Opening_date  Speed_mph  Height_ft  Inversions  Gforce  \n",
       "0    -73.9780      Wood   1884-06-16        6.0        NaN           0     2.9  \n",
       "1    -73.9790      Wood   1895-01-01        NaN        NaN           1    12.0  \n",
       "2    -81.5700     Other          NaT        NaN        NaN           0     NaN  \n",
       "3    -73.9780     Steel   1901-01-01        NaN        NaN           1     NaN  \n",
       "4    -74.4342     Steel   1901-01-01        NaN        NaN           1     NaN  \n",
       "5    -73.9800      Wood   1902-01-01        NaN        NaN           0     NaN  \n",
       "6         NaN      Wood   1902-01-01       10.0        NaN           0     NaN  \n",
       "7    -81.5700     Other          NaT        NaN        NaN           0     NaN  \n",
       "8    -73.9786     Other   1907-06-06        NaN        NaN           0     NaN  \n",
       "9    -81.5700     Other          NaT        NaN        NaN           0     NaN  \n",
       "10   -83.0143     Steel   1908-01-01        NaN        NaN           1     NaN  \n",
       "11   -81.5700     Other          NaT        NaN        NaN           0     NaN  \n",
       "12   -79.0592      Wood   1909-01-01       10.0        NaN           0     NaN  \n",
       "13   -79.8619      Wood   1927-01-01       40.0        NaN           0     NaN  \n",
       "14   -70.9860      Wood   1911-01-01        NaN        NaN           0     NaN  "
      ]
     },
     "execution_count": 54,
     "metadata": {},
     "output_type": "execute_result"
    }
   ],
   "source": [
    "df.head(15)"
   ]
  },
  {
   "cell_type": "code",
   "execution_count": 55,
   "id": "4b8b0fb4-d8f7-4fc4-932c-8e227ecba55a",
   "metadata": {
    "tags": []
   },
   "outputs": [],
   "source": [
    "def check_discrepancy(df):\n",
    "    results = (df['Year_Introduced'] - df['Opening_date'].dt.year > 1) & (df['Year_Introduced'] >= df['Opening_date'].dt.year)\n",
    "    return results.value_counts()"
   ]
  },
  {
   "cell_type": "code",
   "execution_count": 56,
   "id": "27bd1aa7-c31d-47f4-855c-7d7e0a3013e1",
   "metadata": {
    "tags": []
   },
   "outputs": [
    {
     "data": {
      "text/plain": [
       "False    830\n",
       "True      14\n",
       "dtype: int64"
      ]
     },
     "execution_count": 56,
     "metadata": {},
     "output_type": "execute_result"
    }
   ],
   "source": [
    "check_discrepancy(df)"
   ]
  },
  {
   "cell_type": "markdown",
   "id": "344fb18c-faca-43bc-993f-0ad192c9af9c",
   "metadata": {},
   "source": [
    "- there are 14 roller coasters whose year_introduced is greater than the opening_date"
   ]
  },
  {
   "cell_type": "code",
   "execution_count": 57,
   "id": "81415f09-5957-4a17-97b7-a8a546d09ee8",
   "metadata": {
    "tags": []
   },
   "outputs": [
    {
     "data": {
      "text/html": [
       "<div>\n",
       "<style scoped>\n",
       "    .dataframe tbody tr th:only-of-type {\n",
       "        vertical-align: middle;\n",
       "    }\n",
       "\n",
       "    .dataframe tbody tr th {\n",
       "        vertical-align: top;\n",
       "    }\n",
       "\n",
       "    .dataframe thead th {\n",
       "        text-align: right;\n",
       "    }\n",
       "</style>\n",
       "<table border=\"1\" class=\"dataframe\">\n",
       "  <thead>\n",
       "    <tr style=\"text-align: right;\">\n",
       "      <th></th>\n",
       "      <th>Coaster_name</th>\n",
       "      <th>Location</th>\n",
       "      <th>Status</th>\n",
       "      <th>Manufacturer</th>\n",
       "      <th>Year_Introduced</th>\n",
       "      <th>Latitude</th>\n",
       "      <th>Longitude</th>\n",
       "      <th>Type_Main</th>\n",
       "      <th>Opening_date</th>\n",
       "      <th>Speed_mph</th>\n",
       "      <th>Height_ft</th>\n",
       "      <th>Inversions</th>\n",
       "      <th>Gforce</th>\n",
       "    </tr>\n",
       "  </thead>\n",
       "  <tbody>\n",
       "    <tr>\n",
       "      <th>171</th>\n",
       "      <td>The Beastie (Kings Island)</td>\n",
       "      <td>Kings Island</td>\n",
       "      <td>Operating</td>\n",
       "      <td>Philadelphia Toboggan Coasters</td>\n",
       "      <td>1980</td>\n",
       "      <td>39.3432</td>\n",
       "      <td>-84.2693</td>\n",
       "      <td>Wood</td>\n",
       "      <td>1972-01-01</td>\n",
       "      <td>35.0</td>\n",
       "      <td>NaN</td>\n",
       "      <td>0</td>\n",
       "      <td>NaN</td>\n",
       "    </tr>\n",
       "    <tr>\n",
       "      <th>236</th>\n",
       "      <td>Canobie Corkscrew</td>\n",
       "      <td>Canobie Lake Park</td>\n",
       "      <td>Discontinued</td>\n",
       "      <td>Arrow Development</td>\n",
       "      <td>1987</td>\n",
       "      <td>42.7935</td>\n",
       "      <td>-71.2499</td>\n",
       "      <td>Steel</td>\n",
       "      <td>1975-01-01</td>\n",
       "      <td>45.0</td>\n",
       "      <td>NaN</td>\n",
       "      <td>2</td>\n",
       "      <td>NaN</td>\n",
       "    </tr>\n",
       "    <tr>\n",
       "      <th>331</th>\n",
       "      <td>The Comet (Great Escape)</td>\n",
       "      <td>Great Escape</td>\n",
       "      <td>Operating</td>\n",
       "      <td>Philadelphia Toboggan Coasters</td>\n",
       "      <td>1994</td>\n",
       "      <td>43.3514</td>\n",
       "      <td>-73.6851</td>\n",
       "      <td>Wood</td>\n",
       "      <td>1948-01-01</td>\n",
       "      <td>55.0</td>\n",
       "      <td>NaN</td>\n",
       "      <td>0</td>\n",
       "      <td>NaN</td>\n",
       "    </tr>\n",
       "    <tr>\n",
       "      <th>552</th>\n",
       "      <td>Phantom's Revenge</td>\n",
       "      <td>Kennywood</td>\n",
       "      <td>Operating</td>\n",
       "      <td>D. H. Morgan Manufacturing</td>\n",
       "      <td>2001</td>\n",
       "      <td>40.3890</td>\n",
       "      <td>-79.8660</td>\n",
       "      <td>Steel</td>\n",
       "      <td>1991-05-10</td>\n",
       "      <td>85.0</td>\n",
       "      <td>NaN</td>\n",
       "      <td>0</td>\n",
       "      <td>3.5</td>\n",
       "    </tr>\n",
       "    <tr>\n",
       "      <th>640</th>\n",
       "      <td>Fairly Odd Coaster (Carowinds)</td>\n",
       "      <td>Carowinds</td>\n",
       "      <td>Operating</td>\n",
       "      <td>Philadelphia Toboggan Coasters</td>\n",
       "      <td>2005</td>\n",
       "      <td>35.1010</td>\n",
       "      <td>-80.9394</td>\n",
       "      <td>Wood</td>\n",
       "      <td>1975-01-01</td>\n",
       "      <td>36.0</td>\n",
       "      <td>NaN</td>\n",
       "      <td>0</td>\n",
       "      <td>NaN</td>\n",
       "    </tr>\n",
       "    <tr>\n",
       "      <th>662</th>\n",
       "      <td>Fairly Odd Coaster (Kings Island)</td>\n",
       "      <td>Kings Island</td>\n",
       "      <td>Operating</td>\n",
       "      <td>Philadelphia Toboggan Coasters</td>\n",
       "      <td>2006</td>\n",
       "      <td>39.3432</td>\n",
       "      <td>-84.2693</td>\n",
       "      <td>Wood</td>\n",
       "      <td>1972-01-01</td>\n",
       "      <td>35.0</td>\n",
       "      <td>NaN</td>\n",
       "      <td>0</td>\n",
       "      <td>NaN</td>\n",
       "    </tr>\n",
       "    <tr>\n",
       "      <th>712</th>\n",
       "      <td>Flight Deck (Kings Island)</td>\n",
       "      <td>Kings Island</td>\n",
       "      <td>Operating</td>\n",
       "      <td>Arrow Dynamics</td>\n",
       "      <td>2008</td>\n",
       "      <td>39.3476</td>\n",
       "      <td>-84.2652</td>\n",
       "      <td>Steel</td>\n",
       "      <td>1993-04-09</td>\n",
       "      <td>51.0</td>\n",
       "      <td>NaN</td>\n",
       "      <td>0</td>\n",
       "      <td>2.9</td>\n",
       "    </tr>\n",
       "    <tr>\n",
       "      <th>769</th>\n",
       "      <td>Woodstock Express (Carowinds)</td>\n",
       "      <td>Carowinds</td>\n",
       "      <td>Operating</td>\n",
       "      <td>Philadelphia Toboggan Coasters</td>\n",
       "      <td>2010</td>\n",
       "      <td>35.1010</td>\n",
       "      <td>-80.9394</td>\n",
       "      <td>Wood</td>\n",
       "      <td>1975-01-01</td>\n",
       "      <td>36.0</td>\n",
       "      <td>NaN</td>\n",
       "      <td>0</td>\n",
       "      <td>NaN</td>\n",
       "    </tr>\n",
       "    <tr>\n",
       "      <th>770</th>\n",
       "      <td>Woodstock Express (Kings Island)</td>\n",
       "      <td>Kings Island</td>\n",
       "      <td>Operating</td>\n",
       "      <td>Philadelphia Toboggan Coasters</td>\n",
       "      <td>2010</td>\n",
       "      <td>39.3432</td>\n",
       "      <td>-84.2693</td>\n",
       "      <td>Wood</td>\n",
       "      <td>1972-01-01</td>\n",
       "      <td>35.0</td>\n",
       "      <td>NaN</td>\n",
       "      <td>0</td>\n",
       "      <td>NaN</td>\n",
       "    </tr>\n",
       "    <tr>\n",
       "      <th>773</th>\n",
       "      <td>Blue Flyer</td>\n",
       "      <td>Blackpool Pleasure Beach</td>\n",
       "      <td>Operating</td>\n",
       "      <td>Unknown</td>\n",
       "      <td>2011</td>\n",
       "      <td>53.7902</td>\n",
       "      <td>-3.0539</td>\n",
       "      <td>Other</td>\n",
       "      <td>1934-01-01</td>\n",
       "      <td>NaN</td>\n",
       "      <td>NaN</td>\n",
       "      <td>0</td>\n",
       "      <td>NaN</td>\n",
       "    </tr>\n",
       "    <tr>\n",
       "      <th>840</th>\n",
       "      <td>Woodstock Express (Kings Dominion)</td>\n",
       "      <td>Kings Dominion</td>\n",
       "      <td>Operating</td>\n",
       "      <td>Philadelphia Toboggan Coasters</td>\n",
       "      <td>2013</td>\n",
       "      <td>37.8405</td>\n",
       "      <td>-77.4422</td>\n",
       "      <td>Wood</td>\n",
       "      <td>1974-01-01</td>\n",
       "      <td>35.0</td>\n",
       "      <td>NaN</td>\n",
       "      <td>0</td>\n",
       "      <td>NaN</td>\n",
       "    </tr>\n",
       "    <tr>\n",
       "      <th>844</th>\n",
       "      <td>The Bat (Kings Island; opened 1993)</td>\n",
       "      <td>Kings Island</td>\n",
       "      <td>Operating</td>\n",
       "      <td>Arrow Dynamics</td>\n",
       "      <td>2014</td>\n",
       "      <td>39.3476</td>\n",
       "      <td>-84.2652</td>\n",
       "      <td>Steel</td>\n",
       "      <td>1993-04-09</td>\n",
       "      <td>51.0</td>\n",
       "      <td>NaN</td>\n",
       "      <td>0</td>\n",
       "      <td>2.9</td>\n",
       "    </tr>\n",
       "    <tr>\n",
       "      <th>877</th>\n",
       "      <td>T3 (roller coaster)</td>\n",
       "      <td>Kentucky Kingdom</td>\n",
       "      <td>Operating</td>\n",
       "      <td>Vekoma</td>\n",
       "      <td>2015</td>\n",
       "      <td>38.1941</td>\n",
       "      <td>-85.7470</td>\n",
       "      <td>Steel</td>\n",
       "      <td>1995-04-08</td>\n",
       "      <td>49.7</td>\n",
       "      <td>NaN</td>\n",
       "      <td>5</td>\n",
       "      <td>NaN</td>\n",
       "    </tr>\n",
       "    <tr>\n",
       "      <th>910</th>\n",
       "      <td>Patriot (California's Great America)</td>\n",
       "      <td>California's Great America</td>\n",
       "      <td>Operating</td>\n",
       "      <td>Bolliger &amp; Mabillard</td>\n",
       "      <td>2017</td>\n",
       "      <td>37.3967</td>\n",
       "      <td>-121.9732</td>\n",
       "      <td>Steel</td>\n",
       "      <td>1991-03-09</td>\n",
       "      <td>45.0</td>\n",
       "      <td>NaN</td>\n",
       "      <td>2</td>\n",
       "      <td>NaN</td>\n",
       "    </tr>\n",
       "  </tbody>\n",
       "</table>\n",
       "</div>"
      ],
      "text/plain": [
       "                             Coaster_name                    Location  \\\n",
       "171            The Beastie (Kings Island)                Kings Island   \n",
       "236                     Canobie Corkscrew           Canobie Lake Park   \n",
       "331              The Comet (Great Escape)                Great Escape   \n",
       "552                     Phantom's Revenge                   Kennywood   \n",
       "640        Fairly Odd Coaster (Carowinds)                   Carowinds   \n",
       "662     Fairly Odd Coaster (Kings Island)                Kings Island   \n",
       "712            Flight Deck (Kings Island)                Kings Island   \n",
       "769         Woodstock Express (Carowinds)                   Carowinds   \n",
       "770      Woodstock Express (Kings Island)                Kings Island   \n",
       "773                            Blue Flyer    Blackpool Pleasure Beach   \n",
       "840    Woodstock Express (Kings Dominion)              Kings Dominion   \n",
       "844   The Bat (Kings Island; opened 1993)                Kings Island   \n",
       "877                   T3 (roller coaster)            Kentucky Kingdom   \n",
       "910  Patriot (California's Great America)  California's Great America   \n",
       "\n",
       "           Status                    Manufacturer  Year_Introduced  Latitude  \\\n",
       "171     Operating  Philadelphia Toboggan Coasters             1980   39.3432   \n",
       "236  Discontinued               Arrow Development             1987   42.7935   \n",
       "331     Operating  Philadelphia Toboggan Coasters             1994   43.3514   \n",
       "552     Operating      D. H. Morgan Manufacturing             2001   40.3890   \n",
       "640     Operating  Philadelphia Toboggan Coasters             2005   35.1010   \n",
       "662     Operating  Philadelphia Toboggan Coasters             2006   39.3432   \n",
       "712     Operating                  Arrow Dynamics             2008   39.3476   \n",
       "769     Operating  Philadelphia Toboggan Coasters             2010   35.1010   \n",
       "770     Operating  Philadelphia Toboggan Coasters             2010   39.3432   \n",
       "773     Operating                         Unknown             2011   53.7902   \n",
       "840     Operating  Philadelphia Toboggan Coasters             2013   37.8405   \n",
       "844     Operating                  Arrow Dynamics             2014   39.3476   \n",
       "877     Operating                          Vekoma             2015   38.1941   \n",
       "910     Operating            Bolliger & Mabillard             2017   37.3967   \n",
       "\n",
       "     Longitude Type_Main Opening_date  Speed_mph  Height_ft  Inversions  \\\n",
       "171   -84.2693      Wood   1972-01-01       35.0        NaN           0   \n",
       "236   -71.2499     Steel   1975-01-01       45.0        NaN           2   \n",
       "331   -73.6851      Wood   1948-01-01       55.0        NaN           0   \n",
       "552   -79.8660     Steel   1991-05-10       85.0        NaN           0   \n",
       "640   -80.9394      Wood   1975-01-01       36.0        NaN           0   \n",
       "662   -84.2693      Wood   1972-01-01       35.0        NaN           0   \n",
       "712   -84.2652     Steel   1993-04-09       51.0        NaN           0   \n",
       "769   -80.9394      Wood   1975-01-01       36.0        NaN           0   \n",
       "770   -84.2693      Wood   1972-01-01       35.0        NaN           0   \n",
       "773    -3.0539     Other   1934-01-01        NaN        NaN           0   \n",
       "840   -77.4422      Wood   1974-01-01       35.0        NaN           0   \n",
       "844   -84.2652     Steel   1993-04-09       51.0        NaN           0   \n",
       "877   -85.7470     Steel   1995-04-08       49.7        NaN           5   \n",
       "910  -121.9732     Steel   1991-03-09       45.0        NaN           2   \n",
       "\n",
       "     Gforce  \n",
       "171     NaN  \n",
       "236     NaN  \n",
       "331     NaN  \n",
       "552     3.5  \n",
       "640     NaN  \n",
       "662     NaN  \n",
       "712     2.9  \n",
       "769     NaN  \n",
       "770     NaN  \n",
       "773     NaN  \n",
       "840     NaN  \n",
       "844     2.9  \n",
       "877     NaN  \n",
       "910     NaN  "
      ]
     },
     "execution_count": 57,
     "metadata": {},
     "output_type": "execute_result"
    }
   ],
   "source": [
    "df.loc[(df['Year_Introduced'] - df['Opening_date'].dt.year > 1) & (df['Year_Introduced'] >= df['Opening_date'].dt.year)]"
   ]
  },
  {
   "cell_type": "markdown",
   "id": "6d765cc1-78c6-49ef-b195-ca932ade8a74",
   "metadata": {
    "tags": []
   },
   "source": [
    "- let's research on any 3 random coaster name from the df on wikipedia\n",
    "- 171, The Beastie, Previously known as Scooby Doo (1972–1979), Beastie (1980–2005)\n",
    "- 236, Canobie Corkscrew, Opening date\t1975 (Chicago Loop), 1982 (Corkscrew), 1987 (Canobie Lake Corkscrew)\n",
    "- 910, Patriot (California's Great America), Previously known as Vortex (1991–2016), it reopened as Patriot on 2017\n",
    "\n",
    "- the name of the coasters are rebranded\n",
    "- all the coasters above used the first introduced opening date, not the opening date after rebranding"
   ]
  },
  {
   "cell_type": "code",
   "execution_count": 58,
   "id": "802b0098-6fe7-42a1-82fa-d30d9d1528a9",
   "metadata": {
    "tags": []
   },
   "outputs": [
    {
     "data": {
      "text/plain": [
       "Coaster_name         Canobie Corkscrew\n",
       "Location             Canobie Lake Park\n",
       "Status                    Discontinued\n",
       "Manufacturer         Arrow Development\n",
       "Year_Introduced                   1987\n",
       "Latitude                       42.7935\n",
       "Longitude                     -71.2499\n",
       "Type_Main                        Steel\n",
       "Opening_date       1975-01-01 00:00:00\n",
       "Speed_mph                         45.0\n",
       "Height_ft                          NaN\n",
       "Inversions                           2\n",
       "Gforce                             NaN\n",
       "Name: 236, dtype: object"
      ]
     },
     "execution_count": 58,
     "metadata": {},
     "output_type": "execute_result"
    }
   ],
   "source": [
    "index  = 236\n",
    "df.loc[index]"
   ]
  },
  {
   "cell_type": "code",
   "execution_count": 59,
   "id": "0fa2a49e-c196-495e-863f-cc8f53934004",
   "metadata": {
    "tags": []
   },
   "outputs": [],
   "source": [
    "# df.loc[~((df['Year_Introduced'] - df['Opening_date'].dt.year > 1) & (df['Year_Introduced'] >= df['Opening_date'].dt.year))].head()"
   ]
  },
  {
   "cell_type": "code",
   "execution_count": 60,
   "id": "df01b436-6385-4f50-93ec-e2adf4795c35",
   "metadata": {
    "tags": []
   },
   "outputs": [],
   "source": [
    "# df.loc[(df['Year_Introduced'] - df['Opening_date'].dt.year > 1) & (df['Year_Introduced'] >= df['Opening_date'].dt.year)].head()"
   ]
  },
  {
   "cell_type": "code",
   "execution_count": 61,
   "id": "ed1cc344-deeb-4313-af91-15641325ec06",
   "metadata": {
    "tags": []
   },
   "outputs": [],
   "source": [
    "conditions = (df['Year_Introduced'] - df['Opening_date'].dt.year > 1) & (df['Year_Introduced'] >= df['Opening_date'].dt.year)\n",
    "df.loc[conditions, 'Opening_date'] = pd.to_datetime(df['Year_Introduced'], format = '%Y').apply(lambda x : pd.Timestamp(x.year, 1, 1))"
   ]
  },
  {
   "cell_type": "code",
   "execution_count": 62,
   "id": "560016eb-5589-4353-ab90-05ed8e834c6e",
   "metadata": {
    "tags": []
   },
   "outputs": [
    {
     "data": {
      "text/html": [
       "<div>\n",
       "<style scoped>\n",
       "    .dataframe tbody tr th:only-of-type {\n",
       "        vertical-align: middle;\n",
       "    }\n",
       "\n",
       "    .dataframe tbody tr th {\n",
       "        vertical-align: top;\n",
       "    }\n",
       "\n",
       "    .dataframe thead th {\n",
       "        text-align: right;\n",
       "    }\n",
       "</style>\n",
       "<table border=\"1\" class=\"dataframe\">\n",
       "  <thead>\n",
       "    <tr style=\"text-align: right;\">\n",
       "      <th></th>\n",
       "      <th>Coaster_name</th>\n",
       "      <th>Location</th>\n",
       "      <th>Status</th>\n",
       "      <th>Manufacturer</th>\n",
       "      <th>Year_Introduced</th>\n",
       "      <th>Latitude</th>\n",
       "      <th>Longitude</th>\n",
       "      <th>Type_Main</th>\n",
       "      <th>Opening_date</th>\n",
       "      <th>Speed_mph</th>\n",
       "      <th>Height_ft</th>\n",
       "      <th>Inversions</th>\n",
       "      <th>Gforce</th>\n",
       "    </tr>\n",
       "  </thead>\n",
       "  <tbody>\n",
       "    <tr>\n",
       "      <th>0</th>\n",
       "      <td>Switchback Railway</td>\n",
       "      <td>Coney Island</td>\n",
       "      <td>Discontinued</td>\n",
       "      <td>LaMarcus Adna Thompson</td>\n",
       "      <td>1884</td>\n",
       "      <td>40.5740</td>\n",
       "      <td>-73.9780</td>\n",
       "      <td>Wood</td>\n",
       "      <td>1884-06-16</td>\n",
       "      <td>6.0</td>\n",
       "      <td>NaN</td>\n",
       "      <td>0</td>\n",
       "      <td>2.9</td>\n",
       "    </tr>\n",
       "    <tr>\n",
       "      <th>1</th>\n",
       "      <td>Flip Flap Railway</td>\n",
       "      <td>Sea Lion Park</td>\n",
       "      <td>Discontinued</td>\n",
       "      <td>Lina Beecher</td>\n",
       "      <td>1895</td>\n",
       "      <td>40.5780</td>\n",
       "      <td>-73.9790</td>\n",
       "      <td>Wood</td>\n",
       "      <td>1895-01-01</td>\n",
       "      <td>NaN</td>\n",
       "      <td>NaN</td>\n",
       "      <td>1</td>\n",
       "      <td>12.0</td>\n",
       "    </tr>\n",
       "    <tr>\n",
       "      <th>2</th>\n",
       "      <td>Switchback Railway (Euclid Beach Park)</td>\n",
       "      <td>Cleveland, Ohio, United States</td>\n",
       "      <td>Discontinued</td>\n",
       "      <td>Unknown</td>\n",
       "      <td>1896</td>\n",
       "      <td>41.5800</td>\n",
       "      <td>-81.5700</td>\n",
       "      <td>Other</td>\n",
       "      <td>NaT</td>\n",
       "      <td>NaN</td>\n",
       "      <td>NaN</td>\n",
       "      <td>0</td>\n",
       "      <td>NaN</td>\n",
       "    </tr>\n",
       "    <tr>\n",
       "      <th>3</th>\n",
       "      <td>Loop the Loop (Coney Island)</td>\n",
       "      <td>Other</td>\n",
       "      <td>Discontinued</td>\n",
       "      <td>Edwin Prescott</td>\n",
       "      <td>1901</td>\n",
       "      <td>40.5745</td>\n",
       "      <td>-73.9780</td>\n",
       "      <td>Steel</td>\n",
       "      <td>1901-01-01</td>\n",
       "      <td>NaN</td>\n",
       "      <td>NaN</td>\n",
       "      <td>1</td>\n",
       "      <td>NaN</td>\n",
       "    </tr>\n",
       "    <tr>\n",
       "      <th>4</th>\n",
       "      <td>Loop the Loop (Young's Pier)</td>\n",
       "      <td>Other</td>\n",
       "      <td>Discontinued</td>\n",
       "      <td>Edwin Prescott</td>\n",
       "      <td>1901</td>\n",
       "      <td>39.3538</td>\n",
       "      <td>-74.4342</td>\n",
       "      <td>Steel</td>\n",
       "      <td>1901-01-01</td>\n",
       "      <td>NaN</td>\n",
       "      <td>NaN</td>\n",
       "      <td>1</td>\n",
       "      <td>NaN</td>\n",
       "    </tr>\n",
       "  </tbody>\n",
       "</table>\n",
       "</div>"
      ],
      "text/plain": [
       "                             Coaster_name                        Location  \\\n",
       "0                      Switchback Railway                    Coney Island   \n",
       "1                       Flip Flap Railway                   Sea Lion Park   \n",
       "2  Switchback Railway (Euclid Beach Park)  Cleveland, Ohio, United States   \n",
       "3            Loop the Loop (Coney Island)                           Other   \n",
       "4            Loop the Loop (Young's Pier)                           Other   \n",
       "\n",
       "         Status            Manufacturer  Year_Introduced  Latitude  Longitude  \\\n",
       "0  Discontinued  LaMarcus Adna Thompson             1884   40.5740   -73.9780   \n",
       "1  Discontinued            Lina Beecher             1895   40.5780   -73.9790   \n",
       "2  Discontinued                 Unknown             1896   41.5800   -81.5700   \n",
       "3  Discontinued          Edwin Prescott             1901   40.5745   -73.9780   \n",
       "4  Discontinued          Edwin Prescott             1901   39.3538   -74.4342   \n",
       "\n",
       "  Type_Main Opening_date  Speed_mph  Height_ft  Inversions  Gforce  \n",
       "0      Wood   1884-06-16        6.0        NaN           0     2.9  \n",
       "1      Wood   1895-01-01        NaN        NaN           1    12.0  \n",
       "2     Other          NaT        NaN        NaN           0     NaN  \n",
       "3     Steel   1901-01-01        NaN        NaN           1     NaN  \n",
       "4     Steel   1901-01-01        NaN        NaN           1     NaN  "
      ]
     },
     "execution_count": 62,
     "metadata": {},
     "output_type": "execute_result"
    }
   ],
   "source": [
    "df.head()"
   ]
  },
  {
   "cell_type": "code",
   "execution_count": 63,
   "id": "461c08ce-6be0-4582-9cd7-ec1fa5c76ccd",
   "metadata": {
    "tags": []
   },
   "outputs": [
    {
     "data": {
      "text/plain": [
       "Coaster_name       Racer (1910 roller coaster)\n",
       "Location                             Kennywood\n",
       "Status                               Operating\n",
       "Manufacturer                      Charlie Mach\n",
       "Year_Introduced                           1910\n",
       "Latitude                               40.3869\n",
       "Longitude                             -79.8619\n",
       "Type_Main                                 Wood\n",
       "Opening_date               1927-01-01 00:00:00\n",
       "Speed_mph                                 40.0\n",
       "Height_ft                                  NaN\n",
       "Inversions                                   0\n",
       "Gforce                                     NaN\n",
       "Name: 13, dtype: object"
      ]
     },
     "execution_count": 63,
     "metadata": {},
     "output_type": "execute_result"
    }
   ],
   "source": [
    "index  = 13\n",
    "df.loc[index]"
   ]
  },
  {
   "cell_type": "code",
   "execution_count": 64,
   "id": "78ab2ffe-52e1-4d40-bd82-cd261d80ed0c",
   "metadata": {
    "tags": []
   },
   "outputs": [
    {
     "data": {
      "text/plain": [
       "Coaster_name         Canobie Corkscrew\n",
       "Location             Canobie Lake Park\n",
       "Status                    Discontinued\n",
       "Manufacturer         Arrow Development\n",
       "Year_Introduced                   1987\n",
       "Latitude                       42.7935\n",
       "Longitude                     -71.2499\n",
       "Type_Main                        Steel\n",
       "Opening_date       1987-01-01 00:00:00\n",
       "Speed_mph                         45.0\n",
       "Height_ft                          NaN\n",
       "Inversions                           2\n",
       "Gforce                             NaN\n",
       "Name: 236, dtype: object"
      ]
     },
     "execution_count": 64,
     "metadata": {},
     "output_type": "execute_result"
    }
   ],
   "source": [
    "index  = 236\n",
    "df.loc[index]"
   ]
  },
  {
   "cell_type": "code",
   "execution_count": 65,
   "id": "560f3892-8263-419b-a130-8c018312984d",
   "metadata": {
    "tags": []
   },
   "outputs": [
    {
     "data": {
      "text/html": [
       "<div>\n",
       "<style scoped>\n",
       "    .dataframe tbody tr th:only-of-type {\n",
       "        vertical-align: middle;\n",
       "    }\n",
       "\n",
       "    .dataframe tbody tr th {\n",
       "        vertical-align: top;\n",
       "    }\n",
       "\n",
       "    .dataframe thead th {\n",
       "        text-align: right;\n",
       "    }\n",
       "</style>\n",
       "<table border=\"1\" class=\"dataframe\">\n",
       "  <thead>\n",
       "    <tr style=\"text-align: right;\">\n",
       "      <th></th>\n",
       "      <th>Coaster_name</th>\n",
       "      <th>Location</th>\n",
       "      <th>Status</th>\n",
       "      <th>Manufacturer</th>\n",
       "      <th>Year_Introduced</th>\n",
       "      <th>Latitude</th>\n",
       "      <th>Longitude</th>\n",
       "      <th>Type_Main</th>\n",
       "      <th>Opening_date</th>\n",
       "      <th>Speed_mph</th>\n",
       "      <th>Height_ft</th>\n",
       "      <th>Inversions</th>\n",
       "      <th>Gforce</th>\n",
       "    </tr>\n",
       "  </thead>\n",
       "  <tbody>\n",
       "    <tr>\n",
       "      <th>0</th>\n",
       "      <td>Switchback Railway</td>\n",
       "      <td>Coney Island</td>\n",
       "      <td>Discontinued</td>\n",
       "      <td>LaMarcus Adna Thompson</td>\n",
       "      <td>1884</td>\n",
       "      <td>40.5740</td>\n",
       "      <td>-73.9780</td>\n",
       "      <td>Wood</td>\n",
       "      <td>1884-06-16</td>\n",
       "      <td>6.0</td>\n",
       "      <td>NaN</td>\n",
       "      <td>0</td>\n",
       "      <td>2.9</td>\n",
       "    </tr>\n",
       "    <tr>\n",
       "      <th>1</th>\n",
       "      <td>Flip Flap Railway</td>\n",
       "      <td>Sea Lion Park</td>\n",
       "      <td>Discontinued</td>\n",
       "      <td>Lina Beecher</td>\n",
       "      <td>1895</td>\n",
       "      <td>40.5780</td>\n",
       "      <td>-73.9790</td>\n",
       "      <td>Wood</td>\n",
       "      <td>1895-01-01</td>\n",
       "      <td>NaN</td>\n",
       "      <td>NaN</td>\n",
       "      <td>1</td>\n",
       "      <td>12.0</td>\n",
       "    </tr>\n",
       "    <tr>\n",
       "      <th>2</th>\n",
       "      <td>Switchback Railway (Euclid Beach Park)</td>\n",
       "      <td>Cleveland, Ohio, United States</td>\n",
       "      <td>Discontinued</td>\n",
       "      <td>Unknown</td>\n",
       "      <td>1896</td>\n",
       "      <td>41.5800</td>\n",
       "      <td>-81.5700</td>\n",
       "      <td>Other</td>\n",
       "      <td>NaT</td>\n",
       "      <td>NaN</td>\n",
       "      <td>NaN</td>\n",
       "      <td>0</td>\n",
       "      <td>NaN</td>\n",
       "    </tr>\n",
       "    <tr>\n",
       "      <th>3</th>\n",
       "      <td>Loop the Loop (Coney Island)</td>\n",
       "      <td>Other</td>\n",
       "      <td>Discontinued</td>\n",
       "      <td>Edwin Prescott</td>\n",
       "      <td>1901</td>\n",
       "      <td>40.5745</td>\n",
       "      <td>-73.9780</td>\n",
       "      <td>Steel</td>\n",
       "      <td>1901-01-01</td>\n",
       "      <td>NaN</td>\n",
       "      <td>NaN</td>\n",
       "      <td>1</td>\n",
       "      <td>NaN</td>\n",
       "    </tr>\n",
       "    <tr>\n",
       "      <th>4</th>\n",
       "      <td>Loop the Loop (Young's Pier)</td>\n",
       "      <td>Other</td>\n",
       "      <td>Discontinued</td>\n",
       "      <td>Edwin Prescott</td>\n",
       "      <td>1901</td>\n",
       "      <td>39.3538</td>\n",
       "      <td>-74.4342</td>\n",
       "      <td>Steel</td>\n",
       "      <td>1901-01-01</td>\n",
       "      <td>NaN</td>\n",
       "      <td>NaN</td>\n",
       "      <td>1</td>\n",
       "      <td>NaN</td>\n",
       "    </tr>\n",
       "    <tr>\n",
       "      <th>...</th>\n",
       "      <td>...</td>\n",
       "      <td>...</td>\n",
       "      <td>...</td>\n",
       "      <td>...</td>\n",
       "      <td>...</td>\n",
       "      <td>...</td>\n",
       "      <td>...</td>\n",
       "      <td>...</td>\n",
       "      <td>...</td>\n",
       "      <td>...</td>\n",
       "      <td>...</td>\n",
       "      <td>...</td>\n",
       "      <td>...</td>\n",
       "    </tr>\n",
       "    <tr>\n",
       "      <th>985</th>\n",
       "      <td>Ice Breaker (roller coaster)</td>\n",
       "      <td>SeaWorld Orlando</td>\n",
       "      <td>Operating</td>\n",
       "      <td>Premier Rides</td>\n",
       "      <td>2022</td>\n",
       "      <td>28.4088</td>\n",
       "      <td>-81.4633</td>\n",
       "      <td>Steel</td>\n",
       "      <td>2022-02-01</td>\n",
       "      <td>52.0</td>\n",
       "      <td>NaN</td>\n",
       "      <td>0</td>\n",
       "      <td>NaN</td>\n",
       "    </tr>\n",
       "    <tr>\n",
       "      <th>986</th>\n",
       "      <td>Leviathan (Sea World)</td>\n",
       "      <td>Sea World</td>\n",
       "      <td>Operating</td>\n",
       "      <td>Martin &amp; Vleminckx</td>\n",
       "      <td>2022</td>\n",
       "      <td>-27.9574</td>\n",
       "      <td>153.4263</td>\n",
       "      <td>Wood</td>\n",
       "      <td>2022-01-01</td>\n",
       "      <td>49.7</td>\n",
       "      <td>105.0</td>\n",
       "      <td>0</td>\n",
       "      <td>NaN</td>\n",
       "    </tr>\n",
       "    <tr>\n",
       "      <th>987</th>\n",
       "      <td>Pantheon (roller coaster)</td>\n",
       "      <td>Busch Gardens Williamsburg</td>\n",
       "      <td>Operating</td>\n",
       "      <td>Intamin</td>\n",
       "      <td>2022</td>\n",
       "      <td>37.2339</td>\n",
       "      <td>-76.6426</td>\n",
       "      <td>Steel</td>\n",
       "      <td>2022-01-01</td>\n",
       "      <td>73.0</td>\n",
       "      <td>NaN</td>\n",
       "      <td>2</td>\n",
       "      <td>NaN</td>\n",
       "    </tr>\n",
       "    <tr>\n",
       "      <th>988</th>\n",
       "      <td>Tumbili</td>\n",
       "      <td>Kings Dominion</td>\n",
       "      <td>Operating</td>\n",
       "      <td>S&amp;S – Sansei Technologies</td>\n",
       "      <td>2022</td>\n",
       "      <td>NaN</td>\n",
       "      <td>NaN</td>\n",
       "      <td>Steel</td>\n",
       "      <td>NaT</td>\n",
       "      <td>34.0</td>\n",
       "      <td>NaN</td>\n",
       "      <td>0</td>\n",
       "      <td>NaN</td>\n",
       "    </tr>\n",
       "    <tr>\n",
       "      <th>989</th>\n",
       "      <td>Wonder Woman Flight of Courage</td>\n",
       "      <td>Six Flags Magic Mountain</td>\n",
       "      <td>Operating</td>\n",
       "      <td>Rocky Mountain Construction</td>\n",
       "      <td>2022</td>\n",
       "      <td>NaN</td>\n",
       "      <td>NaN</td>\n",
       "      <td>Steel</td>\n",
       "      <td>2022-01-01</td>\n",
       "      <td>58.0</td>\n",
       "      <td>NaN</td>\n",
       "      <td>3</td>\n",
       "      <td>NaN</td>\n",
       "    </tr>\n",
       "  </tbody>\n",
       "</table>\n",
       "<p>844 rows × 13 columns</p>\n",
       "</div>"
      ],
      "text/plain": [
       "                               Coaster_name                        Location  \\\n",
       "0                        Switchback Railway                    Coney Island   \n",
       "1                         Flip Flap Railway                   Sea Lion Park   \n",
       "2    Switchback Railway (Euclid Beach Park)  Cleveland, Ohio, United States   \n",
       "3              Loop the Loop (Coney Island)                           Other   \n",
       "4              Loop the Loop (Young's Pier)                           Other   \n",
       "..                                      ...                             ...   \n",
       "985            Ice Breaker (roller coaster)                SeaWorld Orlando   \n",
       "986                   Leviathan (Sea World)                       Sea World   \n",
       "987               Pantheon (roller coaster)      Busch Gardens Williamsburg   \n",
       "988                                 Tumbili                  Kings Dominion   \n",
       "989          Wonder Woman Flight of Courage        Six Flags Magic Mountain   \n",
       "\n",
       "           Status                 Manufacturer  Year_Introduced  Latitude  \\\n",
       "0    Discontinued       LaMarcus Adna Thompson             1884   40.5740   \n",
       "1    Discontinued                 Lina Beecher             1895   40.5780   \n",
       "2    Discontinued                      Unknown             1896   41.5800   \n",
       "3    Discontinued               Edwin Prescott             1901   40.5745   \n",
       "4    Discontinued               Edwin Prescott             1901   39.3538   \n",
       "..            ...                          ...              ...       ...   \n",
       "985     Operating                Premier Rides             2022   28.4088   \n",
       "986     Operating           Martin & Vleminckx             2022  -27.9574   \n",
       "987     Operating                      Intamin             2022   37.2339   \n",
       "988     Operating    S&S – Sansei Technologies             2022       NaN   \n",
       "989     Operating  Rocky Mountain Construction             2022       NaN   \n",
       "\n",
       "     Longitude Type_Main Opening_date  Speed_mph  Height_ft  Inversions  \\\n",
       "0     -73.9780      Wood   1884-06-16        6.0        NaN           0   \n",
       "1     -73.9790      Wood   1895-01-01        NaN        NaN           1   \n",
       "2     -81.5700     Other          NaT        NaN        NaN           0   \n",
       "3     -73.9780     Steel   1901-01-01        NaN        NaN           1   \n",
       "4     -74.4342     Steel   1901-01-01        NaN        NaN           1   \n",
       "..         ...       ...          ...        ...        ...         ...   \n",
       "985   -81.4633     Steel   2022-02-01       52.0        NaN           0   \n",
       "986   153.4263      Wood   2022-01-01       49.7      105.0           0   \n",
       "987   -76.6426     Steel   2022-01-01       73.0        NaN           2   \n",
       "988        NaN     Steel          NaT       34.0        NaN           0   \n",
       "989        NaN     Steel   2022-01-01       58.0        NaN           3   \n",
       "\n",
       "     Gforce  \n",
       "0       2.9  \n",
       "1      12.0  \n",
       "2       NaN  \n",
       "3       NaN  \n",
       "4       NaN  \n",
       "..      ...  \n",
       "985     NaN  \n",
       "986     NaN  \n",
       "987     NaN  \n",
       "988     NaN  \n",
       "989     NaN  \n",
       "\n",
       "[844 rows x 13 columns]"
      ]
     },
     "execution_count": 65,
     "metadata": {},
     "output_type": "execute_result"
    }
   ],
   "source": [
    "df"
   ]
  },
  {
   "cell_type": "code",
   "execution_count": 66,
   "id": "1dc4baf2-d48c-421f-8c5a-700f5f83f4a1",
   "metadata": {
    "tags": []
   },
   "outputs": [
    {
     "data": {
      "text/html": [
       "<div>\n",
       "<style scoped>\n",
       "    .dataframe tbody tr th:only-of-type {\n",
       "        vertical-align: middle;\n",
       "    }\n",
       "\n",
       "    .dataframe tbody tr th {\n",
       "        vertical-align: top;\n",
       "    }\n",
       "\n",
       "    .dataframe thead th {\n",
       "        text-align: right;\n",
       "    }\n",
       "</style>\n",
       "<table border=\"1\" class=\"dataframe\">\n",
       "  <thead>\n",
       "    <tr style=\"text-align: right;\">\n",
       "      <th></th>\n",
       "      <th>Coaster_name</th>\n",
       "      <th>Location</th>\n",
       "      <th>Status</th>\n",
       "      <th>Manufacturer</th>\n",
       "      <th>Year_Introduced</th>\n",
       "      <th>Latitude</th>\n",
       "      <th>Longitude</th>\n",
       "      <th>Type_Main</th>\n",
       "      <th>Opening_date</th>\n",
       "      <th>Speed_mph</th>\n",
       "      <th>Height_ft</th>\n",
       "      <th>Inversions</th>\n",
       "      <th>Gforce</th>\n",
       "    </tr>\n",
       "  </thead>\n",
       "  <tbody>\n",
       "  </tbody>\n",
       "</table>\n",
       "</div>"
      ],
      "text/plain": [
       "Empty DataFrame\n",
       "Columns: [Coaster_name, Location, Status, Manufacturer, Year_Introduced, Latitude, Longitude, Type_Main, Opening_date, Speed_mph, Height_ft, Inversions, Gforce]\n",
       "Index: []"
      ]
     },
     "execution_count": 66,
     "metadata": {},
     "output_type": "execute_result"
    }
   ],
   "source": [
    "df.loc[(df['Year_Introduced'] - df['Opening_date'].dt.year > 1) & (df['Year_Introduced'] >= df['Opening_date'].dt.year)]"
   ]
  },
  {
   "cell_type": "markdown",
   "id": "667ade75-c3ee-453f-be9f-5a6f0e4d2b06",
   "metadata": {
    "tags": []
   },
   "source": [
    "- the discrepancy for the year_introduced and the year of opening_date is removed\n",
    "- all the roller coaster opening date will be based on the year of year introduced\n",
    "- before this, there were some confusion regarding to the date and year introduced, because some roller coasters being rebranded, hence the\n",
    "\"Year_Introduced\" to be greater than the year of the opening date."
   ]
  },
  {
   "cell_type": "code",
   "execution_count": 67,
   "id": "161c0960-4ab3-45c8-a0b7-dbbaa25e78a7",
   "metadata": {
    "tags": []
   },
   "outputs": [
    {
     "data": {
      "text/plain": [
       "False    844\n",
       "dtype: int64"
      ]
     },
     "execution_count": 67,
     "metadata": {},
     "output_type": "execute_result"
    }
   ],
   "source": [
    "check_discrepancy(df)"
   ]
  },
  {
   "cell_type": "markdown",
   "id": "4af33c39-c822-458c-bb7b-4ad3a9a699ee",
   "metadata": {},
   "source": [
    "- let's sort the year Introduced ascending and reset the index"
   ]
  },
  {
   "cell_type": "code",
   "execution_count": 68,
   "id": "1b26ee4d-f18f-49ec-a0f2-646b953b30cd",
   "metadata": {
    "tags": []
   },
   "outputs": [],
   "source": [
    "df = df.sort_values(by=['Year_Introduced']).reset_index(drop=True)"
   ]
  },
  {
   "cell_type": "code",
   "execution_count": 69,
   "id": "65a26f29-b4e6-4df3-a9db-c18ba15ca1a1",
   "metadata": {
    "tags": []
   },
   "outputs": [
    {
     "data": {
      "text/html": [
       "<div>\n",
       "<style scoped>\n",
       "    .dataframe tbody tr th:only-of-type {\n",
       "        vertical-align: middle;\n",
       "    }\n",
       "\n",
       "    .dataframe tbody tr th {\n",
       "        vertical-align: top;\n",
       "    }\n",
       "\n",
       "    .dataframe thead th {\n",
       "        text-align: right;\n",
       "    }\n",
       "</style>\n",
       "<table border=\"1\" class=\"dataframe\">\n",
       "  <thead>\n",
       "    <tr style=\"text-align: right;\">\n",
       "      <th></th>\n",
       "      <th>Coaster_name</th>\n",
       "      <th>Location</th>\n",
       "      <th>Status</th>\n",
       "      <th>Manufacturer</th>\n",
       "      <th>Year_Introduced</th>\n",
       "      <th>Latitude</th>\n",
       "      <th>Longitude</th>\n",
       "      <th>Type_Main</th>\n",
       "      <th>Opening_date</th>\n",
       "      <th>Speed_mph</th>\n",
       "      <th>Height_ft</th>\n",
       "      <th>Inversions</th>\n",
       "      <th>Gforce</th>\n",
       "    </tr>\n",
       "  </thead>\n",
       "  <tbody>\n",
       "    <tr>\n",
       "      <th>0</th>\n",
       "      <td>Switchback Railway</td>\n",
       "      <td>Coney Island</td>\n",
       "      <td>Discontinued</td>\n",
       "      <td>LaMarcus Adna Thompson</td>\n",
       "      <td>1884</td>\n",
       "      <td>40.5740</td>\n",
       "      <td>-73.9780</td>\n",
       "      <td>Wood</td>\n",
       "      <td>1884-06-16</td>\n",
       "      <td>6.0</td>\n",
       "      <td>NaN</td>\n",
       "      <td>0</td>\n",
       "      <td>2.90</td>\n",
       "    </tr>\n",
       "    <tr>\n",
       "      <th>1</th>\n",
       "      <td>Flip Flap Railway</td>\n",
       "      <td>Sea Lion Park</td>\n",
       "      <td>Discontinued</td>\n",
       "      <td>Lina Beecher</td>\n",
       "      <td>1895</td>\n",
       "      <td>40.5780</td>\n",
       "      <td>-73.9790</td>\n",
       "      <td>Wood</td>\n",
       "      <td>1895-01-01</td>\n",
       "      <td>NaN</td>\n",
       "      <td>NaN</td>\n",
       "      <td>1</td>\n",
       "      <td>12.00</td>\n",
       "    </tr>\n",
       "    <tr>\n",
       "      <th>2</th>\n",
       "      <td>Switchback Railway (Euclid Beach Park)</td>\n",
       "      <td>Cleveland, Ohio, United States</td>\n",
       "      <td>Discontinued</td>\n",
       "      <td>Unknown</td>\n",
       "      <td>1896</td>\n",
       "      <td>41.5800</td>\n",
       "      <td>-81.5700</td>\n",
       "      <td>Other</td>\n",
       "      <td>NaT</td>\n",
       "      <td>NaN</td>\n",
       "      <td>NaN</td>\n",
       "      <td>0</td>\n",
       "      <td>NaN</td>\n",
       "    </tr>\n",
       "    <tr>\n",
       "      <th>3</th>\n",
       "      <td>Loop the Loop (Coney Island)</td>\n",
       "      <td>Other</td>\n",
       "      <td>Discontinued</td>\n",
       "      <td>Edwin Prescott</td>\n",
       "      <td>1901</td>\n",
       "      <td>40.5745</td>\n",
       "      <td>-73.9780</td>\n",
       "      <td>Steel</td>\n",
       "      <td>1901-01-01</td>\n",
       "      <td>NaN</td>\n",
       "      <td>NaN</td>\n",
       "      <td>1</td>\n",
       "      <td>NaN</td>\n",
       "    </tr>\n",
       "    <tr>\n",
       "      <th>4</th>\n",
       "      <td>Loop the Loop (Young's Pier)</td>\n",
       "      <td>Other</td>\n",
       "      <td>Discontinued</td>\n",
       "      <td>Edwin Prescott</td>\n",
       "      <td>1901</td>\n",
       "      <td>39.3538</td>\n",
       "      <td>-74.4342</td>\n",
       "      <td>Steel</td>\n",
       "      <td>1901-01-01</td>\n",
       "      <td>NaN</td>\n",
       "      <td>NaN</td>\n",
       "      <td>1</td>\n",
       "      <td>NaN</td>\n",
       "    </tr>\n",
       "    <tr>\n",
       "      <th>...</th>\n",
       "      <td>...</td>\n",
       "      <td>...</td>\n",
       "      <td>...</td>\n",
       "      <td>...</td>\n",
       "      <td>...</td>\n",
       "      <td>...</td>\n",
       "      <td>...</td>\n",
       "      <td>...</td>\n",
       "      <td>...</td>\n",
       "      <td>...</td>\n",
       "      <td>...</td>\n",
       "      <td>...</td>\n",
       "      <td>...</td>\n",
       "    </tr>\n",
       "    <tr>\n",
       "      <th>839</th>\n",
       "      <td>ArieForce One</td>\n",
       "      <td>Fun Spot America Atlanta</td>\n",
       "      <td>Operating</td>\n",
       "      <td>Rocky Mountain Construction</td>\n",
       "      <td>2022</td>\n",
       "      <td>NaN</td>\n",
       "      <td>NaN</td>\n",
       "      <td>Steel</td>\n",
       "      <td>2022-01-01</td>\n",
       "      <td>64.0</td>\n",
       "      <td>NaN</td>\n",
       "      <td>4</td>\n",
       "      <td>3.75</td>\n",
       "    </tr>\n",
       "    <tr>\n",
       "      <th>840</th>\n",
       "      <td>Aquaman: Power Wave</td>\n",
       "      <td>Six Flags Over Texas</td>\n",
       "      <td>Operating</td>\n",
       "      <td>Mack Rides</td>\n",
       "      <td>2022</td>\n",
       "      <td>32.7560</td>\n",
       "      <td>-97.0710</td>\n",
       "      <td>Steel</td>\n",
       "      <td>2022-01-01</td>\n",
       "      <td>62.1</td>\n",
       "      <td>NaN</td>\n",
       "      <td>0</td>\n",
       "      <td>NaN</td>\n",
       "    </tr>\n",
       "    <tr>\n",
       "      <th>841</th>\n",
       "      <td>Tumbili</td>\n",
       "      <td>Kings Dominion</td>\n",
       "      <td>Operating</td>\n",
       "      <td>S&amp;S – Sansei Technologies</td>\n",
       "      <td>2022</td>\n",
       "      <td>NaN</td>\n",
       "      <td>NaN</td>\n",
       "      <td>Steel</td>\n",
       "      <td>NaT</td>\n",
       "      <td>34.0</td>\n",
       "      <td>NaN</td>\n",
       "      <td>0</td>\n",
       "      <td>NaN</td>\n",
       "    </tr>\n",
       "    <tr>\n",
       "      <th>842</th>\n",
       "      <td>Emperor (roller coaster)</td>\n",
       "      <td>SeaWorld San Diego</td>\n",
       "      <td>Operating</td>\n",
       "      <td>Bolliger &amp; Mabillard</td>\n",
       "      <td>2022</td>\n",
       "      <td>32.7640</td>\n",
       "      <td>-117.2224</td>\n",
       "      <td>Steel</td>\n",
       "      <td>2022-03-01</td>\n",
       "      <td>63.0</td>\n",
       "      <td>NaN</td>\n",
       "      <td>4</td>\n",
       "      <td>NaN</td>\n",
       "    </tr>\n",
       "    <tr>\n",
       "      <th>843</th>\n",
       "      <td>Wonder Woman Flight of Courage</td>\n",
       "      <td>Six Flags Magic Mountain</td>\n",
       "      <td>Operating</td>\n",
       "      <td>Rocky Mountain Construction</td>\n",
       "      <td>2022</td>\n",
       "      <td>NaN</td>\n",
       "      <td>NaN</td>\n",
       "      <td>Steel</td>\n",
       "      <td>2022-01-01</td>\n",
       "      <td>58.0</td>\n",
       "      <td>NaN</td>\n",
       "      <td>3</td>\n",
       "      <td>NaN</td>\n",
       "    </tr>\n",
       "  </tbody>\n",
       "</table>\n",
       "<p>844 rows × 13 columns</p>\n",
       "</div>"
      ],
      "text/plain": [
       "                               Coaster_name                        Location  \\\n",
       "0                        Switchback Railway                    Coney Island   \n",
       "1                         Flip Flap Railway                   Sea Lion Park   \n",
       "2    Switchback Railway (Euclid Beach Park)  Cleveland, Ohio, United States   \n",
       "3              Loop the Loop (Coney Island)                           Other   \n",
       "4              Loop the Loop (Young's Pier)                           Other   \n",
       "..                                      ...                             ...   \n",
       "839                           ArieForce One        Fun Spot America Atlanta   \n",
       "840                     Aquaman: Power Wave            Six Flags Over Texas   \n",
       "841                                 Tumbili                  Kings Dominion   \n",
       "842                Emperor (roller coaster)              SeaWorld San Diego   \n",
       "843          Wonder Woman Flight of Courage        Six Flags Magic Mountain   \n",
       "\n",
       "           Status                 Manufacturer  Year_Introduced  Latitude  \\\n",
       "0    Discontinued       LaMarcus Adna Thompson             1884   40.5740   \n",
       "1    Discontinued                 Lina Beecher             1895   40.5780   \n",
       "2    Discontinued                      Unknown             1896   41.5800   \n",
       "3    Discontinued               Edwin Prescott             1901   40.5745   \n",
       "4    Discontinued               Edwin Prescott             1901   39.3538   \n",
       "..            ...                          ...              ...       ...   \n",
       "839     Operating  Rocky Mountain Construction             2022       NaN   \n",
       "840     Operating                   Mack Rides             2022   32.7560   \n",
       "841     Operating    S&S – Sansei Technologies             2022       NaN   \n",
       "842     Operating         Bolliger & Mabillard             2022   32.7640   \n",
       "843     Operating  Rocky Mountain Construction             2022       NaN   \n",
       "\n",
       "     Longitude Type_Main Opening_date  Speed_mph  Height_ft  Inversions  \\\n",
       "0     -73.9780      Wood   1884-06-16        6.0        NaN           0   \n",
       "1     -73.9790      Wood   1895-01-01        NaN        NaN           1   \n",
       "2     -81.5700     Other          NaT        NaN        NaN           0   \n",
       "3     -73.9780     Steel   1901-01-01        NaN        NaN           1   \n",
       "4     -74.4342     Steel   1901-01-01        NaN        NaN           1   \n",
       "..         ...       ...          ...        ...        ...         ...   \n",
       "839        NaN     Steel   2022-01-01       64.0        NaN           4   \n",
       "840   -97.0710     Steel   2022-01-01       62.1        NaN           0   \n",
       "841        NaN     Steel          NaT       34.0        NaN           0   \n",
       "842  -117.2224     Steel   2022-03-01       63.0        NaN           4   \n",
       "843        NaN     Steel   2022-01-01       58.0        NaN           3   \n",
       "\n",
       "     Gforce  \n",
       "0      2.90  \n",
       "1     12.00  \n",
       "2       NaN  \n",
       "3       NaN  \n",
       "4       NaN  \n",
       "..      ...  \n",
       "839    3.75  \n",
       "840     NaN  \n",
       "841     NaN  \n",
       "842     NaN  \n",
       "843     NaN  \n",
       "\n",
       "[844 rows x 13 columns]"
      ]
     },
     "execution_count": 69,
     "metadata": {},
     "output_type": "execute_result"
    }
   ],
   "source": [
    "df"
   ]
  },
  {
   "cell_type": "code",
   "execution_count": 70,
   "id": "0ac5cb04-9e11-42b9-8662-81529c69f4b5",
   "metadata": {
    "tags": []
   },
   "outputs": [
    {
     "name": "stdout",
     "output_type": "stream",
     "text": [
      "<class 'pandas.core.frame.DataFrame'>\n",
      "RangeIndex: 844 entries, 0 to 843\n",
      "Data columns (total 13 columns):\n",
      " #   Column           Non-Null Count  Dtype         \n",
      "---  ------           --------------  -----         \n",
      " 0   Coaster_name     844 non-null    object        \n",
      " 1   Location         844 non-null    object        \n",
      " 2   Status           844 non-null    object        \n",
      " 3   Manufacturer     844 non-null    object        \n",
      " 4   Year_Introduced  844 non-null    int64         \n",
      " 5   Latitude         766 non-null    float64       \n",
      " 6   Longitude        766 non-null    float64       \n",
      " 7   Type_Main        844 non-null    object        \n",
      " 8   Opening_date     800 non-null    datetime64[ns]\n",
      " 9   Speed_mph        727 non-null    float64       \n",
      " 10  Height_ft        150 non-null    float64       \n",
      " 11  Inversions       844 non-null    int64         \n",
      " 12  Gforce           275 non-null    float64       \n",
      "dtypes: datetime64[ns](1), float64(5), int64(2), object(5)\n",
      "memory usage: 85.8+ KB\n"
     ]
    }
   ],
   "source": [
    "df.info()"
   ]
  },
  {
   "cell_type": "code",
   "execution_count": null,
   "id": "836a5f44-2682-404f-ab3a-2cb7b3c7e92c",
   "metadata": {
    "jupyter": {
     "source_hidden": true
    },
    "tags": []
   },
   "outputs": [],
   "source": []
  },
  {
   "cell_type": "markdown",
   "id": "6889c81a-924f-4b7f-a2de-99301b95e66a",
   "metadata": {},
   "source": [
    "#### Opening_date"
   ]
  },
  {
   "cell_type": "markdown",
   "id": "79301f82-fbe0-47b1-ad2d-1ba197f6736d",
   "metadata": {
    "tags": []
   },
   "source": [
    "### A few test on filling up the null value for opening date\n",
    "- fill up the null value, then test the accuracy by analyze year comparison between year_introduced and ffill(opening_date)\n",
    "- the year introduced should come first, followed by the opening date (only used for this example)\n",
    "- so opening date should be greater than year introduce\n",
    "- also, "
   ]
  },
  {
   "cell_type": "markdown",
   "id": "157d0409-5195-4dcc-af83-c167aaa720ab",
   "metadata": {
    "tags": []
   },
   "source": [
    "- majority of the records opening_date is sorted by ascending order, except for some records, for example:\n",
    "   - index -> Coaster_name --> Year_introduced --> Opening_date\n",
    "   - 12\t Backety-Back Scenic Railway -> 1909 -> 1909-01-01\n",
    "   - 13\t Racer (1910 roller coaster) -> 1910-> 1927-01-01\n",
    "   - 14\t Derby Racer -> 1911 -> 1911-01-01\n",
    "   - we do not want to fill up null date where the differences between year introduced and opening date is not more than 5 years"
   ]
  },
  {
   "cell_type": "markdown",
   "id": "05b936d6-8b0f-41b4-9bca-235d81b54928",
   "metadata": {},
   "source": [
    "#### Criteria for Choosing the Best Result after filling null value: \n",
    "\n",
    "- we will choose the best result based on:\n",
    "    - opening year is greater than year introduced\n",
    "    - the differences between open year and year introduced is not more than 5 years"
   ]
  },
  {
   "cell_type": "markdown",
   "id": "d1a896ef-d411-46c3-8841-7a621ef7e3f1",
   "metadata": {},
   "source": [
    "#### the function to determine which testing dataframe produced the most accurate opening date"
   ]
  },
  {
   "cell_type": "code",
   "execution_count": 71,
   "id": "db703f20-73f4-47c3-bb71-34f60c5faae6",
   "metadata": {
    "tags": []
   },
   "outputs": [],
   "source": [
    "def opening_greater_than_introduced(DataFrame):\n",
    "    DataFrame['Comparison'] = (DataFrame['Opening_date'].dt.year >= DataFrame['Year_Introduced']) & (DataFrame['Opening_date'].dt.year - DataFrame['Year_Introduced']<=1) \n",
    "    results = DataFrame['Comparison'].value_counts()\n",
    "    return results"
   ]
  },
  {
   "cell_type": "markdown",
   "id": "9741809f-12c8-4517-865d-bcd8f0c9bf14",
   "metadata": {},
   "source": [
    "- use .copy() a dataframe, otherwise, it will apply to df by default"
   ]
  },
  {
   "cell_type": "code",
   "execution_count": 72,
   "id": "a9501879-9116-452d-8c0a-81aba64b7684",
   "metadata": {
    "tags": []
   },
   "outputs": [],
   "source": [
    "testing_0 = df.copy()\n",
    "testing_1 = df.copy()\n",
    "testing_2 = df.copy()\n",
    "testing_3 = df.copy()"
   ]
  },
  {
   "cell_type": "markdown",
   "id": "ed03f0f5-0f61-489d-b417-9f81683e15b8",
   "metadata": {},
   "source": [
    "#### Testing 0, we will fill up the null, with year_introduced-01-01\n",
    "\n",
    "- here we will use apply, lambda, and timestamp"
   ]
  },
  {
   "cell_type": "code",
   "execution_count": 73,
   "id": "a0cb720d-01a8-46e0-aba5-6aaf6e9ea5ba",
   "metadata": {
    "tags": []
   },
   "outputs": [
    {
     "data": {
      "text/html": [
       "<div>\n",
       "<style scoped>\n",
       "    .dataframe tbody tr th:only-of-type {\n",
       "        vertical-align: middle;\n",
       "    }\n",
       "\n",
       "    .dataframe tbody tr th {\n",
       "        vertical-align: top;\n",
       "    }\n",
       "\n",
       "    .dataframe thead th {\n",
       "        text-align: right;\n",
       "    }\n",
       "</style>\n",
       "<table border=\"1\" class=\"dataframe\">\n",
       "  <thead>\n",
       "    <tr style=\"text-align: right;\">\n",
       "      <th></th>\n",
       "      <th>Coaster_name</th>\n",
       "      <th>Location</th>\n",
       "      <th>Status</th>\n",
       "      <th>Manufacturer</th>\n",
       "      <th>Year_Introduced</th>\n",
       "      <th>Latitude</th>\n",
       "      <th>Longitude</th>\n",
       "      <th>Type_Main</th>\n",
       "      <th>Opening_date</th>\n",
       "      <th>Speed_mph</th>\n",
       "      <th>Height_ft</th>\n",
       "      <th>Inversions</th>\n",
       "      <th>Gforce</th>\n",
       "    </tr>\n",
       "  </thead>\n",
       "  <tbody>\n",
       "    <tr>\n",
       "      <th>0</th>\n",
       "      <td>Switchback Railway</td>\n",
       "      <td>Coney Island</td>\n",
       "      <td>Discontinued</td>\n",
       "      <td>LaMarcus Adna Thompson</td>\n",
       "      <td>1884</td>\n",
       "      <td>40.5740</td>\n",
       "      <td>-73.9780</td>\n",
       "      <td>Wood</td>\n",
       "      <td>1884-06-16</td>\n",
       "      <td>6.0</td>\n",
       "      <td>NaN</td>\n",
       "      <td>0</td>\n",
       "      <td>2.9</td>\n",
       "    </tr>\n",
       "    <tr>\n",
       "      <th>1</th>\n",
       "      <td>Flip Flap Railway</td>\n",
       "      <td>Sea Lion Park</td>\n",
       "      <td>Discontinued</td>\n",
       "      <td>Lina Beecher</td>\n",
       "      <td>1895</td>\n",
       "      <td>40.5780</td>\n",
       "      <td>-73.9790</td>\n",
       "      <td>Wood</td>\n",
       "      <td>1895-01-01</td>\n",
       "      <td>NaN</td>\n",
       "      <td>NaN</td>\n",
       "      <td>1</td>\n",
       "      <td>12.0</td>\n",
       "    </tr>\n",
       "    <tr>\n",
       "      <th>2</th>\n",
       "      <td>Switchback Railway (Euclid Beach Park)</td>\n",
       "      <td>Cleveland, Ohio, United States</td>\n",
       "      <td>Discontinued</td>\n",
       "      <td>Unknown</td>\n",
       "      <td>1896</td>\n",
       "      <td>41.5800</td>\n",
       "      <td>-81.5700</td>\n",
       "      <td>Other</td>\n",
       "      <td>NaT</td>\n",
       "      <td>NaN</td>\n",
       "      <td>NaN</td>\n",
       "      <td>0</td>\n",
       "      <td>NaN</td>\n",
       "    </tr>\n",
       "    <tr>\n",
       "      <th>3</th>\n",
       "      <td>Loop the Loop (Coney Island)</td>\n",
       "      <td>Other</td>\n",
       "      <td>Discontinued</td>\n",
       "      <td>Edwin Prescott</td>\n",
       "      <td>1901</td>\n",
       "      <td>40.5745</td>\n",
       "      <td>-73.9780</td>\n",
       "      <td>Steel</td>\n",
       "      <td>1901-01-01</td>\n",
       "      <td>NaN</td>\n",
       "      <td>NaN</td>\n",
       "      <td>1</td>\n",
       "      <td>NaN</td>\n",
       "    </tr>\n",
       "    <tr>\n",
       "      <th>4</th>\n",
       "      <td>Loop the Loop (Young's Pier)</td>\n",
       "      <td>Other</td>\n",
       "      <td>Discontinued</td>\n",
       "      <td>Edwin Prescott</td>\n",
       "      <td>1901</td>\n",
       "      <td>39.3538</td>\n",
       "      <td>-74.4342</td>\n",
       "      <td>Steel</td>\n",
       "      <td>1901-01-01</td>\n",
       "      <td>NaN</td>\n",
       "      <td>NaN</td>\n",
       "      <td>1</td>\n",
       "      <td>NaN</td>\n",
       "    </tr>\n",
       "  </tbody>\n",
       "</table>\n",
       "</div>"
      ],
      "text/plain": [
       "                             Coaster_name                        Location  \\\n",
       "0                      Switchback Railway                    Coney Island   \n",
       "1                       Flip Flap Railway                   Sea Lion Park   \n",
       "2  Switchback Railway (Euclid Beach Park)  Cleveland, Ohio, United States   \n",
       "3            Loop the Loop (Coney Island)                           Other   \n",
       "4            Loop the Loop (Young's Pier)                           Other   \n",
       "\n",
       "         Status            Manufacturer  Year_Introduced  Latitude  Longitude  \\\n",
       "0  Discontinued  LaMarcus Adna Thompson             1884   40.5740   -73.9780   \n",
       "1  Discontinued            Lina Beecher             1895   40.5780   -73.9790   \n",
       "2  Discontinued                 Unknown             1896   41.5800   -81.5700   \n",
       "3  Discontinued          Edwin Prescott             1901   40.5745   -73.9780   \n",
       "4  Discontinued          Edwin Prescott             1901   39.3538   -74.4342   \n",
       "\n",
       "  Type_Main Opening_date  Speed_mph  Height_ft  Inversions  Gforce  \n",
       "0      Wood   1884-06-16        6.0        NaN           0     2.9  \n",
       "1      Wood   1895-01-01        NaN        NaN           1    12.0  \n",
       "2     Other          NaT        NaN        NaN           0     NaN  \n",
       "3     Steel   1901-01-01        NaN        NaN           1     NaN  \n",
       "4     Steel   1901-01-01        NaN        NaN           1     NaN  "
      ]
     },
     "execution_count": 73,
     "metadata": {},
     "output_type": "execute_result"
    }
   ],
   "source": [
    "testing_0.head()"
   ]
  },
  {
   "cell_type": "markdown",
   "id": "534b8082-58fc-4a37-a611-7cd61389bee1",
   "metadata": {
    "tags": []
   },
   "source": [
    "\n",
    "- timestamp( year extracted from year_introduced, 1, 1)\n",
    "- https://stackoverflow.com/questions/42619947/how-to-apply-lambda-function-to-timestamp-column-in-pandas-dataframe"
   ]
  },
  {
   "cell_type": "code",
   "execution_count": 74,
   "id": "f06102f5-4392-4eae-9be3-51760f38a6fd",
   "metadata": {
    "tags": []
   },
   "outputs": [],
   "source": [
    "testing_0['Opening_date'].fillna(pd.to_datetime(testing_0['Year_Introduced'], format='%Y').apply(lambda x : pd.Timestamp(x.year, 1, 1)), inplace = True)"
   ]
  },
  {
   "cell_type": "code",
   "execution_count": 75,
   "id": "d41717da-ddb5-45dc-aa13-6297d881b870",
   "metadata": {
    "tags": []
   },
   "outputs": [
    {
     "data": {
      "text/html": [
       "<div>\n",
       "<style scoped>\n",
       "    .dataframe tbody tr th:only-of-type {\n",
       "        vertical-align: middle;\n",
       "    }\n",
       "\n",
       "    .dataframe tbody tr th {\n",
       "        vertical-align: top;\n",
       "    }\n",
       "\n",
       "    .dataframe thead th {\n",
       "        text-align: right;\n",
       "    }\n",
       "</style>\n",
       "<table border=\"1\" class=\"dataframe\">\n",
       "  <thead>\n",
       "    <tr style=\"text-align: right;\">\n",
       "      <th></th>\n",
       "      <th>Coaster_name</th>\n",
       "      <th>Location</th>\n",
       "      <th>Status</th>\n",
       "      <th>Manufacturer</th>\n",
       "      <th>Year_Introduced</th>\n",
       "      <th>Latitude</th>\n",
       "      <th>Longitude</th>\n",
       "      <th>Type_Main</th>\n",
       "      <th>Opening_date</th>\n",
       "      <th>Speed_mph</th>\n",
       "      <th>Height_ft</th>\n",
       "      <th>Inversions</th>\n",
       "      <th>Gforce</th>\n",
       "    </tr>\n",
       "  </thead>\n",
       "  <tbody>\n",
       "    <tr>\n",
       "      <th>0</th>\n",
       "      <td>Switchback Railway</td>\n",
       "      <td>Coney Island</td>\n",
       "      <td>Discontinued</td>\n",
       "      <td>LaMarcus Adna Thompson</td>\n",
       "      <td>1884</td>\n",
       "      <td>40.5740</td>\n",
       "      <td>-73.9780</td>\n",
       "      <td>Wood</td>\n",
       "      <td>1884-06-16</td>\n",
       "      <td>6.0</td>\n",
       "      <td>NaN</td>\n",
       "      <td>0</td>\n",
       "      <td>2.9</td>\n",
       "    </tr>\n",
       "    <tr>\n",
       "      <th>1</th>\n",
       "      <td>Flip Flap Railway</td>\n",
       "      <td>Sea Lion Park</td>\n",
       "      <td>Discontinued</td>\n",
       "      <td>Lina Beecher</td>\n",
       "      <td>1895</td>\n",
       "      <td>40.5780</td>\n",
       "      <td>-73.9790</td>\n",
       "      <td>Wood</td>\n",
       "      <td>1895-01-01</td>\n",
       "      <td>NaN</td>\n",
       "      <td>NaN</td>\n",
       "      <td>1</td>\n",
       "      <td>12.0</td>\n",
       "    </tr>\n",
       "    <tr>\n",
       "      <th>2</th>\n",
       "      <td>Switchback Railway (Euclid Beach Park)</td>\n",
       "      <td>Cleveland, Ohio, United States</td>\n",
       "      <td>Discontinued</td>\n",
       "      <td>Unknown</td>\n",
       "      <td>1896</td>\n",
       "      <td>41.5800</td>\n",
       "      <td>-81.5700</td>\n",
       "      <td>Other</td>\n",
       "      <td>1896-01-01</td>\n",
       "      <td>NaN</td>\n",
       "      <td>NaN</td>\n",
       "      <td>0</td>\n",
       "      <td>NaN</td>\n",
       "    </tr>\n",
       "    <tr>\n",
       "      <th>3</th>\n",
       "      <td>Loop the Loop (Coney Island)</td>\n",
       "      <td>Other</td>\n",
       "      <td>Discontinued</td>\n",
       "      <td>Edwin Prescott</td>\n",
       "      <td>1901</td>\n",
       "      <td>40.5745</td>\n",
       "      <td>-73.9780</td>\n",
       "      <td>Steel</td>\n",
       "      <td>1901-01-01</td>\n",
       "      <td>NaN</td>\n",
       "      <td>NaN</td>\n",
       "      <td>1</td>\n",
       "      <td>NaN</td>\n",
       "    </tr>\n",
       "    <tr>\n",
       "      <th>4</th>\n",
       "      <td>Loop the Loop (Young's Pier)</td>\n",
       "      <td>Other</td>\n",
       "      <td>Discontinued</td>\n",
       "      <td>Edwin Prescott</td>\n",
       "      <td>1901</td>\n",
       "      <td>39.3538</td>\n",
       "      <td>-74.4342</td>\n",
       "      <td>Steel</td>\n",
       "      <td>1901-01-01</td>\n",
       "      <td>NaN</td>\n",
       "      <td>NaN</td>\n",
       "      <td>1</td>\n",
       "      <td>NaN</td>\n",
       "    </tr>\n",
       "  </tbody>\n",
       "</table>\n",
       "</div>"
      ],
      "text/plain": [
       "                             Coaster_name                        Location  \\\n",
       "0                      Switchback Railway                    Coney Island   \n",
       "1                       Flip Flap Railway                   Sea Lion Park   \n",
       "2  Switchback Railway (Euclid Beach Park)  Cleveland, Ohio, United States   \n",
       "3            Loop the Loop (Coney Island)                           Other   \n",
       "4            Loop the Loop (Young's Pier)                           Other   \n",
       "\n",
       "         Status            Manufacturer  Year_Introduced  Latitude  Longitude  \\\n",
       "0  Discontinued  LaMarcus Adna Thompson             1884   40.5740   -73.9780   \n",
       "1  Discontinued            Lina Beecher             1895   40.5780   -73.9790   \n",
       "2  Discontinued                 Unknown             1896   41.5800   -81.5700   \n",
       "3  Discontinued          Edwin Prescott             1901   40.5745   -73.9780   \n",
       "4  Discontinued          Edwin Prescott             1901   39.3538   -74.4342   \n",
       "\n",
       "  Type_Main Opening_date  Speed_mph  Height_ft  Inversions  Gforce  \n",
       "0      Wood   1884-06-16        6.0        NaN           0     2.9  \n",
       "1      Wood   1895-01-01        NaN        NaN           1    12.0  \n",
       "2     Other   1896-01-01        NaN        NaN           0     NaN  \n",
       "3     Steel   1901-01-01        NaN        NaN           1     NaN  \n",
       "4     Steel   1901-01-01        NaN        NaN           1     NaN  "
      ]
     },
     "execution_count": 75,
     "metadata": {},
     "output_type": "execute_result"
    }
   ],
   "source": [
    "testing_0.head()"
   ]
  },
  {
   "cell_type": "code",
   "execution_count": 76,
   "id": "5ae8dc6f-86dc-46de-8e06-2460438fa4da",
   "metadata": {
    "tags": []
   },
   "outputs": [
    {
     "data": {
      "text/plain": [
       "True     828\n",
       "False     16\n",
       "Name: Comparison, dtype: int64"
      ]
     },
     "execution_count": 76,
     "metadata": {},
     "output_type": "execute_result"
    }
   ],
   "source": [
    "opening_greater_than_introduced(testing_0)"
   ]
  },
  {
   "cell_type": "markdown",
   "id": "7a8b4b2b-dd96-4240-a87b-2b80db5710e4",
   "metadata": {
    "tags": []
   },
   "source": [
    "#### Test1 - using ffill without any conditions"
   ]
  },
  {
   "cell_type": "code",
   "execution_count": 77,
   "id": "d70c3d6a-eaaf-4703-afea-ff1f2644dfe5",
   "metadata": {
    "tags": []
   },
   "outputs": [
    {
     "data": {
      "text/html": [
       "<div>\n",
       "<style scoped>\n",
       "    .dataframe tbody tr th:only-of-type {\n",
       "        vertical-align: middle;\n",
       "    }\n",
       "\n",
       "    .dataframe tbody tr th {\n",
       "        vertical-align: top;\n",
       "    }\n",
       "\n",
       "    .dataframe thead th {\n",
       "        text-align: right;\n",
       "    }\n",
       "</style>\n",
       "<table border=\"1\" class=\"dataframe\">\n",
       "  <thead>\n",
       "    <tr style=\"text-align: right;\">\n",
       "      <th></th>\n",
       "      <th>Coaster_name</th>\n",
       "      <th>Location</th>\n",
       "      <th>Status</th>\n",
       "      <th>Manufacturer</th>\n",
       "      <th>Year_Introduced</th>\n",
       "      <th>Latitude</th>\n",
       "      <th>Longitude</th>\n",
       "      <th>Type_Main</th>\n",
       "      <th>Opening_date</th>\n",
       "      <th>Speed_mph</th>\n",
       "      <th>Height_ft</th>\n",
       "      <th>Inversions</th>\n",
       "      <th>Gforce</th>\n",
       "    </tr>\n",
       "  </thead>\n",
       "  <tbody>\n",
       "    <tr>\n",
       "      <th>0</th>\n",
       "      <td>Switchback Railway</td>\n",
       "      <td>Coney Island</td>\n",
       "      <td>Discontinued</td>\n",
       "      <td>LaMarcus Adna Thompson</td>\n",
       "      <td>1884</td>\n",
       "      <td>40.5740</td>\n",
       "      <td>-73.9780</td>\n",
       "      <td>Wood</td>\n",
       "      <td>1884-06-16</td>\n",
       "      <td>6.0</td>\n",
       "      <td>NaN</td>\n",
       "      <td>0</td>\n",
       "      <td>2.9</td>\n",
       "    </tr>\n",
       "    <tr>\n",
       "      <th>1</th>\n",
       "      <td>Flip Flap Railway</td>\n",
       "      <td>Sea Lion Park</td>\n",
       "      <td>Discontinued</td>\n",
       "      <td>Lina Beecher</td>\n",
       "      <td>1895</td>\n",
       "      <td>40.5780</td>\n",
       "      <td>-73.9790</td>\n",
       "      <td>Wood</td>\n",
       "      <td>1895-01-01</td>\n",
       "      <td>NaN</td>\n",
       "      <td>NaN</td>\n",
       "      <td>1</td>\n",
       "      <td>12.0</td>\n",
       "    </tr>\n",
       "    <tr>\n",
       "      <th>2</th>\n",
       "      <td>Switchback Railway (Euclid Beach Park)</td>\n",
       "      <td>Cleveland, Ohio, United States</td>\n",
       "      <td>Discontinued</td>\n",
       "      <td>Unknown</td>\n",
       "      <td>1896</td>\n",
       "      <td>41.5800</td>\n",
       "      <td>-81.5700</td>\n",
       "      <td>Other</td>\n",
       "      <td>NaT</td>\n",
       "      <td>NaN</td>\n",
       "      <td>NaN</td>\n",
       "      <td>0</td>\n",
       "      <td>NaN</td>\n",
       "    </tr>\n",
       "    <tr>\n",
       "      <th>3</th>\n",
       "      <td>Loop the Loop (Coney Island)</td>\n",
       "      <td>Other</td>\n",
       "      <td>Discontinued</td>\n",
       "      <td>Edwin Prescott</td>\n",
       "      <td>1901</td>\n",
       "      <td>40.5745</td>\n",
       "      <td>-73.9780</td>\n",
       "      <td>Steel</td>\n",
       "      <td>1901-01-01</td>\n",
       "      <td>NaN</td>\n",
       "      <td>NaN</td>\n",
       "      <td>1</td>\n",
       "      <td>NaN</td>\n",
       "    </tr>\n",
       "    <tr>\n",
       "      <th>4</th>\n",
       "      <td>Loop the Loop (Young's Pier)</td>\n",
       "      <td>Other</td>\n",
       "      <td>Discontinued</td>\n",
       "      <td>Edwin Prescott</td>\n",
       "      <td>1901</td>\n",
       "      <td>39.3538</td>\n",
       "      <td>-74.4342</td>\n",
       "      <td>Steel</td>\n",
       "      <td>1901-01-01</td>\n",
       "      <td>NaN</td>\n",
       "      <td>NaN</td>\n",
       "      <td>1</td>\n",
       "      <td>NaN</td>\n",
       "    </tr>\n",
       "  </tbody>\n",
       "</table>\n",
       "</div>"
      ],
      "text/plain": [
       "                             Coaster_name                        Location  \\\n",
       "0                      Switchback Railway                    Coney Island   \n",
       "1                       Flip Flap Railway                   Sea Lion Park   \n",
       "2  Switchback Railway (Euclid Beach Park)  Cleveland, Ohio, United States   \n",
       "3            Loop the Loop (Coney Island)                           Other   \n",
       "4            Loop the Loop (Young's Pier)                           Other   \n",
       "\n",
       "         Status            Manufacturer  Year_Introduced  Latitude  Longitude  \\\n",
       "0  Discontinued  LaMarcus Adna Thompson             1884   40.5740   -73.9780   \n",
       "1  Discontinued            Lina Beecher             1895   40.5780   -73.9790   \n",
       "2  Discontinued                 Unknown             1896   41.5800   -81.5700   \n",
       "3  Discontinued          Edwin Prescott             1901   40.5745   -73.9780   \n",
       "4  Discontinued          Edwin Prescott             1901   39.3538   -74.4342   \n",
       "\n",
       "  Type_Main Opening_date  Speed_mph  Height_ft  Inversions  Gforce  \n",
       "0      Wood   1884-06-16        6.0        NaN           0     2.9  \n",
       "1      Wood   1895-01-01        NaN        NaN           1    12.0  \n",
       "2     Other          NaT        NaN        NaN           0     NaN  \n",
       "3     Steel   1901-01-01        NaN        NaN           1     NaN  \n",
       "4     Steel   1901-01-01        NaN        NaN           1     NaN  "
      ]
     },
     "execution_count": 77,
     "metadata": {},
     "output_type": "execute_result"
    }
   ],
   "source": [
    "testing_1.head()"
   ]
  },
  {
   "cell_type": "code",
   "execution_count": 78,
   "id": "8a8cc07f-e5bf-4809-94c3-8f025a698541",
   "metadata": {
    "tags": []
   },
   "outputs": [
    {
     "data": {
      "text/plain": [
       "True     784\n",
       "False     60\n",
       "Name: Comparison, dtype: int64"
      ]
     },
     "execution_count": 78,
     "metadata": {},
     "output_type": "execute_result"
    }
   ],
   "source": [
    "opening_greater_than_introduced(testing_1)"
   ]
  },
  {
   "cell_type": "markdown",
   "id": "75999374-3667-4cbf-92fa-c7b12490ea66",
   "metadata": {},
   "source": [
    "- Before any imputation, 73 records did not meet the specified criteria"
   ]
  },
  {
   "cell_type": "code",
   "execution_count": 79,
   "id": "fea0e44d-d609-472a-8313-61da6d525a68",
   "metadata": {
    "tags": []
   },
   "outputs": [],
   "source": [
    "testing_1['Opening_date'] = testing_1['Opening_date'].fillna(method = 'ffill', axis = 0)"
   ]
  },
  {
   "cell_type": "code",
   "execution_count": 80,
   "id": "8751c495-06b4-46e6-9ccf-030fe581b5f8",
   "metadata": {
    "tags": []
   },
   "outputs": [
    {
     "data": {
      "text/plain": [
       "True     822\n",
       "False     22\n",
       "Name: Comparison, dtype: int64"
      ]
     },
     "execution_count": 80,
     "metadata": {},
     "output_type": "execute_result"
    }
   ],
   "source": [
    "opening_greater_than_introduced(testing_1)"
   ]
  },
  {
   "cell_type": "markdown",
   "id": "3bd93f62-c4dc-4611-b231-af2856e605a6",
   "metadata": {
    "tags": []
   },
   "source": [
    "- In 4.6 percent of the data, either the opening date's year is greater than the year introduced or the difference between the two year columns is more than 1\n",
    "- 22 records (approximately 2.9%) did not meet the specified criteria\n",
    "- 822 records (approximately 97%) met the criteria\n"
   ]
  },
  {
   "cell_type": "code",
   "execution_count": 81,
   "id": "708afa83-3bed-4f16-b167-f74dee74da48",
   "metadata": {
    "tags": []
   },
   "outputs": [
    {
     "data": {
      "text/plain": [
       "0"
      ]
     },
     "execution_count": 81,
     "metadata": {},
     "output_type": "execute_result"
    }
   ],
   "source": [
    "testing_1['Opening_date'].isnull().sum()"
   ]
  },
  {
   "cell_type": "code",
   "execution_count": 82,
   "id": "8e41a727-de53-4873-aaa6-2dd46a5614d4",
   "metadata": {
    "tags": []
   },
   "outputs": [
    {
     "data": {
      "text/html": [
       "<div>\n",
       "<style scoped>\n",
       "    .dataframe tbody tr th:only-of-type {\n",
       "        vertical-align: middle;\n",
       "    }\n",
       "\n",
       "    .dataframe tbody tr th {\n",
       "        vertical-align: top;\n",
       "    }\n",
       "\n",
       "    .dataframe thead th {\n",
       "        text-align: right;\n",
       "    }\n",
       "</style>\n",
       "<table border=\"1\" class=\"dataframe\">\n",
       "  <thead>\n",
       "    <tr style=\"text-align: right;\">\n",
       "      <th></th>\n",
       "      <th>Coaster_name</th>\n",
       "      <th>Location</th>\n",
       "      <th>Status</th>\n",
       "      <th>Manufacturer</th>\n",
       "      <th>Year_Introduced</th>\n",
       "      <th>Latitude</th>\n",
       "      <th>Longitude</th>\n",
       "      <th>Type_Main</th>\n",
       "      <th>Opening_date</th>\n",
       "      <th>Speed_mph</th>\n",
       "      <th>Height_ft</th>\n",
       "      <th>Inversions</th>\n",
       "      <th>Gforce</th>\n",
       "      <th>Comparison</th>\n",
       "    </tr>\n",
       "  </thead>\n",
       "  <tbody>\n",
       "    <tr>\n",
       "      <th>2</th>\n",
       "      <td>Switchback Railway (Euclid Beach Park)</td>\n",
       "      <td>Cleveland, Ohio, United States</td>\n",
       "      <td>Discontinued</td>\n",
       "      <td>Unknown</td>\n",
       "      <td>1896</td>\n",
       "      <td>41.58</td>\n",
       "      <td>-81.57</td>\n",
       "      <td>Other</td>\n",
       "      <td>1895-01-01</td>\n",
       "      <td>NaN</td>\n",
       "      <td>NaN</td>\n",
       "      <td>0</td>\n",
       "      <td>NaN</td>\n",
       "      <td>False</td>\n",
       "    </tr>\n",
       "    <tr>\n",
       "      <th>7</th>\n",
       "      <td>Figure Eight (Euclid Beach Park)</td>\n",
       "      <td>Cleveland, Ohio, United States</td>\n",
       "      <td>Discontinued</td>\n",
       "      <td>Unknown</td>\n",
       "      <td>1904</td>\n",
       "      <td>41.58</td>\n",
       "      <td>-81.57</td>\n",
       "      <td>Other</td>\n",
       "      <td>1902-01-01</td>\n",
       "      <td>NaN</td>\n",
       "      <td>NaN</td>\n",
       "      <td>0</td>\n",
       "      <td>NaN</td>\n",
       "      <td>False</td>\n",
       "    </tr>\n",
       "    <tr>\n",
       "      <th>11</th>\n",
       "      <td>Aero Dips</td>\n",
       "      <td>Cleveland, Ohio, United States</td>\n",
       "      <td>Discontinued</td>\n",
       "      <td>Unknown</td>\n",
       "      <td>1909</td>\n",
       "      <td>41.58</td>\n",
       "      <td>-81.57</td>\n",
       "      <td>Other</td>\n",
       "      <td>1908-01-01</td>\n",
       "      <td>NaN</td>\n",
       "      <td>NaN</td>\n",
       "      <td>0</td>\n",
       "      <td>NaN</td>\n",
       "      <td>False</td>\n",
       "    </tr>\n",
       "    <tr>\n",
       "      <th>16</th>\n",
       "      <td>Racing Coaster</td>\n",
       "      <td>Cleveland, Ohio, United States</td>\n",
       "      <td>Discontinued</td>\n",
       "      <td>Unknown</td>\n",
       "      <td>1913</td>\n",
       "      <td>41.58</td>\n",
       "      <td>-81.57</td>\n",
       "      <td>Other</td>\n",
       "      <td>1912-12-01</td>\n",
       "      <td>NaN</td>\n",
       "      <td>NaN</td>\n",
       "      <td>0</td>\n",
       "      <td>NaN</td>\n",
       "      <td>False</td>\n",
       "    </tr>\n",
       "    <tr>\n",
       "      <th>49</th>\n",
       "      <td>Flying Turns (Euclid Beach Park)</td>\n",
       "      <td>Cleveland, Ohio, United States</td>\n",
       "      <td>Discontinued</td>\n",
       "      <td>Unknown</td>\n",
       "      <td>1930</td>\n",
       "      <td>41.58</td>\n",
       "      <td>-81.57</td>\n",
       "      <td>Other</td>\n",
       "      <td>1929-01-01</td>\n",
       "      <td>NaN</td>\n",
       "      <td>NaN</td>\n",
       "      <td>0</td>\n",
       "      <td>NaN</td>\n",
       "      <td>False</td>\n",
       "    </tr>\n",
       "  </tbody>\n",
       "</table>\n",
       "</div>"
      ],
      "text/plain": [
       "                              Coaster_name                        Location  \\\n",
       "2   Switchback Railway (Euclid Beach Park)  Cleveland, Ohio, United States   \n",
       "7         Figure Eight (Euclid Beach Park)  Cleveland, Ohio, United States   \n",
       "11                               Aero Dips  Cleveland, Ohio, United States   \n",
       "16                          Racing Coaster  Cleveland, Ohio, United States   \n",
       "49        Flying Turns (Euclid Beach Park)  Cleveland, Ohio, United States   \n",
       "\n",
       "          Status Manufacturer  Year_Introduced  Latitude  Longitude Type_Main  \\\n",
       "2   Discontinued      Unknown             1896     41.58     -81.57     Other   \n",
       "7   Discontinued      Unknown             1904     41.58     -81.57     Other   \n",
       "11  Discontinued      Unknown             1909     41.58     -81.57     Other   \n",
       "16  Discontinued      Unknown             1913     41.58     -81.57     Other   \n",
       "49  Discontinued      Unknown             1930     41.58     -81.57     Other   \n",
       "\n",
       "   Opening_date  Speed_mph  Height_ft  Inversions  Gforce  Comparison  \n",
       "2    1895-01-01        NaN        NaN           0     NaN       False  \n",
       "7    1902-01-01        NaN        NaN           0     NaN       False  \n",
       "11   1908-01-01        NaN        NaN           0     NaN       False  \n",
       "16   1912-12-01        NaN        NaN           0     NaN       False  \n",
       "49   1929-01-01        NaN        NaN           0     NaN       False  "
      ]
     },
     "execution_count": 82,
     "metadata": {},
     "output_type": "execute_result"
    }
   ],
   "source": [
    "testing_1.loc[testing_1['Opening_date'].dt.year < testing_1['Year_Introduced']].head()"
   ]
  },
  {
   "cell_type": "code",
   "execution_count": 83,
   "id": "e3bdc357-ce6b-40fb-9ed3-6a72aff2b689",
   "metadata": {
    "tags": []
   },
   "outputs": [
    {
     "data": {
      "text/html": [
       "<div>\n",
       "<style scoped>\n",
       "    .dataframe tbody tr th:only-of-type {\n",
       "        vertical-align: middle;\n",
       "    }\n",
       "\n",
       "    .dataframe tbody tr th {\n",
       "        vertical-align: top;\n",
       "    }\n",
       "\n",
       "    .dataframe thead th {\n",
       "        text-align: right;\n",
       "    }\n",
       "</style>\n",
       "<table border=\"1\" class=\"dataframe\">\n",
       "  <thead>\n",
       "    <tr style=\"text-align: right;\">\n",
       "      <th></th>\n",
       "      <th>Coaster_name</th>\n",
       "      <th>Location</th>\n",
       "      <th>Status</th>\n",
       "      <th>Manufacturer</th>\n",
       "      <th>Year_Introduced</th>\n",
       "      <th>Latitude</th>\n",
       "      <th>Longitude</th>\n",
       "      <th>Type_Main</th>\n",
       "      <th>Opening_date</th>\n",
       "      <th>Speed_mph</th>\n",
       "      <th>Height_ft</th>\n",
       "      <th>Inversions</th>\n",
       "      <th>Gforce</th>\n",
       "      <th>Comparison</th>\n",
       "    </tr>\n",
       "  </thead>\n",
       "  <tbody>\n",
       "    <tr>\n",
       "      <th>13</th>\n",
       "      <td>Racer (1910 roller coaster)</td>\n",
       "      <td>Kennywood</td>\n",
       "      <td>Operating</td>\n",
       "      <td>Charlie Mach</td>\n",
       "      <td>1910</td>\n",
       "      <td>40.3869</td>\n",
       "      <td>-79.8619</td>\n",
       "      <td>Wood</td>\n",
       "      <td>1927-01-01</td>\n",
       "      <td>40.0</td>\n",
       "      <td>NaN</td>\n",
       "      <td>0</td>\n",
       "      <td>NaN</td>\n",
       "      <td>False</td>\n",
       "    </tr>\n",
       "    <tr>\n",
       "      <th>30</th>\n",
       "      <td>Pippin (roller coaster)</td>\n",
       "      <td>Kennywood</td>\n",
       "      <td>Operating</td>\n",
       "      <td>Unknown</td>\n",
       "      <td>1924</td>\n",
       "      <td>40.3889</td>\n",
       "      <td>-79.8650</td>\n",
       "      <td>Wood</td>\n",
       "      <td>1968-01-01</td>\n",
       "      <td>55.0</td>\n",
       "      <td>NaN</td>\n",
       "      <td>0</td>\n",
       "      <td>NaN</td>\n",
       "      <td>False</td>\n",
       "    </tr>\n",
       "    <tr>\n",
       "      <th>137</th>\n",
       "      <td>Colossus (Six Flags Magic Mountain)</td>\n",
       "      <td>Six Flags Magic Mountain</td>\n",
       "      <td>Operating</td>\n",
       "      <td>Rocky Mountain Construction</td>\n",
       "      <td>1978</td>\n",
       "      <td>34.4278</td>\n",
       "      <td>-118.5975</td>\n",
       "      <td>Steel</td>\n",
       "      <td>2015-05-23</td>\n",
       "      <td>57.0</td>\n",
       "      <td>NaN</td>\n",
       "      <td>2</td>\n",
       "      <td>NaN</td>\n",
       "      <td>False</td>\n",
       "    </tr>\n",
       "    <tr>\n",
       "      <th>179</th>\n",
       "      <td>Cyclone (Six Flags New England)</td>\n",
       "      <td>Six Flags New England</td>\n",
       "      <td>Operating</td>\n",
       "      <td>Rocky Mountain Construction</td>\n",
       "      <td>1983</td>\n",
       "      <td>42.0403</td>\n",
       "      <td>-72.6156</td>\n",
       "      <td>Steel</td>\n",
       "      <td>2015-05-24</td>\n",
       "      <td>55.0</td>\n",
       "      <td>NaN</td>\n",
       "      <td>3</td>\n",
       "      <td>NaN</td>\n",
       "      <td>False</td>\n",
       "    </tr>\n",
       "    <tr>\n",
       "      <th>183</th>\n",
       "      <td>Ultra Twister (Nagashima Spa Land)</td>\n",
       "      <td>Nagashima Spa Land</td>\n",
       "      <td>Operating</td>\n",
       "      <td>TOGO</td>\n",
       "      <td>1984</td>\n",
       "      <td>35.0285</td>\n",
       "      <td>136.7326</td>\n",
       "      <td>Steel</td>\n",
       "      <td>1989-01-01</td>\n",
       "      <td>NaN</td>\n",
       "      <td>NaN</td>\n",
       "      <td>3</td>\n",
       "      <td>NaN</td>\n",
       "      <td>False</td>\n",
       "    </tr>\n",
       "  </tbody>\n",
       "</table>\n",
       "</div>"
      ],
      "text/plain": [
       "                            Coaster_name                  Location     Status  \\\n",
       "13           Racer (1910 roller coaster)                 Kennywood  Operating   \n",
       "30               Pippin (roller coaster)                 Kennywood  Operating   \n",
       "137  Colossus (Six Flags Magic Mountain)  Six Flags Magic Mountain  Operating   \n",
       "179      Cyclone (Six Flags New England)     Six Flags New England  Operating   \n",
       "183   Ultra Twister (Nagashima Spa Land)        Nagashima Spa Land  Operating   \n",
       "\n",
       "                    Manufacturer  Year_Introduced  Latitude  Longitude  \\\n",
       "13                  Charlie Mach             1910   40.3869   -79.8619   \n",
       "30                       Unknown             1924   40.3889   -79.8650   \n",
       "137  Rocky Mountain Construction             1978   34.4278  -118.5975   \n",
       "179  Rocky Mountain Construction             1983   42.0403   -72.6156   \n",
       "183                         TOGO             1984   35.0285   136.7326   \n",
       "\n",
       "    Type_Main Opening_date  Speed_mph  Height_ft  Inversions  Gforce  \\\n",
       "13       Wood   1927-01-01       40.0        NaN           0     NaN   \n",
       "30       Wood   1968-01-01       55.0        NaN           0     NaN   \n",
       "137     Steel   2015-05-23       57.0        NaN           2     NaN   \n",
       "179     Steel   2015-05-24       55.0        NaN           3     NaN   \n",
       "183     Steel   1989-01-01        NaN        NaN           3     NaN   \n",
       "\n",
       "     Comparison  \n",
       "13        False  \n",
       "30        False  \n",
       "137       False  \n",
       "179       False  \n",
       "183       False  "
      ]
     },
     "execution_count": 83,
     "metadata": {},
     "output_type": "execute_result"
    }
   ],
   "source": [
    "testing_1.loc[testing_1['Opening_date'].dt.year - testing_1['Year_Introduced'] > 1].head()"
   ]
  },
  {
   "cell_type": "code",
   "execution_count": null,
   "id": "eda43a01-ec57-4cd1-a1db-a1f61cfeaecf",
   "metadata": {
    "jupyter": {
     "source_hidden": true
    },
    "tags": []
   },
   "outputs": [],
   "source": []
  },
  {
   "cell_type": "markdown",
   "id": "c466fcd6-5bbd-429b-98f9-ab3ecbed8822",
   "metadata": {
    "tags": []
   },
   "source": [
    "#### Test2 - using bfill without any conditions"
   ]
  },
  {
   "cell_type": "code",
   "execution_count": 84,
   "id": "b08e7c6b-f28c-4f79-ba16-2d9d684caa4d",
   "metadata": {
    "tags": []
   },
   "outputs": [],
   "source": [
    "testing_2['Opening_date'] = testing_2['Opening_date'].fillna(method = 'bfill', axis = 0)"
   ]
  },
  {
   "cell_type": "code",
   "execution_count": 85,
   "id": "f85c1b81-9768-49aa-baa0-3c10e3882826",
   "metadata": {
    "tags": []
   },
   "outputs": [
    {
     "data": {
      "text/plain": [
       "True     824\n",
       "False     20\n",
       "Name: Comparison, dtype: int64"
      ]
     },
     "execution_count": 85,
     "metadata": {},
     "output_type": "execute_result"
    }
   ],
   "source": [
    "opening_greater_than_introduced(testing_2)"
   ]
  },
  {
   "cell_type": "markdown",
   "id": "6f71b961-49fd-4a9b-9191-10e363a810b1",
   "metadata": {},
   "source": [
    "- 824 records (approximately 97.6%) met the specified criteria\n",
    "- 20 records (approximately 2.4%) did not meet the predefined criteria"
   ]
  },
  {
   "cell_type": "code",
   "execution_count": null,
   "id": "5147ec9d-47e1-4c86-9f73-9569e23ae51c",
   "metadata": {
    "jupyter": {
     "source_hidden": true
    },
    "tags": []
   },
   "outputs": [],
   "source": []
  },
  {
   "cell_type": "markdown",
   "id": "221899e5-b49a-4001-a6c1-c24c0113c2f0",
   "metadata": {},
   "source": [
    "#### Test3 - create a binning datetime column\n",
    "- use bfill before creating a bin"
   ]
  },
  {
   "cell_type": "code",
   "execution_count": 86,
   "id": "5ca5d4e6-f63e-4099-b3d1-bae1b4637b4d",
   "metadata": {
    "tags": []
   },
   "outputs": [
    {
     "data": {
      "text/html": [
       "<div>\n",
       "<style scoped>\n",
       "    .dataframe tbody tr th:only-of-type {\n",
       "        vertical-align: middle;\n",
       "    }\n",
       "\n",
       "    .dataframe tbody tr th {\n",
       "        vertical-align: top;\n",
       "    }\n",
       "\n",
       "    .dataframe thead th {\n",
       "        text-align: right;\n",
       "    }\n",
       "</style>\n",
       "<table border=\"1\" class=\"dataframe\">\n",
       "  <thead>\n",
       "    <tr style=\"text-align: right;\">\n",
       "      <th></th>\n",
       "      <th>Coaster_name</th>\n",
       "      <th>Location</th>\n",
       "      <th>Status</th>\n",
       "      <th>Manufacturer</th>\n",
       "      <th>Year_Introduced</th>\n",
       "      <th>Latitude</th>\n",
       "      <th>Longitude</th>\n",
       "      <th>Type_Main</th>\n",
       "      <th>Opening_date</th>\n",
       "      <th>Speed_mph</th>\n",
       "      <th>Height_ft</th>\n",
       "      <th>Inversions</th>\n",
       "      <th>Gforce</th>\n",
       "    </tr>\n",
       "  </thead>\n",
       "  <tbody>\n",
       "    <tr>\n",
       "      <th>0</th>\n",
       "      <td>Switchback Railway</td>\n",
       "      <td>Coney Island</td>\n",
       "      <td>Discontinued</td>\n",
       "      <td>LaMarcus Adna Thompson</td>\n",
       "      <td>1884</td>\n",
       "      <td>40.5740</td>\n",
       "      <td>-73.9780</td>\n",
       "      <td>Wood</td>\n",
       "      <td>1884-06-16</td>\n",
       "      <td>6.0</td>\n",
       "      <td>NaN</td>\n",
       "      <td>0</td>\n",
       "      <td>2.9</td>\n",
       "    </tr>\n",
       "    <tr>\n",
       "      <th>1</th>\n",
       "      <td>Flip Flap Railway</td>\n",
       "      <td>Sea Lion Park</td>\n",
       "      <td>Discontinued</td>\n",
       "      <td>Lina Beecher</td>\n",
       "      <td>1895</td>\n",
       "      <td>40.5780</td>\n",
       "      <td>-73.9790</td>\n",
       "      <td>Wood</td>\n",
       "      <td>1895-01-01</td>\n",
       "      <td>NaN</td>\n",
       "      <td>NaN</td>\n",
       "      <td>1</td>\n",
       "      <td>12.0</td>\n",
       "    </tr>\n",
       "    <tr>\n",
       "      <th>2</th>\n",
       "      <td>Switchback Railway (Euclid Beach Park)</td>\n",
       "      <td>Cleveland, Ohio, United States</td>\n",
       "      <td>Discontinued</td>\n",
       "      <td>Unknown</td>\n",
       "      <td>1896</td>\n",
       "      <td>41.5800</td>\n",
       "      <td>-81.5700</td>\n",
       "      <td>Other</td>\n",
       "      <td>NaT</td>\n",
       "      <td>NaN</td>\n",
       "      <td>NaN</td>\n",
       "      <td>0</td>\n",
       "      <td>NaN</td>\n",
       "    </tr>\n",
       "    <tr>\n",
       "      <th>3</th>\n",
       "      <td>Loop the Loop (Coney Island)</td>\n",
       "      <td>Other</td>\n",
       "      <td>Discontinued</td>\n",
       "      <td>Edwin Prescott</td>\n",
       "      <td>1901</td>\n",
       "      <td>40.5745</td>\n",
       "      <td>-73.9780</td>\n",
       "      <td>Steel</td>\n",
       "      <td>1901-01-01</td>\n",
       "      <td>NaN</td>\n",
       "      <td>NaN</td>\n",
       "      <td>1</td>\n",
       "      <td>NaN</td>\n",
       "    </tr>\n",
       "    <tr>\n",
       "      <th>4</th>\n",
       "      <td>Loop the Loop (Young's Pier)</td>\n",
       "      <td>Other</td>\n",
       "      <td>Discontinued</td>\n",
       "      <td>Edwin Prescott</td>\n",
       "      <td>1901</td>\n",
       "      <td>39.3538</td>\n",
       "      <td>-74.4342</td>\n",
       "      <td>Steel</td>\n",
       "      <td>1901-01-01</td>\n",
       "      <td>NaN</td>\n",
       "      <td>NaN</td>\n",
       "      <td>1</td>\n",
       "      <td>NaN</td>\n",
       "    </tr>\n",
       "  </tbody>\n",
       "</table>\n",
       "</div>"
      ],
      "text/plain": [
       "                             Coaster_name                        Location  \\\n",
       "0                      Switchback Railway                    Coney Island   \n",
       "1                       Flip Flap Railway                   Sea Lion Park   \n",
       "2  Switchback Railway (Euclid Beach Park)  Cleveland, Ohio, United States   \n",
       "3            Loop the Loop (Coney Island)                           Other   \n",
       "4            Loop the Loop (Young's Pier)                           Other   \n",
       "\n",
       "         Status            Manufacturer  Year_Introduced  Latitude  Longitude  \\\n",
       "0  Discontinued  LaMarcus Adna Thompson             1884   40.5740   -73.9780   \n",
       "1  Discontinued            Lina Beecher             1895   40.5780   -73.9790   \n",
       "2  Discontinued                 Unknown             1896   41.5800   -81.5700   \n",
       "3  Discontinued          Edwin Prescott             1901   40.5745   -73.9780   \n",
       "4  Discontinued          Edwin Prescott             1901   39.3538   -74.4342   \n",
       "\n",
       "  Type_Main Opening_date  Speed_mph  Height_ft  Inversions  Gforce  \n",
       "0      Wood   1884-06-16        6.0        NaN           0     2.9  \n",
       "1      Wood   1895-01-01        NaN        NaN           1    12.0  \n",
       "2     Other          NaT        NaN        NaN           0     NaN  \n",
       "3     Steel   1901-01-01        NaN        NaN           1     NaN  \n",
       "4     Steel   1901-01-01        NaN        NaN           1     NaN  "
      ]
     },
     "execution_count": 86,
     "metadata": {},
     "output_type": "execute_result"
    }
   ],
   "source": [
    "testing_3.head(5)"
   ]
  },
  {
   "cell_type": "code",
   "execution_count": 87,
   "id": "44672bd8-5a59-4dc9-a3ae-c168ec43d907",
   "metadata": {
    "tags": []
   },
   "outputs": [],
   "source": [
    "testing_3['Opening_date'] = testing_3['Opening_date'].fillna(method = 'bfill', axis = 0)"
   ]
  },
  {
   "cell_type": "code",
   "execution_count": 88,
   "id": "fb353cbb-6908-4ca2-883b-bc065eab266f",
   "metadata": {
    "tags": []
   },
   "outputs": [],
   "source": [
    "min_date = testing_3['Opening_date'].min()\n",
    "max_date = testing_3['Opening_date'].max()"
   ]
  },
  {
   "cell_type": "code",
   "execution_count": 89,
   "id": "c9a2eadf-f205-4607-b5a9-badc5a0da889",
   "metadata": {
    "tags": []
   },
   "outputs": [
    {
     "name": "stdout",
     "output_type": "stream",
     "text": [
      "1884-06-16 00:00:00\n"
     ]
    }
   ],
   "source": [
    "print(min_date)"
   ]
  },
  {
   "cell_type": "code",
   "execution_count": 90,
   "id": "34811c7c-65dc-4525-a62f-edc7ab2f6ddf",
   "metadata": {
    "tags": []
   },
   "outputs": [
    {
     "name": "stdout",
     "output_type": "stream",
     "text": [
      "2022-03-01 00:00:00\n"
     ]
    }
   ],
   "source": [
    "print(max_date)"
   ]
  },
  {
   "cell_type": "code",
   "execution_count": 91,
   "id": "3017e5d0-fdd3-4daa-9852-2f6bf2828a7e",
   "metadata": {
    "tags": []
   },
   "outputs": [],
   "source": [
    "bins = pd.date_range(start='1884-01-01', freq='10YS', periods=15)\n",
    "label  = [f'{year} - {year+9}' for year in range(min_date.year, max_date.year, 10)]"
   ]
  },
  {
   "cell_type": "code",
   "execution_count": 92,
   "id": "73d6bf8a-5648-45e4-856a-3f978cf22061",
   "metadata": {
    "tags": []
   },
   "outputs": [
    {
     "name": "stdout",
     "output_type": "stream",
     "text": [
      "15\n"
     ]
    }
   ],
   "source": [
    "print(len(bins))"
   ]
  },
  {
   "cell_type": "code",
   "execution_count": 93,
   "id": "63d12ea9-fd84-40c2-a054-79337ff44471",
   "metadata": {
    "tags": []
   },
   "outputs": [
    {
     "name": "stdout",
     "output_type": "stream",
     "text": [
      "DatetimeIndex(['1884-01-01', '1894-01-01', '1904-01-01', '1914-01-01',\n",
      "               '1924-01-01', '1934-01-01', '1944-01-01', '1954-01-01',\n",
      "               '1964-01-01', '1974-01-01', '1984-01-01', '1994-01-01',\n",
      "               '2004-01-01', '2014-01-01', '2024-01-01'],\n",
      "              dtype='datetime64[ns]', freq='10AS-JAN')\n"
     ]
    }
   ],
   "source": [
    "print(bins)"
   ]
  },
  {
   "cell_type": "code",
   "execution_count": 94,
   "id": "e5f0fbe9-ccfc-4e9a-8938-e84199602809",
   "metadata": {
    "tags": []
   },
   "outputs": [
    {
     "name": "stdout",
     "output_type": "stream",
     "text": [
      "14\n"
     ]
    }
   ],
   "source": [
    "print(len(label))"
   ]
  },
  {
   "cell_type": "code",
   "execution_count": 95,
   "id": "0cc3d87f-f3d6-4c94-bc2e-1d75f6f922c1",
   "metadata": {
    "tags": []
   },
   "outputs": [
    {
     "name": "stdout",
     "output_type": "stream",
     "text": [
      "['1884 - 1893', '1894 - 1903', '1904 - 1913', '1914 - 1923', '1924 - 1933', '1934 - 1943', '1944 - 1953', '1954 - 1963', '1964 - 1973', '1974 - 1983', '1984 - 1993', '1994 - 2003', '2004 - 2013', '2014 - 2023']\n"
     ]
    }
   ],
   "source": [
    "print(label)"
   ]
  },
  {
   "cell_type": "code",
   "execution_count": 96,
   "id": "dba64213-0447-4432-849f-a274089c250d",
   "metadata": {
    "tags": []
   },
   "outputs": [],
   "source": [
    "testing_3['Opening_Year_Range'] = pd.cut(testing_3['Opening_date'], bins = bins, labels = label, right = True)"
   ]
  },
  {
   "cell_type": "code",
   "execution_count": 97,
   "id": "e4d3ac18-b504-4ec6-afd3-cf9626f2f99c",
   "metadata": {
    "tags": []
   },
   "outputs": [
    {
     "data": {
      "text/html": [
       "<div>\n",
       "<style scoped>\n",
       "    .dataframe tbody tr th:only-of-type {\n",
       "        vertical-align: middle;\n",
       "    }\n",
       "\n",
       "    .dataframe tbody tr th {\n",
       "        vertical-align: top;\n",
       "    }\n",
       "\n",
       "    .dataframe thead th {\n",
       "        text-align: right;\n",
       "    }\n",
       "</style>\n",
       "<table border=\"1\" class=\"dataframe\">\n",
       "  <thead>\n",
       "    <tr style=\"text-align: right;\">\n",
       "      <th></th>\n",
       "      <th>Coaster_name</th>\n",
       "      <th>Location</th>\n",
       "      <th>Status</th>\n",
       "      <th>Manufacturer</th>\n",
       "      <th>Year_Introduced</th>\n",
       "      <th>Latitude</th>\n",
       "      <th>Longitude</th>\n",
       "      <th>Type_Main</th>\n",
       "      <th>Opening_date</th>\n",
       "      <th>Speed_mph</th>\n",
       "      <th>Height_ft</th>\n",
       "      <th>Inversions</th>\n",
       "      <th>Gforce</th>\n",
       "      <th>Opening_Year_Range</th>\n",
       "    </tr>\n",
       "  </thead>\n",
       "  <tbody>\n",
       "    <tr>\n",
       "      <th>0</th>\n",
       "      <td>Switchback Railway</td>\n",
       "      <td>Coney Island</td>\n",
       "      <td>Discontinued</td>\n",
       "      <td>LaMarcus Adna Thompson</td>\n",
       "      <td>1884</td>\n",
       "      <td>40.5740</td>\n",
       "      <td>-73.9780</td>\n",
       "      <td>Wood</td>\n",
       "      <td>1884-06-16</td>\n",
       "      <td>6.0</td>\n",
       "      <td>NaN</td>\n",
       "      <td>0</td>\n",
       "      <td>2.90</td>\n",
       "      <td>1884 - 1893</td>\n",
       "    </tr>\n",
       "    <tr>\n",
       "      <th>1</th>\n",
       "      <td>Flip Flap Railway</td>\n",
       "      <td>Sea Lion Park</td>\n",
       "      <td>Discontinued</td>\n",
       "      <td>Lina Beecher</td>\n",
       "      <td>1895</td>\n",
       "      <td>40.5780</td>\n",
       "      <td>-73.9790</td>\n",
       "      <td>Wood</td>\n",
       "      <td>1895-01-01</td>\n",
       "      <td>NaN</td>\n",
       "      <td>NaN</td>\n",
       "      <td>1</td>\n",
       "      <td>12.00</td>\n",
       "      <td>1894 - 1903</td>\n",
       "    </tr>\n",
       "    <tr>\n",
       "      <th>2</th>\n",
       "      <td>Switchback Railway (Euclid Beach Park)</td>\n",
       "      <td>Cleveland, Ohio, United States</td>\n",
       "      <td>Discontinued</td>\n",
       "      <td>Unknown</td>\n",
       "      <td>1896</td>\n",
       "      <td>41.5800</td>\n",
       "      <td>-81.5700</td>\n",
       "      <td>Other</td>\n",
       "      <td>1901-01-01</td>\n",
       "      <td>NaN</td>\n",
       "      <td>NaN</td>\n",
       "      <td>0</td>\n",
       "      <td>NaN</td>\n",
       "      <td>1894 - 1903</td>\n",
       "    </tr>\n",
       "    <tr>\n",
       "      <th>3</th>\n",
       "      <td>Loop the Loop (Coney Island)</td>\n",
       "      <td>Other</td>\n",
       "      <td>Discontinued</td>\n",
       "      <td>Edwin Prescott</td>\n",
       "      <td>1901</td>\n",
       "      <td>40.5745</td>\n",
       "      <td>-73.9780</td>\n",
       "      <td>Steel</td>\n",
       "      <td>1901-01-01</td>\n",
       "      <td>NaN</td>\n",
       "      <td>NaN</td>\n",
       "      <td>1</td>\n",
       "      <td>NaN</td>\n",
       "      <td>1894 - 1903</td>\n",
       "    </tr>\n",
       "    <tr>\n",
       "      <th>4</th>\n",
       "      <td>Loop the Loop (Young's Pier)</td>\n",
       "      <td>Other</td>\n",
       "      <td>Discontinued</td>\n",
       "      <td>Edwin Prescott</td>\n",
       "      <td>1901</td>\n",
       "      <td>39.3538</td>\n",
       "      <td>-74.4342</td>\n",
       "      <td>Steel</td>\n",
       "      <td>1901-01-01</td>\n",
       "      <td>NaN</td>\n",
       "      <td>NaN</td>\n",
       "      <td>1</td>\n",
       "      <td>NaN</td>\n",
       "      <td>1894 - 1903</td>\n",
       "    </tr>\n",
       "    <tr>\n",
       "      <th>...</th>\n",
       "      <td>...</td>\n",
       "      <td>...</td>\n",
       "      <td>...</td>\n",
       "      <td>...</td>\n",
       "      <td>...</td>\n",
       "      <td>...</td>\n",
       "      <td>...</td>\n",
       "      <td>...</td>\n",
       "      <td>...</td>\n",
       "      <td>...</td>\n",
       "      <td>...</td>\n",
       "      <td>...</td>\n",
       "      <td>...</td>\n",
       "      <td>...</td>\n",
       "    </tr>\n",
       "    <tr>\n",
       "      <th>839</th>\n",
       "      <td>ArieForce One</td>\n",
       "      <td>Fun Spot America Atlanta</td>\n",
       "      <td>Operating</td>\n",
       "      <td>Rocky Mountain Construction</td>\n",
       "      <td>2022</td>\n",
       "      <td>NaN</td>\n",
       "      <td>NaN</td>\n",
       "      <td>Steel</td>\n",
       "      <td>2022-01-01</td>\n",
       "      <td>64.0</td>\n",
       "      <td>NaN</td>\n",
       "      <td>4</td>\n",
       "      <td>3.75</td>\n",
       "      <td>2014 - 2023</td>\n",
       "    </tr>\n",
       "    <tr>\n",
       "      <th>840</th>\n",
       "      <td>Aquaman: Power Wave</td>\n",
       "      <td>Six Flags Over Texas</td>\n",
       "      <td>Operating</td>\n",
       "      <td>Mack Rides</td>\n",
       "      <td>2022</td>\n",
       "      <td>32.7560</td>\n",
       "      <td>-97.0710</td>\n",
       "      <td>Steel</td>\n",
       "      <td>2022-01-01</td>\n",
       "      <td>62.1</td>\n",
       "      <td>NaN</td>\n",
       "      <td>0</td>\n",
       "      <td>NaN</td>\n",
       "      <td>2014 - 2023</td>\n",
       "    </tr>\n",
       "    <tr>\n",
       "      <th>841</th>\n",
       "      <td>Tumbili</td>\n",
       "      <td>Kings Dominion</td>\n",
       "      <td>Operating</td>\n",
       "      <td>S&amp;S – Sansei Technologies</td>\n",
       "      <td>2022</td>\n",
       "      <td>NaN</td>\n",
       "      <td>NaN</td>\n",
       "      <td>Steel</td>\n",
       "      <td>2022-03-01</td>\n",
       "      <td>34.0</td>\n",
       "      <td>NaN</td>\n",
       "      <td>0</td>\n",
       "      <td>NaN</td>\n",
       "      <td>2014 - 2023</td>\n",
       "    </tr>\n",
       "    <tr>\n",
       "      <th>842</th>\n",
       "      <td>Emperor (roller coaster)</td>\n",
       "      <td>SeaWorld San Diego</td>\n",
       "      <td>Operating</td>\n",
       "      <td>Bolliger &amp; Mabillard</td>\n",
       "      <td>2022</td>\n",
       "      <td>32.7640</td>\n",
       "      <td>-117.2224</td>\n",
       "      <td>Steel</td>\n",
       "      <td>2022-03-01</td>\n",
       "      <td>63.0</td>\n",
       "      <td>NaN</td>\n",
       "      <td>4</td>\n",
       "      <td>NaN</td>\n",
       "      <td>2014 - 2023</td>\n",
       "    </tr>\n",
       "    <tr>\n",
       "      <th>843</th>\n",
       "      <td>Wonder Woman Flight of Courage</td>\n",
       "      <td>Six Flags Magic Mountain</td>\n",
       "      <td>Operating</td>\n",
       "      <td>Rocky Mountain Construction</td>\n",
       "      <td>2022</td>\n",
       "      <td>NaN</td>\n",
       "      <td>NaN</td>\n",
       "      <td>Steel</td>\n",
       "      <td>2022-01-01</td>\n",
       "      <td>58.0</td>\n",
       "      <td>NaN</td>\n",
       "      <td>3</td>\n",
       "      <td>NaN</td>\n",
       "      <td>2014 - 2023</td>\n",
       "    </tr>\n",
       "  </tbody>\n",
       "</table>\n",
       "<p>844 rows × 14 columns</p>\n",
       "</div>"
      ],
      "text/plain": [
       "                               Coaster_name                        Location  \\\n",
       "0                        Switchback Railway                    Coney Island   \n",
       "1                         Flip Flap Railway                   Sea Lion Park   \n",
       "2    Switchback Railway (Euclid Beach Park)  Cleveland, Ohio, United States   \n",
       "3              Loop the Loop (Coney Island)                           Other   \n",
       "4              Loop the Loop (Young's Pier)                           Other   \n",
       "..                                      ...                             ...   \n",
       "839                           ArieForce One        Fun Spot America Atlanta   \n",
       "840                     Aquaman: Power Wave            Six Flags Over Texas   \n",
       "841                                 Tumbili                  Kings Dominion   \n",
       "842                Emperor (roller coaster)              SeaWorld San Diego   \n",
       "843          Wonder Woman Flight of Courage        Six Flags Magic Mountain   \n",
       "\n",
       "           Status                 Manufacturer  Year_Introduced  Latitude  \\\n",
       "0    Discontinued       LaMarcus Adna Thompson             1884   40.5740   \n",
       "1    Discontinued                 Lina Beecher             1895   40.5780   \n",
       "2    Discontinued                      Unknown             1896   41.5800   \n",
       "3    Discontinued               Edwin Prescott             1901   40.5745   \n",
       "4    Discontinued               Edwin Prescott             1901   39.3538   \n",
       "..            ...                          ...              ...       ...   \n",
       "839     Operating  Rocky Mountain Construction             2022       NaN   \n",
       "840     Operating                   Mack Rides             2022   32.7560   \n",
       "841     Operating    S&S – Sansei Technologies             2022       NaN   \n",
       "842     Operating         Bolliger & Mabillard             2022   32.7640   \n",
       "843     Operating  Rocky Mountain Construction             2022       NaN   \n",
       "\n",
       "     Longitude Type_Main Opening_date  Speed_mph  Height_ft  Inversions  \\\n",
       "0     -73.9780      Wood   1884-06-16        6.0        NaN           0   \n",
       "1     -73.9790      Wood   1895-01-01        NaN        NaN           1   \n",
       "2     -81.5700     Other   1901-01-01        NaN        NaN           0   \n",
       "3     -73.9780     Steel   1901-01-01        NaN        NaN           1   \n",
       "4     -74.4342     Steel   1901-01-01        NaN        NaN           1   \n",
       "..         ...       ...          ...        ...        ...         ...   \n",
       "839        NaN     Steel   2022-01-01       64.0        NaN           4   \n",
       "840   -97.0710     Steel   2022-01-01       62.1        NaN           0   \n",
       "841        NaN     Steel   2022-03-01       34.0        NaN           0   \n",
       "842  -117.2224     Steel   2022-03-01       63.0        NaN           4   \n",
       "843        NaN     Steel   2022-01-01       58.0        NaN           3   \n",
       "\n",
       "     Gforce Opening_Year_Range  \n",
       "0      2.90        1884 - 1893  \n",
       "1     12.00        1894 - 1903  \n",
       "2       NaN        1894 - 1903  \n",
       "3       NaN        1894 - 1903  \n",
       "4       NaN        1894 - 1903  \n",
       "..      ...                ...  \n",
       "839    3.75        2014 - 2023  \n",
       "840     NaN        2014 - 2023  \n",
       "841     NaN        2014 - 2023  \n",
       "842     NaN        2014 - 2023  \n",
       "843     NaN        2014 - 2023  \n",
       "\n",
       "[844 rows x 14 columns]"
      ]
     },
     "execution_count": 97,
     "metadata": {},
     "output_type": "execute_result"
    }
   ],
   "source": [
    "testing_3"
   ]
  },
  {
   "cell_type": "markdown",
   "id": "97168313-47db-4084-afeb-a081e8d104cb",
   "metadata": {},
   "source": [
    "- a little different here, to test the accuracy\n",
    "- the result will be true if the year introduced is within the opening_year_range"
   ]
  },
  {
   "cell_type": "code",
   "execution_count": 98,
   "id": "36458373-1300-4124-9c3a-5bd1fd7f387a",
   "metadata": {
    "tags": []
   },
   "outputs": [
    {
     "data": {
      "text/plain": [
       "True     810\n",
       "False     34\n",
       "Name: In_Range, dtype: int64"
      ]
     },
     "execution_count": 98,
     "metadata": {},
     "output_type": "execute_result"
    }
   ],
   "source": [
    "testing_3[['Sy', 'Ey']] = testing_3['Opening_Year_Range'].str.split('-', expand = True).astype(int)\n",
    "testing_3['In_Range'] = (testing_3['Year_Introduced'] >= testing_3['Sy']) & (testing_3['Year_Introduced'] <= testing_3['Ey'])\n",
    "\n",
    "testing_3['In_Range'].value_counts()"
   ]
  },
  {
   "cell_type": "code",
   "execution_count": 99,
   "id": "0d6e99f4-9f5a-42cf-8eab-b981818fd6e4",
   "metadata": {
    "tags": []
   },
   "outputs": [
    {
     "data": {
      "text/html": [
       "<div>\n",
       "<style scoped>\n",
       "    .dataframe tbody tr th:only-of-type {\n",
       "        vertical-align: middle;\n",
       "    }\n",
       "\n",
       "    .dataframe tbody tr th {\n",
       "        vertical-align: top;\n",
       "    }\n",
       "\n",
       "    .dataframe thead th {\n",
       "        text-align: right;\n",
       "    }\n",
       "</style>\n",
       "<table border=\"1\" class=\"dataframe\">\n",
       "  <thead>\n",
       "    <tr style=\"text-align: right;\">\n",
       "      <th></th>\n",
       "      <th>Coaster_name</th>\n",
       "      <th>Location</th>\n",
       "      <th>Status</th>\n",
       "      <th>Manufacturer</th>\n",
       "      <th>Year_Introduced</th>\n",
       "      <th>Latitude</th>\n",
       "      <th>Longitude</th>\n",
       "      <th>Type_Main</th>\n",
       "      <th>Opening_date</th>\n",
       "      <th>Speed_mph</th>\n",
       "      <th>Height_ft</th>\n",
       "      <th>Inversions</th>\n",
       "      <th>Gforce</th>\n",
       "      <th>Opening_Year_Range</th>\n",
       "      <th>Sy</th>\n",
       "      <th>Ey</th>\n",
       "      <th>In_Range</th>\n",
       "    </tr>\n",
       "  </thead>\n",
       "  <tbody>\n",
       "    <tr>\n",
       "      <th>517</th>\n",
       "      <td>WhirlWind (Seabreeze)</td>\n",
       "      <td>Seabreeze Amusement Park</td>\n",
       "      <td>Operating</td>\n",
       "      <td>Maurer AG</td>\n",
       "      <td>2004</td>\n",
       "      <td>43.2340</td>\n",
       "      <td>-77.5429</td>\n",
       "      <td>Steel</td>\n",
       "      <td>2004-01-01</td>\n",
       "      <td>37.3</td>\n",
       "      <td>NaN</td>\n",
       "      <td>0</td>\n",
       "      <td>NaN</td>\n",
       "      <td>1994 - 2003</td>\n",
       "      <td>1994</td>\n",
       "      <td>2003</td>\n",
       "      <td>False</td>\n",
       "    </tr>\n",
       "    <tr>\n",
       "      <th>531</th>\n",
       "      <td>Lightning (roller coaster)</td>\n",
       "      <td>Kuwait Entertainment City</td>\n",
       "      <td>Discontinued</td>\n",
       "      <td>Bolliger &amp; Mabillard</td>\n",
       "      <td>2004</td>\n",
       "      <td>29.3456</td>\n",
       "      <td>47.8182</td>\n",
       "      <td>Steel</td>\n",
       "      <td>2004-01-01</td>\n",
       "      <td>53.0</td>\n",
       "      <td>NaN</td>\n",
       "      <td>5</td>\n",
       "      <td>NaN</td>\n",
       "      <td>1994 - 2003</td>\n",
       "      <td>1994</td>\n",
       "      <td>2003</td>\n",
       "      <td>False</td>\n",
       "    </tr>\n",
       "    <tr>\n",
       "      <th>533</th>\n",
       "      <td>Shock Wave (Brean Leisure Park)</td>\n",
       "      <td>Brean Leisure Park</td>\n",
       "      <td>Operating</td>\n",
       "      <td>Pinfari</td>\n",
       "      <td>2004</td>\n",
       "      <td>51.2861</td>\n",
       "      <td>-3.0089</td>\n",
       "      <td>Steel</td>\n",
       "      <td>2004-01-01</td>\n",
       "      <td>NaN</td>\n",
       "      <td>NaN</td>\n",
       "      <td>1</td>\n",
       "      <td>NaN</td>\n",
       "      <td>1994 - 2003</td>\n",
       "      <td>1994</td>\n",
       "      <td>2003</td>\n",
       "      <td>False</td>\n",
       "    </tr>\n",
       "    <tr>\n",
       "      <th>536</th>\n",
       "      <td>Space Mountain: Mission 2</td>\n",
       "      <td>Disneyland Park (Paris)</td>\n",
       "      <td>Operating</td>\n",
       "      <td>Vekoma</td>\n",
       "      <td>2005</td>\n",
       "      <td>48.8741</td>\n",
       "      <td>2.7793</td>\n",
       "      <td>Steel</td>\n",
       "      <td>2017-05-07</td>\n",
       "      <td>44.0</td>\n",
       "      <td>NaN</td>\n",
       "      <td>3</td>\n",
       "      <td>NaN</td>\n",
       "      <td>2014 - 2023</td>\n",
       "      <td>2014</td>\n",
       "      <td>2023</td>\n",
       "      <td>False</td>\n",
       "    </tr>\n",
       "    <tr>\n",
       "      <th>721</th>\n",
       "      <td>The Bat (Kings Island; opened 1993)</td>\n",
       "      <td>Kings Island</td>\n",
       "      <td>Operating</td>\n",
       "      <td>Arrow Dynamics</td>\n",
       "      <td>2014</td>\n",
       "      <td>39.3476</td>\n",
       "      <td>-84.2652</td>\n",
       "      <td>Steel</td>\n",
       "      <td>2014-01-01</td>\n",
       "      <td>51.0</td>\n",
       "      <td>NaN</td>\n",
       "      <td>0</td>\n",
       "      <td>2.9</td>\n",
       "      <td>2004 - 2013</td>\n",
       "      <td>2004</td>\n",
       "      <td>2013</td>\n",
       "      <td>False</td>\n",
       "    </tr>\n",
       "  </tbody>\n",
       "</table>\n",
       "</div>"
      ],
      "text/plain": [
       "                            Coaster_name                   Location  \\\n",
       "517                WhirlWind (Seabreeze)   Seabreeze Amusement Park   \n",
       "531           Lightning (roller coaster)  Kuwait Entertainment City   \n",
       "533      Shock Wave (Brean Leisure Park)         Brean Leisure Park   \n",
       "536            Space Mountain: Mission 2    Disneyland Park (Paris)   \n",
       "721  The Bat (Kings Island; opened 1993)               Kings Island   \n",
       "\n",
       "           Status          Manufacturer  Year_Introduced  Latitude  Longitude  \\\n",
       "517     Operating             Maurer AG             2004   43.2340   -77.5429   \n",
       "531  Discontinued  Bolliger & Mabillard             2004   29.3456    47.8182   \n",
       "533     Operating               Pinfari             2004   51.2861    -3.0089   \n",
       "536     Operating                Vekoma             2005   48.8741     2.7793   \n",
       "721     Operating        Arrow Dynamics             2014   39.3476   -84.2652   \n",
       "\n",
       "    Type_Main Opening_date  Speed_mph  Height_ft  Inversions  Gforce  \\\n",
       "517     Steel   2004-01-01       37.3        NaN           0     NaN   \n",
       "531     Steel   2004-01-01       53.0        NaN           5     NaN   \n",
       "533     Steel   2004-01-01        NaN        NaN           1     NaN   \n",
       "536     Steel   2017-05-07       44.0        NaN           3     NaN   \n",
       "721     Steel   2014-01-01       51.0        NaN           0     2.9   \n",
       "\n",
       "    Opening_Year_Range    Sy    Ey  In_Range  \n",
       "517        1994 - 2003  1994  2003     False  \n",
       "531        1994 - 2003  1994  2003     False  \n",
       "533        1994 - 2003  1994  2003     False  \n",
       "536        2014 - 2023  2014  2023     False  \n",
       "721        2004 - 2013  2004  2013     False  "
      ]
     },
     "execution_count": 99,
     "metadata": {},
     "output_type": "execute_result"
    }
   ],
   "source": [
    "n_r = testing_3[~testing_3['In_Range']]\n",
    "n_r.tail(5)"
   ]
  },
  {
   "cell_type": "code",
   "execution_count": 100,
   "id": "575a2cf1-f804-415a-abc2-3b43b9184fef",
   "metadata": {
    "tags": []
   },
   "outputs": [
    {
     "data": {
      "text/plain": [
       "['1924 - 1933', '1904 - 1913', '1914 - 1923', '1964 - 1973', '1954 - 1963', '2014 - 2023', '1974 - 1983', '2004 - 2013', '1984 - 1993', '1994 - 2003']\n",
       "Categories (14, object): ['1884 - 1893' < '1894 - 1903' < '1904 - 1913' < '1914 - 1923' ... '1984 - 1993' < '1994 - 2003' < '2004 - 2013' < '2014 - 2023']"
      ]
     },
     "execution_count": 100,
     "metadata": {},
     "output_type": "execute_result"
    }
   ],
   "source": [
    "n_r['Opening_Year_Range'].unique()"
   ]
  },
  {
   "cell_type": "markdown",
   "id": "fe69e708-100d-435a-9284-e524e457e2f2",
   "metadata": {
    "tags": []
   },
   "source": [
    "- Testing_3 has an accuracy rate of 34 out of 844 data points.\n",
    "- 4% of data inaccuracy, therefore, we will use testing_2 method to fill up the empty value for opening_year"
   ]
  },
  {
   "cell_type": "code",
   "execution_count": 101,
   "id": "ab45f774-c8b0-42ae-beeb-949ca394f41c",
   "metadata": {},
   "outputs": [
    {
     "data": {
      "text/html": [
       "<div>\n",
       "<style scoped>\n",
       "    .dataframe tbody tr th:only-of-type {\n",
       "        vertical-align: middle;\n",
       "    }\n",
       "\n",
       "    .dataframe tbody tr th {\n",
       "        vertical-align: top;\n",
       "    }\n",
       "\n",
       "    .dataframe thead th {\n",
       "        text-align: right;\n",
       "    }\n",
       "</style>\n",
       "<table border=\"1\" class=\"dataframe\">\n",
       "  <thead>\n",
       "    <tr style=\"text-align: right;\">\n",
       "      <th></th>\n",
       "      <th>Coaster_name</th>\n",
       "      <th>Location</th>\n",
       "      <th>Status</th>\n",
       "      <th>Manufacturer</th>\n",
       "      <th>Year_Introduced</th>\n",
       "      <th>Latitude</th>\n",
       "      <th>Longitude</th>\n",
       "      <th>Type_Main</th>\n",
       "      <th>Opening_date</th>\n",
       "      <th>Speed_mph</th>\n",
       "      <th>Height_ft</th>\n",
       "      <th>Inversions</th>\n",
       "      <th>Gforce</th>\n",
       "    </tr>\n",
       "  </thead>\n",
       "  <tbody>\n",
       "    <tr>\n",
       "      <th>0</th>\n",
       "      <td>Switchback Railway</td>\n",
       "      <td>Coney Island</td>\n",
       "      <td>Discontinued</td>\n",
       "      <td>LaMarcus Adna Thompson</td>\n",
       "      <td>1884</td>\n",
       "      <td>40.5740</td>\n",
       "      <td>-73.9780</td>\n",
       "      <td>Wood</td>\n",
       "      <td>1884-06-16</td>\n",
       "      <td>6.0</td>\n",
       "      <td>NaN</td>\n",
       "      <td>0</td>\n",
       "      <td>2.9</td>\n",
       "    </tr>\n",
       "    <tr>\n",
       "      <th>1</th>\n",
       "      <td>Flip Flap Railway</td>\n",
       "      <td>Sea Lion Park</td>\n",
       "      <td>Discontinued</td>\n",
       "      <td>Lina Beecher</td>\n",
       "      <td>1895</td>\n",
       "      <td>40.5780</td>\n",
       "      <td>-73.9790</td>\n",
       "      <td>Wood</td>\n",
       "      <td>1895-01-01</td>\n",
       "      <td>NaN</td>\n",
       "      <td>NaN</td>\n",
       "      <td>1</td>\n",
       "      <td>12.0</td>\n",
       "    </tr>\n",
       "    <tr>\n",
       "      <th>2</th>\n",
       "      <td>Switchback Railway (Euclid Beach Park)</td>\n",
       "      <td>Cleveland, Ohio, United States</td>\n",
       "      <td>Discontinued</td>\n",
       "      <td>Unknown</td>\n",
       "      <td>1896</td>\n",
       "      <td>41.5800</td>\n",
       "      <td>-81.5700</td>\n",
       "      <td>Other</td>\n",
       "      <td>NaT</td>\n",
       "      <td>NaN</td>\n",
       "      <td>NaN</td>\n",
       "      <td>0</td>\n",
       "      <td>NaN</td>\n",
       "    </tr>\n",
       "    <tr>\n",
       "      <th>3</th>\n",
       "      <td>Loop the Loop (Coney Island)</td>\n",
       "      <td>Other</td>\n",
       "      <td>Discontinued</td>\n",
       "      <td>Edwin Prescott</td>\n",
       "      <td>1901</td>\n",
       "      <td>40.5745</td>\n",
       "      <td>-73.9780</td>\n",
       "      <td>Steel</td>\n",
       "      <td>1901-01-01</td>\n",
       "      <td>NaN</td>\n",
       "      <td>NaN</td>\n",
       "      <td>1</td>\n",
       "      <td>NaN</td>\n",
       "    </tr>\n",
       "    <tr>\n",
       "      <th>4</th>\n",
       "      <td>Loop the Loop (Young's Pier)</td>\n",
       "      <td>Other</td>\n",
       "      <td>Discontinued</td>\n",
       "      <td>Edwin Prescott</td>\n",
       "      <td>1901</td>\n",
       "      <td>39.3538</td>\n",
       "      <td>-74.4342</td>\n",
       "      <td>Steel</td>\n",
       "      <td>1901-01-01</td>\n",
       "      <td>NaN</td>\n",
       "      <td>NaN</td>\n",
       "      <td>1</td>\n",
       "      <td>NaN</td>\n",
       "    </tr>\n",
       "  </tbody>\n",
       "</table>\n",
       "</div>"
      ],
      "text/plain": [
       "                             Coaster_name                        Location  \\\n",
       "0                      Switchback Railway                    Coney Island   \n",
       "1                       Flip Flap Railway                   Sea Lion Park   \n",
       "2  Switchback Railway (Euclid Beach Park)  Cleveland, Ohio, United States   \n",
       "3            Loop the Loop (Coney Island)                           Other   \n",
       "4            Loop the Loop (Young's Pier)                           Other   \n",
       "\n",
       "         Status            Manufacturer  Year_Introduced  Latitude  Longitude  \\\n",
       "0  Discontinued  LaMarcus Adna Thompson             1884   40.5740   -73.9780   \n",
       "1  Discontinued            Lina Beecher             1895   40.5780   -73.9790   \n",
       "2  Discontinued                 Unknown             1896   41.5800   -81.5700   \n",
       "3  Discontinued          Edwin Prescott             1901   40.5745   -73.9780   \n",
       "4  Discontinued          Edwin Prescott             1901   39.3538   -74.4342   \n",
       "\n",
       "  Type_Main Opening_date  Speed_mph  Height_ft  Inversions  Gforce  \n",
       "0      Wood   1884-06-16        6.0        NaN           0     2.9  \n",
       "1      Wood   1895-01-01        NaN        NaN           1    12.0  \n",
       "2     Other          NaT        NaN        NaN           0     NaN  \n",
       "3     Steel   1901-01-01        NaN        NaN           1     NaN  \n",
       "4     Steel   1901-01-01        NaN        NaN           1     NaN  "
      ]
     },
     "execution_count": 101,
     "metadata": {},
     "output_type": "execute_result"
    }
   ],
   "source": [
    "df.head()"
   ]
  },
  {
   "cell_type": "markdown",
   "id": "564ef8c5-8fde-4b0c-97f2-960d14c17005",
   "metadata": {},
   "source": [
    "- Based on the testing, testing_0 produced the best accuracy"
   ]
  },
  {
   "cell_type": "code",
   "execution_count": 102,
   "id": "1d1f94e6-2e4e-4a91-a5d4-2ecb253b0d29",
   "metadata": {
    "tags": []
   },
   "outputs": [
    {
     "data": {
      "text/plain": [
       "False    800\n",
       "True      44\n",
       "Name: Opening_date, dtype: int64"
      ]
     },
     "execution_count": 102,
     "metadata": {},
     "output_type": "execute_result"
    }
   ],
   "source": [
    "df['Opening_date'].isnull().value_counts()"
   ]
  },
  {
   "cell_type": "code",
   "execution_count": 103,
   "id": "8d835a48-2836-464f-93aa-014deecfab1c",
   "metadata": {
    "tags": []
   },
   "outputs": [
    {
     "data": {
      "text/plain": [
       "True     784\n",
       "False     60\n",
       "Name: Comparison, dtype: int64"
      ]
     },
     "execution_count": 103,
     "metadata": {},
     "output_type": "execute_result"
    }
   ],
   "source": [
    "opening_greater_than_introduced(df)"
   ]
  },
  {
   "cell_type": "code",
   "execution_count": 104,
   "id": "d87ab612-0838-415c-940a-d31a866d8c4e",
   "metadata": {
    "tags": []
   },
   "outputs": [],
   "source": [
    "df['Opening_date'].fillna(pd.to_datetime(df['Year_Introduced'], format='%Y').apply(lambda x : pd.Timestamp(x.year, 1, 1)), inplace = True)"
   ]
  },
  {
   "cell_type": "code",
   "execution_count": 105,
   "id": "47eb783f-8112-4f6c-b7cd-faf159fb0ebf",
   "metadata": {
    "tags": []
   },
   "outputs": [
    {
     "data": {
      "text/plain": [
       "True     828\n",
       "False     16\n",
       "Name: Comparison, dtype: int64"
      ]
     },
     "execution_count": 105,
     "metadata": {},
     "output_type": "execute_result"
    }
   ],
   "source": [
    "opening_greater_than_introduced(df)"
   ]
  },
  {
   "cell_type": "code",
   "execution_count": 106,
   "id": "f0297cef-e42f-4f76-9021-4a37f50251cf",
   "metadata": {
    "tags": []
   },
   "outputs": [
    {
     "name": "stdout",
     "output_type": "stream",
     "text": [
      "<class 'pandas.core.frame.DataFrame'>\n",
      "RangeIndex: 844 entries, 0 to 843\n",
      "Data columns (total 14 columns):\n",
      " #   Column           Non-Null Count  Dtype         \n",
      "---  ------           --------------  -----         \n",
      " 0   Coaster_name     844 non-null    object        \n",
      " 1   Location         844 non-null    object        \n",
      " 2   Status           844 non-null    object        \n",
      " 3   Manufacturer     844 non-null    object        \n",
      " 4   Year_Introduced  844 non-null    int64         \n",
      " 5   Latitude         766 non-null    float64       \n",
      " 6   Longitude        766 non-null    float64       \n",
      " 7   Type_Main        844 non-null    object        \n",
      " 8   Opening_date     844 non-null    datetime64[ns]\n",
      " 9   Speed_mph        727 non-null    float64       \n",
      " 10  Height_ft        150 non-null    float64       \n",
      " 11  Inversions       844 non-null    int64         \n",
      " 12  Gforce           275 non-null    float64       \n",
      " 13  Comparison       844 non-null    bool          \n",
      "dtypes: bool(1), datetime64[ns](1), float64(5), int64(2), object(5)\n",
      "memory usage: 86.7+ KB\n"
     ]
    }
   ],
   "source": [
    "df.info()"
   ]
  },
  {
   "cell_type": "markdown",
   "id": "9fe6a69a-b2fb-46a6-951d-dfcde2015696",
   "metadata": {},
   "source": [
    "#### Speed column"
   ]
  },
  {
   "cell_type": "markdown",
   "id": "e002f156-e443-4f08-9283-8efdde87b5dd",
   "metadata": {
    "tags": []
   },
   "source": [
    "- Before looking into any table or exploratory analyses regarding the speed column, i presumed that the columns such as:\n",
    "    - year_introduced, \n",
    "    - type_main, \n",
    "     - height_ft, \n",
    "    - g_force\n",
    "might influence the speed of the roller coasters"
   ]
  },
  {
   "cell_type": "code",
   "execution_count": 107,
   "id": "36f5dd92-2250-4725-9f9d-34a764820e3f",
   "metadata": {
    "tags": []
   },
   "outputs": [
    {
     "data": {
      "text/plain": [
       "False    727\n",
       "True     117\n",
       "Name: Speed_mph, dtype: int64"
      ]
     },
     "execution_count": 107,
     "metadata": {},
     "output_type": "execute_result"
    }
   ],
   "source": [
    "df['Speed_mph'].isnull().value_counts()"
   ]
  },
  {
   "cell_type": "code",
   "execution_count": 108,
   "id": "ec2eaf0b-da48-433b-9c04-fdffe8ea83b9",
   "metadata": {
    "tags": []
   },
   "outputs": [
    {
     "data": {
      "text/html": [
       "<div>\n",
       "<style scoped>\n",
       "    .dataframe tbody tr th:only-of-type {\n",
       "        vertical-align: middle;\n",
       "    }\n",
       "\n",
       "    .dataframe tbody tr th {\n",
       "        vertical-align: top;\n",
       "    }\n",
       "\n",
       "    .dataframe thead th {\n",
       "        text-align: right;\n",
       "    }\n",
       "</style>\n",
       "<table border=\"1\" class=\"dataframe\">\n",
       "  <thead>\n",
       "    <tr style=\"text-align: right;\">\n",
       "      <th></th>\n",
       "      <th>Coaster_name</th>\n",
       "      <th>Location</th>\n",
       "      <th>Status</th>\n",
       "      <th>Manufacturer</th>\n",
       "      <th>Year_Introduced</th>\n",
       "      <th>Latitude</th>\n",
       "      <th>Longitude</th>\n",
       "      <th>Type_Main</th>\n",
       "      <th>Opening_date</th>\n",
       "      <th>Speed_mph</th>\n",
       "      <th>Height_ft</th>\n",
       "      <th>Inversions</th>\n",
       "      <th>Gforce</th>\n",
       "      <th>Comparison</th>\n",
       "    </tr>\n",
       "  </thead>\n",
       "  <tbody>\n",
       "    <tr>\n",
       "      <th>0</th>\n",
       "      <td>Switchback Railway</td>\n",
       "      <td>Coney Island</td>\n",
       "      <td>Discontinued</td>\n",
       "      <td>LaMarcus Adna Thompson</td>\n",
       "      <td>1884</td>\n",
       "      <td>40.5740</td>\n",
       "      <td>-73.9780</td>\n",
       "      <td>Wood</td>\n",
       "      <td>1884-06-16</td>\n",
       "      <td>6.0</td>\n",
       "      <td>NaN</td>\n",
       "      <td>0</td>\n",
       "      <td>2.9</td>\n",
       "      <td>True</td>\n",
       "    </tr>\n",
       "    <tr>\n",
       "      <th>6</th>\n",
       "      <td>Leap-The-Dips</td>\n",
       "      <td>Lakemont Park</td>\n",
       "      <td>Operating</td>\n",
       "      <td>Federal Construction Company</td>\n",
       "      <td>1902</td>\n",
       "      <td>NaN</td>\n",
       "      <td>NaN</td>\n",
       "      <td>Wood</td>\n",
       "      <td>1902-01-01</td>\n",
       "      <td>10.0</td>\n",
       "      <td>NaN</td>\n",
       "      <td>0</td>\n",
       "      <td>NaN</td>\n",
       "      <td>True</td>\n",
       "    </tr>\n",
       "    <tr>\n",
       "      <th>12</th>\n",
       "      <td>Backety-Back Scenic Railway</td>\n",
       "      <td>Crystal Beach</td>\n",
       "      <td>Discontinued</td>\n",
       "      <td>Unknown</td>\n",
       "      <td>1909</td>\n",
       "      <td>42.8675</td>\n",
       "      <td>-79.0592</td>\n",
       "      <td>Wood</td>\n",
       "      <td>1909-01-01</td>\n",
       "      <td>10.0</td>\n",
       "      <td>NaN</td>\n",
       "      <td>0</td>\n",
       "      <td>NaN</td>\n",
       "      <td>True</td>\n",
       "    </tr>\n",
       "    <tr>\n",
       "      <th>13</th>\n",
       "      <td>Racer (1910 roller coaster)</td>\n",
       "      <td>Kennywood</td>\n",
       "      <td>Operating</td>\n",
       "      <td>Charlie Mach</td>\n",
       "      <td>1910</td>\n",
       "      <td>40.3869</td>\n",
       "      <td>-79.8619</td>\n",
       "      <td>Wood</td>\n",
       "      <td>1927-01-01</td>\n",
       "      <td>40.0</td>\n",
       "      <td>NaN</td>\n",
       "      <td>0</td>\n",
       "      <td>NaN</td>\n",
       "      <td>False</td>\n",
       "    </tr>\n",
       "    <tr>\n",
       "      <th>15</th>\n",
       "      <td>The Great Scenic Railway</td>\n",
       "      <td>Luna Park Melbourne</td>\n",
       "      <td>Operating</td>\n",
       "      <td>LaMarcus Thompson</td>\n",
       "      <td>1912</td>\n",
       "      <td>NaN</td>\n",
       "      <td>NaN</td>\n",
       "      <td>Wood</td>\n",
       "      <td>1912-12-01</td>\n",
       "      <td>37.3</td>\n",
       "      <td>52.5</td>\n",
       "      <td>0</td>\n",
       "      <td>NaN</td>\n",
       "      <td>True</td>\n",
       "    </tr>\n",
       "    <tr>\n",
       "      <th>20</th>\n",
       "      <td>Jack Rabbit (Kennywood)</td>\n",
       "      <td>Kennywood</td>\n",
       "      <td>Operating</td>\n",
       "      <td>Harry C. Baker</td>\n",
       "      <td>1920</td>\n",
       "      <td>40.3867</td>\n",
       "      <td>-79.8628</td>\n",
       "      <td>Wood</td>\n",
       "      <td>1920-01-01</td>\n",
       "      <td>45.0</td>\n",
       "      <td>NaN</td>\n",
       "      <td>0</td>\n",
       "      <td>NaN</td>\n",
       "      <td>True</td>\n",
       "    </tr>\n",
       "    <tr>\n",
       "      <th>21</th>\n",
       "      <td>Jack Rabbit (Seabreeze)</td>\n",
       "      <td>Seabreeze Amusement Park</td>\n",
       "      <td>Operating</td>\n",
       "      <td>Harry C. Baker</td>\n",
       "      <td>1920</td>\n",
       "      <td>43.2316</td>\n",
       "      <td>-77.5432</td>\n",
       "      <td>Wood</td>\n",
       "      <td>1920-01-01</td>\n",
       "      <td>42.0</td>\n",
       "      <td>NaN</td>\n",
       "      <td>0</td>\n",
       "      <td>NaN</td>\n",
       "      <td>True</td>\n",
       "    </tr>\n",
       "    <tr>\n",
       "      <th>22</th>\n",
       "      <td>Scenic Railway (roller coaster)</td>\n",
       "      <td>Dreamland Margate</td>\n",
       "      <td>Operating</td>\n",
       "      <td>Unknown</td>\n",
       "      <td>1920</td>\n",
       "      <td>51.3853</td>\n",
       "      <td>1.3775</td>\n",
       "      <td>Wood</td>\n",
       "      <td>1920-07-03</td>\n",
       "      <td>35.0</td>\n",
       "      <td>NaN</td>\n",
       "      <td>0</td>\n",
       "      <td>NaN</td>\n",
       "      <td>True</td>\n",
       "    </tr>\n",
       "    <tr>\n",
       "      <th>23</th>\n",
       "      <td>Roller Coaster (Lagoon)</td>\n",
       "      <td>Lagoon Amusement Park</td>\n",
       "      <td>Operating</td>\n",
       "      <td>Unknown</td>\n",
       "      <td>1921</td>\n",
       "      <td>40.9849</td>\n",
       "      <td>-111.8951</td>\n",
       "      <td>Wood</td>\n",
       "      <td>1921-07-15</td>\n",
       "      <td>45.0</td>\n",
       "      <td>62.0</td>\n",
       "      <td>0</td>\n",
       "      <td>NaN</td>\n",
       "      <td>True</td>\n",
       "    </tr>\n",
       "    <tr>\n",
       "      <th>24</th>\n",
       "      <td>Big Dipper (Blackpool Pleasure Beach)</td>\n",
       "      <td>Blackpool Pleasure Beach</td>\n",
       "      <td>Operating</td>\n",
       "      <td>William Strickler</td>\n",
       "      <td>1923</td>\n",
       "      <td>53.7892</td>\n",
       "      <td>-3.0569</td>\n",
       "      <td>Wood</td>\n",
       "      <td>1923-08-23</td>\n",
       "      <td>40.0</td>\n",
       "      <td>NaN</td>\n",
       "      <td>0</td>\n",
       "      <td>3.7</td>\n",
       "      <td>True</td>\n",
       "    </tr>\n",
       "    <tr>\n",
       "      <th>26</th>\n",
       "      <td>Thunderhawk (Dorney Park)</td>\n",
       "      <td>Dorney Park &amp; Wildwater Kingdom</td>\n",
       "      <td>Operating</td>\n",
       "      <td>Philadelphia Toboggan Coasters</td>\n",
       "      <td>1924</td>\n",
       "      <td>40.5798</td>\n",
       "      <td>-75.5355</td>\n",
       "      <td>Wood</td>\n",
       "      <td>1924-03-30</td>\n",
       "      <td>45.0</td>\n",
       "      <td>NaN</td>\n",
       "      <td>0</td>\n",
       "      <td>NaN</td>\n",
       "      <td>True</td>\n",
       "    </tr>\n",
       "    <tr>\n",
       "      <th>28</th>\n",
       "      <td>The Bobs (roller coaster)</td>\n",
       "      <td>Riverview Park</td>\n",
       "      <td>Discontinued</td>\n",
       "      <td>Prior and Church</td>\n",
       "      <td>1924</td>\n",
       "      <td>41.9407</td>\n",
       "      <td>-87.6924</td>\n",
       "      <td>Wood</td>\n",
       "      <td>1924-01-01</td>\n",
       "      <td>50.0</td>\n",
       "      <td>NaN</td>\n",
       "      <td>0</td>\n",
       "      <td>NaN</td>\n",
       "      <td>True</td>\n",
       "    </tr>\n",
       "    <tr>\n",
       "      <th>29</th>\n",
       "      <td>Giant Dipper</td>\n",
       "      <td>Santa Cruz Beach Boardwalk</td>\n",
       "      <td>Operating</td>\n",
       "      <td>Arthur Looff</td>\n",
       "      <td>1924</td>\n",
       "      <td>36.9647</td>\n",
       "      <td>-122.0153</td>\n",
       "      <td>Wood</td>\n",
       "      <td>1924-05-17</td>\n",
       "      <td>55.0</td>\n",
       "      <td>NaN</td>\n",
       "      <td>0</td>\n",
       "      <td>NaN</td>\n",
       "      <td>True</td>\n",
       "    </tr>\n",
       "    <tr>\n",
       "      <th>30</th>\n",
       "      <td>Pippin (roller coaster)</td>\n",
       "      <td>Kennywood</td>\n",
       "      <td>Operating</td>\n",
       "      <td>Unknown</td>\n",
       "      <td>1924</td>\n",
       "      <td>40.3889</td>\n",
       "      <td>-79.8650</td>\n",
       "      <td>Wood</td>\n",
       "      <td>1968-01-01</td>\n",
       "      <td>55.0</td>\n",
       "      <td>NaN</td>\n",
       "      <td>0</td>\n",
       "      <td>NaN</td>\n",
       "      <td>False</td>\n",
       "    </tr>\n",
       "    <tr>\n",
       "      <th>31</th>\n",
       "      <td>Big Dipper (Geauga Lake)</td>\n",
       "      <td>Geauga Lake</td>\n",
       "      <td>Discontinued</td>\n",
       "      <td>Unknown</td>\n",
       "      <td>1925</td>\n",
       "      <td>41.3491</td>\n",
       "      <td>-81.3780</td>\n",
       "      <td>Wood</td>\n",
       "      <td>1925-01-01</td>\n",
       "      <td>32.0</td>\n",
       "      <td>NaN</td>\n",
       "      <td>0</td>\n",
       "      <td>NaN</td>\n",
       "      <td>True</td>\n",
       "    </tr>\n",
       "  </tbody>\n",
       "</table>\n",
       "</div>"
      ],
      "text/plain": [
       "                             Coaster_name                         Location  \\\n",
       "0                      Switchback Railway                     Coney Island   \n",
       "6                           Leap-The-Dips                    Lakemont Park   \n",
       "12            Backety-Back Scenic Railway                    Crystal Beach   \n",
       "13            Racer (1910 roller coaster)                        Kennywood   \n",
       "15               The Great Scenic Railway              Luna Park Melbourne   \n",
       "20                Jack Rabbit (Kennywood)                        Kennywood   \n",
       "21                Jack Rabbit (Seabreeze)         Seabreeze Amusement Park   \n",
       "22        Scenic Railway (roller coaster)                Dreamland Margate   \n",
       "23                Roller Coaster (Lagoon)            Lagoon Amusement Park   \n",
       "24  Big Dipper (Blackpool Pleasure Beach)         Blackpool Pleasure Beach   \n",
       "26              Thunderhawk (Dorney Park)  Dorney Park & Wildwater Kingdom   \n",
       "28              The Bobs (roller coaster)                   Riverview Park   \n",
       "29                           Giant Dipper       Santa Cruz Beach Boardwalk   \n",
       "30                Pippin (roller coaster)                        Kennywood   \n",
       "31               Big Dipper (Geauga Lake)                      Geauga Lake   \n",
       "\n",
       "          Status                    Manufacturer  Year_Introduced  Latitude  \\\n",
       "0   Discontinued          LaMarcus Adna Thompson             1884   40.5740   \n",
       "6      Operating    Federal Construction Company             1902       NaN   \n",
       "12  Discontinued                         Unknown             1909   42.8675   \n",
       "13     Operating                    Charlie Mach             1910   40.3869   \n",
       "15     Operating               LaMarcus Thompson             1912       NaN   \n",
       "20     Operating                  Harry C. Baker             1920   40.3867   \n",
       "21     Operating                  Harry C. Baker             1920   43.2316   \n",
       "22     Operating                         Unknown             1920   51.3853   \n",
       "23     Operating                         Unknown             1921   40.9849   \n",
       "24     Operating               William Strickler             1923   53.7892   \n",
       "26     Operating  Philadelphia Toboggan Coasters             1924   40.5798   \n",
       "28  Discontinued                Prior and Church             1924   41.9407   \n",
       "29     Operating                    Arthur Looff             1924   36.9647   \n",
       "30     Operating                         Unknown             1924   40.3889   \n",
       "31  Discontinued                         Unknown             1925   41.3491   \n",
       "\n",
       "    Longitude Type_Main Opening_date  Speed_mph  Height_ft  Inversions  \\\n",
       "0    -73.9780      Wood   1884-06-16        6.0        NaN           0   \n",
       "6         NaN      Wood   1902-01-01       10.0        NaN           0   \n",
       "12   -79.0592      Wood   1909-01-01       10.0        NaN           0   \n",
       "13   -79.8619      Wood   1927-01-01       40.0        NaN           0   \n",
       "15        NaN      Wood   1912-12-01       37.3       52.5           0   \n",
       "20   -79.8628      Wood   1920-01-01       45.0        NaN           0   \n",
       "21   -77.5432      Wood   1920-01-01       42.0        NaN           0   \n",
       "22     1.3775      Wood   1920-07-03       35.0        NaN           0   \n",
       "23  -111.8951      Wood   1921-07-15       45.0       62.0           0   \n",
       "24    -3.0569      Wood   1923-08-23       40.0        NaN           0   \n",
       "26   -75.5355      Wood   1924-03-30       45.0        NaN           0   \n",
       "28   -87.6924      Wood   1924-01-01       50.0        NaN           0   \n",
       "29  -122.0153      Wood   1924-05-17       55.0        NaN           0   \n",
       "30   -79.8650      Wood   1968-01-01       55.0        NaN           0   \n",
       "31   -81.3780      Wood   1925-01-01       32.0        NaN           0   \n",
       "\n",
       "    Gforce  Comparison  \n",
       "0      2.9        True  \n",
       "6      NaN        True  \n",
       "12     NaN        True  \n",
       "13     NaN       False  \n",
       "15     NaN        True  \n",
       "20     NaN        True  \n",
       "21     NaN        True  \n",
       "22     NaN        True  \n",
       "23     NaN        True  \n",
       "24     3.7        True  \n",
       "26     NaN        True  \n",
       "28     NaN        True  \n",
       "29     NaN        True  \n",
       "30     NaN       False  \n",
       "31     NaN        True  "
      ]
     },
     "execution_count": 108,
     "metadata": {},
     "output_type": "execute_result"
    }
   ],
   "source": [
    "df.loc[(~df['Speed_mph'].isnull())].head(15)"
   ]
  },
  {
   "cell_type": "markdown",
   "id": "066e09e9-3408-449a-8aa0-41392a848b11",
   "metadata": {},
   "source": [
    "- Not much can be analyzed from the table alone\n",
    "- However, it's very noticable that as the year of year_introduced increased, the speed increased, and stay stagnant at some year\n",
    "- before 1909, the speed of the coasters were below 10mph; from 1910 onwards, the average speed of coaster are significantly greater than those of previous years"
   ]
  },
  {
   "cell_type": "markdown",
   "id": "bc56028f-f32d-4024-aabd-fc706bf570d7",
   "metadata": {},
   "source": [
    "- let's take a clear look into speed and year_introduced by plotting a scatter plot"
   ]
  },
  {
   "cell_type": "code",
   "execution_count": 109,
   "id": "b3c3ec68-ce23-4997-aa48-ebe7df21eb7a",
   "metadata": {
    "tags": []
   },
   "outputs": [
    {
     "data": {
      "image/png": "[encoded data removed]",
      "text/plain": [
       "<Figure size 640x480 with 1 Axes>"
      ]
     },
     "metadata": {},
     "output_type": "display_data"
    }
   ],
   "source": [
    "df.plot(kind = 'scatter' , y = 'Speed_mph' , x = 'Opening_date',\n",
    "       title = 'Coaster speed vs year')\n",
    "plt.show()"
   ]
  },
  {
   "cell_type": "markdown",
   "id": "0056a636-2267-4c50-8033-42b83fe7391a",
   "metadata": {},
   "source": [
    "- Starting from 1910, there was a significant increase in speed, beginning at approximately 10 mph or below and rose up to a speed range of 30-40 mph\n",
    "- the dots representing speed are densely clustered between the years 1980 to 2020, despite the peak speed being quite distant from the average speed during those years\n",
    "- If it weren't for the lack of dots for the earlier years, using basic imputation methods, such as ffill or bfill will be suitable, given the densely cluttered speed during 1980 to 2020\n",
    "- we have to look at other factors that impact the speed of the coasters\n",
    "m"
   ]
  },
  {
   "cell_type": "code",
   "execution_count": 110,
   "id": "401fd6a7-ac96-4a77-8c1c-abca29dddf9b",
   "metadata": {
    "tags": []
   },
   "outputs": [
    {
     "name": "stderr",
     "output_type": "stream",
     "text": [
      "C:\\Users\\Aniel\\AppData\\Local\\Temp\\ipykernel_29892\\3890113619.py:1: FutureWarning: The default value of numeric_only in DataFrame.corr is deprecated. In a future version, it will default to False. Select only valid columns or specify the value of numeric_only to silence this warning.\n",
      "  cor_matrix = df.corr()\n"
     ]
    },
    {
     "data": {
      "text/plain": [
       "Year_Introduced    0.250821\n",
       "Latitude          -0.058753\n",
       "Longitude          0.051550\n",
       "Speed_mph          1.000000\n",
       "Height_ft          0.818790\n",
       "Inversions         0.237356\n",
       "Gforce             0.541265\n",
       "Comparison        -0.042294\n",
       "Name: Speed_mph, dtype: float64"
      ]
     },
     "execution_count": 110,
     "metadata": {},
     "output_type": "execute_result"
    }
   ],
   "source": [
    "cor_matrix = df.corr()\n",
    "cor_matrix['Speed_mph']"
   ]
  },
  {
   "cell_type": "markdown",
   "id": "f1b9eaa1-4b22-492b-aee1-4406710768c1",
   "metadata": {},
   "source": [
    "- based on the correlation matrix result, height_ft and gforce have relatively strong correlation with speed_mph\n",
    "- these columns might be a good candindate for imputing the speed_mph column"
   ]
  },
  {
   "cell_type": "markdown",
   "id": "82643ea8-1ad3-4278-abfc-67d3e19e9468",
   "metadata": {
    "tags": []
   },
   "source": [
    "- additionally, i believed that material type might have an impact on the roller coaster speed\n",
    "- let's make a small adjustment, let's group the 'type_main' column into categorical values\n",
    "- (e.g., 0 for 'Wood', 1 for 'Metal', 2 for 'Other')"
   ]
  },
  {
   "cell_type": "code",
   "execution_count": 111,
   "id": "d773258c-906b-41bf-af0c-0837a022d250",
   "metadata": {
    "tags": []
   },
   "outputs": [],
   "source": [
    "df = df.copy().drop(columns = 'Comparison')"
   ]
  },
  {
   "cell_type": "code",
   "execution_count": 112,
   "id": "a8a9da6b-bf05-4917-962a-d13067a7d77f",
   "metadata": {
    "tags": []
   },
   "outputs": [
    {
     "data": {
      "text/html": [
       "<div>\n",
       "<style scoped>\n",
       "    .dataframe tbody tr th:only-of-type {\n",
       "        vertical-align: middle;\n",
       "    }\n",
       "\n",
       "    .dataframe tbody tr th {\n",
       "        vertical-align: top;\n",
       "    }\n",
       "\n",
       "    .dataframe thead th {\n",
       "        text-align: right;\n",
       "    }\n",
       "</style>\n",
       "<table border=\"1\" class=\"dataframe\">\n",
       "  <thead>\n",
       "    <tr style=\"text-align: right;\">\n",
       "      <th></th>\n",
       "      <th>Coaster_name</th>\n",
       "      <th>Location</th>\n",
       "      <th>Status</th>\n",
       "      <th>Manufacturer</th>\n",
       "      <th>Year_Introduced</th>\n",
       "      <th>Latitude</th>\n",
       "      <th>Longitude</th>\n",
       "      <th>Type_Main</th>\n",
       "      <th>Opening_date</th>\n",
       "      <th>Speed_mph</th>\n",
       "      <th>Height_ft</th>\n",
       "      <th>Inversions</th>\n",
       "      <th>Gforce</th>\n",
       "      <th>Type_Main_Num</th>\n",
       "    </tr>\n",
       "  </thead>\n",
       "  <tbody>\n",
       "    <tr>\n",
       "      <th>0</th>\n",
       "      <td>Switchback Railway</td>\n",
       "      <td>Coney Island</td>\n",
       "      <td>Discontinued</td>\n",
       "      <td>LaMarcus Adna Thompson</td>\n",
       "      <td>1884</td>\n",
       "      <td>40.5740</td>\n",
       "      <td>-73.9780</td>\n",
       "      <td>Wood</td>\n",
       "      <td>1884-06-16</td>\n",
       "      <td>6.0</td>\n",
       "      <td>NaN</td>\n",
       "      <td>0</td>\n",
       "      <td>2.9</td>\n",
       "      <td>0</td>\n",
       "    </tr>\n",
       "    <tr>\n",
       "      <th>1</th>\n",
       "      <td>Flip Flap Railway</td>\n",
       "      <td>Sea Lion Park</td>\n",
       "      <td>Discontinued</td>\n",
       "      <td>Lina Beecher</td>\n",
       "      <td>1895</td>\n",
       "      <td>40.5780</td>\n",
       "      <td>-73.9790</td>\n",
       "      <td>Wood</td>\n",
       "      <td>1895-01-01</td>\n",
       "      <td>NaN</td>\n",
       "      <td>NaN</td>\n",
       "      <td>1</td>\n",
       "      <td>12.0</td>\n",
       "      <td>0</td>\n",
       "    </tr>\n",
       "    <tr>\n",
       "      <th>2</th>\n",
       "      <td>Switchback Railway (Euclid Beach Park)</td>\n",
       "      <td>Cleveland, Ohio, United States</td>\n",
       "      <td>Discontinued</td>\n",
       "      <td>Unknown</td>\n",
       "      <td>1896</td>\n",
       "      <td>41.5800</td>\n",
       "      <td>-81.5700</td>\n",
       "      <td>Other</td>\n",
       "      <td>1896-01-01</td>\n",
       "      <td>NaN</td>\n",
       "      <td>NaN</td>\n",
       "      <td>0</td>\n",
       "      <td>NaN</td>\n",
       "      <td>2</td>\n",
       "    </tr>\n",
       "    <tr>\n",
       "      <th>3</th>\n",
       "      <td>Loop the Loop (Coney Island)</td>\n",
       "      <td>Other</td>\n",
       "      <td>Discontinued</td>\n",
       "      <td>Edwin Prescott</td>\n",
       "      <td>1901</td>\n",
       "      <td>40.5745</td>\n",
       "      <td>-73.9780</td>\n",
       "      <td>Steel</td>\n",
       "      <td>1901-01-01</td>\n",
       "      <td>NaN</td>\n",
       "      <td>NaN</td>\n",
       "      <td>1</td>\n",
       "      <td>NaN</td>\n",
       "      <td>1</td>\n",
       "    </tr>\n",
       "    <tr>\n",
       "      <th>4</th>\n",
       "      <td>Loop the Loop (Young's Pier)</td>\n",
       "      <td>Other</td>\n",
       "      <td>Discontinued</td>\n",
       "      <td>Edwin Prescott</td>\n",
       "      <td>1901</td>\n",
       "      <td>39.3538</td>\n",
       "      <td>-74.4342</td>\n",
       "      <td>Steel</td>\n",
       "      <td>1901-01-01</td>\n",
       "      <td>NaN</td>\n",
       "      <td>NaN</td>\n",
       "      <td>1</td>\n",
       "      <td>NaN</td>\n",
       "      <td>1</td>\n",
       "    </tr>\n",
       "  </tbody>\n",
       "</table>\n",
       "</div>"
      ],
      "text/plain": [
       "                             Coaster_name                        Location  \\\n",
       "0                      Switchback Railway                    Coney Island   \n",
       "1                       Flip Flap Railway                   Sea Lion Park   \n",
       "2  Switchback Railway (Euclid Beach Park)  Cleveland, Ohio, United States   \n",
       "3            Loop the Loop (Coney Island)                           Other   \n",
       "4            Loop the Loop (Young's Pier)                           Other   \n",
       "\n",
       "         Status            Manufacturer  Year_Introduced  Latitude  Longitude  \\\n",
       "0  Discontinued  LaMarcus Adna Thompson             1884   40.5740   -73.9780   \n",
       "1  Discontinued            Lina Beecher             1895   40.5780   -73.9790   \n",
       "2  Discontinued                 Unknown             1896   41.5800   -81.5700   \n",
       "3  Discontinued          Edwin Prescott             1901   40.5745   -73.9780   \n",
       "4  Discontinued          Edwin Prescott             1901   39.3538   -74.4342   \n",
       "\n",
       "  Type_Main Opening_date  Speed_mph  Height_ft  Inversions  Gforce  \\\n",
       "0      Wood   1884-06-16        6.0        NaN           0     2.9   \n",
       "1      Wood   1895-01-01        NaN        NaN           1    12.0   \n",
       "2     Other   1896-01-01        NaN        NaN           0     NaN   \n",
       "3     Steel   1901-01-01        NaN        NaN           1     NaN   \n",
       "4     Steel   1901-01-01        NaN        NaN           1     NaN   \n",
       "\n",
       "   Type_Main_Num  \n",
       "0              0  \n",
       "1              0  \n",
       "2              2  \n",
       "3              1  \n",
       "4              1  "
      ]
     },
     "execution_count": 112,
     "metadata": {},
     "output_type": "execute_result"
    }
   ],
   "source": [
    "df['Type_Main_Num'] = df['Type_Main'].replace({'Wood': 0, 'Steel': 1, 'Other': 2})\n",
    "\n",
    "df['Type_Main_Num'] = df['Type_Main_Num'].astype(int)\n",
    "\n",
    "df.head()"
   ]
  },
  {
   "cell_type": "markdown",
   "id": "c6a96d99-55fb-41f8-a3ce-6ff9a3cac2ff",
   "metadata": {},
   "source": [
    "- before any correlation test, let's look at the null percentage table"
   ]
  },
  {
   "cell_type": "code",
   "execution_count": 113,
   "id": "da7d33b8-f333-426e-8c52-3439bc5d170f",
   "metadata": {
    "tags": []
   },
   "outputs": [
    {
     "data": {
      "text/html": [
       "<div>\n",
       "<style scoped>\n",
       "    .dataframe tbody tr th:only-of-type {\n",
       "        vertical-align: middle;\n",
       "    }\n",
       "\n",
       "    .dataframe tbody tr th {\n",
       "        vertical-align: top;\n",
       "    }\n",
       "\n",
       "    .dataframe thead th {\n",
       "        text-align: right;\n",
       "    }\n",
       "</style>\n",
       "<table border=\"1\" class=\"dataframe\">\n",
       "  <thead>\n",
       "    <tr style=\"text-align: right;\">\n",
       "      <th></th>\n",
       "      <th>Missing_value_counts</th>\n",
       "      <th>% of Total Values</th>\n",
       "    </tr>\n",
       "  </thead>\n",
       "  <tbody>\n",
       "    <tr>\n",
       "      <th>Coaster_name</th>\n",
       "      <td>0</td>\n",
       "      <td>0.000000</td>\n",
       "    </tr>\n",
       "    <tr>\n",
       "      <th>Location</th>\n",
       "      <td>0</td>\n",
       "      <td>0.000000</td>\n",
       "    </tr>\n",
       "    <tr>\n",
       "      <th>Status</th>\n",
       "      <td>0</td>\n",
       "      <td>0.000000</td>\n",
       "    </tr>\n",
       "    <tr>\n",
       "      <th>Manufacturer</th>\n",
       "      <td>0</td>\n",
       "      <td>0.000000</td>\n",
       "    </tr>\n",
       "    <tr>\n",
       "      <th>Year_Introduced</th>\n",
       "      <td>0</td>\n",
       "      <td>0.000000</td>\n",
       "    </tr>\n",
       "    <tr>\n",
       "      <th>Latitude</th>\n",
       "      <td>78</td>\n",
       "      <td>9.241706</td>\n",
       "    </tr>\n",
       "    <tr>\n",
       "      <th>Longitude</th>\n",
       "      <td>78</td>\n",
       "      <td>9.241706</td>\n",
       "    </tr>\n",
       "    <tr>\n",
       "      <th>Type_Main</th>\n",
       "      <td>0</td>\n",
       "      <td>0.000000</td>\n",
       "    </tr>\n",
       "    <tr>\n",
       "      <th>Opening_date</th>\n",
       "      <td>0</td>\n",
       "      <td>0.000000</td>\n",
       "    </tr>\n",
       "    <tr>\n",
       "      <th>Speed_mph</th>\n",
       "      <td>117</td>\n",
       "      <td>13.862559</td>\n",
       "    </tr>\n",
       "    <tr>\n",
       "      <th>Height_ft</th>\n",
       "      <td>694</td>\n",
       "      <td>82.227488</td>\n",
       "    </tr>\n",
       "    <tr>\n",
       "      <th>Inversions</th>\n",
       "      <td>0</td>\n",
       "      <td>0.000000</td>\n",
       "    </tr>\n",
       "    <tr>\n",
       "      <th>Gforce</th>\n",
       "      <td>569</td>\n",
       "      <td>67.417062</td>\n",
       "    </tr>\n",
       "    <tr>\n",
       "      <th>Type_Main_Num</th>\n",
       "      <td>0</td>\n",
       "      <td>0.000000</td>\n",
       "    </tr>\n",
       "  </tbody>\n",
       "</table>\n",
       "</div>"
      ],
      "text/plain": [
       "                 Missing_value_counts  % of Total Values\n",
       "Coaster_name                        0           0.000000\n",
       "Location                            0           0.000000\n",
       "Status                              0           0.000000\n",
       "Manufacturer                        0           0.000000\n",
       "Year_Introduced                     0           0.000000\n",
       "Latitude                           78           9.241706\n",
       "Longitude                          78           9.241706\n",
       "Type_Main                           0           0.000000\n",
       "Opening_date                        0           0.000000\n",
       "Speed_mph                         117          13.862559\n",
       "Height_ft                         694          82.227488\n",
       "Inversions                          0           0.000000\n",
       "Gforce                            569          67.417062\n",
       "Type_Main_Num                       0           0.000000"
      ]
     },
     "execution_count": 113,
     "metadata": {},
     "output_type": "execute_result"
    }
   ],
   "source": [
    "missing_value_table(df)"
   ]
  },
  {
   "cell_type": "markdown",
   "id": "ff987d4b-40fb-44f4-990d-4838e7fb18e1",
   "metadata": {
    "tags": []
   },
   "source": [
    "#### A problem has occurred\n",
    "- 82% of the values for height_ft are nulls; 67% of the values for gforce are nulls\n",
    "- the null percentage for the two columns are considered high\n",
    "\n",
    "- few options (https://stackoverflow.com/questions/51421481/what-can-we-do-with-the-dataset-that-98-percent-of-the-columns-are-null-values)\n",
    "- drop the columns or ignore the column \n",
    "- NOT fill the null values with them, because it will create enormous bias\n",
    "\n",
    "\n",
    "    - https://datascience.stackexchange.com/questions/124442/dropping-dataframe-columns-with-missing-values\n",
    "- dropping a column (feature) or not does not depend on how many missing values there are, but is this column useful for your task\n",
    "\n",
    "\n",
    "- let's check the column correlation"
   ]
  },
  {
   "cell_type": "markdown",
   "id": "f83db295-6553-4066-956b-adba8b62debe",
   "metadata": {
    "tags": []
   },
   "source": [
    "#### by right, we should ignore the column because using ml predicting it might make it bias, however, for the sake of this project, let's do it for fun"
   ]
  },
  {
   "cell_type": "markdown",
   "id": "bc59f8e7-b63e-41f4-a3a6-bcaeeac50048",
   "metadata": {},
   "source": [
    "#### Filling up Gforce before filling up the speed"
   ]
  },
  {
   "cell_type": "code",
   "execution_count": 114,
   "id": "82133a80-dc88-41ce-9ba2-469753a6aae8",
   "metadata": {
    "tags": []
   },
   "outputs": [
    {
     "data": {
      "text/plain": [
       "array([ 2.9 , 12.  ,   nan,  3.7 ,  4.  ,  3.75,  3.  ,  3.2 ,  1.8 ,\n",
       "        3.4 ,  2.4 ,  4.2 ,  4.9 ,  1.  ,  5.9 ,  3.5 ,  3.6 ,  3.1 ,\n",
       "        6.5 ,  5.2 ,  2.1 ,  2.7 ,  3.9 ,  5.  ,  4.5 ,  3.8 ,  4.1 ,\n",
       "        5.1 ,  2.3 ,  2.  ,  2.75,  2.5 ,  4.6 ,  4.3 ,  4.7 ,  2.2 ,\n",
       "        4.8 ,  4.4 ,  3.26,  2.6 ,  4.18,  0.8 ,  1.5 ,  3.3 ,  5.6 ,\n",
       "        1.2 ])"
      ]
     },
     "execution_count": 114,
     "metadata": {},
     "output_type": "execute_result"
    }
   ],
   "source": [
    "df['Gforce'].unique()"
   ]
  },
  {
   "cell_type": "code",
   "execution_count": 115,
   "id": "152c2ec4-c854-40c8-974e-9866c109bc87",
   "metadata": {
    "tags": []
   },
   "outputs": [
    {
     "data": {
      "image/png": "[encoded data removed]",
      "text/plain": [
       "<Figure size 640x480 with 1 Axes>"
      ]
     },
     "metadata": {},
     "output_type": "display_data"
    }
   ],
   "source": [
    "df.plot(kind = 'scatter' , y = 'Gforce' , x = 'Speed_mph',\n",
    "       title = 'Coaster speed vs gforce')\n",
    "plt.show()"
   ]
  },
  {
   "cell_type": "code",
   "execution_count": 116,
   "id": "107f1ecb-350a-4948-9323-36607f7ef24a",
   "metadata": {
    "tags": []
   },
   "outputs": [
    {
     "data": {
      "image/png": "[encoded data removed]",
      "text/plain": [
       "<Figure size 640x480 with 1 Axes>"
      ]
     },
     "metadata": {},
     "output_type": "display_data"
    }
   ],
   "source": [
    "df.plot(kind = 'scatter' , y = 'Gforce' , x = 'Inversions',\n",
    "       title = 'Inversions vs gforce')\n",
    "plt.show()"
   ]
  },
  {
   "cell_type": "code",
   "execution_count": 117,
   "id": "6fb43cc5-cf49-4dc7-b0b4-6a3b41e47e2f",
   "metadata": {
    "tags": []
   },
   "outputs": [
    {
     "data": {
      "image/png": "[encoded data removed]",
      "text/plain": [
       "<Figure size 640x480 with 1 Axes>"
      ]
     },
     "metadata": {},
     "output_type": "display_data"
    }
   ],
   "source": [
    "df.plot(kind = 'scatter' , y = 'Gforce' , x = 'Height_ft',\n",
    "       title = 'Height_ft vs gforce')\n",
    "plt.show()"
   ]
  },
  {
   "cell_type": "code",
   "execution_count": 118,
   "id": "a70bdc9b-0104-46ff-b7f0-89706eea8f2a",
   "metadata": {
    "tags": []
   },
   "outputs": [
    {
     "name": "stderr",
     "output_type": "stream",
     "text": [
      "C:\\Users\\Aniel\\AppData\\Local\\Temp\\ipykernel_29892\\4272054287.py:1: FutureWarning: The default value of numeric_only in DataFrame.corr is deprecated. In a future version, it will default to False. Select only valid columns or specify the value of numeric_only to silence this warning.\n",
      "  cor_matrix = df.corr()\n"
     ]
    },
    {
     "data": {
      "text/plain": [
       "Year_Introduced   -0.092382\n",
       "Latitude           0.061975\n",
       "Longitude          0.025231\n",
       "Speed_mph          0.541265\n",
       "Height_ft          0.486632\n",
       "Inversions         0.314333\n",
       "Gforce             1.000000\n",
       "Type_Main_Num      0.046487\n",
       "Name: Gforce, dtype: float64"
      ]
     },
     "execution_count": 118,
     "metadata": {},
     "output_type": "execute_result"
    }
   ],
   "source": [
    "cor_matrix = df.corr()\n",
    "cor_matrix['Gforce']"
   ]
  },
  {
   "cell_type": "code",
   "execution_count": 119,
   "id": "e9480a57-0954-4bf2-bf87-3c8fda7ba2b0",
   "metadata": {
    "tags": []
   },
   "outputs": [
    {
     "name": "stderr",
     "output_type": "stream",
     "text": [
      "C:\\Users\\Aniel\\AppData\\Local\\Temp\\ipykernel_29892\\3890113619.py:1: FutureWarning: The default value of numeric_only in DataFrame.corr is deprecated. In a future version, it will default to False. Select only valid columns or specify the value of numeric_only to silence this warning.\n",
      "  cor_matrix = df.corr()\n"
     ]
    },
    {
     "data": {
      "text/plain": [
       "Year_Introduced    0.250821\n",
       "Latitude          -0.058753\n",
       "Longitude          0.051550\n",
       "Speed_mph          1.000000\n",
       "Height_ft          0.818790\n",
       "Inversions         0.237356\n",
       "Gforce             0.541265\n",
       "Type_Main_Num      0.057709\n",
       "Name: Speed_mph, dtype: float64"
      ]
     },
     "execution_count": 119,
     "metadata": {},
     "output_type": "execute_result"
    }
   ],
   "source": [
    "cor_matrix = df.corr()\n",
    "cor_matrix['Speed_mph']"
   ]
  },
  {
   "cell_type": "markdown",
   "id": "fc543a57-9293-40b4-b519-51834086ee3b",
   "metadata": {},
   "source": [
    "- based on the correlation result, speed_mph, height_ft, and inversion are strongly correlated with gforce"
   ]
  },
  {
   "cell_type": "code",
   "execution_count": 205,
   "id": "ab46a17a-89e0-4c6a-af7b-58a22af29c7a",
   "metadata": {
    "tags": []
   },
   "outputs": [],
   "source": [
    "from sklearn.neighbors import KNeighborsRegressor\n",
    "from sklearn import datasets\n",
    "import pandas as pd\n",
    "import numpy as np\n",
    "from sklearn.model_selection import train_test_split\n",
    "from sklearn.neighbors import KNeighborsClassifier\n",
    "from sklearn.impute import SimpleImputer\n"
   ]
  },
  {
   "cell_type": "markdown",
   "id": "8a67dfb1-7b15-449f-80ef-e141abf30647",
   "metadata": {},
   "source": [
    "#### Using KNN Regression to make prediction for empty speed values using Year Introduced"
   ]
  },
  {
   "cell_type": "code",
   "execution_count": 206,
   "id": "2494c63f-9f5c-47db-a17e-7264bc5dae17",
   "metadata": {
    "tags": []
   },
   "outputs": [],
   "source": [
    "df_clean = df.dropna(subset=['Year_Introduced', 'Speed_mph'])"
   ]
  },
  {
   "cell_type": "code",
   "execution_count": 207,
   "id": "2a0383c5-27f9-4051-90c9-e54f1e565b0e",
   "metadata": {
    "tags": []
   },
   "outputs": [],
   "source": [
    "df_knn = {\n",
    "    'attributes' : df_clean[['Year_Introduced']],\n",
    "    'target' :  df_clean[['Speed_mph']]\n",
    "}"
   ]
  },
  {
   "cell_type": "code",
   "execution_count": 208,
   "id": "cfc9107c-dc15-4e2c-9b95-ece48de73817",
   "metadata": {
    "tags": []
   },
   "outputs": [
    {
     "name": "stdout",
     "output_type": "stream",
     "text": [
      "     Year_Introduced\n",
      "0               1884\n",
      "6               1902\n",
      "12              1909\n",
      "13              1910\n",
      "15              1912\n",
      "..               ...\n",
      "839             2022\n",
      "840             2022\n",
      "841             2022\n",
      "842             2022\n",
      "843             2022\n",
      "\n",
      "[727 rows x 1 columns]\n"
     ]
    }
   ],
   "source": [
    "print(df_knn['attributes'])"
   ]
  },
  {
   "cell_type": "code",
   "execution_count": 209,
   "id": "33cfb39d-7092-4c3f-99e4-96933c1233fd",
   "metadata": {
    "tags": []
   },
   "outputs": [
    {
     "data": {
      "text/plain": [
       "Year_Introduced    0\n",
       "dtype: int64"
      ]
     },
     "execution_count": 209,
     "metadata": {},
     "output_type": "execute_result"
    }
   ],
   "source": [
    "df_knn['attributes'].isnull().sum()"
   ]
  },
  {
   "cell_type": "code",
   "execution_count": 210,
   "id": "408ea9ff-7194-4960-8327-ac5d61fc20db",
   "metadata": {
    "tags": []
   },
   "outputs": [
    {
     "name": "stdout",
     "output_type": "stream",
     "text": [
      "     Speed_mph\n",
      "0          6.0\n",
      "6         10.0\n",
      "12        10.0\n",
      "13        40.0\n",
      "15        37.3\n",
      "..         ...\n",
      "839       64.0\n",
      "840       62.1\n",
      "841       34.0\n",
      "842       63.0\n",
      "843       58.0\n",
      "\n",
      "[727 rows x 1 columns]\n"
     ]
    }
   ],
   "source": [
    "print(df_knn['target'])"
   ]
  },
  {
   "cell_type": "code",
   "execution_count": 211,
   "id": "6b73ea14-6138-4197-957a-469fce306804",
   "metadata": {
    "tags": []
   },
   "outputs": [
    {
     "data": {
      "text/plain": [
       "Speed_mph    0\n",
       "dtype: int64"
      ]
     },
     "execution_count": 211,
     "metadata": {},
     "output_type": "execute_result"
    }
   ],
   "source": [
    "df_knn['target'].isnull().sum()"
   ]
  },
  {
   "cell_type": "code",
   "execution_count": 212,
   "id": "31136bdf-6d12-4f16-a781-f01338982b0b",
   "metadata": {
    "tags": []
   },
   "outputs": [
    {
     "data": {
      "text/plain": [
       "Speed_mph    0\n",
       "dtype: int64"
      ]
     },
     "execution_count": 212,
     "metadata": {},
     "output_type": "execute_result"
    }
   ],
   "source": [
    "df_knn['target'].isnull().sum()"
   ]
  },
  {
   "cell_type": "code",
   "execution_count": 199,
   "id": "3d70745d-c906-402f-9725-5988e5210ab2",
   "metadata": {
    "tags": []
   },
   "outputs": [],
   "source": [
    "X_train, X_test, y_train, y_test = train_test_split(df_knn['attributes'], df_knn['target'], test_size=0.2, random_state=42)\n",
    "\n",
    "# Store the split data\n",
    "df_knn['train'] = {\n",
    "    'attributes': X_train,\n",
    "    'target': y_train\n",
    "}\n",
    "\n",
    "df_knn['test'] = {\n",
    "    'attributes': X_test,\n",
    "    'target': y_test\n",
    "}"
   ]
  },
  {
   "cell_type": "code",
   "execution_count": 200,
   "id": "574d5a71-dcc8-48ac-bdc6-d168c6591976",
   "metadata": {
    "tags": []
   },
   "outputs": [],
   "source": [
    "knr = KNeighborsRegressor(5)"
   ]
  },
  {
   "cell_type": "code",
   "execution_count": 201,
   "id": "6947b756-fffe-4d7f-a5f6-a1115b960009",
   "metadata": {
    "tags": []
   },
   "outputs": [
    {
     "data": {
      "text/html": [
       "<style>#sk-container-id-9 {color: black;}#sk-container-id-9 pre{padding: 0;}#sk-container-id-9 div.sk-toggleable {background-color: white;}#sk-container-id-9 label.sk-toggleable__label {cursor: pointer;display: block;width: 100%;margin-bottom: 0;padding: 0.3em;box-sizing: border-box;text-align: center;}#sk-container-id-9 label.sk-toggleable__label-arrow:before {content: \"▸\";float: left;margin-right: 0.25em;color: #696969;}#sk-container-id-9 label.sk-toggleable__label-arrow:hover:before {color: black;}#sk-container-id-9 div.sk-estimator:hover label.sk-toggleable__label-arrow:before {color: black;}#sk-container-id-9 div.sk-toggleable__content {max-height: 0;max-width: 0;overflow: hidden;text-align: left;background-color: #f0f8ff;}#sk-container-id-9 div.sk-toggleable__content pre {margin: 0.2em;color: black;border-radius: 0.25em;background-color: #f0f8ff;}#sk-container-id-9 input.sk-toggleable__control:checked~div.sk-toggleable__content {max-height: 200px;max-width: 100%;overflow: auto;}#sk-container-id-9 input.sk-toggleable__control:checked~label.sk-toggleable__label-arrow:before {content: \"▾\";}#sk-container-id-9 div.sk-estimator input.sk-toggleable__control:checked~label.sk-toggleable__label {background-color: #d4ebff;}#sk-container-id-9 div.sk-label input.sk-toggleable__control:checked~label.sk-toggleable__label {background-color: #d4ebff;}#sk-container-id-9 input.sk-hidden--visually {border: 0;clip: rect(1px 1px 1px 1px);clip: rect(1px, 1px, 1px, 1px);height: 1px;margin: -1px;overflow: hidden;padding: 0;position: absolute;width: 1px;}#sk-container-id-9 div.sk-estimator {font-family: monospace;background-color: #f0f8ff;border: 1px dotted black;border-radius: 0.25em;box-sizing: border-box;margin-bottom: 0.5em;}#sk-container-id-9 div.sk-estimator:hover {background-color: #d4ebff;}#sk-container-id-9 div.sk-parallel-item::after {content: \"\";width: 100%;border-bottom: 1px solid gray;flex-grow: 1;}#sk-container-id-9 div.sk-label:hover label.sk-toggleable__label {background-color: #d4ebff;}#sk-container-id-9 div.sk-serial::before {content: \"\";position: absolute;border-left: 1px solid gray;box-sizing: border-box;top: 0;bottom: 0;left: 50%;z-index: 0;}#sk-container-id-9 div.sk-serial {display: flex;flex-direction: column;align-items: center;background-color: white;padding-right: 0.2em;padding-left: 0.2em;position: relative;}#sk-container-id-9 div.sk-item {position: relative;z-index: 1;}#sk-container-id-9 div.sk-parallel {display: flex;align-items: stretch;justify-content: center;background-color: white;position: relative;}#sk-container-id-9 div.sk-item::before, #sk-container-id-9 div.sk-parallel-item::before {content: \"\";position: absolute;border-left: 1px solid gray;box-sizing: border-box;top: 0;bottom: 0;left: 50%;z-index: -1;}#sk-container-id-9 div.sk-parallel-item {display: flex;flex-direction: column;z-index: 1;position: relative;background-color: white;}#sk-container-id-9 div.sk-parallel-item:first-child::after {align-self: flex-end;width: 50%;}#sk-container-id-9 div.sk-parallel-item:last-child::after {align-self: flex-start;width: 50%;}#sk-container-id-9 div.sk-parallel-item:only-child::after {width: 0;}#sk-container-id-9 div.sk-dashed-wrapped {border: 1px dashed gray;margin: 0 0.4em 0.5em 0.4em;box-sizing: border-box;padding-bottom: 0.4em;background-color: white;}#sk-container-id-9 div.sk-label label {font-family: monospace;font-weight: bold;display: inline-block;line-height: 1.2em;}#sk-container-id-9 div.sk-label-container {text-align: center;}#sk-container-id-9 div.sk-container {/* jupyter's `normalize.less` sets `[hidden] { display: none; }` but bootstrap.min.css set `[hidden] { display: none !important; }` so we also need the `!important` here to be able to override the default hidden behavior on the sphinx rendered scikit-learn.org. See: https://github.com/scikit-learn/scikit-learn/issues/21755 */display: inline-block !important;position: relative;}#sk-container-id-9 div.sk-text-repr-fallback {display: none;}</style><div id=\"sk-container-id-9\" class=\"sk-top-container\"><div class=\"sk-text-repr-fallback\"><pre>KNeighborsRegressor()</pre><b>In a Jupyter environment, please rerun this cell to show the HTML representation or trust the notebook. <br />On GitHub, the HTML representation is unable to render, please try loading this page with nbviewer.org.</b></div><div class=\"sk-container\" hidden><div class=\"sk-item\"><div class=\"sk-estimator sk-toggleable\"><input class=\"sk-toggleable__control sk-hidden--visually\" id=\"sk-estimator-id-9\" type=\"checkbox\" checked><label for=\"sk-estimator-id-9\" class=\"sk-toggleable__label sk-toggleable__label-arrow\">KNeighborsRegressor</label><div class=\"sk-toggleable__content\"><pre>KNeighborsRegressor()</pre></div></div></div></div></div>"
      ],
      "text/plain": [
       "KNeighborsRegressor()"
      ]
     },
     "execution_count": 201,
     "metadata": {},
     "output_type": "execute_result"
    }
   ],
   "source": [
    "X_train = df_knn['train']['attributes']\n",
    "y_train = df_knn['train']['target']\n",
    "\n",
    "knr.fit(X_train, y_train)\n"
   ]
  },
  {
   "cell_type": "code",
   "execution_count": 203,
   "id": "5b9750bc-6c8b-474f-bbd6-d03801fc9b8c",
   "metadata": {
    "tags": []
   },
   "outputs": [],
   "source": [
    "X_test = df_knn['train']['attributes']\n",
    "y_test = df_knn['train']['target']\n",
    "\n",
    "y_predict = knr.predict(X_test)\n"
   ]
  },
  {
   "cell_type": "code",
   "execution_count": 197,
   "id": "5c07d8ec-854d-4ead-b9e9-113b88ad38b0",
   "metadata": {
    "tags": []
   },
   "outputs": [],
   "source": [
    "results = pd.DataFrame(list(zip(y_test,y_predict)), columns=['target', 'predicted'])"
   ]
  },
  {
   "cell_type": "code",
   "execution_count": 198,
   "id": "17400519-b003-44a2-b980-b38ef32eb5a8",
   "metadata": {
    "tags": []
   },
   "outputs": [
    {
     "data": {
      "text/html": [
       "<div>\n",
       "<style scoped>\n",
       "    .dataframe tbody tr th:only-of-type {\n",
       "        vertical-align: middle;\n",
       "    }\n",
       "\n",
       "    .dataframe tbody tr th {\n",
       "        vertical-align: top;\n",
       "    }\n",
       "\n",
       "    .dataframe thead th {\n",
       "        text-align: right;\n",
       "    }\n",
       "</style>\n",
       "<table border=\"1\" class=\"dataframe\">\n",
       "  <thead>\n",
       "    <tr style=\"text-align: right;\">\n",
       "      <th></th>\n",
       "      <th>target</th>\n",
       "      <th>predicted</th>\n",
       "    </tr>\n",
       "  </thead>\n",
       "  <tbody>\n",
       "    <tr>\n",
       "      <th>0</th>\n",
       "      <td>Speed_mph</td>\n",
       "      <td>[60.6]</td>\n",
       "    </tr>\n",
       "  </tbody>\n",
       "</table>\n",
       "</div>"
      ],
      "text/plain": [
       "      target predicted\n",
       "0  Speed_mph    [60.6]"
      ]
     },
     "execution_count": 198,
     "metadata": {},
     "output_type": "execute_result"
    }
   ],
   "source": [
    "results.head(10)"
   ]
  },
  {
   "cell_type": "code",
   "execution_count": 183,
   "id": "167980a4-6ef5-4a50-880c-36b111705ab2",
   "metadata": {
    "tags": []
   },
   "outputs": [
    {
     "data": {
      "text/html": [
       "<div>\n",
       "<style scoped>\n",
       "    .dataframe tbody tr th:only-of-type {\n",
       "        vertical-align: middle;\n",
       "    }\n",
       "\n",
       "    .dataframe tbody tr th {\n",
       "        vertical-align: top;\n",
       "    }\n",
       "\n",
       "    .dataframe thead th {\n",
       "        text-align: right;\n",
       "    }\n",
       "</style>\n",
       "<table border=\"1\" class=\"dataframe\">\n",
       "  <thead>\n",
       "    <tr style=\"text-align: right;\">\n",
       "      <th></th>\n",
       "      <th>target</th>\n",
       "      <th>predicted</th>\n",
       "    </tr>\n",
       "  </thead>\n",
       "  <tbody>\n",
       "    <tr>\n",
       "      <th>0</th>\n",
       "      <td>Speed_mph</td>\n",
       "      <td>[60.6]</td>\n",
       "    </tr>\n",
       "  </tbody>\n",
       "</table>\n",
       "</div>"
      ],
      "text/plain": [
       "      target predicted\n",
       "0  Speed_mph    [60.6]"
      ]
     },
     "execution_count": 183,
     "metadata": {},
     "output_type": "execute_result"
    }
   ],
   "source": [
    "results.tail(10)"
   ]
  },
  {
   "cell_type": "markdown",
   "id": "aeb55ac6-92ed-47f6-80db-22bf1b19f223",
   "metadata": {
    "tags": []
   },
   "source": [
    "- https://www.youtube.com/watch?v=_ukYsNbZy8Q&list=LL&index=1, this gives ValueError: Input X contains NaN.\n",
    "- with little help of chatgpt, with the simpleImputer to handle missing values in the features before training\n",
    "- https://scikit-learn.org/stable/modules/generated/sklearn.linear_model.LinearRegression.html"
   ]
  },
  {
   "cell_type": "code",
   "execution_count": 141,
   "id": "523b66dd-20d3-4b7a-9c14-fc313348a370",
   "metadata": {
    "tags": []
   },
   "outputs": [],
   "source": [
    "testing_3 = testing[['Speed_mph','Gforce','Height_ft']].copy()"
   ]
  },
  {
   "cell_type": "code",
   "execution_count": 142,
   "id": "255c9ab3-be3c-4205-85f5-53604ae09d36",
   "metadata": {
    "tags": []
   },
   "outputs": [],
   "source": [
    "# 1. separeate the null values and considered it as test data\n",
    "from sklearn.linear_model import LinearRegression\n",
    "from sklearn.impute import SimpleImputer\n",
    "\n",
    "\n",
    "correlated_col = ['Speed_mph', 'Height_ft']\n",
    "\n",
    "# separate the gforce null value\n",
    "test_data = testing_3.dropna(subset=['Gforce'])\n",
    "\n",
    "# target variable used for training\n",
    "y_train = test_data['Gforce']\n",
    "# feature matrix used for training the model\n",
    "X_train = test_data[correlated_col]\n",
    "\n",
    "\n",
    "# linear regression cannot work with null, so inputation is needed\n",
    "imputer = SimpleImputer(strategy='mean')\n",
    "X_train = imputer.fit_transform(X_train)\n",
    "\n",
    "# train model for prediction\n",
    "lr = LinearRegression()\n",
    "lr.fit(X_train, y_train)\n",
    "\n",
    "# select the missing data for prediction\n",
    "missing_data = testing_3.loc[testing['Gforce'].isnull(), correlated_col]\n",
    "\n",
    "# we need to impute the missing data in df\n",
    "missing_data_imputed = imputer.transform(missing_data)\n",
    "predicted_gforce = lr.predict(missing_data_imputed)\n",
    "\n",
    "# Filling missing values in the original DataFrame\n",
    "predicted_gforce = testing_3.loc[testing['Gforce'].isnull(), 'Gforce'] = predicted_gforce\n"
   ]
  },
  {
   "cell_type": "code",
   "execution_count": 143,
   "id": "4ba7b1ce-8384-4ebb-98d5-9fc967868139",
   "metadata": {
    "tags": []
   },
   "outputs": [],
   "source": [
    "df['Gforce'] = testing_3['Gforce']"
   ]
  },
  {
   "cell_type": "code",
   "execution_count": 144,
   "id": "cf336bc0-4c36-4e87-baf6-25f2fe120704",
   "metadata": {
    "tags": []
   },
   "outputs": [],
   "source": [
    "df = df.drop(columns = 'Comparison')"
   ]
  },
  {
   "cell_type": "code",
   "execution_count": 123,
   "id": "378c201b-478c-4f01-8267-47a1d903a501",
   "metadata": {
    "tags": []
   },
   "outputs": [
    {
     "data": {
      "text/html": [
       "<div>\n",
       "<style scoped>\n",
       "    .dataframe tbody tr th:only-of-type {\n",
       "        vertical-align: middle;\n",
       "    }\n",
       "\n",
       "    .dataframe tbody tr th {\n",
       "        vertical-align: top;\n",
       "    }\n",
       "\n",
       "    .dataframe thead th {\n",
       "        text-align: right;\n",
       "    }\n",
       "</style>\n",
       "<table border=\"1\" class=\"dataframe\">\n",
       "  <thead>\n",
       "    <tr style=\"text-align: right;\">\n",
       "      <th></th>\n",
       "      <th>Coaster_name</th>\n",
       "      <th>Location</th>\n",
       "      <th>Status</th>\n",
       "      <th>Manufacturer</th>\n",
       "      <th>Year_Introduced</th>\n",
       "      <th>Latitude</th>\n",
       "      <th>Longitude</th>\n",
       "      <th>Type_Main</th>\n",
       "      <th>Opening_date</th>\n",
       "      <th>Speed_mph</th>\n",
       "      <th>Height_ft</th>\n",
       "      <th>Inversions</th>\n",
       "      <th>Gforce</th>\n",
       "    </tr>\n",
       "  </thead>\n",
       "  <tbody>\n",
       "    <tr>\n",
       "      <th>0</th>\n",
       "      <td>Switchback Railway</td>\n",
       "      <td>Coney Island</td>\n",
       "      <td>Discontinued</td>\n",
       "      <td>LaMarcus Adna Thompson</td>\n",
       "      <td>1884</td>\n",
       "      <td>40.5740</td>\n",
       "      <td>-73.9780</td>\n",
       "      <td>Wood</td>\n",
       "      <td>1884-06-16</td>\n",
       "      <td>6.0</td>\n",
       "      <td>NaN</td>\n",
       "      <td>0</td>\n",
       "      <td>2.900000</td>\n",
       "    </tr>\n",
       "    <tr>\n",
       "      <th>1</th>\n",
       "      <td>Flip Flap Railway</td>\n",
       "      <td>Sea Lion Park</td>\n",
       "      <td>Discontinued</td>\n",
       "      <td>Lina Beecher</td>\n",
       "      <td>1895</td>\n",
       "      <td>40.5780</td>\n",
       "      <td>-73.9790</td>\n",
       "      <td>Wood</td>\n",
       "      <td>1895-01-01</td>\n",
       "      <td>NaN</td>\n",
       "      <td>NaN</td>\n",
       "      <td>1</td>\n",
       "      <td>12.000000</td>\n",
       "    </tr>\n",
       "    <tr>\n",
       "      <th>2</th>\n",
       "      <td>Switchback Railway (Euclid Beach Park)</td>\n",
       "      <td>Cleveland, Ohio, United States</td>\n",
       "      <td>Discontinued</td>\n",
       "      <td>Unknown</td>\n",
       "      <td>1896</td>\n",
       "      <td>41.5800</td>\n",
       "      <td>-81.5700</td>\n",
       "      <td>Other</td>\n",
       "      <td>1896-01-01</td>\n",
       "      <td>NaN</td>\n",
       "      <td>NaN</td>\n",
       "      <td>0</td>\n",
       "      <td>3.782873</td>\n",
       "    </tr>\n",
       "    <tr>\n",
       "      <th>3</th>\n",
       "      <td>Loop the Loop (Coney Island)</td>\n",
       "      <td>Other</td>\n",
       "      <td>Discontinued</td>\n",
       "      <td>Edwin Prescott</td>\n",
       "      <td>1901</td>\n",
       "      <td>40.5745</td>\n",
       "      <td>-73.9780</td>\n",
       "      <td>Steel</td>\n",
       "      <td>1901-01-01</td>\n",
       "      <td>NaN</td>\n",
       "      <td>NaN</td>\n",
       "      <td>1</td>\n",
       "      <td>3.782873</td>\n",
       "    </tr>\n",
       "    <tr>\n",
       "      <th>4</th>\n",
       "      <td>Loop the Loop (Young's Pier)</td>\n",
       "      <td>Other</td>\n",
       "      <td>Discontinued</td>\n",
       "      <td>Edwin Prescott</td>\n",
       "      <td>1901</td>\n",
       "      <td>39.3538</td>\n",
       "      <td>-74.4342</td>\n",
       "      <td>Steel</td>\n",
       "      <td>1901-01-01</td>\n",
       "      <td>NaN</td>\n",
       "      <td>NaN</td>\n",
       "      <td>1</td>\n",
       "      <td>3.782873</td>\n",
       "    </tr>\n",
       "    <tr>\n",
       "      <th>...</th>\n",
       "      <td>...</td>\n",
       "      <td>...</td>\n",
       "      <td>...</td>\n",
       "      <td>...</td>\n",
       "      <td>...</td>\n",
       "      <td>...</td>\n",
       "      <td>...</td>\n",
       "      <td>...</td>\n",
       "      <td>...</td>\n",
       "      <td>...</td>\n",
       "      <td>...</td>\n",
       "      <td>...</td>\n",
       "      <td>...</td>\n",
       "    </tr>\n",
       "    <tr>\n",
       "      <th>839</th>\n",
       "      <td>ArieForce One</td>\n",
       "      <td>Fun Spot America Atlanta</td>\n",
       "      <td>Operating</td>\n",
       "      <td>Rocky Mountain Construction</td>\n",
       "      <td>2022</td>\n",
       "      <td>NaN</td>\n",
       "      <td>NaN</td>\n",
       "      <td>Steel</td>\n",
       "      <td>2022-01-01</td>\n",
       "      <td>64.0</td>\n",
       "      <td>NaN</td>\n",
       "      <td>4</td>\n",
       "      <td>3.750000</td>\n",
       "    </tr>\n",
       "    <tr>\n",
       "      <th>840</th>\n",
       "      <td>Aquaman: Power Wave</td>\n",
       "      <td>Six Flags Over Texas</td>\n",
       "      <td>Operating</td>\n",
       "      <td>Mack Rides</td>\n",
       "      <td>2022</td>\n",
       "      <td>32.7560</td>\n",
       "      <td>-97.0710</td>\n",
       "      <td>Steel</td>\n",
       "      <td>2022-01-01</td>\n",
       "      <td>62.1</td>\n",
       "      <td>NaN</td>\n",
       "      <td>0</td>\n",
       "      <td>4.010648</td>\n",
       "    </tr>\n",
       "    <tr>\n",
       "      <th>841</th>\n",
       "      <td>Tumbili</td>\n",
       "      <td>Kings Dominion</td>\n",
       "      <td>Operating</td>\n",
       "      <td>S&amp;S – Sansei Technologies</td>\n",
       "      <td>2022</td>\n",
       "      <td>NaN</td>\n",
       "      <td>NaN</td>\n",
       "      <td>Steel</td>\n",
       "      <td>2022-01-01</td>\n",
       "      <td>34.0</td>\n",
       "      <td>NaN</td>\n",
       "      <td>0</td>\n",
       "      <td>3.213145</td>\n",
       "    </tr>\n",
       "    <tr>\n",
       "      <th>842</th>\n",
       "      <td>Emperor (roller coaster)</td>\n",
       "      <td>SeaWorld San Diego</td>\n",
       "      <td>Operating</td>\n",
       "      <td>Bolliger &amp; Mabillard</td>\n",
       "      <td>2022</td>\n",
       "      <td>32.7640</td>\n",
       "      <td>-117.2224</td>\n",
       "      <td>Steel</td>\n",
       "      <td>2022-03-01</td>\n",
       "      <td>63.0</td>\n",
       "      <td>NaN</td>\n",
       "      <td>4</td>\n",
       "      <td>4.036190</td>\n",
       "    </tr>\n",
       "    <tr>\n",
       "      <th>843</th>\n",
       "      <td>Wonder Woman Flight of Courage</td>\n",
       "      <td>Six Flags Magic Mountain</td>\n",
       "      <td>Operating</td>\n",
       "      <td>Rocky Mountain Construction</td>\n",
       "      <td>2022</td>\n",
       "      <td>NaN</td>\n",
       "      <td>NaN</td>\n",
       "      <td>Steel</td>\n",
       "      <td>2022-01-01</td>\n",
       "      <td>58.0</td>\n",
       "      <td>NaN</td>\n",
       "      <td>3</td>\n",
       "      <td>3.894286</td>\n",
       "    </tr>\n",
       "  </tbody>\n",
       "</table>\n",
       "<p>844 rows × 13 columns</p>\n",
       "</div>"
      ],
      "text/plain": [
       "                               Coaster_name                        Location  \\\n",
       "0                        Switchback Railway                    Coney Island   \n",
       "1                         Flip Flap Railway                   Sea Lion Park   \n",
       "2    Switchback Railway (Euclid Beach Park)  Cleveland, Ohio, United States   \n",
       "3              Loop the Loop (Coney Island)                           Other   \n",
       "4              Loop the Loop (Young's Pier)                           Other   \n",
       "..                                      ...                             ...   \n",
       "839                           ArieForce One        Fun Spot America Atlanta   \n",
       "840                     Aquaman: Power Wave            Six Flags Over Texas   \n",
       "841                                 Tumbili                  Kings Dominion   \n",
       "842                Emperor (roller coaster)              SeaWorld San Diego   \n",
       "843          Wonder Woman Flight of Courage        Six Flags Magic Mountain   \n",
       "\n",
       "           Status                 Manufacturer  Year_Introduced  Latitude  \\\n",
       "0    Discontinued       LaMarcus Adna Thompson             1884   40.5740   \n",
       "1    Discontinued                 Lina Beecher             1895   40.5780   \n",
       "2    Discontinued                      Unknown             1896   41.5800   \n",
       "3    Discontinued               Edwin Prescott             1901   40.5745   \n",
       "4    Discontinued               Edwin Prescott             1901   39.3538   \n",
       "..            ...                          ...              ...       ...   \n",
       "839     Operating  Rocky Mountain Construction             2022       NaN   \n",
       "840     Operating                   Mack Rides             2022   32.7560   \n",
       "841     Operating    S&S – Sansei Technologies             2022       NaN   \n",
       "842     Operating         Bolliger & Mabillard             2022   32.7640   \n",
       "843     Operating  Rocky Mountain Construction             2022       NaN   \n",
       "\n",
       "     Longitude Type_Main Opening_date  Speed_mph  Height_ft  Inversions  \\\n",
       "0     -73.9780      Wood   1884-06-16        6.0        NaN           0   \n",
       "1     -73.9790      Wood   1895-01-01        NaN        NaN           1   \n",
       "2     -81.5700     Other   1896-01-01        NaN        NaN           0   \n",
       "3     -73.9780     Steel   1901-01-01        NaN        NaN           1   \n",
       "4     -74.4342     Steel   1901-01-01        NaN        NaN           1   \n",
       "..         ...       ...          ...        ...        ...         ...   \n",
       "839        NaN     Steel   2022-01-01       64.0        NaN           4   \n",
       "840   -97.0710     Steel   2022-01-01       62.1        NaN           0   \n",
       "841        NaN     Steel   2022-01-01       34.0        NaN           0   \n",
       "842  -117.2224     Steel   2022-03-01       63.0        NaN           4   \n",
       "843        NaN     Steel   2022-01-01       58.0        NaN           3   \n",
       "\n",
       "        Gforce  \n",
       "0     2.900000  \n",
       "1    12.000000  \n",
       "2     3.782873  \n",
       "3     3.782873  \n",
       "4     3.782873  \n",
       "..         ...  \n",
       "839   3.750000  \n",
       "840   4.010648  \n",
       "841   3.213145  \n",
       "842   4.036190  \n",
       "843   3.894286  \n",
       "\n",
       "[844 rows x 13 columns]"
      ]
     },
     "execution_count": 123,
     "metadata": {},
     "output_type": "execute_result"
    }
   ],
   "source": [
    "df"
   ]
  },
  {
   "cell_type": "markdown",
   "id": "4eea9591-7d83-4414-ae64-7ecbf7ee25af",
   "metadata": {
    "tags": []
   },
   "source": [
    "#### let's do the same for height_ft"
   ]
  },
  {
   "cell_type": "markdown",
   "id": "bb8e25aa-c727-47ae-9d00-c3bb1060c26d",
   "metadata": {},
   "source": [
    "- let's check the correlation for height_ft"
   ]
  },
  {
   "cell_type": "code",
   "execution_count": 124,
   "id": "81040a92-13dd-4f78-8aa3-f789c551b17b",
   "metadata": {
    "tags": []
   },
   "outputs": [
    {
     "name": "stderr",
     "output_type": "stream",
     "text": [
      "C:\\Users\\Aniel\\AppData\\Local\\Temp\\ipykernel_824\\1692251829.py:1: FutureWarning: The default value of numeric_only in DataFrame.corr is deprecated. In a future version, it will default to False. Select only valid columns or specify the value of numeric_only to silence this warning.\n",
      "  cor_matrix = df.corr()\n"
     ]
    },
    {
     "data": {
      "text/plain": [
       "Year_Introduced    0.250821\n",
       "Latitude          -0.058753\n",
       "Longitude          0.051550\n",
       "Speed_mph          1.000000\n",
       "Height_ft          0.818790\n",
       "Inversions         0.237356\n",
       "Gforce             0.722297\n",
       "Name: Speed_mph, dtype: float64"
      ]
     },
     "execution_count": 124,
     "metadata": {},
     "output_type": "execute_result"
    }
   ],
   "source": [
    "cor_matrix = df.corr()\n",
    "cor_matrix['Speed_mph'] "
   ]
  },
  {
   "cell_type": "markdown",
   "id": "877ea34c-b9cf-4ba9-bb35-2f9e9eecc7e0",
   "metadata": {},
   "source": [
    "- based on the correlation table, gforce and speed_mph are strongly correlated with height_ft\n"
   ]
  },
  {
   "cell_type": "code",
   "execution_count": 125,
   "id": "d8fee88e-7ae7-4507-96d9-23be21f822c5",
   "metadata": {
    "tags": []
   },
   "outputs": [],
   "source": [
    "testing_3 = df[['Speed_mph','Gforce','Height_ft']].copy()"
   ]
  },
  {
   "cell_type": "code",
   "execution_count": 126,
   "id": "a576fe32-5f09-497b-a90d-94896fb34194",
   "metadata": {
    "tags": []
   },
   "outputs": [
    {
     "data": {
      "text/html": [
       "<div>\n",
       "<style scoped>\n",
       "    .dataframe tbody tr th:only-of-type {\n",
       "        vertical-align: middle;\n",
       "    }\n",
       "\n",
       "    .dataframe tbody tr th {\n",
       "        vertical-align: top;\n",
       "    }\n",
       "\n",
       "    .dataframe thead th {\n",
       "        text-align: right;\n",
       "    }\n",
       "</style>\n",
       "<table border=\"1\" class=\"dataframe\">\n",
       "  <thead>\n",
       "    <tr style=\"text-align: right;\">\n",
       "      <th></th>\n",
       "      <th>Speed_mph</th>\n",
       "      <th>Gforce</th>\n",
       "      <th>Height_ft</th>\n",
       "    </tr>\n",
       "  </thead>\n",
       "  <tbody>\n",
       "    <tr>\n",
       "      <th>0</th>\n",
       "      <td>6.0</td>\n",
       "      <td>2.900000</td>\n",
       "      <td>NaN</td>\n",
       "    </tr>\n",
       "    <tr>\n",
       "      <th>1</th>\n",
       "      <td>NaN</td>\n",
       "      <td>12.000000</td>\n",
       "      <td>NaN</td>\n",
       "    </tr>\n",
       "    <tr>\n",
       "      <th>2</th>\n",
       "      <td>NaN</td>\n",
       "      <td>3.782873</td>\n",
       "      <td>NaN</td>\n",
       "    </tr>\n",
       "    <tr>\n",
       "      <th>3</th>\n",
       "      <td>NaN</td>\n",
       "      <td>3.782873</td>\n",
       "      <td>NaN</td>\n",
       "    </tr>\n",
       "    <tr>\n",
       "      <th>4</th>\n",
       "      <td>NaN</td>\n",
       "      <td>3.782873</td>\n",
       "      <td>NaN</td>\n",
       "    </tr>\n",
       "    <tr>\n",
       "      <th>...</th>\n",
       "      <td>...</td>\n",
       "      <td>...</td>\n",
       "      <td>...</td>\n",
       "    </tr>\n",
       "    <tr>\n",
       "      <th>839</th>\n",
       "      <td>64.0</td>\n",
       "      <td>3.750000</td>\n",
       "      <td>NaN</td>\n",
       "    </tr>\n",
       "    <tr>\n",
       "      <th>840</th>\n",
       "      <td>62.1</td>\n",
       "      <td>4.010648</td>\n",
       "      <td>NaN</td>\n",
       "    </tr>\n",
       "    <tr>\n",
       "      <th>841</th>\n",
       "      <td>34.0</td>\n",
       "      <td>3.213145</td>\n",
       "      <td>NaN</td>\n",
       "    </tr>\n",
       "    <tr>\n",
       "      <th>842</th>\n",
       "      <td>63.0</td>\n",
       "      <td>4.036190</td>\n",
       "      <td>NaN</td>\n",
       "    </tr>\n",
       "    <tr>\n",
       "      <th>843</th>\n",
       "      <td>58.0</td>\n",
       "      <td>3.894286</td>\n",
       "      <td>NaN</td>\n",
       "    </tr>\n",
       "  </tbody>\n",
       "</table>\n",
       "<p>844 rows × 3 columns</p>\n",
       "</div>"
      ],
      "text/plain": [
       "     Speed_mph     Gforce  Height_ft\n",
       "0          6.0   2.900000        NaN\n",
       "1          NaN  12.000000        NaN\n",
       "2          NaN   3.782873        NaN\n",
       "3          NaN   3.782873        NaN\n",
       "4          NaN   3.782873        NaN\n",
       "..         ...        ...        ...\n",
       "839       64.0   3.750000        NaN\n",
       "840       62.1   4.010648        NaN\n",
       "841       34.0   3.213145        NaN\n",
       "842       63.0   4.036190        NaN\n",
       "843       58.0   3.894286        NaN\n",
       "\n",
       "[844 rows x 3 columns]"
      ]
     },
     "execution_count": 126,
     "metadata": {},
     "output_type": "execute_result"
    }
   ],
   "source": [
    "testing_3"
   ]
  },
  {
   "cell_type": "code",
   "execution_count": 127,
   "id": "d45b04e0-3768-4ccd-b1fc-388b06c5b913",
   "metadata": {
    "tags": []
   },
   "outputs": [],
   "source": [
    "# 1. separeate the null values and considered it as test data\n",
    "from sklearn.linear_model import LinearRegression\n",
    "from sklearn.impute import SimpleImputer\n",
    "\n",
    "\n",
    "correlated_col = ['Speed_mph', 'Gforce']\n",
    "\n",
    "# separate the gforce null value\n",
    "test_data = testing_3.dropna(subset=['Height_ft'])\n",
    "\n",
    "# target variable used for training\n",
    "y_train = test_data['Height_ft']\n",
    "# feature matrix used for training the model\n",
    "X_train = test_data[correlated_col]\n",
    "\n",
    "\n",
    "# linear regression cannot work with null, so inputation is needed\n",
    "imputer = SimpleImputer(strategy='mean')\n",
    "X_train = imputer.fit_transform(X_train)\n",
    "\n",
    "# train model for prediction\n",
    "lr = LinearRegression()\n",
    "lr.fit(X_train, y_train)\n",
    "\n",
    "# select the missing data for prediction\n",
    "missing_data = testing_3.loc[testing['Height_ft'].isnull(), correlated_col]\n",
    "\n",
    "# we need to impute the missing data in df\n",
    "missing_data_imputed = imputer.transform(missing_data)\n",
    "predicted_height = lr.predict(missing_data_imputed)\n",
    "\n",
    "# Filling missing values in the original DataFrame\n",
    "predicted_height = testing_3.loc[testing['Height_ft'].isnull(), 'Height_ft'] = predicted_height\n"
   ]
  },
  {
   "cell_type": "code",
   "execution_count": 128,
   "id": "22e1118b-6739-4652-be8f-04cc59f48c7b",
   "metadata": {
    "tags": []
   },
   "outputs": [
    {
     "data": {
      "text/html": [
       "<div>\n",
       "<style scoped>\n",
       "    .dataframe tbody tr th:only-of-type {\n",
       "        vertical-align: middle;\n",
       "    }\n",
       "\n",
       "    .dataframe tbody tr th {\n",
       "        vertical-align: top;\n",
       "    }\n",
       "\n",
       "    .dataframe thead th {\n",
       "        text-align: right;\n",
       "    }\n",
       "</style>\n",
       "<table border=\"1\" class=\"dataframe\">\n",
       "  <thead>\n",
       "    <tr style=\"text-align: right;\">\n",
       "      <th></th>\n",
       "      <th>Speed_mph</th>\n",
       "      <th>Gforce</th>\n",
       "      <th>Height_ft</th>\n",
       "    </tr>\n",
       "  </thead>\n",
       "  <tbody>\n",
       "    <tr>\n",
       "      <th>0</th>\n",
       "      <td>6.0</td>\n",
       "      <td>2.900000</td>\n",
       "      <td>-19.715742</td>\n",
       "    </tr>\n",
       "    <tr>\n",
       "      <th>1</th>\n",
       "      <td>NaN</td>\n",
       "      <td>12.000000</td>\n",
       "      <td>150.416545</td>\n",
       "    </tr>\n",
       "    <tr>\n",
       "      <th>2</th>\n",
       "      <td>NaN</td>\n",
       "      <td>3.782873</td>\n",
       "      <td>105.630616</td>\n",
       "    </tr>\n",
       "    <tr>\n",
       "      <th>3</th>\n",
       "      <td>NaN</td>\n",
       "      <td>3.782873</td>\n",
       "      <td>105.630616</td>\n",
       "    </tr>\n",
       "    <tr>\n",
       "      <th>4</th>\n",
       "      <td>NaN</td>\n",
       "      <td>3.782873</td>\n",
       "      <td>105.630616</td>\n",
       "    </tr>\n",
       "    <tr>\n",
       "      <th>...</th>\n",
       "      <td>...</td>\n",
       "      <td>...</td>\n",
       "      <td>...</td>\n",
       "    </tr>\n",
       "    <tr>\n",
       "      <th>839</th>\n",
       "      <td>64.0</td>\n",
       "      <td>3.750000</td>\n",
       "      <td>136.168500</td>\n",
       "    </tr>\n",
       "    <tr>\n",
       "      <th>840</th>\n",
       "      <td>62.1</td>\n",
       "      <td>4.010648</td>\n",
       "      <td>132.634321</td>\n",
       "    </tr>\n",
       "    <tr>\n",
       "      <th>841</th>\n",
       "      <td>34.0</td>\n",
       "      <td>3.213145</td>\n",
       "      <td>55.008948</td>\n",
       "    </tr>\n",
       "    <tr>\n",
       "      <th>842</th>\n",
       "      <td>63.0</td>\n",
       "      <td>4.036190</td>\n",
       "      <td>135.120543</td>\n",
       "    </tr>\n",
       "    <tr>\n",
       "      <th>843</th>\n",
       "      <td>58.0</td>\n",
       "      <td>3.894286</td>\n",
       "      <td>121.308199</td>\n",
       "    </tr>\n",
       "  </tbody>\n",
       "</table>\n",
       "<p>844 rows × 3 columns</p>\n",
       "</div>"
      ],
      "text/plain": [
       "     Speed_mph     Gforce   Height_ft\n",
       "0          6.0   2.900000  -19.715742\n",
       "1          NaN  12.000000  150.416545\n",
       "2          NaN   3.782873  105.630616\n",
       "3          NaN   3.782873  105.630616\n",
       "4          NaN   3.782873  105.630616\n",
       "..         ...        ...         ...\n",
       "839       64.0   3.750000  136.168500\n",
       "840       62.1   4.010648  132.634321\n",
       "841       34.0   3.213145   55.008948\n",
       "842       63.0   4.036190  135.120543\n",
       "843       58.0   3.894286  121.308199\n",
       "\n",
       "[844 rows x 3 columns]"
      ]
     },
     "execution_count": 128,
     "metadata": {},
     "output_type": "execute_result"
    }
   ],
   "source": [
    "testing_3"
   ]
  },
  {
   "cell_type": "code",
   "execution_count": null,
   "id": "ba15ddb5-42a4-4d5c-9d70-9b4d1db29768",
   "metadata": {},
   "outputs": [],
   "source": []
  },
  {
   "cell_type": "code",
   "execution_count": null,
   "id": "76ba22c6-f0de-49a2-a858-435626ef143c",
   "metadata": {},
   "outputs": [],
   "source": []
  },
  {
   "cell_type": "code",
   "execution_count": null,
   "id": "9cb78859-44f6-437a-992c-ff704aa1faec",
   "metadata": {},
   "outputs": [],
   "source": []
  }
 ],
 "metadata": {
  "kernelspec": {
   "display_name": "Python 3 (ipykernel)",
   "language": "python",
   "name": "python3"
  },
  "language_info": {
   "codemirror_mode": {
    "name": "ipython",
    "version": 3
   },
   "file_extension": ".py",
   "mimetype": "text/x-python",
   "name": "python",
   "nbconvert_exporter": "python",
   "pygments_lexer": "ipython3",
   "version": "3.11.4"
  }
 },
 "nbformat": 4,
 "nbformat_minor": 5
}
