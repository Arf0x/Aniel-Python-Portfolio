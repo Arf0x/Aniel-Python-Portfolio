{
 "cells": [
  {
   "cell_type": "code",
   "execution_count": 1,
   "id": "769b7ac1-8951-4b37-b372-66a12a1fa497",
   "metadata": {
    "tags": []
   },
   "outputs": [],
   "source": [
    "import numpy as np\n",
    "import pandas as pd\n",
    "import matplotlib.pylab as plt\n",
    "import seaborn as sns"
   ]
  },
  {
   "cell_type": "code",
   "execution_count": 2,
   "id": "b7f2b39d-c156-4167-97ee-09d4d632bbe8",
   "metadata": {
    "tags": []
   },
   "outputs": [
    {
     "data": {
      "text/html": [
       "<div>\n",
       "<style scoped>\n",
       "    .dataframe tbody tr th:only-of-type {\n",
       "        vertical-align: middle;\n",
       "    }\n",
       "\n",
       "    .dataframe tbody tr th {\n",
       "        vertical-align: top;\n",
       "    }\n",
       "\n",
       "    .dataframe thead th {\n",
       "        text-align: right;\n",
       "    }\n",
       "</style>\n",
       "<table border=\"1\" class=\"dataframe\">\n",
       "  <thead>\n",
       "    <tr style=\"text-align: right;\">\n",
       "      <th></th>\n",
       "      <th>MOVIES</th>\n",
       "      <th>YEAR</th>\n",
       "      <th>GENRE</th>\n",
       "      <th>RATING</th>\n",
       "      <th>ONE-LINE</th>\n",
       "      <th>STARS</th>\n",
       "      <th>VOTES</th>\n",
       "      <th>RunTime</th>\n",
       "      <th>Gross</th>\n",
       "    </tr>\n",
       "  </thead>\n",
       "  <tbody>\n",
       "    <tr>\n",
       "      <th>0</th>\n",
       "      <td>Blood Red Sky</td>\n",
       "      <td>(2021)</td>\n",
       "      <td>\\nAction, Horror, Thriller</td>\n",
       "      <td>6.1</td>\n",
       "      <td>\\nA woman with a mysterious illness is forced ...</td>\n",
       "      <td>\\n    Director:\\nPeter Thorwarth\\n| \\n    Star...</td>\n",
       "      <td>21,062</td>\n",
       "      <td>121.0</td>\n",
       "      <td>NaN</td>\n",
       "    </tr>\n",
       "    <tr>\n",
       "      <th>1</th>\n",
       "      <td>Masters of the Universe: Revelation</td>\n",
       "      <td>(2021– )</td>\n",
       "      <td>\\nAnimation, Action, Adventure</td>\n",
       "      <td>5.0</td>\n",
       "      <td>\\nThe war for Eternia begins again in what may...</td>\n",
       "      <td>\\n            \\n    Stars:\\nChris Wood, \\nSara...</td>\n",
       "      <td>17,870</td>\n",
       "      <td>25.0</td>\n",
       "      <td>NaN</td>\n",
       "    </tr>\n",
       "    <tr>\n",
       "      <th>2</th>\n",
       "      <td>The Walking Dead</td>\n",
       "      <td>(2010–2022)</td>\n",
       "      <td>\\nDrama, Horror, Thriller</td>\n",
       "      <td>8.2</td>\n",
       "      <td>\\nSheriff Deputy Rick Grimes wakes up from a c...</td>\n",
       "      <td>\\n            \\n    Stars:\\nAndrew Lincoln, \\n...</td>\n",
       "      <td>885,805</td>\n",
       "      <td>44.0</td>\n",
       "      <td>NaN</td>\n",
       "    </tr>\n",
       "    <tr>\n",
       "      <th>3</th>\n",
       "      <td>Rick and Morty</td>\n",
       "      <td>(2013– )</td>\n",
       "      <td>\\nAnimation, Adventure, Comedy</td>\n",
       "      <td>9.2</td>\n",
       "      <td>\\nAn animated series that follows the exploits...</td>\n",
       "      <td>\\n            \\n    Stars:\\nJustin Roiland, \\n...</td>\n",
       "      <td>414,849</td>\n",
       "      <td>23.0</td>\n",
       "      <td>NaN</td>\n",
       "    </tr>\n",
       "    <tr>\n",
       "      <th>4</th>\n",
       "      <td>Army of Thieves</td>\n",
       "      <td>(2021)</td>\n",
       "      <td>\\nAction, Crime, Horror</td>\n",
       "      <td>NaN</td>\n",
       "      <td>\\nA prequel, set before the events of Army of ...</td>\n",
       "      <td>\\n    Director:\\nMatthias Schweighöfer\\n| \\n  ...</td>\n",
       "      <td>NaN</td>\n",
       "      <td>NaN</td>\n",
       "      <td>NaN</td>\n",
       "    </tr>\n",
       "  </tbody>\n",
       "</table>\n",
       "</div>"
      ],
      "text/plain": [
       "                                MOVIES         YEAR  \\\n",
       "0                        Blood Red Sky       (2021)   \n",
       "1  Masters of the Universe: Revelation     (2021– )   \n",
       "2                     The Walking Dead  (2010–2022)   \n",
       "3                       Rick and Morty     (2013– )   \n",
       "4                      Army of Thieves       (2021)   \n",
       "\n",
       "                                        GENRE  RATING  \\\n",
       "0      \\nAction, Horror, Thriller                 6.1   \n",
       "1  \\nAnimation, Action, Adventure                 5.0   \n",
       "2       \\nDrama, Horror, Thriller                 8.2   \n",
       "3  \\nAnimation, Adventure, Comedy                 9.2   \n",
       "4         \\nAction, Crime, Horror                 NaN   \n",
       "\n",
       "                                            ONE-LINE  \\\n",
       "0  \\nA woman with a mysterious illness is forced ...   \n",
       "1  \\nThe war for Eternia begins again in what may...   \n",
       "2  \\nSheriff Deputy Rick Grimes wakes up from a c...   \n",
       "3  \\nAn animated series that follows the exploits...   \n",
       "4  \\nA prequel, set before the events of Army of ...   \n",
       "\n",
       "                                               STARS    VOTES  RunTime Gross  \n",
       "0  \\n    Director:\\nPeter Thorwarth\\n| \\n    Star...   21,062    121.0   NaN  \n",
       "1  \\n            \\n    Stars:\\nChris Wood, \\nSara...   17,870     25.0   NaN  \n",
       "2  \\n            \\n    Stars:\\nAndrew Lincoln, \\n...  885,805     44.0   NaN  \n",
       "3  \\n            \\n    Stars:\\nJustin Roiland, \\n...  414,849     23.0   NaN  \n",
       "4  \\n    Director:\\nMatthias Schweighöfer\\n| \\n  ...      NaN      NaN   NaN  "
      ]
     },
     "execution_count": 2,
     "metadata": {},
     "output_type": "execute_result"
    }
   ],
   "source": [
    "df= pd.read_csv('movies.csv')\n",
    "df.head()"
   ]
  },
  {
   "cell_type": "markdown",
   "id": "87b8b16d-7bb9-4270-af44-dd6ca352ed4b",
   "metadata": {},
   "source": [
    "#### a little exploration on the dataset"
   ]
  },
  {
   "cell_type": "code",
   "execution_count": 3,
   "id": "d0b6d1fd-57bd-473d-89b2-6a698ff4a659",
   "metadata": {
    "tags": []
   },
   "outputs": [
    {
     "data": {
      "text/plain": [
       "Index(['MOVIES', 'YEAR', 'GENRE', 'RATING', 'ONE-LINE', 'STARS', 'VOTES',\n",
       "       'RunTime', 'Gross'],\n",
       "      dtype='object')"
      ]
     },
     "execution_count": 3,
     "metadata": {},
     "output_type": "execute_result"
    }
   ],
   "source": [
    "df.columns"
   ]
  },
  {
   "cell_type": "code",
   "execution_count": 4,
   "id": "35b0f496-b378-4b0e-ab1f-d4d1ce099b87",
   "metadata": {
    "tags": []
   },
   "outputs": [
    {
     "data": {
      "text/plain": [
       "MOVIES         0\n",
       "YEAR         644\n",
       "GENRE         80\n",
       "RATING      1820\n",
       "ONE-LINE       0\n",
       "STARS          0\n",
       "VOTES       1820\n",
       "RunTime     2958\n",
       "Gross       9539\n",
       "dtype: int64"
      ]
     },
     "execution_count": 4,
     "metadata": {},
     "output_type": "execute_result"
    }
   ],
   "source": [
    "df.isnull().sum()"
   ]
  },
  {
   "cell_type": "code",
   "execution_count": 5,
   "id": "f0e9eaf1-d848-4b6f-9e1c-302134e9b711",
   "metadata": {
    "tags": []
   },
   "outputs": [
    {
     "data": {
      "text/plain": [
       "(9999, 9)"
      ]
     },
     "execution_count": 5,
     "metadata": {},
     "output_type": "execute_result"
    }
   ],
   "source": [
    "df.shape"
   ]
  },
  {
   "cell_type": "code",
   "execution_count": 6,
   "id": "41c090fe-29f8-4c3b-8825-3a0a579f1324",
   "metadata": {
    "tags": []
   },
   "outputs": [
    {
     "name": "stdout",
     "output_type": "stream",
     "text": [
      "<class 'pandas.core.frame.DataFrame'>\n",
      "RangeIndex: 9999 entries, 0 to 9998\n",
      "Data columns (total 9 columns):\n",
      " #   Column    Non-Null Count  Dtype  \n",
      "---  ------    --------------  -----  \n",
      " 0   MOVIES    9999 non-null   object \n",
      " 1   YEAR      9355 non-null   object \n",
      " 2   GENRE     9919 non-null   object \n",
      " 3   RATING    8179 non-null   float64\n",
      " 4   ONE-LINE  9999 non-null   object \n",
      " 5   STARS     9999 non-null   object \n",
      " 6   VOTES     8179 non-null   object \n",
      " 7   RunTime   7041 non-null   float64\n",
      " 8   Gross     460 non-null    object \n",
      "dtypes: float64(2), object(7)\n",
      "memory usage: 703.2+ KB\n"
     ]
    }
   ],
   "source": [
    "df.info()"
   ]
  },
  {
   "cell_type": "code",
   "execution_count": null,
   "id": "fb668da1-e0a8-4ec2-839f-6e4ca9e91193",
   "metadata": {},
   "outputs": [],
   "source": []
  },
  {
   "cell_type": "code",
   "execution_count": 7,
   "id": "9d0ef399-ea53-44f5-b8fe-748e492ccffb",
   "metadata": {
    "tags": []
   },
   "outputs": [
    {
     "data": {
      "text/plain": [
       "431"
      ]
     },
     "execution_count": 7,
     "metadata": {},
     "output_type": "execute_result"
    }
   ],
   "source": [
    "df.duplicated().sum()"
   ]
  },
  {
   "cell_type": "code",
   "execution_count": 8,
   "id": "6894201c-69f5-4ae2-b287-2d97bd49a5bd",
   "metadata": {
    "tags": []
   },
   "outputs": [
    {
     "data": {
      "text/html": [
       "<div>\n",
       "<style scoped>\n",
       "    .dataframe tbody tr th:only-of-type {\n",
       "        vertical-align: middle;\n",
       "    }\n",
       "\n",
       "    .dataframe tbody tr th {\n",
       "        vertical-align: top;\n",
       "    }\n",
       "\n",
       "    .dataframe thead th {\n",
       "        text-align: right;\n",
       "    }\n",
       "</style>\n",
       "<table border=\"1\" class=\"dataframe\">\n",
       "  <thead>\n",
       "    <tr style=\"text-align: right;\">\n",
       "      <th></th>\n",
       "      <th>MOVIES</th>\n",
       "      <th>YEAR</th>\n",
       "      <th>GENRE</th>\n",
       "      <th>RATING</th>\n",
       "      <th>ONE-LINE</th>\n",
       "      <th>STARS</th>\n",
       "      <th>VOTES</th>\n",
       "      <th>RunTime</th>\n",
       "      <th>Gross</th>\n",
       "    </tr>\n",
       "  </thead>\n",
       "  <tbody>\n",
       "    <tr>\n",
       "      <th>0</th>\n",
       "      <td>Blood Red Sky</td>\n",
       "      <td>(2021)</td>\n",
       "      <td>\\nAction, Horror, Thriller</td>\n",
       "      <td>6.1</td>\n",
       "      <td>\\nA woman with a mysterious illness is forced ...</td>\n",
       "      <td>\\n    Director:\\nPeter Thorwarth\\n| \\n    Star...</td>\n",
       "      <td>21,062</td>\n",
       "      <td>121.0</td>\n",
       "      <td>NaN</td>\n",
       "    </tr>\n",
       "    <tr>\n",
       "      <th>1</th>\n",
       "      <td>Masters of the Universe: Revelation</td>\n",
       "      <td>(2021– )</td>\n",
       "      <td>\\nAnimation, Action, Adventure</td>\n",
       "      <td>5.0</td>\n",
       "      <td>\\nThe war for Eternia begins again in what may...</td>\n",
       "      <td>\\n            \\n    Stars:\\nChris Wood, \\nSara...</td>\n",
       "      <td>17,870</td>\n",
       "      <td>25.0</td>\n",
       "      <td>NaN</td>\n",
       "    </tr>\n",
       "    <tr>\n",
       "      <th>2</th>\n",
       "      <td>The Walking Dead</td>\n",
       "      <td>(2010–2022)</td>\n",
       "      <td>\\nDrama, Horror, Thriller</td>\n",
       "      <td>8.2</td>\n",
       "      <td>\\nSheriff Deputy Rick Grimes wakes up from a c...</td>\n",
       "      <td>\\n            \\n    Stars:\\nAndrew Lincoln, \\n...</td>\n",
       "      <td>885,805</td>\n",
       "      <td>44.0</td>\n",
       "      <td>NaN</td>\n",
       "    </tr>\n",
       "  </tbody>\n",
       "</table>\n",
       "</div>"
      ],
      "text/plain": [
       "                                MOVIES         YEAR  \\\n",
       "0                        Blood Red Sky       (2021)   \n",
       "1  Masters of the Universe: Revelation     (2021– )   \n",
       "2                     The Walking Dead  (2010–2022)   \n",
       "\n",
       "                                        GENRE  RATING  \\\n",
       "0      \\nAction, Horror, Thriller                 6.1   \n",
       "1  \\nAnimation, Action, Adventure                 5.0   \n",
       "2       \\nDrama, Horror, Thriller                 8.2   \n",
       "\n",
       "                                            ONE-LINE  \\\n",
       "0  \\nA woman with a mysterious illness is forced ...   \n",
       "1  \\nThe war for Eternia begins again in what may...   \n",
       "2  \\nSheriff Deputy Rick Grimes wakes up from a c...   \n",
       "\n",
       "                                               STARS    VOTES  RunTime Gross  \n",
       "0  \\n    Director:\\nPeter Thorwarth\\n| \\n    Star...   21,062    121.0   NaN  \n",
       "1  \\n            \\n    Stars:\\nChris Wood, \\nSara...   17,870     25.0   NaN  \n",
       "2  \\n            \\n    Stars:\\nAndrew Lincoln, \\n...  885,805     44.0   NaN  "
      ]
     },
     "execution_count": 8,
     "metadata": {},
     "output_type": "execute_result"
    }
   ],
   "source": [
    "df.head(3)"
   ]
  },
  {
   "cell_type": "code",
   "execution_count": null,
   "id": "dbb837a3-165d-47b4-839c-b1c0d78679a1",
   "metadata": {
    "jupyter": {
     "source_hidden": true
    },
    "tags": []
   },
   "outputs": [],
   "source": []
  },
  {
   "cell_type": "markdown",
   "id": "57126cd0-29fd-40b7-ad4a-d4e4f71c7d8c",
   "metadata": {
    "tags": []
   },
   "source": [
    "### formatting the columns"
   ]
  },
  {
   "cell_type": "markdown",
   "id": "181d0c74-528d-4a67-bb79-97c61c6e4bc0",
   "metadata": {},
   "source": [
    "### movies\n",
    "- no null vales, unwanted white space"
   ]
  },
  {
   "cell_type": "code",
   "execution_count": 9,
   "id": "d643a0bd-ce92-48ff-b199-a2f631660fe6",
   "metadata": {
    "tags": []
   },
   "outputs": [],
   "source": [
    "df['MOVIES'] = df['MOVIES'].str.strip()"
   ]
  },
  {
   "cell_type": "markdown",
   "id": "622e94c5-72f5-44c6-8982-ffa7b359b425",
   "metadata": {
    "tags": []
   },
   "source": [
    "### Year\n",
    "\n",
    "- removes the non-integer\n",
    "- separate the year into start year and end year, by separating through -\n"
   ]
  },
  {
   "cell_type": "code",
   "execution_count": 10,
   "id": "6b3d4130-87e6-4db2-b0ab-084c676b5ea7",
   "metadata": {
    "tags": []
   },
   "outputs": [
    {
     "name": "stderr",
     "output_type": "stream",
     "text": [
      "C:\\Users\\Aniel\\AppData\\Local\\Temp\\ipykernel_5656\\75526939.py:1: FutureWarning: The default value of regex will change from True to False in a future version.\n",
      "  df['YEAR'] = df['YEAR'].str.replace('[^0-9]', '')\n"
     ]
    }
   ],
   "source": [
    "df['YEAR'] = df['YEAR'].str.replace('[^0-9]', '')"
   ]
  },
  {
   "cell_type": "code",
   "execution_count": 11,
   "id": "4105b1d3-92c1-4a15-b4e3-20122099974f",
   "metadata": {
    "tags": []
   },
   "outputs": [
    {
     "data": {
      "text/html": [
       "<div>\n",
       "<style scoped>\n",
       "    .dataframe tbody tr th:only-of-type {\n",
       "        vertical-align: middle;\n",
       "    }\n",
       "\n",
       "    .dataframe tbody tr th {\n",
       "        vertical-align: top;\n",
       "    }\n",
       "\n",
       "    .dataframe thead th {\n",
       "        text-align: right;\n",
       "    }\n",
       "</style>\n",
       "<table border=\"1\" class=\"dataframe\">\n",
       "  <thead>\n",
       "    <tr style=\"text-align: right;\">\n",
       "      <th></th>\n",
       "      <th>MOVIES</th>\n",
       "      <th>YEAR</th>\n",
       "      <th>GENRE</th>\n",
       "      <th>RATING</th>\n",
       "      <th>ONE-LINE</th>\n",
       "      <th>STARS</th>\n",
       "      <th>VOTES</th>\n",
       "      <th>RunTime</th>\n",
       "      <th>Gross</th>\n",
       "    </tr>\n",
       "  </thead>\n",
       "  <tbody>\n",
       "    <tr>\n",
       "      <th>0</th>\n",
       "      <td>Blood Red Sky</td>\n",
       "      <td>2021</td>\n",
       "      <td>\\nAction, Horror, Thriller</td>\n",
       "      <td>6.1</td>\n",
       "      <td>\\nA woman with a mysterious illness is forced ...</td>\n",
       "      <td>\\n    Director:\\nPeter Thorwarth\\n| \\n    Star...</td>\n",
       "      <td>21,062</td>\n",
       "      <td>121.0</td>\n",
       "      <td>NaN</td>\n",
       "    </tr>\n",
       "    <tr>\n",
       "      <th>1</th>\n",
       "      <td>Masters of the Universe: Revelation</td>\n",
       "      <td>2021</td>\n",
       "      <td>\\nAnimation, Action, Adventure</td>\n",
       "      <td>5.0</td>\n",
       "      <td>\\nThe war for Eternia begins again in what may...</td>\n",
       "      <td>\\n            \\n    Stars:\\nChris Wood, \\nSara...</td>\n",
       "      <td>17,870</td>\n",
       "      <td>25.0</td>\n",
       "      <td>NaN</td>\n",
       "    </tr>\n",
       "    <tr>\n",
       "      <th>2</th>\n",
       "      <td>The Walking Dead</td>\n",
       "      <td>20102022</td>\n",
       "      <td>\\nDrama, Horror, Thriller</td>\n",
       "      <td>8.2</td>\n",
       "      <td>\\nSheriff Deputy Rick Grimes wakes up from a c...</td>\n",
       "      <td>\\n            \\n    Stars:\\nAndrew Lincoln, \\n...</td>\n",
       "      <td>885,805</td>\n",
       "      <td>44.0</td>\n",
       "      <td>NaN</td>\n",
       "    </tr>\n",
       "    <tr>\n",
       "      <th>3</th>\n",
       "      <td>Rick and Morty</td>\n",
       "      <td>2013</td>\n",
       "      <td>\\nAnimation, Adventure, Comedy</td>\n",
       "      <td>9.2</td>\n",
       "      <td>\\nAn animated series that follows the exploits...</td>\n",
       "      <td>\\n            \\n    Stars:\\nJustin Roiland, \\n...</td>\n",
       "      <td>414,849</td>\n",
       "      <td>23.0</td>\n",
       "      <td>NaN</td>\n",
       "    </tr>\n",
       "    <tr>\n",
       "      <th>4</th>\n",
       "      <td>Army of Thieves</td>\n",
       "      <td>2021</td>\n",
       "      <td>\\nAction, Crime, Horror</td>\n",
       "      <td>NaN</td>\n",
       "      <td>\\nA prequel, set before the events of Army of ...</td>\n",
       "      <td>\\n    Director:\\nMatthias Schweighöfer\\n| \\n  ...</td>\n",
       "      <td>NaN</td>\n",
       "      <td>NaN</td>\n",
       "      <td>NaN</td>\n",
       "    </tr>\n",
       "  </tbody>\n",
       "</table>\n",
       "</div>"
      ],
      "text/plain": [
       "                                MOVIES      YEAR  \\\n",
       "0                        Blood Red Sky      2021   \n",
       "1  Masters of the Universe: Revelation      2021   \n",
       "2                     The Walking Dead  20102022   \n",
       "3                       Rick and Morty      2013   \n",
       "4                      Army of Thieves      2021   \n",
       "\n",
       "                                        GENRE  RATING  \\\n",
       "0      \\nAction, Horror, Thriller                 6.1   \n",
       "1  \\nAnimation, Action, Adventure                 5.0   \n",
       "2       \\nDrama, Horror, Thriller                 8.2   \n",
       "3  \\nAnimation, Adventure, Comedy                 9.2   \n",
       "4         \\nAction, Crime, Horror                 NaN   \n",
       "\n",
       "                                            ONE-LINE  \\\n",
       "0  \\nA woman with a mysterious illness is forced ...   \n",
       "1  \\nThe war for Eternia begins again in what may...   \n",
       "2  \\nSheriff Deputy Rick Grimes wakes up from a c...   \n",
       "3  \\nAn animated series that follows the exploits...   \n",
       "4  \\nA prequel, set before the events of Army of ...   \n",
       "\n",
       "                                               STARS    VOTES  RunTime Gross  \n",
       "0  \\n    Director:\\nPeter Thorwarth\\n| \\n    Star...   21,062    121.0   NaN  \n",
       "1  \\n            \\n    Stars:\\nChris Wood, \\nSara...   17,870     25.0   NaN  \n",
       "2  \\n            \\n    Stars:\\nAndrew Lincoln, \\n...  885,805     44.0   NaN  \n",
       "3  \\n            \\n    Stars:\\nJustin Roiland, \\n...  414,849     23.0   NaN  \n",
       "4  \\n    Director:\\nMatthias Schweighöfer\\n| \\n  ...      NaN      NaN   NaN  "
      ]
     },
     "execution_count": 11,
     "metadata": {},
     "output_type": "execute_result"
    }
   ],
   "source": [
    "df.head()"
   ]
  },
  {
   "cell_type": "code",
   "execution_count": 12,
   "id": "7faded90-95e2-40a7-aecc-94f07002caff",
   "metadata": {
    "tags": []
   },
   "outputs": [],
   "source": [
    "df['YEAR'] = df['YEAR'].apply(lambda x: str(x))\n",
    "df['YEAR'] = df['YEAR'].apply(lambda x: (x[0:4] + '-' + x[4:8]) if len(x)>4 else x)"
   ]
  },
  {
   "cell_type": "code",
   "execution_count": 13,
   "id": "f8bdb313-76a2-40b6-8377-b752e108f236",
   "metadata": {
    "tags": []
   },
   "outputs": [],
   "source": [
    "#df['Start_Year'] = df['YEAR'].str.split(pat = '-').str[0]\n",
    "#df['End_Year'] = df['YEAR'].str.split(pat = '-').str[1]"
   ]
  },
  {
   "cell_type": "code",
   "execution_count": 14,
   "id": "62754928-36b6-473c-bfff-3b545756fa4a",
   "metadata": {
    "tags": []
   },
   "outputs": [
    {
     "data": {
      "text/html": [
       "<div>\n",
       "<style scoped>\n",
       "    .dataframe tbody tr th:only-of-type {\n",
       "        vertical-align: middle;\n",
       "    }\n",
       "\n",
       "    .dataframe tbody tr th {\n",
       "        vertical-align: top;\n",
       "    }\n",
       "\n",
       "    .dataframe thead th {\n",
       "        text-align: right;\n",
       "    }\n",
       "</style>\n",
       "<table border=\"1\" class=\"dataframe\">\n",
       "  <thead>\n",
       "    <tr style=\"text-align: right;\">\n",
       "      <th></th>\n",
       "      <th>MOVIES</th>\n",
       "      <th>YEAR</th>\n",
       "      <th>GENRE</th>\n",
       "      <th>RATING</th>\n",
       "      <th>ONE-LINE</th>\n",
       "      <th>STARS</th>\n",
       "      <th>VOTES</th>\n",
       "      <th>RunTime</th>\n",
       "      <th>Gross</th>\n",
       "    </tr>\n",
       "  </thead>\n",
       "  <tbody>\n",
       "    <tr>\n",
       "      <th>0</th>\n",
       "      <td>Blood Red Sky</td>\n",
       "      <td>2021</td>\n",
       "      <td>\\nAction, Horror, Thriller</td>\n",
       "      <td>6.1</td>\n",
       "      <td>\\nA woman with a mysterious illness is forced ...</td>\n",
       "      <td>\\n    Director:\\nPeter Thorwarth\\n| \\n    Star...</td>\n",
       "      <td>21,062</td>\n",
       "      <td>121.0</td>\n",
       "      <td>NaN</td>\n",
       "    </tr>\n",
       "    <tr>\n",
       "      <th>1</th>\n",
       "      <td>Masters of the Universe: Revelation</td>\n",
       "      <td>2021</td>\n",
       "      <td>\\nAnimation, Action, Adventure</td>\n",
       "      <td>5.0</td>\n",
       "      <td>\\nThe war for Eternia begins again in what may...</td>\n",
       "      <td>\\n            \\n    Stars:\\nChris Wood, \\nSara...</td>\n",
       "      <td>17,870</td>\n",
       "      <td>25.0</td>\n",
       "      <td>NaN</td>\n",
       "    </tr>\n",
       "    <tr>\n",
       "      <th>2</th>\n",
       "      <td>The Walking Dead</td>\n",
       "      <td>2010-2022</td>\n",
       "      <td>\\nDrama, Horror, Thriller</td>\n",
       "      <td>8.2</td>\n",
       "      <td>\\nSheriff Deputy Rick Grimes wakes up from a c...</td>\n",
       "      <td>\\n            \\n    Stars:\\nAndrew Lincoln, \\n...</td>\n",
       "      <td>885,805</td>\n",
       "      <td>44.0</td>\n",
       "      <td>NaN</td>\n",
       "    </tr>\n",
       "    <tr>\n",
       "      <th>3</th>\n",
       "      <td>Rick and Morty</td>\n",
       "      <td>2013</td>\n",
       "      <td>\\nAnimation, Adventure, Comedy</td>\n",
       "      <td>9.2</td>\n",
       "      <td>\\nAn animated series that follows the exploits...</td>\n",
       "      <td>\\n            \\n    Stars:\\nJustin Roiland, \\n...</td>\n",
       "      <td>414,849</td>\n",
       "      <td>23.0</td>\n",
       "      <td>NaN</td>\n",
       "    </tr>\n",
       "    <tr>\n",
       "      <th>4</th>\n",
       "      <td>Army of Thieves</td>\n",
       "      <td>2021</td>\n",
       "      <td>\\nAction, Crime, Horror</td>\n",
       "      <td>NaN</td>\n",
       "      <td>\\nA prequel, set before the events of Army of ...</td>\n",
       "      <td>\\n    Director:\\nMatthias Schweighöfer\\n| \\n  ...</td>\n",
       "      <td>NaN</td>\n",
       "      <td>NaN</td>\n",
       "      <td>NaN</td>\n",
       "    </tr>\n",
       "  </tbody>\n",
       "</table>\n",
       "</div>"
      ],
      "text/plain": [
       "                                MOVIES       YEAR  \\\n",
       "0                        Blood Red Sky       2021   \n",
       "1  Masters of the Universe: Revelation       2021   \n",
       "2                     The Walking Dead  2010-2022   \n",
       "3                       Rick and Morty       2013   \n",
       "4                      Army of Thieves       2021   \n",
       "\n",
       "                                        GENRE  RATING  \\\n",
       "0      \\nAction, Horror, Thriller                 6.1   \n",
       "1  \\nAnimation, Action, Adventure                 5.0   \n",
       "2       \\nDrama, Horror, Thriller                 8.2   \n",
       "3  \\nAnimation, Adventure, Comedy                 9.2   \n",
       "4         \\nAction, Crime, Horror                 NaN   \n",
       "\n",
       "                                            ONE-LINE  \\\n",
       "0  \\nA woman with a mysterious illness is forced ...   \n",
       "1  \\nThe war for Eternia begins again in what may...   \n",
       "2  \\nSheriff Deputy Rick Grimes wakes up from a c...   \n",
       "3  \\nAn animated series that follows the exploits...   \n",
       "4  \\nA prequel, set before the events of Army of ...   \n",
       "\n",
       "                                               STARS    VOTES  RunTime Gross  \n",
       "0  \\n    Director:\\nPeter Thorwarth\\n| \\n    Star...   21,062    121.0   NaN  \n",
       "1  \\n            \\n    Stars:\\nChris Wood, \\nSara...   17,870     25.0   NaN  \n",
       "2  \\n            \\n    Stars:\\nAndrew Lincoln, \\n...  885,805     44.0   NaN  \n",
       "3  \\n            \\n    Stars:\\nJustin Roiland, \\n...  414,849     23.0   NaN  \n",
       "4  \\n    Director:\\nMatthias Schweighöfer\\n| \\n  ...      NaN      NaN   NaN  "
      ]
     },
     "execution_count": 14,
     "metadata": {},
     "output_type": "execute_result"
    }
   ],
   "source": [
    "#df = df.drop(['YEAR'], axis = 1)\n",
    "\n",
    "df.head()"
   ]
  },
  {
   "cell_type": "code",
   "execution_count": null,
   "id": "de5c1795-5169-4b2d-b38a-c296a990d71e",
   "metadata": {
    "jupyter": {
     "source_hidden": true
    },
    "tags": []
   },
   "outputs": [],
   "source": []
  },
  {
   "cell_type": "markdown",
   "id": "a604dbca-b704-41d9-8737-a4fae309ee93",
   "metadata": {},
   "source": [
    "### Genre"
   ]
  },
  {
   "cell_type": "code",
   "execution_count": 15,
   "id": "80baf89d-46f7-4e10-b454-431a433c49cf",
   "metadata": {
    "tags": []
   },
   "outputs": [
    {
     "data": {
      "text/html": [
       "<div>\n",
       "<style scoped>\n",
       "    .dataframe tbody tr th:only-of-type {\n",
       "        vertical-align: middle;\n",
       "    }\n",
       "\n",
       "    .dataframe tbody tr th {\n",
       "        vertical-align: top;\n",
       "    }\n",
       "\n",
       "    .dataframe thead th {\n",
       "        text-align: right;\n",
       "    }\n",
       "</style>\n",
       "<table border=\"1\" class=\"dataframe\">\n",
       "  <thead>\n",
       "    <tr style=\"text-align: right;\">\n",
       "      <th></th>\n",
       "      <th>MOVIES</th>\n",
       "      <th>YEAR</th>\n",
       "      <th>GENRE</th>\n",
       "      <th>RATING</th>\n",
       "      <th>ONE-LINE</th>\n",
       "      <th>STARS</th>\n",
       "      <th>VOTES</th>\n",
       "      <th>RunTime</th>\n",
       "      <th>Gross</th>\n",
       "    </tr>\n",
       "  </thead>\n",
       "  <tbody>\n",
       "    <tr>\n",
       "      <th>0</th>\n",
       "      <td>Blood Red Sky</td>\n",
       "      <td>2021</td>\n",
       "      <td>Action, Horror, Thriller</td>\n",
       "      <td>6.1</td>\n",
       "      <td>\\nA woman with a mysterious illness is forced ...</td>\n",
       "      <td>\\n    Director:\\nPeter Thorwarth\\n| \\n    Star...</td>\n",
       "      <td>21,062</td>\n",
       "      <td>121.0</td>\n",
       "      <td>NaN</td>\n",
       "    </tr>\n",
       "    <tr>\n",
       "      <th>1</th>\n",
       "      <td>Masters of the Universe: Revelation</td>\n",
       "      <td>2021</td>\n",
       "      <td>Animation, Action, Adventure</td>\n",
       "      <td>5.0</td>\n",
       "      <td>\\nThe war for Eternia begins again in what may...</td>\n",
       "      <td>\\n            \\n    Stars:\\nChris Wood, \\nSara...</td>\n",
       "      <td>17,870</td>\n",
       "      <td>25.0</td>\n",
       "      <td>NaN</td>\n",
       "    </tr>\n",
       "    <tr>\n",
       "      <th>2</th>\n",
       "      <td>The Walking Dead</td>\n",
       "      <td>2010-2022</td>\n",
       "      <td>Drama, Horror, Thriller</td>\n",
       "      <td>8.2</td>\n",
       "      <td>\\nSheriff Deputy Rick Grimes wakes up from a c...</td>\n",
       "      <td>\\n            \\n    Stars:\\nAndrew Lincoln, \\n...</td>\n",
       "      <td>885,805</td>\n",
       "      <td>44.0</td>\n",
       "      <td>NaN</td>\n",
       "    </tr>\n",
       "    <tr>\n",
       "      <th>3</th>\n",
       "      <td>Rick and Morty</td>\n",
       "      <td>2013</td>\n",
       "      <td>Animation, Adventure, Comedy</td>\n",
       "      <td>9.2</td>\n",
       "      <td>\\nAn animated series that follows the exploits...</td>\n",
       "      <td>\\n            \\n    Stars:\\nJustin Roiland, \\n...</td>\n",
       "      <td>414,849</td>\n",
       "      <td>23.0</td>\n",
       "      <td>NaN</td>\n",
       "    </tr>\n",
       "    <tr>\n",
       "      <th>4</th>\n",
       "      <td>Army of Thieves</td>\n",
       "      <td>2021</td>\n",
       "      <td>Action, Crime, Horror</td>\n",
       "      <td>NaN</td>\n",
       "      <td>\\nA prequel, set before the events of Army of ...</td>\n",
       "      <td>\\n    Director:\\nMatthias Schweighöfer\\n| \\n  ...</td>\n",
       "      <td>NaN</td>\n",
       "      <td>NaN</td>\n",
       "      <td>NaN</td>\n",
       "    </tr>\n",
       "  </tbody>\n",
       "</table>\n",
       "</div>"
      ],
      "text/plain": [
       "                                MOVIES       YEAR  \\\n",
       "0                        Blood Red Sky       2021   \n",
       "1  Masters of the Universe: Revelation       2021   \n",
       "2                     The Walking Dead  2010-2022   \n",
       "3                       Rick and Morty       2013   \n",
       "4                      Army of Thieves       2021   \n",
       "\n",
       "                                      GENRE  RATING  \\\n",
       "0      Action, Horror, Thriller                 6.1   \n",
       "1  Animation, Action, Adventure                 5.0   \n",
       "2       Drama, Horror, Thriller                 8.2   \n",
       "3  Animation, Adventure, Comedy                 9.2   \n",
       "4         Action, Crime, Horror                 NaN   \n",
       "\n",
       "                                            ONE-LINE  \\\n",
       "0  \\nA woman with a mysterious illness is forced ...   \n",
       "1  \\nThe war for Eternia begins again in what may...   \n",
       "2  \\nSheriff Deputy Rick Grimes wakes up from a c...   \n",
       "3  \\nAn animated series that follows the exploits...   \n",
       "4  \\nA prequel, set before the events of Army of ...   \n",
       "\n",
       "                                               STARS    VOTES  RunTime Gross  \n",
       "0  \\n    Director:\\nPeter Thorwarth\\n| \\n    Star...   21,062    121.0   NaN  \n",
       "1  \\n            \\n    Stars:\\nChris Wood, \\nSara...   17,870     25.0   NaN  \n",
       "2  \\n            \\n    Stars:\\nAndrew Lincoln, \\n...  885,805     44.0   NaN  \n",
       "3  \\n            \\n    Stars:\\nJustin Roiland, \\n...  414,849     23.0   NaN  \n",
       "4  \\n    Director:\\nMatthias Schweighöfer\\n| \\n  ...      NaN      NaN   NaN  "
      ]
     },
     "execution_count": 15,
     "metadata": {},
     "output_type": "execute_result"
    }
   ],
   "source": [
    "df['GENRE'] = df['GENRE'].str.replace('\\n', '')\n",
    "\n",
    "# Replace NaN values in \"Genre\" column with empty strings\n",
    "df['GENRE'] = df['GENRE'].fillna('')\n",
    "\n",
    "df.head()"
   ]
  },
  {
   "cell_type": "code",
   "execution_count": null,
   "id": "942c724a-89ff-420c-8333-8aceefa7860c",
   "metadata": {
    "tags": []
   },
   "outputs": [],
   "source": []
  },
  {
   "cell_type": "markdown",
   "id": "6ab48111-dd98-4150-987a-678f120fcfff",
   "metadata": {},
   "source": [
    "### Rating"
   ]
  },
  {
   "cell_type": "code",
   "execution_count": 16,
   "id": "69757ec5-a80a-4bfd-b436-91e25fe600c4",
   "metadata": {
    "tags": []
   },
   "outputs": [
    {
     "data": {
      "text/plain": [
       "1820"
      ]
     },
     "execution_count": 16,
     "metadata": {},
     "output_type": "execute_result"
    }
   ],
   "source": [
    "df['RATING'].isnull().sum()"
   ]
  },
  {
   "cell_type": "code",
   "execution_count": 17,
   "id": "a038b855-58d6-4773-98c3-9b1c2ea4c941",
   "metadata": {
    "tags": []
   },
   "outputs": [
    {
     "data": {
      "text/plain": [
       "array([6.1, 5. , 8.2, 9.2, nan, 7.6, 6.8, 8.6, 7.9, 7.4, 6. , 8.1, 6.2,\n",
       "       5.4, 8. , 7.5, 9.4, 8.3, 8.7, 8.9, 8.8, 8.5, 8.4, 6.7, 7.7, 9. ,\n",
       "       5.8, 3.3, 7.8, 5.7, 6.6, 6.9, 6.5, 7.1, 5.6, 7.3, 9.1, 7.2, 6.4,\n",
       "       9.3, 7. , 6.3, 3.7, 5.5, 4.6, 4.8, 5.3, 4.7, 5.9, 5.1, 4.9, 2.7,\n",
       "       4.4, 3.1, 4.5, 4.2, 3.8, 5.2, 2.8, 3.5, 4.3, 3.2, 1.1, 3.9, 4. ,\n",
       "       3.4, 2.6, 3.6, 3. , 2.5, 2.2, 2.9, 4.1, 2.1, 2. , 2.3, 2.4, 1.8,\n",
       "       9.6, 9.5, 9.7, 9.9, 9.8])"
      ]
     },
     "execution_count": 17,
     "metadata": {},
     "output_type": "execute_result"
    }
   ],
   "source": [
    "df['RATING'].unique()"
   ]
  },
  {
   "cell_type": "code",
   "execution_count": 18,
   "id": "e6a5f796-ba39-402a-b343-8fd5403dd11d",
   "metadata": {
    "tags": []
   },
   "outputs": [],
   "source": [
    "df['RATING'].fillna(0.0, inplace=  True)"
   ]
  },
  {
   "cell_type": "code",
   "execution_count": 19,
   "id": "cb5203c7-ac36-4ae7-9e08-9dec1f329a32",
   "metadata": {
    "tags": []
   },
   "outputs": [
    {
     "data": {
      "text/plain": [
       "0"
      ]
     },
     "execution_count": 19,
     "metadata": {},
     "output_type": "execute_result"
    }
   ],
   "source": [
    "df['RATING'].isnull().sum()"
   ]
  },
  {
   "cell_type": "code",
   "execution_count": null,
   "id": "85d6382c-5c9b-438a-8d55-ebe18c615fa8",
   "metadata": {
    "jupyter": {
     "source_hidden": true
    },
    "tags": []
   },
   "outputs": [],
   "source": []
  },
  {
   "cell_type": "markdown",
   "id": "af92ae05-c42e-4be9-98ad-a70701313f5a",
   "metadata": {},
   "source": [
    "### One line"
   ]
  },
  {
   "cell_type": "code",
   "execution_count": 20,
   "id": "ae29eb3f-358f-4bcd-b243-b7ce55047036",
   "metadata": {
    "tags": []
   },
   "outputs": [
    {
     "name": "stderr",
     "output_type": "stream",
     "text": [
      "C:\\Users\\Aniel\\AppData\\Local\\Temp\\ipykernel_5656\\112893422.py:1: FutureWarning: The default value of regex will change from True to False in a future version.\n",
      "  df['ONE-LINE'] = df['ONE-LINE'].str.replace('[^A-Za-z0-9]', ' ')\n"
     ]
    }
   ],
   "source": [
    "df['ONE-LINE'] = df['ONE-LINE'].str.replace('[^A-Za-z0-9]', ' ')"
   ]
  },
  {
   "cell_type": "code",
   "execution_count": 21,
   "id": "05f21de9-f9b6-4c1c-bf14-961ab40455ac",
   "metadata": {
    "tags": []
   },
   "outputs": [
    {
     "data": {
      "text/html": [
       "<div>\n",
       "<style scoped>\n",
       "    .dataframe tbody tr th:only-of-type {\n",
       "        vertical-align: middle;\n",
       "    }\n",
       "\n",
       "    .dataframe tbody tr th {\n",
       "        vertical-align: top;\n",
       "    }\n",
       "\n",
       "    .dataframe thead th {\n",
       "        text-align: right;\n",
       "    }\n",
       "</style>\n",
       "<table border=\"1\" class=\"dataframe\">\n",
       "  <thead>\n",
       "    <tr style=\"text-align: right;\">\n",
       "      <th></th>\n",
       "      <th>MOVIES</th>\n",
       "      <th>YEAR</th>\n",
       "      <th>GENRE</th>\n",
       "      <th>RATING</th>\n",
       "      <th>ONE-LINE</th>\n",
       "      <th>STARS</th>\n",
       "      <th>VOTES</th>\n",
       "      <th>RunTime</th>\n",
       "      <th>Gross</th>\n",
       "    </tr>\n",
       "  </thead>\n",
       "  <tbody>\n",
       "    <tr>\n",
       "      <th>0</th>\n",
       "      <td>Blood Red Sky</td>\n",
       "      <td>2021</td>\n",
       "      <td>Action, Horror, Thriller</td>\n",
       "      <td>6.1</td>\n",
       "      <td>A woman with a mysterious illness is forced i...</td>\n",
       "      <td>\\n    Director:\\nPeter Thorwarth\\n| \\n    Star...</td>\n",
       "      <td>21,062</td>\n",
       "      <td>121.0</td>\n",
       "      <td>NaN</td>\n",
       "    </tr>\n",
       "    <tr>\n",
       "      <th>1</th>\n",
       "      <td>Masters of the Universe: Revelation</td>\n",
       "      <td>2021</td>\n",
       "      <td>Animation, Action, Adventure</td>\n",
       "      <td>5.0</td>\n",
       "      <td>The war for Eternia begins again in what may ...</td>\n",
       "      <td>\\n            \\n    Stars:\\nChris Wood, \\nSara...</td>\n",
       "      <td>17,870</td>\n",
       "      <td>25.0</td>\n",
       "      <td>NaN</td>\n",
       "    </tr>\n",
       "    <tr>\n",
       "      <th>2</th>\n",
       "      <td>The Walking Dead</td>\n",
       "      <td>2010-2022</td>\n",
       "      <td>Drama, Horror, Thriller</td>\n",
       "      <td>8.2</td>\n",
       "      <td>Sheriff Deputy Rick Grimes wakes up from a co...</td>\n",
       "      <td>\\n            \\n    Stars:\\nAndrew Lincoln, \\n...</td>\n",
       "      <td>885,805</td>\n",
       "      <td>44.0</td>\n",
       "      <td>NaN</td>\n",
       "    </tr>\n",
       "    <tr>\n",
       "      <th>3</th>\n",
       "      <td>Rick and Morty</td>\n",
       "      <td>2013</td>\n",
       "      <td>Animation, Adventure, Comedy</td>\n",
       "      <td>9.2</td>\n",
       "      <td>An animated series that follows the exploits ...</td>\n",
       "      <td>\\n            \\n    Stars:\\nJustin Roiland, \\n...</td>\n",
       "      <td>414,849</td>\n",
       "      <td>23.0</td>\n",
       "      <td>NaN</td>\n",
       "    </tr>\n",
       "    <tr>\n",
       "      <th>4</th>\n",
       "      <td>Army of Thieves</td>\n",
       "      <td>2021</td>\n",
       "      <td>Action, Crime, Horror</td>\n",
       "      <td>0.0</td>\n",
       "      <td>A prequel  set before the events of Army of t...</td>\n",
       "      <td>\\n    Director:\\nMatthias Schweighöfer\\n| \\n  ...</td>\n",
       "      <td>NaN</td>\n",
       "      <td>NaN</td>\n",
       "      <td>NaN</td>\n",
       "    </tr>\n",
       "  </tbody>\n",
       "</table>\n",
       "</div>"
      ],
      "text/plain": [
       "                                MOVIES       YEAR  \\\n",
       "0                        Blood Red Sky       2021   \n",
       "1  Masters of the Universe: Revelation       2021   \n",
       "2                     The Walking Dead  2010-2022   \n",
       "3                       Rick and Morty       2013   \n",
       "4                      Army of Thieves       2021   \n",
       "\n",
       "                                      GENRE  RATING  \\\n",
       "0      Action, Horror, Thriller                 6.1   \n",
       "1  Animation, Action, Adventure                 5.0   \n",
       "2       Drama, Horror, Thriller                 8.2   \n",
       "3  Animation, Adventure, Comedy                 9.2   \n",
       "4         Action, Crime, Horror                 0.0   \n",
       "\n",
       "                                            ONE-LINE  \\\n",
       "0   A woman with a mysterious illness is forced i...   \n",
       "1   The war for Eternia begins again in what may ...   \n",
       "2   Sheriff Deputy Rick Grimes wakes up from a co...   \n",
       "3   An animated series that follows the exploits ...   \n",
       "4   A prequel  set before the events of Army of t...   \n",
       "\n",
       "                                               STARS    VOTES  RunTime Gross  \n",
       "0  \\n    Director:\\nPeter Thorwarth\\n| \\n    Star...   21,062    121.0   NaN  \n",
       "1  \\n            \\n    Stars:\\nChris Wood, \\nSara...   17,870     25.0   NaN  \n",
       "2  \\n            \\n    Stars:\\nAndrew Lincoln, \\n...  885,805     44.0   NaN  \n",
       "3  \\n            \\n    Stars:\\nJustin Roiland, \\n...  414,849     23.0   NaN  \n",
       "4  \\n    Director:\\nMatthias Schweighöfer\\n| \\n  ...      NaN      NaN   NaN  "
      ]
     },
     "execution_count": 21,
     "metadata": {},
     "output_type": "execute_result"
    }
   ],
   "source": [
    "df.head()"
   ]
  },
  {
   "cell_type": "code",
   "execution_count": null,
   "id": "1ebc0321-824d-4670-8ecf-7a7f0ca95509",
   "metadata": {
    "jupyter": {
     "source_hidden": true
    },
    "tags": []
   },
   "outputs": [],
   "source": []
  },
  {
   "cell_type": "markdown",
   "id": "bd63b6e6-aefa-42f1-a16d-ef70055e4b4a",
   "metadata": {
    "tags": []
   },
   "source": [
    "### Stars"
   ]
  },
  {
   "cell_type": "code",
   "execution_count": 22,
   "id": "90f6a770-6216-43d5-912c-b1513c3e2610",
   "metadata": {
    "tags": []
   },
   "outputs": [
    {
     "data": {
      "text/html": [
       "<div>\n",
       "<style scoped>\n",
       "    .dataframe tbody tr th:only-of-type {\n",
       "        vertical-align: middle;\n",
       "    }\n",
       "\n",
       "    .dataframe tbody tr th {\n",
       "        vertical-align: top;\n",
       "    }\n",
       "\n",
       "    .dataframe thead th {\n",
       "        text-align: right;\n",
       "    }\n",
       "</style>\n",
       "<table border=\"1\" class=\"dataframe\">\n",
       "  <thead>\n",
       "    <tr style=\"text-align: right;\">\n",
       "      <th></th>\n",
       "      <th>MOVIES</th>\n",
       "      <th>YEAR</th>\n",
       "      <th>GENRE</th>\n",
       "      <th>RATING</th>\n",
       "      <th>ONE-LINE</th>\n",
       "      <th>STARS</th>\n",
       "      <th>VOTES</th>\n",
       "      <th>RunTime</th>\n",
       "      <th>Gross</th>\n",
       "      <th>Director</th>\n",
       "      <th>Stars</th>\n",
       "    </tr>\n",
       "  </thead>\n",
       "  <tbody>\n",
       "    <tr>\n",
       "      <th>0</th>\n",
       "      <td>Blood Red Sky</td>\n",
       "      <td>2021</td>\n",
       "      <td>Action, Horror, Thriller</td>\n",
       "      <td>6.1</td>\n",
       "      <td>A woman with a mysterious illness is forced i...</td>\n",
       "      <td>\\n    Director:\\nPeter Thorwarth\\n| \\n    Star...</td>\n",
       "      <td>21,062</td>\n",
       "      <td>121.0</td>\n",
       "      <td>NaN</td>\n",
       "      <td>\\n    Director:\\nPeter Thorwarth\\n| \\n</td>\n",
       "      <td>\\nPeri Baumeister, \\nCarl Anton Koch, \\nAlexan...</td>\n",
       "    </tr>\n",
       "    <tr>\n",
       "      <th>1</th>\n",
       "      <td>Masters of the Universe: Revelation</td>\n",
       "      <td>2021</td>\n",
       "      <td>Animation, Action, Adventure</td>\n",
       "      <td>5.0</td>\n",
       "      <td>The war for Eternia begins again in what may ...</td>\n",
       "      <td>\\n            \\n    Stars:\\nChris Wood, \\nSara...</td>\n",
       "      <td>17,870</td>\n",
       "      <td>25.0</td>\n",
       "      <td>NaN</td>\n",
       "      <td>\\n            \\n</td>\n",
       "      <td>\\nChris Wood, \\nSarah Michelle Gellar, \\nLena ...</td>\n",
       "    </tr>\n",
       "    <tr>\n",
       "      <th>2</th>\n",
       "      <td>The Walking Dead</td>\n",
       "      <td>2010-2022</td>\n",
       "      <td>Drama, Horror, Thriller</td>\n",
       "      <td>8.2</td>\n",
       "      <td>Sheriff Deputy Rick Grimes wakes up from a co...</td>\n",
       "      <td>\\n            \\n    Stars:\\nAndrew Lincoln, \\n...</td>\n",
       "      <td>885,805</td>\n",
       "      <td>44.0</td>\n",
       "      <td>NaN</td>\n",
       "      <td>\\n            \\n</td>\n",
       "      <td>\\nAndrew Lincoln, \\nNorman Reedus, \\nMelissa M...</td>\n",
       "    </tr>\n",
       "    <tr>\n",
       "      <th>3</th>\n",
       "      <td>Rick and Morty</td>\n",
       "      <td>2013</td>\n",
       "      <td>Animation, Adventure, Comedy</td>\n",
       "      <td>9.2</td>\n",
       "      <td>An animated series that follows the exploits ...</td>\n",
       "      <td>\\n            \\n    Stars:\\nJustin Roiland, \\n...</td>\n",
       "      <td>414,849</td>\n",
       "      <td>23.0</td>\n",
       "      <td>NaN</td>\n",
       "      <td>\\n            \\n</td>\n",
       "      <td>\\nJustin Roiland, \\nChris Parnell, \\nSpencer G...</td>\n",
       "    </tr>\n",
       "    <tr>\n",
       "      <th>4</th>\n",
       "      <td>Army of Thieves</td>\n",
       "      <td>2021</td>\n",
       "      <td>Action, Crime, Horror</td>\n",
       "      <td>0.0</td>\n",
       "      <td>A prequel  set before the events of Army of t...</td>\n",
       "      <td>\\n    Director:\\nMatthias Schweighöfer\\n| \\n  ...</td>\n",
       "      <td>NaN</td>\n",
       "      <td>NaN</td>\n",
       "      <td>NaN</td>\n",
       "      <td>\\n    Director:\\nMatthias Schweighöfer\\n| \\n</td>\n",
       "      <td>\\nMatthias Schweighöfer, \\nNathalie Emmanuel, ...</td>\n",
       "    </tr>\n",
       "  </tbody>\n",
       "</table>\n",
       "</div>"
      ],
      "text/plain": [
       "                                MOVIES       YEAR  \\\n",
       "0                        Blood Red Sky       2021   \n",
       "1  Masters of the Universe: Revelation       2021   \n",
       "2                     The Walking Dead  2010-2022   \n",
       "3                       Rick and Morty       2013   \n",
       "4                      Army of Thieves       2021   \n",
       "\n",
       "                                      GENRE  RATING  \\\n",
       "0      Action, Horror, Thriller                 6.1   \n",
       "1  Animation, Action, Adventure                 5.0   \n",
       "2       Drama, Horror, Thriller                 8.2   \n",
       "3  Animation, Adventure, Comedy                 9.2   \n",
       "4         Action, Crime, Horror                 0.0   \n",
       "\n",
       "                                            ONE-LINE  \\\n",
       "0   A woman with a mysterious illness is forced i...   \n",
       "1   The war for Eternia begins again in what may ...   \n",
       "2   Sheriff Deputy Rick Grimes wakes up from a co...   \n",
       "3   An animated series that follows the exploits ...   \n",
       "4   A prequel  set before the events of Army of t...   \n",
       "\n",
       "                                               STARS    VOTES  RunTime Gross  \\\n",
       "0  \\n    Director:\\nPeter Thorwarth\\n| \\n    Star...   21,062    121.0   NaN   \n",
       "1  \\n            \\n    Stars:\\nChris Wood, \\nSara...   17,870     25.0   NaN   \n",
       "2  \\n            \\n    Stars:\\nAndrew Lincoln, \\n...  885,805     44.0   NaN   \n",
       "3  \\n            \\n    Stars:\\nJustin Roiland, \\n...  414,849     23.0   NaN   \n",
       "4  \\n    Director:\\nMatthias Schweighöfer\\n| \\n  ...      NaN      NaN   NaN   \n",
       "\n",
       "                                           Director  \\\n",
       "0        \\n    Director:\\nPeter Thorwarth\\n| \\n       \n",
       "1                              \\n            \\n       \n",
       "2                              \\n            \\n       \n",
       "3                              \\n            \\n       \n",
       "4  \\n    Director:\\nMatthias Schweighöfer\\n| \\n       \n",
       "\n",
       "                                               Stars  \n",
       "0  \\nPeri Baumeister, \\nCarl Anton Koch, \\nAlexan...  \n",
       "1  \\nChris Wood, \\nSarah Michelle Gellar, \\nLena ...  \n",
       "2  \\nAndrew Lincoln, \\nNorman Reedus, \\nMelissa M...  \n",
       "3  \\nJustin Roiland, \\nChris Parnell, \\nSpencer G...  \n",
       "4  \\nMatthias Schweighöfer, \\nNathalie Emmanuel, ...  "
      ]
     },
     "execution_count": 22,
     "metadata": {},
     "output_type": "execute_result"
    }
   ],
   "source": [
    "# Splitting 'STARS' column into 'Director' and 'Stars'\n",
    "df[['Director', 'Stars']] = df['STARS'].str.split(pat='Stars:', n=1, expand=True)\n",
    "\n",
    "df.head()"
   ]
  },
  {
   "cell_type": "code",
   "execution_count": 23,
   "id": "e32553f2-4afc-4bc7-aff1-6d3d52c18cd7",
   "metadata": {
    "tags": []
   },
   "outputs": [
    {
     "name": "stderr",
     "output_type": "stream",
     "text": [
      "C:\\Users\\Aniel\\AppData\\Local\\Temp\\ipykernel_5656\\1331119750.py:2: FutureWarning: The default value of regex will change from True to False in a future version.\n",
      "  df['Director'] = df['Director'].str.split(':').str[-1].str.replace(r'[|\\n]', '').str.strip()\n"
     ]
    }
   ],
   "source": [
    "# Cleaning director column\n",
    "df['Director'] = df['Director'].str.split(':').str[-1].str.replace(r'[|\\n]', '').str.strip()\n",
    "df['Stars'] = df['Stars'].str.replace('\\n', '')"
   ]
  },
  {
   "cell_type": "code",
   "execution_count": 24,
   "id": "d3097ed1-48d9-4439-b1d6-9d45a2fa0d58",
   "metadata": {
    "tags": []
   },
   "outputs": [
    {
     "data": {
      "text/html": [
       "<div>\n",
       "<style scoped>\n",
       "    .dataframe tbody tr th:only-of-type {\n",
       "        vertical-align: middle;\n",
       "    }\n",
       "\n",
       "    .dataframe tbody tr th {\n",
       "        vertical-align: top;\n",
       "    }\n",
       "\n",
       "    .dataframe thead th {\n",
       "        text-align: right;\n",
       "    }\n",
       "</style>\n",
       "<table border=\"1\" class=\"dataframe\">\n",
       "  <thead>\n",
       "    <tr style=\"text-align: right;\">\n",
       "      <th></th>\n",
       "      <th>MOVIES</th>\n",
       "      <th>YEAR</th>\n",
       "      <th>GENRE</th>\n",
       "      <th>RATING</th>\n",
       "      <th>ONE-LINE</th>\n",
       "      <th>VOTES</th>\n",
       "      <th>RunTime</th>\n",
       "      <th>Gross</th>\n",
       "      <th>Director</th>\n",
       "      <th>Stars</th>\n",
       "    </tr>\n",
       "  </thead>\n",
       "  <tbody>\n",
       "    <tr>\n",
       "      <th>0</th>\n",
       "      <td>Blood Red Sky</td>\n",
       "      <td>2021</td>\n",
       "      <td>Action, Horror, Thriller</td>\n",
       "      <td>6.1</td>\n",
       "      <td>A woman with a mysterious illness is forced i...</td>\n",
       "      <td>21,062</td>\n",
       "      <td>121.0</td>\n",
       "      <td>NaN</td>\n",
       "      <td>Peter Thorwarth</td>\n",
       "      <td>Peri Baumeister, Carl Anton Koch, Alexander Sc...</td>\n",
       "    </tr>\n",
       "    <tr>\n",
       "      <th>1</th>\n",
       "      <td>Masters of the Universe: Revelation</td>\n",
       "      <td>2021</td>\n",
       "      <td>Animation, Action, Adventure</td>\n",
       "      <td>5.0</td>\n",
       "      <td>The war for Eternia begins again in what may ...</td>\n",
       "      <td>17,870</td>\n",
       "      <td>25.0</td>\n",
       "      <td>NaN</td>\n",
       "      <td></td>\n",
       "      <td>Chris Wood, Sarah Michelle Gellar, Lena Headey...</td>\n",
       "    </tr>\n",
       "    <tr>\n",
       "      <th>2</th>\n",
       "      <td>The Walking Dead</td>\n",
       "      <td>2010-2022</td>\n",
       "      <td>Drama, Horror, Thriller</td>\n",
       "      <td>8.2</td>\n",
       "      <td>Sheriff Deputy Rick Grimes wakes up from a co...</td>\n",
       "      <td>885,805</td>\n",
       "      <td>44.0</td>\n",
       "      <td>NaN</td>\n",
       "      <td></td>\n",
       "      <td>Andrew Lincoln, Norman Reedus, Melissa McBride...</td>\n",
       "    </tr>\n",
       "    <tr>\n",
       "      <th>3</th>\n",
       "      <td>Rick and Morty</td>\n",
       "      <td>2013</td>\n",
       "      <td>Animation, Adventure, Comedy</td>\n",
       "      <td>9.2</td>\n",
       "      <td>An animated series that follows the exploits ...</td>\n",
       "      <td>414,849</td>\n",
       "      <td>23.0</td>\n",
       "      <td>NaN</td>\n",
       "      <td></td>\n",
       "      <td>Justin Roiland, Chris Parnell, Spencer Grammer...</td>\n",
       "    </tr>\n",
       "    <tr>\n",
       "      <th>4</th>\n",
       "      <td>Army of Thieves</td>\n",
       "      <td>2021</td>\n",
       "      <td>Action, Crime, Horror</td>\n",
       "      <td>0.0</td>\n",
       "      <td>A prequel  set before the events of Army of t...</td>\n",
       "      <td>NaN</td>\n",
       "      <td>NaN</td>\n",
       "      <td>NaN</td>\n",
       "      <td>Matthias Schweighöfer</td>\n",
       "      <td>Matthias Schweighöfer, Nathalie Emmanuel, Ruby...</td>\n",
       "    </tr>\n",
       "  </tbody>\n",
       "</table>\n",
       "</div>"
      ],
      "text/plain": [
       "                                MOVIES       YEAR  \\\n",
       "0                        Blood Red Sky       2021   \n",
       "1  Masters of the Universe: Revelation       2021   \n",
       "2                     The Walking Dead  2010-2022   \n",
       "3                       Rick and Morty       2013   \n",
       "4                      Army of Thieves       2021   \n",
       "\n",
       "                                      GENRE  RATING  \\\n",
       "0      Action, Horror, Thriller                 6.1   \n",
       "1  Animation, Action, Adventure                 5.0   \n",
       "2       Drama, Horror, Thriller                 8.2   \n",
       "3  Animation, Adventure, Comedy                 9.2   \n",
       "4         Action, Crime, Horror                 0.0   \n",
       "\n",
       "                                            ONE-LINE    VOTES  RunTime Gross  \\\n",
       "0   A woman with a mysterious illness is forced i...   21,062    121.0   NaN   \n",
       "1   The war for Eternia begins again in what may ...   17,870     25.0   NaN   \n",
       "2   Sheriff Deputy Rick Grimes wakes up from a co...  885,805     44.0   NaN   \n",
       "3   An animated series that follows the exploits ...  414,849     23.0   NaN   \n",
       "4   A prequel  set before the events of Army of t...      NaN      NaN   NaN   \n",
       "\n",
       "                Director                                              Stars  \n",
       "0        Peter Thorwarth  Peri Baumeister, Carl Anton Koch, Alexander Sc...  \n",
       "1                         Chris Wood, Sarah Michelle Gellar, Lena Headey...  \n",
       "2                         Andrew Lincoln, Norman Reedus, Melissa McBride...  \n",
       "3                         Justin Roiland, Chris Parnell, Spencer Grammer...  \n",
       "4  Matthias Schweighöfer  Matthias Schweighöfer, Nathalie Emmanuel, Ruby...  "
      ]
     },
     "execution_count": 24,
     "metadata": {},
     "output_type": "execute_result"
    }
   ],
   "source": [
    "df = df.drop(['STARS'] , axis = 1)\n",
    "df.head()"
   ]
  },
  {
   "cell_type": "code",
   "execution_count": 25,
   "id": "e624141a-4600-47b9-aa2f-ac0e1da58a88",
   "metadata": {
    "tags": []
   },
   "outputs": [
    {
     "data": {
      "text/html": [
       "<div>\n",
       "<style scoped>\n",
       "    .dataframe tbody tr th:only-of-type {\n",
       "        vertical-align: middle;\n",
       "    }\n",
       "\n",
       "    .dataframe tbody tr th {\n",
       "        vertical-align: top;\n",
       "    }\n",
       "\n",
       "    .dataframe thead th {\n",
       "        text-align: right;\n",
       "    }\n",
       "</style>\n",
       "<table border=\"1\" class=\"dataframe\">\n",
       "  <thead>\n",
       "    <tr style=\"text-align: right;\">\n",
       "      <th></th>\n",
       "      <th>MOVIES</th>\n",
       "      <th>YEAR</th>\n",
       "      <th>GENRE</th>\n",
       "      <th>RATING</th>\n",
       "      <th>ONE-LINE</th>\n",
       "      <th>VOTES</th>\n",
       "      <th>RunTime</th>\n",
       "      <th>Gross</th>\n",
       "      <th>Director</th>\n",
       "      <th>Stars</th>\n",
       "    </tr>\n",
       "  </thead>\n",
       "  <tbody>\n",
       "    <tr>\n",
       "      <th>1373</th>\n",
       "      <td>Dumbo</td>\n",
       "      <td>1941</td>\n",
       "      <td>Animation, Adventure, Drama</td>\n",
       "      <td>7.2</td>\n",
       "      <td>Ridiculed because of his enormous ears  a you...</td>\n",
       "      <td>124,409</td>\n",
       "      <td>64.0</td>\n",
       "      <td>$1.60M</td>\n",
       "      <td>Samuel Armstrong, Norman Ferguson, Wilfred Jac...</td>\n",
       "      <td>Sterling Holloway, Edward Brophy, Herman Bing,...</td>\n",
       "    </tr>\n",
       "  </tbody>\n",
       "</table>\n",
       "</div>"
      ],
      "text/plain": [
       "     MOVIES  YEAR                                    GENRE  RATING  \\\n",
       "1373  Dumbo  1941  Animation, Adventure, Drama                 7.2   \n",
       "\n",
       "                                               ONE-LINE    VOTES  RunTime  \\\n",
       "1373   Ridiculed because of his enormous ears  a you...  124,409     64.0   \n",
       "\n",
       "       Gross                                           Director  \\\n",
       "1373  $1.60M  Samuel Armstrong, Norman Ferguson, Wilfred Jac...   \n",
       "\n",
       "                                                  Stars  \n",
       "1373  Sterling Holloway, Edward Brophy, Herman Bing,...  "
      ]
     },
     "execution_count": 25,
     "metadata": {},
     "output_type": "execute_result"
    }
   ],
   "source": [
    "df[df['MOVIES'].isin(['Dumbo'])]"
   ]
  },
  {
   "cell_type": "markdown",
   "id": "04e62ba8-e2b2-4f80-acb9-39157726fd66",
   "metadata": {
    "tags": []
   },
   "source": [
    "check for null"
   ]
  },
  {
   "cell_type": "code",
   "execution_count": 26,
   "id": "dd023360-6e78-436c-a738-fbc855cddb82",
   "metadata": {
    "tags": []
   },
   "outputs": [
    {
     "data": {
      "text/plain": [
       "0"
      ]
     },
     "execution_count": 26,
     "metadata": {},
     "output_type": "execute_result"
    }
   ],
   "source": [
    "df['Director'].isnull().sum()"
   ]
  },
  {
   "cell_type": "code",
   "execution_count": 27,
   "id": "23d14e59-50f2-41c5-b6de-c00b7143faae",
   "metadata": {
    "tags": []
   },
   "outputs": [
    {
     "data": {
      "text/plain": [
       "1384"
      ]
     },
     "execution_count": 27,
     "metadata": {},
     "output_type": "execute_result"
    }
   ],
   "source": [
    "df['Stars'].isnull().sum()"
   ]
  },
  {
   "cell_type": "code",
   "execution_count": 28,
   "id": "d0586a5a-63a1-4ef3-9be6-cff0093b2597",
   "metadata": {
    "tags": []
   },
   "outputs": [],
   "source": [
    "df['Stars'].fillna('Others', inplace = True)"
   ]
  },
  {
   "cell_type": "code",
   "execution_count": 29,
   "id": "0d7b8cf5-35e8-4158-b2c6-f7eadcc59074",
   "metadata": {
    "tags": []
   },
   "outputs": [
    {
     "data": {
      "text/plain": [
       "0"
      ]
     },
     "execution_count": 29,
     "metadata": {},
     "output_type": "execute_result"
    }
   ],
   "source": [
    "df['Stars'].isnull().sum()"
   ]
  },
  {
   "cell_type": "code",
   "execution_count": 30,
   "id": "35eb4593-1809-4f0a-afd1-6fb20e20f3df",
   "metadata": {
    "tags": []
   },
   "outputs": [
    {
     "data": {
      "text/html": [
       "<div>\n",
       "<style scoped>\n",
       "    .dataframe tbody tr th:only-of-type {\n",
       "        vertical-align: middle;\n",
       "    }\n",
       "\n",
       "    .dataframe tbody tr th {\n",
       "        vertical-align: top;\n",
       "    }\n",
       "\n",
       "    .dataframe thead th {\n",
       "        text-align: right;\n",
       "    }\n",
       "</style>\n",
       "<table border=\"1\" class=\"dataframe\">\n",
       "  <thead>\n",
       "    <tr style=\"text-align: right;\">\n",
       "      <th></th>\n",
       "      <th>MOVIES</th>\n",
       "      <th>YEAR</th>\n",
       "      <th>GENRE</th>\n",
       "      <th>RATING</th>\n",
       "      <th>ONE-LINE</th>\n",
       "      <th>VOTES</th>\n",
       "      <th>RunTime</th>\n",
       "      <th>Gross</th>\n",
       "      <th>Director</th>\n",
       "      <th>Stars</th>\n",
       "    </tr>\n",
       "  </thead>\n",
       "  <tbody>\n",
       "    <tr>\n",
       "      <th>24</th>\n",
       "      <td>He-Man and the Masters of the Universe</td>\n",
       "      <td>2021</td>\n",
       "      <td>Animation, Action, Adventure</td>\n",
       "      <td>0.0</td>\n",
       "      <td>Eternia s Prince Adam discovers the power of ...</td>\n",
       "      <td>NaN</td>\n",
       "      <td>NaN</td>\n",
       "      <td>NaN</td>\n",
       "      <td></td>\n",
       "      <td>Others</td>\n",
       "    </tr>\n",
       "    <tr>\n",
       "      <th>235</th>\n",
       "      <td>Sexy Beasts</td>\n",
       "      <td>2021</td>\n",
       "      <td>Reality-TV, Romance</td>\n",
       "      <td>4.7</td>\n",
       "      <td>Hoping to say goodbye to superficial dating  ...</td>\n",
       "      <td>592</td>\n",
       "      <td>NaN</td>\n",
       "      <td>NaN</td>\n",
       "      <td>Rob Delaney</td>\n",
       "      <td>Others</td>\n",
       "    </tr>\n",
       "    <tr>\n",
       "      <th>1027</th>\n",
       "      <td>Myth &amp; Mogul: John DeLorean</td>\n",
       "      <td>2021</td>\n",
       "      <td>Documentary, Biography, Crime</td>\n",
       "      <td>7.0</td>\n",
       "      <td>In the automotive world  John DeLorean rose f...</td>\n",
       "      <td>213</td>\n",
       "      <td>NaN</td>\n",
       "      <td>NaN</td>\n",
       "      <td></td>\n",
       "      <td>Others</td>\n",
       "    </tr>\n",
       "    <tr>\n",
       "      <th>1155</th>\n",
       "      <td>The Killer</td>\n",
       "      <td></td>\n",
       "      <td>Action, Crime, Drama</td>\n",
       "      <td>0.0</td>\n",
       "      <td>Plot unknown</td>\n",
       "      <td>NaN</td>\n",
       "      <td>NaN</td>\n",
       "      <td>NaN</td>\n",
       "      <td>Michael Fassbender</td>\n",
       "      <td>Others</td>\n",
       "    </tr>\n",
       "    <tr>\n",
       "      <th>1184</th>\n",
       "      <td>Our Planet</td>\n",
       "      <td>2019</td>\n",
       "      <td>Documentary</td>\n",
       "      <td>9.3</td>\n",
       "      <td>Documentary series focusing on the breadth of...</td>\n",
       "      <td>36,473</td>\n",
       "      <td>403.0</td>\n",
       "      <td>NaN</td>\n",
       "      <td>David Attenborough</td>\n",
       "      <td>Others</td>\n",
       "    </tr>\n",
       "    <tr>\n",
       "      <th>...</th>\n",
       "      <td>...</td>\n",
       "      <td>...</td>\n",
       "      <td>...</td>\n",
       "      <td>...</td>\n",
       "      <td>...</td>\n",
       "      <td>...</td>\n",
       "      <td>...</td>\n",
       "      <td>...</td>\n",
       "      <td>...</td>\n",
       "      <td>...</td>\n",
       "    </tr>\n",
       "    <tr>\n",
       "      <th>9990</th>\n",
       "      <td>1899</td>\n",
       "      <td>2022</td>\n",
       "      <td>Drama, History, Horror</td>\n",
       "      <td>0.0</td>\n",
       "      <td>Add a Plot</td>\n",
       "      <td>NaN</td>\n",
       "      <td>NaN</td>\n",
       "      <td>NaN</td>\n",
       "      <td>Baran bo Odar</td>\n",
       "      <td>Others</td>\n",
       "    </tr>\n",
       "    <tr>\n",
       "      <th>9991</th>\n",
       "      <td>1899</td>\n",
       "      <td>2022</td>\n",
       "      <td>Drama, History, Horror</td>\n",
       "      <td>0.0</td>\n",
       "      <td>Add a Plot</td>\n",
       "      <td>NaN</td>\n",
       "      <td>NaN</td>\n",
       "      <td>NaN</td>\n",
       "      <td>Baran bo Odar</td>\n",
       "      <td>Others</td>\n",
       "    </tr>\n",
       "    <tr>\n",
       "      <th>9992</th>\n",
       "      <td>1899</td>\n",
       "      <td>2022</td>\n",
       "      <td>Drama, History, Horror</td>\n",
       "      <td>0.0</td>\n",
       "      <td>Add a Plot</td>\n",
       "      <td>NaN</td>\n",
       "      <td>NaN</td>\n",
       "      <td>NaN</td>\n",
       "      <td>Baran bo Odar</td>\n",
       "      <td>Others</td>\n",
       "    </tr>\n",
       "    <tr>\n",
       "      <th>9995</th>\n",
       "      <td>Arcane</td>\n",
       "      <td>2021</td>\n",
       "      <td>Animation, Action, Adventure</td>\n",
       "      <td>0.0</td>\n",
       "      <td>Add a Plot</td>\n",
       "      <td>NaN</td>\n",
       "      <td>NaN</td>\n",
       "      <td>NaN</td>\n",
       "      <td></td>\n",
       "      <td>Others</td>\n",
       "    </tr>\n",
       "    <tr>\n",
       "      <th>9996</th>\n",
       "      <td>Heart of Invictus</td>\n",
       "      <td>2022</td>\n",
       "      <td>Documentary, Sport</td>\n",
       "      <td>0.0</td>\n",
       "      <td>Add a Plot</td>\n",
       "      <td>NaN</td>\n",
       "      <td>NaN</td>\n",
       "      <td>NaN</td>\n",
       "      <td>Prince Harry</td>\n",
       "      <td>Others</td>\n",
       "    </tr>\n",
       "  </tbody>\n",
       "</table>\n",
       "<p>1384 rows × 10 columns</p>\n",
       "</div>"
      ],
      "text/plain": [
       "                                      MOVIES  YEAR  \\\n",
       "24    He-Man and the Masters of the Universe  2021   \n",
       "235                              Sexy Beasts  2021   \n",
       "1027             Myth & Mogul: John DeLorean  2021   \n",
       "1155                              The Killer         \n",
       "1184                              Our Planet  2019   \n",
       "...                                      ...   ...   \n",
       "9990                                    1899  2022   \n",
       "9991                                    1899  2022   \n",
       "9992                                    1899  2022   \n",
       "9995                                  Arcane  2021   \n",
       "9996                       Heart of Invictus  2022   \n",
       "\n",
       "                                          GENRE  RATING  \\\n",
       "24     Animation, Action, Adventure                 0.0   \n",
       "235             Reality-TV, Romance                 4.7   \n",
       "1027  Documentary, Biography, Crime                 7.0   \n",
       "1155           Action, Crime, Drama                 0.0   \n",
       "1184                    Documentary                 9.3   \n",
       "...                                         ...     ...   \n",
       "9990         Drama, History, Horror                 0.0   \n",
       "9991         Drama, History, Horror                 0.0   \n",
       "9992         Drama, History, Horror                 0.0   \n",
       "9995   Animation, Action, Adventure                 0.0   \n",
       "9996             Documentary, Sport                 0.0   \n",
       "\n",
       "                                               ONE-LINE   VOTES  RunTime  \\\n",
       "24     Eternia s Prince Adam discovers the power of ...     NaN      NaN   \n",
       "235    Hoping to say goodbye to superficial dating  ...     592      NaN   \n",
       "1027   In the automotive world  John DeLorean rose f...     213      NaN   \n",
       "1155                                      Plot unknown      NaN      NaN   \n",
       "1184   Documentary series focusing on the breadth of...  36,473    403.0   \n",
       "...                                                 ...     ...      ...   \n",
       "9990                                        Add a Plot      NaN      NaN   \n",
       "9991                                        Add a Plot      NaN      NaN   \n",
       "9992                                        Add a Plot      NaN      NaN   \n",
       "9995                                        Add a Plot      NaN      NaN   \n",
       "9996                                        Add a Plot      NaN      NaN   \n",
       "\n",
       "     Gross            Director   Stars  \n",
       "24     NaN                      Others  \n",
       "235    NaN         Rob Delaney  Others  \n",
       "1027   NaN                      Others  \n",
       "1155   NaN  Michael Fassbender  Others  \n",
       "1184   NaN  David Attenborough  Others  \n",
       "...    ...                 ...     ...  \n",
       "9990   NaN       Baran bo Odar  Others  \n",
       "9991   NaN       Baran bo Odar  Others  \n",
       "9992   NaN       Baran bo Odar  Others  \n",
       "9995   NaN                      Others  \n",
       "9996   NaN        Prince Harry  Others  \n",
       "\n",
       "[1384 rows x 10 columns]"
      ]
     },
     "execution_count": 30,
     "metadata": {},
     "output_type": "execute_result"
    }
   ],
   "source": [
    "df.query('Stars == \"Others\"')"
   ]
  },
  {
   "cell_type": "code",
   "execution_count": null,
   "id": "854b0e76-9e7d-4d3e-ae9f-b9524fc5983a",
   "metadata": {
    "jupyter": {
     "source_hidden": true
    },
    "tags": []
   },
   "outputs": [],
   "source": []
  },
  {
   "cell_type": "markdown",
   "id": "900e84ec-62a1-4a0b-9cc6-6353b4f0b6cf",
   "metadata": {},
   "source": [
    "### Vote columns"
   ]
  },
  {
   "cell_type": "code",
   "execution_count": 31,
   "id": "e3bf853e-1aae-430b-9430-3660a98105c8",
   "metadata": {
    "tags": []
   },
   "outputs": [
    {
     "data": {
      "text/plain": [
       "1820"
      ]
     },
     "execution_count": 31,
     "metadata": {},
     "output_type": "execute_result"
    }
   ],
   "source": [
    "df['VOTES'].isnull().sum()"
   ]
  },
  {
   "cell_type": "code",
   "execution_count": 32,
   "id": "16688207-db73-4000-a069-baea89e7ed86",
   "metadata": {
    "tags": []
   },
   "outputs": [
    {
     "data": {
      "text/html": [
       "<div>\n",
       "<style scoped>\n",
       "    .dataframe tbody tr th:only-of-type {\n",
       "        vertical-align: middle;\n",
       "    }\n",
       "\n",
       "    .dataframe tbody tr th {\n",
       "        vertical-align: top;\n",
       "    }\n",
       "\n",
       "    .dataframe thead th {\n",
       "        text-align: right;\n",
       "    }\n",
       "</style>\n",
       "<table border=\"1\" class=\"dataframe\">\n",
       "  <thead>\n",
       "    <tr style=\"text-align: right;\">\n",
       "      <th></th>\n",
       "      <th>MOVIES</th>\n",
       "      <th>YEAR</th>\n",
       "      <th>GENRE</th>\n",
       "      <th>RATING</th>\n",
       "      <th>ONE-LINE</th>\n",
       "      <th>VOTES</th>\n",
       "      <th>RunTime</th>\n",
       "      <th>Gross</th>\n",
       "      <th>Director</th>\n",
       "      <th>Stars</th>\n",
       "    </tr>\n",
       "  </thead>\n",
       "  <tbody>\n",
       "    <tr>\n",
       "      <th>4</th>\n",
       "      <td>Army of Thieves</td>\n",
       "      <td>2021</td>\n",
       "      <td>Action, Crime, Horror</td>\n",
       "      <td>0.0</td>\n",
       "      <td>A prequel  set before the events of Army of t...</td>\n",
       "      <td>NaN</td>\n",
       "      <td>NaN</td>\n",
       "      <td>NaN</td>\n",
       "      <td>Matthias Schweighöfer</td>\n",
       "      <td>Matthias Schweighöfer, Nathalie Emmanuel, Ruby...</td>\n",
       "    </tr>\n",
       "    <tr>\n",
       "      <th>24</th>\n",
       "      <td>He-Man and the Masters of the Universe</td>\n",
       "      <td>2021</td>\n",
       "      <td>Animation, Action, Adventure</td>\n",
       "      <td>0.0</td>\n",
       "      <td>Eternia s Prince Adam discovers the power of ...</td>\n",
       "      <td>NaN</td>\n",
       "      <td>NaN</td>\n",
       "      <td>NaN</td>\n",
       "      <td></td>\n",
       "      <td>Others</td>\n",
       "    </tr>\n",
       "    <tr>\n",
       "      <th>214</th>\n",
       "      <td>Sing 2</td>\n",
       "      <td>2021</td>\n",
       "      <td>Animation, Adventure, Comedy</td>\n",
       "      <td>0.0</td>\n",
       "      <td>Buster Moon and his friends must persuade rec...</td>\n",
       "      <td>NaN</td>\n",
       "      <td>NaN</td>\n",
       "      <td>NaN</td>\n",
       "      <td>Garth Jennings</td>\n",
       "      <td>Matthew McConaughey, Taron Egerton, Tori Kelly...</td>\n",
       "    </tr>\n",
       "    <tr>\n",
       "      <th>217</th>\n",
       "      <td>Knives Out 2</td>\n",
       "      <td>2022</td>\n",
       "      <td>Comedy, Crime, Drama</td>\n",
       "      <td>0.0</td>\n",
       "      <td>Plot unknown  Sequel to the 2019 film  Knives...</td>\n",
       "      <td>NaN</td>\n",
       "      <td>NaN</td>\n",
       "      <td>NaN</td>\n",
       "      <td>Rian Johnson</td>\n",
       "      <td>Madelyn Cline, Daniel Craig, Dave Bautista, Ka...</td>\n",
       "    </tr>\n",
       "    <tr>\n",
       "      <th>222</th>\n",
       "      <td>Don't Look Up</td>\n",
       "      <td>2021</td>\n",
       "      <td>Comedy</td>\n",
       "      <td>0.0</td>\n",
       "      <td>The story of two low level astronomers  who m...</td>\n",
       "      <td>NaN</td>\n",
       "      <td>145.0</td>\n",
       "      <td>NaN</td>\n",
       "      <td>Adam McKay</td>\n",
       "      <td>Timothée Chalamet, Leonardo DiCaprio, Jennifer...</td>\n",
       "    </tr>\n",
       "  </tbody>\n",
       "</table>\n",
       "</div>"
      ],
      "text/plain": [
       "                                     MOVIES  YEAR  \\\n",
       "4                           Army of Thieves  2021   \n",
       "24   He-Man and the Masters of the Universe  2021   \n",
       "214                                  Sing 2  2021   \n",
       "217                            Knives Out 2  2022   \n",
       "222                           Don't Look Up  2021   \n",
       "\n",
       "                                        GENRE  RATING  \\\n",
       "4           Action, Crime, Horror                 0.0   \n",
       "24   Animation, Action, Adventure                 0.0   \n",
       "214  Animation, Adventure, Comedy                 0.0   \n",
       "217          Comedy, Crime, Drama                 0.0   \n",
       "222                        Comedy                 0.0   \n",
       "\n",
       "                                              ONE-LINE VOTES  RunTime Gross  \\\n",
       "4     A prequel  set before the events of Army of t...   NaN      NaN   NaN   \n",
       "24    Eternia s Prince Adam discovers the power of ...   NaN      NaN   NaN   \n",
       "214   Buster Moon and his friends must persuade rec...   NaN      NaN   NaN   \n",
       "217   Plot unknown  Sequel to the 2019 film  Knives...   NaN      NaN   NaN   \n",
       "222   The story of two low level astronomers  who m...   NaN    145.0   NaN   \n",
       "\n",
       "                  Director                                              Stars  \n",
       "4    Matthias Schweighöfer  Matthias Schweighöfer, Nathalie Emmanuel, Ruby...  \n",
       "24                                                                     Others  \n",
       "214         Garth Jennings  Matthew McConaughey, Taron Egerton, Tori Kelly...  \n",
       "217           Rian Johnson  Madelyn Cline, Daniel Craig, Dave Bautista, Ka...  \n",
       "222             Adam McKay  Timothée Chalamet, Leonardo DiCaprio, Jennifer...  "
      ]
     },
     "execution_count": 32,
     "metadata": {},
     "output_type": "execute_result"
    }
   ],
   "source": [
    "df.loc[df['VOTES'].isnull()].head(5)"
   ]
  },
  {
   "cell_type": "code",
   "execution_count": 33,
   "id": "b72ddc16-5ce7-4787-b61a-f9fbecb341a8",
   "metadata": {
    "tags": []
   },
   "outputs": [],
   "source": [
    "df['VOTES'] = df['VOTES'].fillna('0')\n",
    "df['VOTES'] = df['VOTES'].str.replace(',', '')\n"
   ]
  },
  {
   "cell_type": "code",
   "execution_count": 34,
   "id": "15555d1b-a343-4a16-9e77-28cbaa07e487",
   "metadata": {
    "tags": []
   },
   "outputs": [
    {
     "data": {
      "text/html": [
       "<div>\n",
       "<style scoped>\n",
       "    .dataframe tbody tr th:only-of-type {\n",
       "        vertical-align: middle;\n",
       "    }\n",
       "\n",
       "    .dataframe tbody tr th {\n",
       "        vertical-align: top;\n",
       "    }\n",
       "\n",
       "    .dataframe thead th {\n",
       "        text-align: right;\n",
       "    }\n",
       "</style>\n",
       "<table border=\"1\" class=\"dataframe\">\n",
       "  <thead>\n",
       "    <tr style=\"text-align: right;\">\n",
       "      <th></th>\n",
       "      <th>MOVIES</th>\n",
       "      <th>YEAR</th>\n",
       "      <th>GENRE</th>\n",
       "      <th>RATING</th>\n",
       "      <th>ONE-LINE</th>\n",
       "      <th>VOTES</th>\n",
       "      <th>RunTime</th>\n",
       "      <th>Gross</th>\n",
       "      <th>Director</th>\n",
       "      <th>Stars</th>\n",
       "    </tr>\n",
       "  </thead>\n",
       "  <tbody>\n",
       "  </tbody>\n",
       "</table>\n",
       "</div>"
      ],
      "text/plain": [
       "Empty DataFrame\n",
       "Columns: [MOVIES, YEAR, GENRE, RATING, ONE-LINE, VOTES, RunTime, Gross, Director, Stars]\n",
       "Index: []"
      ]
     },
     "execution_count": 34,
     "metadata": {},
     "output_type": "execute_result"
    }
   ],
   "source": [
    "df.loc[df['VOTES'].isnull()]"
   ]
  },
  {
   "cell_type": "code",
   "execution_count": 35,
   "id": "014cbd95-3156-408b-a8cd-9756a2ceea0c",
   "metadata": {
    "tags": []
   },
   "outputs": [],
   "source": [
    "df['VOTES']= df['VOTES'].astype(int)"
   ]
  },
  {
   "cell_type": "markdown",
   "id": "71bd66e2-5ba2-4c24-89b8-64b34f868f28",
   "metadata": {
    "tags": []
   },
   "source": [
    "### RunTime column"
   ]
  },
  {
   "cell_type": "code",
   "execution_count": 36,
   "id": "3129d0ff-5fd3-447c-81cc-4f42e40e4407",
   "metadata": {
    "tags": []
   },
   "outputs": [
    {
     "data": {
      "text/plain": [
       "2958"
      ]
     },
     "execution_count": 36,
     "metadata": {},
     "output_type": "execute_result"
    }
   ],
   "source": [
    "df['RunTime'].isnull().sum()"
   ]
  },
  {
   "cell_type": "code",
   "execution_count": 37,
   "id": "881c6402-e841-4d0e-89cd-1e8fda53e758",
   "metadata": {
    "tags": []
   },
   "outputs": [
    {
     "data": {
      "text/plain": [
       "0"
      ]
     },
     "execution_count": 37,
     "metadata": {},
     "output_type": "execute_result"
    }
   ],
   "source": [
    "df['RunTime']=df['RunTime'].fillna(0.0)\n",
    "df['RunTime'].isnull().sum()"
   ]
  },
  {
   "cell_type": "code",
   "execution_count": null,
   "id": "02dcb548-ef4f-460b-b5d5-002679a21d69",
   "metadata": {},
   "outputs": [],
   "source": []
  },
  {
   "cell_type": "markdown",
   "id": "c2589b6d-8bff-419c-8cf8-254c157b5945",
   "metadata": {},
   "source": [
    "### Gross Column"
   ]
  },
  {
   "cell_type": "code",
   "execution_count": 38,
   "id": "bae739e3-acd4-45e0-ae1d-68a864390fe9",
   "metadata": {
    "tags": []
   },
   "outputs": [
    {
     "data": {
      "text/html": [
       "<div>\n",
       "<style scoped>\n",
       "    .dataframe tbody tr th:only-of-type {\n",
       "        vertical-align: middle;\n",
       "    }\n",
       "\n",
       "    .dataframe tbody tr th {\n",
       "        vertical-align: top;\n",
       "    }\n",
       "\n",
       "    .dataframe thead th {\n",
       "        text-align: right;\n",
       "    }\n",
       "</style>\n",
       "<table border=\"1\" class=\"dataframe\">\n",
       "  <thead>\n",
       "    <tr style=\"text-align: right;\">\n",
       "      <th></th>\n",
       "      <th>MOVIES</th>\n",
       "      <th>YEAR</th>\n",
       "      <th>GENRE</th>\n",
       "      <th>RATING</th>\n",
       "      <th>ONE-LINE</th>\n",
       "      <th>VOTES</th>\n",
       "      <th>RunTime</th>\n",
       "      <th>Gross</th>\n",
       "      <th>Director</th>\n",
       "      <th>Stars</th>\n",
       "    </tr>\n",
       "  </thead>\n",
       "  <tbody>\n",
       "    <tr>\n",
       "      <th>77</th>\n",
       "      <td>The Hitman's Bodyguard</td>\n",
       "      <td>2017</td>\n",
       "      <td>Action, Comedy, Crime</td>\n",
       "      <td>6.9</td>\n",
       "      <td>The world s top bodyguard gets a new client  ...</td>\n",
       "      <td>205979</td>\n",
       "      <td>118.0</td>\n",
       "      <td>$75.47M</td>\n",
       "      <td>Patrick Hughes</td>\n",
       "      <td>Ryan Reynolds, Samuel L. Jackson, Gary Oldman,...</td>\n",
       "    </tr>\n",
       "    <tr>\n",
       "      <th>85</th>\n",
       "      <td>Jurassic Park</td>\n",
       "      <td>1993</td>\n",
       "      <td>Action, Adventure, Sci-Fi</td>\n",
       "      <td>8.1</td>\n",
       "      <td>A pragmatic paleontologist visiting an almost...</td>\n",
       "      <td>897444</td>\n",
       "      <td>127.0</td>\n",
       "      <td>$402.45M</td>\n",
       "      <td>Steven Spielberg</td>\n",
       "      <td>Sam Neill, Laura Dern, Jeff Goldblum, Richard ...</td>\n",
       "    </tr>\n",
       "    <tr>\n",
       "      <th>95</th>\n",
       "      <td>Don't Breathe</td>\n",
       "      <td>2016</td>\n",
       "      <td>Crime, Horror, Thriller</td>\n",
       "      <td>7.1</td>\n",
       "      <td>Hoping to walk away with a massive fortune  a...</td>\n",
       "      <td>237601</td>\n",
       "      <td>88.0</td>\n",
       "      <td>$89.22M</td>\n",
       "      <td>Fede Alvarez</td>\n",
       "      <td>Stephen Lang, Jane Levy, Dylan Minnette, Danie...</td>\n",
       "    </tr>\n",
       "    <tr>\n",
       "      <th>111</th>\n",
       "      <td>The Lord of the Rings: The Fellowship of the Ring</td>\n",
       "      <td>2001</td>\n",
       "      <td>Action, Adventure, Drama</td>\n",
       "      <td>8.8</td>\n",
       "      <td>A meek Hobbit from the Shire and eight compan...</td>\n",
       "      <td>1713028</td>\n",
       "      <td>178.0</td>\n",
       "      <td>$315.54M</td>\n",
       "      <td>Peter Jackson</td>\n",
       "      <td>Elijah Wood, Ian McKellen, Orlando Bloom, Sean...</td>\n",
       "    </tr>\n",
       "    <tr>\n",
       "      <th>125</th>\n",
       "      <td>Escape Room</td>\n",
       "      <td>2019</td>\n",
       "      <td>Action, Adventure, Horror</td>\n",
       "      <td>6.4</td>\n",
       "      <td>Six strangers find themselves in a maze of de...</td>\n",
       "      <td>99351</td>\n",
       "      <td>99.0</td>\n",
       "      <td>$57.01M</td>\n",
       "      <td>Adam Robitel</td>\n",
       "      <td>Taylor Russell, Logan Miller, Jay Ellis, Tyler...</td>\n",
       "    </tr>\n",
       "    <tr>\n",
       "      <th>...</th>\n",
       "      <td>...</td>\n",
       "      <td>...</td>\n",
       "      <td>...</td>\n",
       "      <td>...</td>\n",
       "      <td>...</td>\n",
       "      <td>...</td>\n",
       "      <td>...</td>\n",
       "      <td>...</td>\n",
       "      <td>...</td>\n",
       "      <td>...</td>\n",
       "    </tr>\n",
       "    <tr>\n",
       "      <th>5750</th>\n",
       "      <td>Vidal Sassoon: The Movie</td>\n",
       "      <td>2010</td>\n",
       "      <td>Documentary</td>\n",
       "      <td>6.5</td>\n",
       "      <td>Vidal Sassoon is more than just a hairdresser...</td>\n",
       "      <td>245</td>\n",
       "      <td>90.0</td>\n",
       "      <td>$0.09M</td>\n",
       "      <td>Craig Teper</td>\n",
       "      <td>Beverly Adams, Elgin Charles, Grace Coddington...</td>\n",
       "    </tr>\n",
       "    <tr>\n",
       "      <th>5770</th>\n",
       "      <td>Men at Lunch</td>\n",
       "      <td>2012</td>\n",
       "      <td>Documentary, Mystery</td>\n",
       "      <td>6.3</td>\n",
       "      <td>The story of  Lunch atop a Skyscraper   the i...</td>\n",
       "      <td>331</td>\n",
       "      <td>75.0</td>\n",
       "      <td>$0.00M</td>\n",
       "      <td>Seán Ó Cualáin</td>\n",
       "      <td>Fionnula Flanagan, Peter Quinn, Ric Burns, Chr...</td>\n",
       "    </tr>\n",
       "    <tr>\n",
       "      <th>5835</th>\n",
       "      <td>Decoding Deepak</td>\n",
       "      <td>2012</td>\n",
       "      <td>Documentary</td>\n",
       "      <td>5.5</td>\n",
       "      <td>Deepak Chopra s son  Gotham  spends a year tr...</td>\n",
       "      <td>124</td>\n",
       "      <td>83.0</td>\n",
       "      <td>$0.01M</td>\n",
       "      <td>Gotham Chopra</td>\n",
       "      <td>Deepak Chopra, Gotham Chopra</td>\n",
       "    </tr>\n",
       "    <tr>\n",
       "      <th>6056</th>\n",
       "      <td>Theo Who Lived</td>\n",
       "      <td>2016</td>\n",
       "      <td>Documentary</td>\n",
       "      <td>6.8</td>\n",
       "      <td>A documentary on American journalist Theo Pad...</td>\n",
       "      <td>111</td>\n",
       "      <td>86.0</td>\n",
       "      <td>$0.01M</td>\n",
       "      <td>Theo Padnos</td>\n",
       "      <td>Others</td>\n",
       "    </tr>\n",
       "    <tr>\n",
       "      <th>6292</th>\n",
       "      <td>Southern Justice</td>\n",
       "      <td>2006</td>\n",
       "      <td>Action, Adventure, Thriller</td>\n",
       "      <td>3.1</td>\n",
       "      <td>M D  Selig s feature thriller  SOUTHERN JUSTI...</td>\n",
       "      <td>126</td>\n",
       "      <td>96.0</td>\n",
       "      <td>$0.14M</td>\n",
       "      <td>M.D. Selig</td>\n",
       "      <td>M.D. Selig, Michael Childers, Lisa Robert, Ric...</td>\n",
       "    </tr>\n",
       "  </tbody>\n",
       "</table>\n",
       "<p>460 rows × 10 columns</p>\n",
       "</div>"
      ],
      "text/plain": [
       "                                                 MOVIES  YEAR  \\\n",
       "77                               The Hitman's Bodyguard  2017   \n",
       "85                                        Jurassic Park  1993   \n",
       "95                                        Don't Breathe  2016   \n",
       "111   The Lord of the Rings: The Fellowship of the Ring  2001   \n",
       "125                                         Escape Room  2019   \n",
       "...                                                 ...   ...   \n",
       "5750                           Vidal Sassoon: The Movie  2010   \n",
       "5770                                       Men at Lunch  2012   \n",
       "5835                                    Decoding Deepak  2012   \n",
       "6056                                     Theo Who Lived  2016   \n",
       "6292                                   Southern Justice  2006   \n",
       "\n",
       "                                        GENRE  RATING  \\\n",
       "77          Action, Comedy, Crime                 6.9   \n",
       "85      Action, Adventure, Sci-Fi                 8.1   \n",
       "95        Crime, Horror, Thriller                 7.1   \n",
       "111      Action, Adventure, Drama                 8.8   \n",
       "125     Action, Adventure, Horror                 6.4   \n",
       "...                                       ...     ...   \n",
       "5750                  Documentary                 6.5   \n",
       "5770         Documentary, Mystery                 6.3   \n",
       "5835                  Documentary                 5.5   \n",
       "6056                  Documentary                 6.8   \n",
       "6292  Action, Adventure, Thriller                 3.1   \n",
       "\n",
       "                                               ONE-LINE    VOTES  RunTime  \\\n",
       "77     The world s top bodyguard gets a new client  ...   205979    118.0   \n",
       "85     A pragmatic paleontologist visiting an almost...   897444    127.0   \n",
       "95     Hoping to walk away with a massive fortune  a...   237601     88.0   \n",
       "111    A meek Hobbit from the Shire and eight compan...  1713028    178.0   \n",
       "125    Six strangers find themselves in a maze of de...    99351     99.0   \n",
       "...                                                 ...      ...      ...   \n",
       "5750   Vidal Sassoon is more than just a hairdresser...      245     90.0   \n",
       "5770   The story of  Lunch atop a Skyscraper   the i...      331     75.0   \n",
       "5835   Deepak Chopra s son  Gotham  spends a year tr...      124     83.0   \n",
       "6056   A documentary on American journalist Theo Pad...      111     86.0   \n",
       "6292   M D  Selig s feature thriller  SOUTHERN JUSTI...      126     96.0   \n",
       "\n",
       "         Gross          Director  \\\n",
       "77     $75.47M    Patrick Hughes   \n",
       "85    $402.45M  Steven Spielberg   \n",
       "95     $89.22M      Fede Alvarez   \n",
       "111   $315.54M     Peter Jackson   \n",
       "125    $57.01M      Adam Robitel   \n",
       "...        ...               ...   \n",
       "5750    $0.09M       Craig Teper   \n",
       "5770    $0.00M    Seán Ó Cualáin   \n",
       "5835    $0.01M     Gotham Chopra   \n",
       "6056    $0.01M       Theo Padnos   \n",
       "6292    $0.14M        M.D. Selig   \n",
       "\n",
       "                                                  Stars  \n",
       "77    Ryan Reynolds, Samuel L. Jackson, Gary Oldman,...  \n",
       "85    Sam Neill, Laura Dern, Jeff Goldblum, Richard ...  \n",
       "95    Stephen Lang, Jane Levy, Dylan Minnette, Danie...  \n",
       "111   Elijah Wood, Ian McKellen, Orlando Bloom, Sean...  \n",
       "125   Taylor Russell, Logan Miller, Jay Ellis, Tyler...  \n",
       "...                                                 ...  \n",
       "5750  Beverly Adams, Elgin Charles, Grace Coddington...  \n",
       "5770  Fionnula Flanagan, Peter Quinn, Ric Burns, Chr...  \n",
       "5835                       Deepak Chopra, Gotham Chopra  \n",
       "6056                                             Others  \n",
       "6292  M.D. Selig, Michael Childers, Lisa Robert, Ric...  \n",
       "\n",
       "[460 rows x 10 columns]"
      ]
     },
     "execution_count": 38,
     "metadata": {},
     "output_type": "execute_result"
    }
   ],
   "source": [
    "df.loc[df['Gross'].notnull()]"
   ]
  },
  {
   "cell_type": "code",
   "execution_count": 39,
   "id": "33ed8ab6-c8dc-4112-9428-5c8189e8c9f9",
   "metadata": {
    "tags": []
   },
   "outputs": [
    {
     "name": "stderr",
     "output_type": "stream",
     "text": [
      "C:\\Users\\Aniel\\AppData\\Local\\Temp\\ipykernel_5656\\1358484776.py:1: FutureWarning: The default value of regex will change from True to False in a future version. In addition, single character regular expressions will *not* be treated as literal strings when regex=True.\n",
      "  df['Gross'] = df['Gross'].str.replace('$', '').str.replace('M', '')\n"
     ]
    },
    {
     "data": {
      "text/plain": [
       "0"
      ]
     },
     "execution_count": 39,
     "metadata": {},
     "output_type": "execute_result"
    }
   ],
   "source": [
    "df['Gross'] = df['Gross'].str.replace('$', '').str.replace('M', '')\n",
    "df['Gross'] = df['Gross'].astype(float)\n",
    "df['Gross'] = df['Gross'].fillna(0.0)\n",
    "df['Gross'].isnull().sum()"
   ]
  },
  {
   "cell_type": "code",
   "execution_count": 40,
   "id": "b977a2c5-ec40-44f9-97ab-64ba2610adc9",
   "metadata": {
    "tags": []
   },
   "outputs": [
    {
     "data": {
      "text/html": [
       "<div>\n",
       "<style scoped>\n",
       "    .dataframe tbody tr th:only-of-type {\n",
       "        vertical-align: middle;\n",
       "    }\n",
       "\n",
       "    .dataframe tbody tr th {\n",
       "        vertical-align: top;\n",
       "    }\n",
       "\n",
       "    .dataframe thead th {\n",
       "        text-align: right;\n",
       "    }\n",
       "</style>\n",
       "<table border=\"1\" class=\"dataframe\">\n",
       "  <thead>\n",
       "    <tr style=\"text-align: right;\">\n",
       "      <th></th>\n",
       "      <th>MOVIES</th>\n",
       "      <th>YEAR</th>\n",
       "      <th>GENRE</th>\n",
       "      <th>RATING</th>\n",
       "      <th>ONE-LINE</th>\n",
       "      <th>VOTES</th>\n",
       "      <th>RunTime</th>\n",
       "      <th>Gross</th>\n",
       "      <th>Director</th>\n",
       "      <th>Stars</th>\n",
       "    </tr>\n",
       "  </thead>\n",
       "  <tbody>\n",
       "    <tr>\n",
       "      <th>329</th>\n",
       "      <td>Beauty and the Beast</td>\n",
       "      <td>2017</td>\n",
       "      <td>Family, Fantasy, Musical</td>\n",
       "      <td>7.1</td>\n",
       "      <td>A selfish Prince is cursed to become a monste...</td>\n",
       "      <td>284484</td>\n",
       "      <td>129.0</td>\n",
       "      <td>504.01</td>\n",
       "      <td>Bill Condon</td>\n",
       "      <td>Emma Watson, Dan Stevens, Luke Evans, Josh Gad</td>\n",
       "    </tr>\n",
       "    <tr>\n",
       "      <th>578</th>\n",
       "      <td>Finding Dory</td>\n",
       "      <td>2016</td>\n",
       "      <td>Animation, Adventure, Comedy</td>\n",
       "      <td>7.3</td>\n",
       "      <td>Friendly but forgetful blue tang Dory begins ...</td>\n",
       "      <td>250953</td>\n",
       "      <td>97.0</td>\n",
       "      <td>486.30</td>\n",
       "      <td>Andrew Stanton, Angus MacLane</td>\n",
       "      <td>Ellen DeGeneres, Albert Brooks, Ed O'Neill, Ka...</td>\n",
       "    </tr>\n",
       "    <tr>\n",
       "      <th>226</th>\n",
       "      <td>Captain America: Civil War</td>\n",
       "      <td>2016</td>\n",
       "      <td>Action, Adventure, Sci-Fi</td>\n",
       "      <td>7.8</td>\n",
       "      <td>Political involvement in the Avengers  affair...</td>\n",
       "      <td>697750</td>\n",
       "      <td>147.0</td>\n",
       "      <td>408.08</td>\n",
       "      <td>Anthony Russo, Joe Russo</td>\n",
       "      <td>Chris Evans, Robert Downey Jr., Scarlett Johan...</td>\n",
       "    </tr>\n",
       "    <tr>\n",
       "      <th>144</th>\n",
       "      <td>Jumanji: Welcome to the Jungle</td>\n",
       "      <td>2017</td>\n",
       "      <td>Action, Adventure, Comedy</td>\n",
       "      <td>6.9</td>\n",
       "      <td>Four teenagers are sucked into a magical vide...</td>\n",
       "      <td>337900</td>\n",
       "      <td>119.0</td>\n",
       "      <td>404.52</td>\n",
       "      <td>Jake Kasdan</td>\n",
       "      <td>Dwayne Johnson, Karen Gillan, Kevin Hart, Jack...</td>\n",
       "    </tr>\n",
       "    <tr>\n",
       "      <th>196</th>\n",
       "      <td>Spider-Man</td>\n",
       "      <td>2002</td>\n",
       "      <td>Action, Adventure, Sci-Fi</td>\n",
       "      <td>7.3</td>\n",
       "      <td>When bitten by a genetically modified spider ...</td>\n",
       "      <td>709684</td>\n",
       "      <td>121.0</td>\n",
       "      <td>403.71</td>\n",
       "      <td>Sam Raimi</td>\n",
       "      <td>Tobey Maguire, Kirsten Dunst, Willem Dafoe, Ja...</td>\n",
       "    </tr>\n",
       "    <tr>\n",
       "      <th>...</th>\n",
       "      <td>...</td>\n",
       "      <td>...</td>\n",
       "      <td>...</td>\n",
       "      <td>...</td>\n",
       "      <td>...</td>\n",
       "      <td>...</td>\n",
       "      <td>...</td>\n",
       "      <td>...</td>\n",
       "      <td>...</td>\n",
       "      <td>...</td>\n",
       "    </tr>\n",
       "    <tr>\n",
       "      <th>3584</th>\n",
       "      <td>Cek Toko Sebelah: The Series</td>\n",
       "      <td>2018-2019</td>\n",
       "      <td>Comedy</td>\n",
       "      <td>8.3</td>\n",
       "      <td>The series takes place when Erwin  Ernest Pra...</td>\n",
       "      <td>96</td>\n",
       "      <td>22.0</td>\n",
       "      <td>0.00</td>\n",
       "      <td></td>\n",
       "      <td>Ernest Prakasa, Yusril Fahriza, Andi Awwe Wija...</td>\n",
       "    </tr>\n",
       "    <tr>\n",
       "      <th>3585</th>\n",
       "      <td>The Testimony</td>\n",
       "      <td>2015</td>\n",
       "      <td>Documentary, Short, Crime</td>\n",
       "      <td>7.3</td>\n",
       "      <td>The conflict in the Democratic Republic of th...</td>\n",
       "      <td>155</td>\n",
       "      <td>28.0</td>\n",
       "      <td>0.00</td>\n",
       "      <td>Vanessa Block</td>\n",
       "      <td>Others</td>\n",
       "    </tr>\n",
       "    <tr>\n",
       "      <th>3586</th>\n",
       "      <td>Miseu Hammurabi</td>\n",
       "      <td>2018</td>\n",
       "      <td>Comedy, Drama</td>\n",
       "      <td>7.6</td>\n",
       "      <td>The series tells the story of the life of jud...</td>\n",
       "      <td>471</td>\n",
       "      <td>80.0</td>\n",
       "      <td>0.00</td>\n",
       "      <td></td>\n",
       "      <td>Go Ara, Myung-Soo Kim, Dong-il Sung, Deok-Hwan...</td>\n",
       "    </tr>\n",
       "    <tr>\n",
       "      <th>3587</th>\n",
       "      <td>Aleksandr's Price</td>\n",
       "      <td>2013</td>\n",
       "      <td>Drama</td>\n",
       "      <td>4.9</td>\n",
       "      <td>Traumatized by his mother s death and struggl...</td>\n",
       "      <td>687</td>\n",
       "      <td>108.0</td>\n",
       "      <td>0.00</td>\n",
       "      <td>Pau Masó, David Damen</td>\n",
       "      <td>Pau Masó, Anatoli Grigoriadou, Josh Berresford...</td>\n",
       "    </tr>\n",
       "    <tr>\n",
       "      <th>9998</th>\n",
       "      <td>The Imperfects</td>\n",
       "      <td>2021</td>\n",
       "      <td>Adventure, Drama, Fantasy</td>\n",
       "      <td>0.0</td>\n",
       "      <td>Add a Plot</td>\n",
       "      <td>0</td>\n",
       "      <td>0.0</td>\n",
       "      <td>0.00</td>\n",
       "      <td>Jovanka Vuckovic</td>\n",
       "      <td>Morgan Taylor Campbell, Jennifer Cheon Garcia,...</td>\n",
       "    </tr>\n",
       "  </tbody>\n",
       "</table>\n",
       "<p>9999 rows × 10 columns</p>\n",
       "</div>"
      ],
      "text/plain": [
       "                              MOVIES       YEAR  \\\n",
       "329             Beauty and the Beast       2017   \n",
       "578                     Finding Dory       2016   \n",
       "226       Captain America: Civil War       2016   \n",
       "144   Jumanji: Welcome to the Jungle       2017   \n",
       "196                       Spider-Man       2002   \n",
       "...                              ...        ...   \n",
       "3584    Cek Toko Sebelah: The Series  2018-2019   \n",
       "3585                   The Testimony       2015   \n",
       "3586                 Miseu Hammurabi       2018   \n",
       "3587               Aleksandr's Price       2013   \n",
       "9998                  The Imperfects       2021   \n",
       "\n",
       "                                         GENRE  RATING  \\\n",
       "329       Family, Fantasy, Musical                 7.1   \n",
       "578   Animation, Adventure, Comedy                 7.3   \n",
       "226      Action, Adventure, Sci-Fi                 7.8   \n",
       "144      Action, Adventure, Comedy                 6.9   \n",
       "196      Action, Adventure, Sci-Fi                 7.3   \n",
       "...                                        ...     ...   \n",
       "3584                        Comedy                 8.3   \n",
       "3585     Documentary, Short, Crime                 7.3   \n",
       "3586                 Comedy, Drama                 7.6   \n",
       "3587                         Drama                 4.9   \n",
       "9998     Adventure, Drama, Fantasy                 0.0   \n",
       "\n",
       "                                               ONE-LINE   VOTES  RunTime  \\\n",
       "329    A selfish Prince is cursed to become a monste...  284484    129.0   \n",
       "578    Friendly but forgetful blue tang Dory begins ...  250953     97.0   \n",
       "226    Political involvement in the Avengers  affair...  697750    147.0   \n",
       "144    Four teenagers are sucked into a magical vide...  337900    119.0   \n",
       "196    When bitten by a genetically modified spider ...  709684    121.0   \n",
       "...                                                 ...     ...      ...   \n",
       "3584   The series takes place when Erwin  Ernest Pra...      96     22.0   \n",
       "3585   The conflict in the Democratic Republic of th...     155     28.0   \n",
       "3586   The series tells the story of the life of jud...     471     80.0   \n",
       "3587   Traumatized by his mother s death and struggl...     687    108.0   \n",
       "9998                                        Add a Plot        0      0.0   \n",
       "\n",
       "       Gross                       Director  \\\n",
       "329   504.01                    Bill Condon   \n",
       "578   486.30  Andrew Stanton, Angus MacLane   \n",
       "226   408.08       Anthony Russo, Joe Russo   \n",
       "144   404.52                    Jake Kasdan   \n",
       "196   403.71                      Sam Raimi   \n",
       "...      ...                            ...   \n",
       "3584    0.00                                  \n",
       "3585    0.00                  Vanessa Block   \n",
       "3586    0.00                                  \n",
       "3587    0.00          Pau Masó, David Damen   \n",
       "9998    0.00               Jovanka Vuckovic   \n",
       "\n",
       "                                                  Stars  \n",
       "329      Emma Watson, Dan Stevens, Luke Evans, Josh Gad  \n",
       "578   Ellen DeGeneres, Albert Brooks, Ed O'Neill, Ka...  \n",
       "226   Chris Evans, Robert Downey Jr., Scarlett Johan...  \n",
       "144   Dwayne Johnson, Karen Gillan, Kevin Hart, Jack...  \n",
       "196   Tobey Maguire, Kirsten Dunst, Willem Dafoe, Ja...  \n",
       "...                                                 ...  \n",
       "3584  Ernest Prakasa, Yusril Fahriza, Andi Awwe Wija...  \n",
       "3585                                             Others  \n",
       "3586  Go Ara, Myung-Soo Kim, Dong-il Sung, Deok-Hwan...  \n",
       "3587  Pau Masó, Anatoli Grigoriadou, Josh Berresford...  \n",
       "9998  Morgan Taylor Campbell, Jennifer Cheon Garcia,...  \n",
       "\n",
       "[9999 rows x 10 columns]"
      ]
     },
     "execution_count": 40,
     "metadata": {},
     "output_type": "execute_result"
    }
   ],
   "source": [
    "df.sort_values(by=['Gross'],ascending=False)"
   ]
  },
  {
   "cell_type": "code",
   "execution_count": null,
   "id": "e9c8b935-5015-4ff6-9a86-320f1bcce3ce",
   "metadata": {},
   "outputs": [],
   "source": []
  },
  {
   "cell_type": "markdown",
   "id": "79642d3e-49cb-4090-9fae-d17ad88c6c18",
   "metadata": {},
   "source": [
    "### After formatting the columns, let's do some small cleanup to the data and the dataset"
   ]
  },
  {
   "cell_type": "code",
   "execution_count": 41,
   "id": "d1dd3eae-446f-49f6-b1d8-267ad0fb1e01",
   "metadata": {
    "tags": []
   },
   "outputs": [
    {
     "data": {
      "text/plain": [
       "Index(['MOVIES', 'YEAR', 'GENRE', 'RATING', 'ONE-LINE', 'VOTES', 'RunTime',\n",
       "       'Gross', 'Director', 'Stars'],\n",
       "      dtype='object')"
      ]
     },
     "execution_count": 41,
     "metadata": {},
     "output_type": "execute_result"
    }
   ],
   "source": [
    "df.columns"
   ]
  },
  {
   "cell_type": "code",
   "execution_count": 42,
   "id": "2eba1aed-7c1b-4e2d-99b6-ba6ff566de0d",
   "metadata": {
    "tags": []
   },
   "outputs": [
    {
     "data": {
      "text/plain": [
       "Index(['Movies', 'Year', 'Genre', 'Rating', 'Description', 'Votes', 'RunTime',\n",
       "       'Gross (in million $)', 'Director', 'Stars'],\n",
       "      dtype='object')"
      ]
     },
     "execution_count": 42,
     "metadata": {},
     "output_type": "execute_result"
    }
   ],
   "source": [
    "df = df.rename( columns = \n",
    "                   { 'MOVIES' : 'Movies', 'RATING' : 'Rating', 'ONE-LINE': 'Description', 'Gross': 'Gross (in million $)', 'VOTES':'Votes', 'GENRE':'Genre', 'YEAR':'Year'}\n",
    "              )\n",
    "df.columns"
   ]
  },
  {
   "cell_type": "code",
   "execution_count": 43,
   "id": "b33aef83-2687-4da5-b949-2f6c055d082d",
   "metadata": {
    "tags": []
   },
   "outputs": [
    {
     "data": {
      "text/plain": [
       "0"
      ]
     },
     "execution_count": 43,
     "metadata": {},
     "output_type": "execute_result"
    }
   ],
   "source": [
    "df = df.drop_duplicates(subset = ['Movies','Year','Genre', 'Director'])\n",
    "df.sort_values(by=['Gross (in million $)' ], ascending = False, inplace = True)\n",
    "df.reset_index(drop=True, inplace = True)\n",
    "df.duplicated().sum()"
   ]
  },
  {
   "cell_type": "code",
   "execution_count": 44,
   "id": "a9805e35-4eb8-4df7-9bc8-446900723116",
   "metadata": {
    "tags": []
   },
   "outputs": [
    {
     "data": {
      "text/plain": [
       "Movies                   object\n",
       "Year                     object\n",
       "Genre                    object\n",
       "Rating                  float64\n",
       "Description              object\n",
       "Votes                     int32\n",
       "RunTime                 float64\n",
       "Gross (in million $)    float64\n",
       "Director                 object\n",
       "Stars                    object\n",
       "dtype: object"
      ]
     },
     "execution_count": 44,
     "metadata": {},
     "output_type": "execute_result"
    }
   ],
   "source": [
    "df.dtypes"
   ]
  },
  {
   "cell_type": "code",
   "execution_count": 45,
   "id": "1a5fbc66-ef89-4be1-947a-f837960d1a8b",
   "metadata": {
    "tags": []
   },
   "outputs": [
    {
     "data": {
      "text/html": [
       "<div>\n",
       "<style scoped>\n",
       "    .dataframe tbody tr th:only-of-type {\n",
       "        vertical-align: middle;\n",
       "    }\n",
       "\n",
       "    .dataframe tbody tr th {\n",
       "        vertical-align: top;\n",
       "    }\n",
       "\n",
       "    .dataframe thead th {\n",
       "        text-align: right;\n",
       "    }\n",
       "</style>\n",
       "<table border=\"1\" class=\"dataframe\">\n",
       "  <thead>\n",
       "    <tr style=\"text-align: right;\">\n",
       "      <th></th>\n",
       "      <th>Movies</th>\n",
       "      <th>Year</th>\n",
       "      <th>Genre</th>\n",
       "      <th>Rating</th>\n",
       "      <th>Description</th>\n",
       "      <th>Votes</th>\n",
       "      <th>RunTime</th>\n",
       "      <th>Gross (in million $)</th>\n",
       "      <th>Director</th>\n",
       "      <th>Stars</th>\n",
       "    </tr>\n",
       "  </thead>\n",
       "  <tbody>\n",
       "    <tr>\n",
       "      <th>0</th>\n",
       "      <td>Beauty and the Beast</td>\n",
       "      <td>2017</td>\n",
       "      <td>Family, Fantasy, Musical</td>\n",
       "      <td>7.1</td>\n",
       "      <td>A selfish Prince is cursed to become a monste...</td>\n",
       "      <td>284484</td>\n",
       "      <td>129.0</td>\n",
       "      <td>504.01</td>\n",
       "      <td>Bill Condon</td>\n",
       "      <td>Emma Watson, Dan Stevens, Luke Evans, Josh Gad</td>\n",
       "    </tr>\n",
       "    <tr>\n",
       "      <th>1</th>\n",
       "      <td>Finding Dory</td>\n",
       "      <td>2016</td>\n",
       "      <td>Animation, Adventure, Comedy</td>\n",
       "      <td>7.3</td>\n",
       "      <td>Friendly but forgetful blue tang Dory begins ...</td>\n",
       "      <td>250953</td>\n",
       "      <td>97.0</td>\n",
       "      <td>486.30</td>\n",
       "      <td>Andrew Stanton, Angus MacLane</td>\n",
       "      <td>Ellen DeGeneres, Albert Brooks, Ed O'Neill, Ka...</td>\n",
       "    </tr>\n",
       "    <tr>\n",
       "      <th>2</th>\n",
       "      <td>Captain America: Civil War</td>\n",
       "      <td>2016</td>\n",
       "      <td>Action, Adventure, Sci-Fi</td>\n",
       "      <td>7.8</td>\n",
       "      <td>Political involvement in the Avengers  affair...</td>\n",
       "      <td>697750</td>\n",
       "      <td>147.0</td>\n",
       "      <td>408.08</td>\n",
       "      <td>Anthony Russo, Joe Russo</td>\n",
       "      <td>Chris Evans, Robert Downey Jr., Scarlett Johan...</td>\n",
       "    </tr>\n",
       "    <tr>\n",
       "      <th>3</th>\n",
       "      <td>Jumanji: Welcome to the Jungle</td>\n",
       "      <td>2017</td>\n",
       "      <td>Action, Adventure, Comedy</td>\n",
       "      <td>6.9</td>\n",
       "      <td>Four teenagers are sucked into a magical vide...</td>\n",
       "      <td>337900</td>\n",
       "      <td>119.0</td>\n",
       "      <td>404.52</td>\n",
       "      <td>Jake Kasdan</td>\n",
       "      <td>Dwayne Johnson, Karen Gillan, Kevin Hart, Jack...</td>\n",
       "    </tr>\n",
       "    <tr>\n",
       "      <th>4</th>\n",
       "      <td>Spider-Man</td>\n",
       "      <td>2002</td>\n",
       "      <td>Action, Adventure, Sci-Fi</td>\n",
       "      <td>7.3</td>\n",
       "      <td>When bitten by a genetically modified spider ...</td>\n",
       "      <td>709684</td>\n",
       "      <td>121.0</td>\n",
       "      <td>403.71</td>\n",
       "      <td>Sam Raimi</td>\n",
       "      <td>Tobey Maguire, Kirsten Dunst, Willem Dafoe, Ja...</td>\n",
       "    </tr>\n",
       "  </tbody>\n",
       "</table>\n",
       "</div>"
      ],
      "text/plain": [
       "                           Movies  Year  \\\n",
       "0            Beauty and the Beast  2017   \n",
       "1                    Finding Dory  2016   \n",
       "2      Captain America: Civil War  2016   \n",
       "3  Jumanji: Welcome to the Jungle  2017   \n",
       "4                      Spider-Man  2002   \n",
       "\n",
       "                                      Genre  Rating  \\\n",
       "0      Family, Fantasy, Musical                 7.1   \n",
       "1  Animation, Adventure, Comedy                 7.3   \n",
       "2     Action, Adventure, Sci-Fi                 7.8   \n",
       "3     Action, Adventure, Comedy                 6.9   \n",
       "4     Action, Adventure, Sci-Fi                 7.3   \n",
       "\n",
       "                                         Description   Votes  RunTime  \\\n",
       "0   A selfish Prince is cursed to become a monste...  284484    129.0   \n",
       "1   Friendly but forgetful blue tang Dory begins ...  250953     97.0   \n",
       "2   Political involvement in the Avengers  affair...  697750    147.0   \n",
       "3   Four teenagers are sucked into a magical vide...  337900    119.0   \n",
       "4   When bitten by a genetically modified spider ...  709684    121.0   \n",
       "\n",
       "   Gross (in million $)                       Director  \\\n",
       "0                504.01                    Bill Condon   \n",
       "1                486.30  Andrew Stanton, Angus MacLane   \n",
       "2                408.08       Anthony Russo, Joe Russo   \n",
       "3                404.52                    Jake Kasdan   \n",
       "4                403.71                      Sam Raimi   \n",
       "\n",
       "                                               Stars  \n",
       "0     Emma Watson, Dan Stevens, Luke Evans, Josh Gad  \n",
       "1  Ellen DeGeneres, Albert Brooks, Ed O'Neill, Ka...  \n",
       "2  Chris Evans, Robert Downey Jr., Scarlett Johan...  \n",
       "3  Dwayne Johnson, Karen Gillan, Kevin Hart, Jack...  \n",
       "4  Tobey Maguire, Kirsten Dunst, Willem Dafoe, Ja...  "
      ]
     },
     "execution_count": 45,
     "metadata": {},
     "output_type": "execute_result"
    }
   ],
   "source": [
    "df.head()"
   ]
  },
  {
   "cell_type": "code",
   "execution_count": 46,
   "id": "262ac1f9-ed0f-466d-adb1-5547ce747beb",
   "metadata": {
    "tags": []
   },
   "outputs": [
    {
     "data": {
      "text/html": [
       "<div>\n",
       "<style scoped>\n",
       "    .dataframe tbody tr th:only-of-type {\n",
       "        vertical-align: middle;\n",
       "    }\n",
       "\n",
       "    .dataframe tbody tr th {\n",
       "        vertical-align: top;\n",
       "    }\n",
       "\n",
       "    .dataframe thead th {\n",
       "        text-align: right;\n",
       "    }\n",
       "</style>\n",
       "<table border=\"1\" class=\"dataframe\">\n",
       "  <thead>\n",
       "    <tr style=\"text-align: right;\">\n",
       "      <th></th>\n",
       "      <th>Rating</th>\n",
       "      <th>Votes</th>\n",
       "      <th>RunTime</th>\n",
       "      <th>Gross (in million $)</th>\n",
       "    </tr>\n",
       "  </thead>\n",
       "  <tbody>\n",
       "    <tr>\n",
       "      <th>count</th>\n",
       "      <td>7445.000000</td>\n",
       "      <td>7.445000e+03</td>\n",
       "      <td>7445.000000</td>\n",
       "      <td>7445.000000</td>\n",
       "    </tr>\n",
       "    <tr>\n",
       "      <th>mean</th>\n",
       "      <td>5.764956</td>\n",
       "      <td>1.645696e+04</td>\n",
       "      <td>58.580390</td>\n",
       "      <td>2.700183</td>\n",
       "    </tr>\n",
       "    <tr>\n",
       "      <th>std</th>\n",
       "      <td>2.606757</td>\n",
       "      <td>7.328904e+04</td>\n",
       "      <td>53.612882</td>\n",
       "      <td>23.013541</td>\n",
       "    </tr>\n",
       "    <tr>\n",
       "      <th>min</th>\n",
       "      <td>0.000000</td>\n",
       "      <td>0.000000e+00</td>\n",
       "      <td>0.000000</td>\n",
       "      <td>0.000000</td>\n",
       "    </tr>\n",
       "    <tr>\n",
       "      <th>25%</th>\n",
       "      <td>5.300000</td>\n",
       "      <td>1.120000e+02</td>\n",
       "      <td>21.000000</td>\n",
       "      <td>0.000000</td>\n",
       "    </tr>\n",
       "    <tr>\n",
       "      <th>50%</th>\n",
       "      <td>6.600000</td>\n",
       "      <td>8.300000e+02</td>\n",
       "      <td>53.000000</td>\n",
       "      <td>0.000000</td>\n",
       "    </tr>\n",
       "    <tr>\n",
       "      <th>75%</th>\n",
       "      <td>7.500000</td>\n",
       "      <td>4.251000e+03</td>\n",
       "      <td>93.000000</td>\n",
       "      <td>0.000000</td>\n",
       "    </tr>\n",
       "    <tr>\n",
       "      <th>max</th>\n",
       "      <td>9.700000</td>\n",
       "      <td>1.713028e+06</td>\n",
       "      <td>853.000000</td>\n",
       "      <td>504.010000</td>\n",
       "    </tr>\n",
       "  </tbody>\n",
       "</table>\n",
       "</div>"
      ],
      "text/plain": [
       "            Rating         Votes      RunTime  Gross (in million $)\n",
       "count  7445.000000  7.445000e+03  7445.000000           7445.000000\n",
       "mean      5.764956  1.645696e+04    58.580390              2.700183\n",
       "std       2.606757  7.328904e+04    53.612882             23.013541\n",
       "min       0.000000  0.000000e+00     0.000000              0.000000\n",
       "25%       5.300000  1.120000e+02    21.000000              0.000000\n",
       "50%       6.600000  8.300000e+02    53.000000              0.000000\n",
       "75%       7.500000  4.251000e+03    93.000000              0.000000\n",
       "max       9.700000  1.713028e+06   853.000000            504.010000"
      ]
     },
     "execution_count": 46,
     "metadata": {},
     "output_type": "execute_result"
    }
   ],
   "source": [
    "df.describe()"
   ]
  },
  {
   "cell_type": "code",
   "execution_count": 47,
   "id": "9f549001-9ea6-4e44-8fc2-af19ee109317",
   "metadata": {
    "tags": []
   },
   "outputs": [
    {
     "data": {
      "text/html": [
       "<div>\n",
       "<style scoped>\n",
       "    .dataframe tbody tr th:only-of-type {\n",
       "        vertical-align: middle;\n",
       "    }\n",
       "\n",
       "    .dataframe tbody tr th {\n",
       "        vertical-align: top;\n",
       "    }\n",
       "\n",
       "    .dataframe thead th {\n",
       "        text-align: right;\n",
       "    }\n",
       "</style>\n",
       "<table border=\"1\" class=\"dataframe\">\n",
       "  <thead>\n",
       "    <tr style=\"text-align: right;\">\n",
       "      <th></th>\n",
       "      <th>Movies</th>\n",
       "      <th>Year</th>\n",
       "      <th>Genre</th>\n",
       "      <th>Rating</th>\n",
       "      <th>Description</th>\n",
       "      <th>Votes</th>\n",
       "      <th>RunTime</th>\n",
       "      <th>Gross (in million $)</th>\n",
       "      <th>Director</th>\n",
       "      <th>Stars</th>\n",
       "    </tr>\n",
       "  </thead>\n",
       "  <tbody>\n",
       "    <tr>\n",
       "      <th>0</th>\n",
       "      <td>Beauty and the Beast</td>\n",
       "      <td>2017</td>\n",
       "      <td>Family, Fantasy, Musical</td>\n",
       "      <td>7.1</td>\n",
       "      <td>A selfish Prince is cursed to become a monste...</td>\n",
       "      <td>284484</td>\n",
       "      <td>129.0</td>\n",
       "      <td>504.01</td>\n",
       "      <td>Bill Condon</td>\n",
       "      <td>Emma Watson, Dan Stevens, Luke Evans, Josh Gad</td>\n",
       "    </tr>\n",
       "    <tr>\n",
       "      <th>1</th>\n",
       "      <td>Finding Dory</td>\n",
       "      <td>2016</td>\n",
       "      <td>Animation, Adventure, Comedy</td>\n",
       "      <td>7.3</td>\n",
       "      <td>Friendly but forgetful blue tang Dory begins ...</td>\n",
       "      <td>250953</td>\n",
       "      <td>97.0</td>\n",
       "      <td>486.30</td>\n",
       "      <td>Andrew Stanton, Angus MacLane</td>\n",
       "      <td>Ellen DeGeneres, Albert Brooks, Ed O'Neill, Ka...</td>\n",
       "    </tr>\n",
       "    <tr>\n",
       "      <th>2</th>\n",
       "      <td>Captain America: Civil War</td>\n",
       "      <td>2016</td>\n",
       "      <td>Action, Adventure, Sci-Fi</td>\n",
       "      <td>7.8</td>\n",
       "      <td>Political involvement in the Avengers  affair...</td>\n",
       "      <td>697750</td>\n",
       "      <td>147.0</td>\n",
       "      <td>408.08</td>\n",
       "      <td>Anthony Russo, Joe Russo</td>\n",
       "      <td>Chris Evans, Robert Downey Jr., Scarlett Johan...</td>\n",
       "    </tr>\n",
       "    <tr>\n",
       "      <th>3</th>\n",
       "      <td>Jumanji: Welcome to the Jungle</td>\n",
       "      <td>2017</td>\n",
       "      <td>Action, Adventure, Comedy</td>\n",
       "      <td>6.9</td>\n",
       "      <td>Four teenagers are sucked into a magical vide...</td>\n",
       "      <td>337900</td>\n",
       "      <td>119.0</td>\n",
       "      <td>404.52</td>\n",
       "      <td>Jake Kasdan</td>\n",
       "      <td>Dwayne Johnson, Karen Gillan, Kevin Hart, Jack...</td>\n",
       "    </tr>\n",
       "    <tr>\n",
       "      <th>4</th>\n",
       "      <td>Spider-Man</td>\n",
       "      <td>2002</td>\n",
       "      <td>Action, Adventure, Sci-Fi</td>\n",
       "      <td>7.3</td>\n",
       "      <td>When bitten by a genetically modified spider ...</td>\n",
       "      <td>709684</td>\n",
       "      <td>121.0</td>\n",
       "      <td>403.71</td>\n",
       "      <td>Sam Raimi</td>\n",
       "      <td>Tobey Maguire, Kirsten Dunst, Willem Dafoe, Ja...</td>\n",
       "    </tr>\n",
       "  </tbody>\n",
       "</table>\n",
       "</div>"
      ],
      "text/plain": [
       "                           Movies  Year  \\\n",
       "0            Beauty and the Beast  2017   \n",
       "1                    Finding Dory  2016   \n",
       "2      Captain America: Civil War  2016   \n",
       "3  Jumanji: Welcome to the Jungle  2017   \n",
       "4                      Spider-Man  2002   \n",
       "\n",
       "                                      Genre  Rating  \\\n",
       "0      Family, Fantasy, Musical                 7.1   \n",
       "1  Animation, Adventure, Comedy                 7.3   \n",
       "2     Action, Adventure, Sci-Fi                 7.8   \n",
       "3     Action, Adventure, Comedy                 6.9   \n",
       "4     Action, Adventure, Sci-Fi                 7.3   \n",
       "\n",
       "                                         Description   Votes  RunTime  \\\n",
       "0   A selfish Prince is cursed to become a monste...  284484    129.0   \n",
       "1   Friendly but forgetful blue tang Dory begins ...  250953     97.0   \n",
       "2   Political involvement in the Avengers  affair...  697750    147.0   \n",
       "3   Four teenagers are sucked into a magical vide...  337900    119.0   \n",
       "4   When bitten by a genetically modified spider ...  709684    121.0   \n",
       "\n",
       "   Gross (in million $)                       Director  \\\n",
       "0                504.01                    Bill Condon   \n",
       "1                486.30  Andrew Stanton, Angus MacLane   \n",
       "2                408.08       Anthony Russo, Joe Russo   \n",
       "3                404.52                    Jake Kasdan   \n",
       "4                403.71                      Sam Raimi   \n",
       "\n",
       "                                               Stars  \n",
       "0     Emma Watson, Dan Stevens, Luke Evans, Josh Gad  \n",
       "1  Ellen DeGeneres, Albert Brooks, Ed O'Neill, Ka...  \n",
       "2  Chris Evans, Robert Downey Jr., Scarlett Johan...  \n",
       "3  Dwayne Johnson, Karen Gillan, Kevin Hart, Jack...  \n",
       "4  Tobey Maguire, Kirsten Dunst, Willem Dafoe, Ja...  "
      ]
     },
     "execution_count": 47,
     "metadata": {},
     "output_type": "execute_result"
    }
   ],
   "source": [
    "df.head()"
   ]
  },
  {
   "cell_type": "code",
   "execution_count": 48,
   "id": "7771224b-879d-49ab-af28-5ccedf0405c7",
   "metadata": {
    "tags": []
   },
   "outputs": [],
   "source": [
    "df.to_csv('C:\\\\Users\\\\Aniel\\\\OneDrive\\\\Desktop\\\\Semester Break Learning Material\\\\Data analysis project\\\\movie dataset\\\\clean_dataset.csv')\n",
    "df.to_csv('clean_clean_dataset.csv')"
   ]
  },
  {
   "cell_type": "code",
   "execution_count": 49,
   "id": "de9a8370-0f03-43e4-8122-a951726a8963",
   "metadata": {
    "tags": []
   },
   "outputs": [
    {
     "data": {
      "text/plain": [
       "Movies                  0\n",
       "Year                    0\n",
       "Genre                   0\n",
       "Rating                  0\n",
       "Description             0\n",
       "Votes                   0\n",
       "RunTime                 0\n",
       "Gross (in million $)    0\n",
       "Director                0\n",
       "Stars                   0\n",
       "dtype: int64"
      ]
     },
     "execution_count": 49,
     "metadata": {},
     "output_type": "execute_result"
    }
   ],
   "source": [
    "df.isnull().sum()"
   ]
  },
  {
   "cell_type": "code",
   "execution_count": null,
   "id": "7ba6e1b9-079c-4375-82a4-07ee935da65a",
   "metadata": {},
   "outputs": [],
   "source": []
  },
  {
   "cell_type": "code",
   "execution_count": null,
   "id": "9a304ca4-efcf-4bea-9a45-8ab9f01b4316",
   "metadata": {},
   "outputs": [],
   "source": []
  },
  {
   "cell_type": "code",
   "execution_count": null,
   "id": "a0c24a04-d9c9-44f2-86c8-66b4c6d11d48",
   "metadata": {},
   "outputs": [],
   "source": []
  }
 ],
 "metadata": {
  "kernelspec": {
   "display_name": "Python 3 (ipykernel)",
   "language": "python",
   "name": "python3"
  },
  "language_info": {
   "codemirror_mode": {
    "name": "ipython",
    "version": 3
   },
   "file_extension": ".py",
   "mimetype": "text/x-python",
   "name": "python",
   "nbconvert_exporter": "python",
   "pygments_lexer": "ipython3",
   "version": "3.11.4"
  }
 },
 "nbformat": 4,
 "nbformat_minor": 5
}
